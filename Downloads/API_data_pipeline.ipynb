{
 "cells": [
  {
   "cell_type": "code",
   "execution_count": 1,
   "id": "a7d58dec-6bb5-472d-8b1b-f5036fe11190",
   "metadata": {},
   "outputs": [],
   "source": [
    "import json\n",
    "import requests\n",
    "import pandas as pd\n",
    "import time\n",
    "from tqdm import tqdm"
   ]
  },
  {
   "cell_type": "code",
   "execution_count": 2,
   "id": "d8576944",
   "metadata": {
    "collapsed": false,
    "jupyter": {
     "outputs_hidden": false
    },
    "pycharm": {
     "name": "#%%\n"
    }
   },
   "outputs": [],
   "source": [
    "with open('keys.json') as f:\n",
    "  keysRAW = f.read()\n",
    "keys = json.loads(keysRAW)"
   ]
  },
  {
   "cell_type": "code",
   "execution_count": 3,
   "id": "c01292ac",
   "metadata": {
    "collapsed": false,
    "jupyter": {
     "outputs_hidden": false
    },
    "pycharm": {
     "name": "#%%\n"
    }
   },
   "outputs": [
    {
     "data": {
      "text/plain": [
       "200"
      ]
     },
     "execution_count": 3,
     "metadata": {},
     "output_type": "execute_result"
    }
   ],
   "source": [
    "api_url = \"https://na1.api.riotgames.com\"\n",
    "grandmasterLeagueEnd = \"/tft/league/v1/grandmaster\"\n",
    "response = requests.get(f\"{api_url}{grandmasterLeagueEnd}\", headers={\"X-Riot-Token\": keys[\"private\"]})\n",
    "response.status_code"
   ]
  },
  {
   "cell_type": "code",
   "execution_count": 4,
   "id": "5e723033",
   "metadata": {
    "collapsed": false,
    "jupyter": {
     "outputs_hidden": false
    },
    "pycharm": {
     "name": "#%%\n"
    }
   },
   "outputs": [
    {
     "data": {
      "text/plain": [
       "{'tier': 'GRANDMASTER',\n",
       " 'leagueId': '19edec7a-a457-36a3-897d-a2f68b4c42a4',\n",
       " 'queue': 'RANKED_TFT',\n",
       " 'name': \"Irelia's Weaponmasters\",\n",
       " 'entries': [{'summonerId': 'kIy1qHo-rjmtPnYY0Dn4PzyRsDxMBBUAxyit5zEB1TSTc-7f6BwKBlKI9A',\n",
       "   'summonerName': '9year1duNA',\n",
       "   'leaguePoints': 535,\n",
       "   'rank': 'I',\n",
       "   'wins': 125,\n",
       "   'losses': 85,\n",
       "   'veteran': False,\n",
       "   'inactive': False,\n",
       "   'freshBlood': False,\n",
       "   'hotStreak': True},\n",
       "  {'summonerId': 'GVKwjbUfODUlssrR4LIbMvCGy9YhspLXgdMgbldusV8pjbE',\n",
       "   'summonerName': 'RNG Lil UZI',\n",
       "   'leaguePoints': 623,\n",
       "   'rank': 'I',\n",
       "   'wins': 167,\n",
       "   'losses': 154,\n",
       "   'veteran': False,\n",
       "   'inactive': False,\n",
       "   'freshBlood': False,\n",
       "   'hotStreak': False},\n",
       "  {'summonerId': 'JLEZdyISIwz2a6nojw5JlCAinHdZly2Kn7Z121NUeRNz0X4',\n",
       "   'summonerName': 'BBBBeo',\n",
       "   'leaguePoints': 375,\n",
       "   'rank': 'I',\n",
       "   'wins': 155,\n",
       "   'losses': 128,\n",
       "   'veteran': False,\n",
       "   'inactive': False,\n",
       "   'freshBlood': True,\n",
       "   'hotStreak': False},\n",
       "  {'summonerId': 'Iz3dGEHAIdeGvOPAwcU6iBz7TqtIe13E88PnJEXFKWWkxTw',\n",
       "   'summonerName': 'Domididdle',\n",
       "   'leaguePoints': 553,\n",
       "   'rank': 'I',\n",
       "   'wins': 255,\n",
       "   'losses': 228,\n",
       "   'veteran': True,\n",
       "   'inactive': False,\n",
       "   'freshBlood': False,\n",
       "   'hotStreak': False},\n",
       "  {'summonerId': 'Bm-RPDNNg3dINGc0nxKOo2YMhDBcHEv3nSY0YZp7cAfETI0',\n",
       "   'summonerName': 'bslyle',\n",
       "   'leaguePoints': 466,\n",
       "   'rank': 'I',\n",
       "   'wins': 230,\n",
       "   'losses': 194,\n",
       "   'veteran': False,\n",
       "   'inactive': False,\n",
       "   'freshBlood': False,\n",
       "   'hotStreak': False},\n",
       "  {'summonerId': '4Xz_yRkZw31l9XJGmGLcC5R3gQE_4GWMena7-HLfPTGk184',\n",
       "   'summonerName': 'trðy',\n",
       "   'leaguePoints': 506,\n",
       "   'rank': 'I',\n",
       "   'wins': 268,\n",
       "   'losses': 243,\n",
       "   'veteran': False,\n",
       "   'inactive': False,\n",
       "   'freshBlood': False,\n",
       "   'hotStreak': False},\n",
       "  {'summonerId': 'muQO49lzXihiMFVkux7CFTcBQhtlYSSQ7Aj1-wohUPCH_xjp',\n",
       "   'summonerName': 'vegyn',\n",
       "   'leaguePoints': 389,\n",
       "   'rank': 'I',\n",
       "   'wins': 460,\n",
       "   'losses': 420,\n",
       "   'veteran': False,\n",
       "   'inactive': False,\n",
       "   'freshBlood': True,\n",
       "   'hotStreak': False},\n",
       "  {'summonerId': 'R7O6_1-joKVvGC0I7yb2bv1QCx3nDGN57XEhdiHDgJ0w0lA',\n",
       "   'summonerName': 'mikecoolchin',\n",
       "   'leaguePoints': 464,\n",
       "   'rank': 'I',\n",
       "   'wins': 255,\n",
       "   'losses': 219,\n",
       "   'veteran': False,\n",
       "   'inactive': False,\n",
       "   'freshBlood': True,\n",
       "   'hotStreak': False},\n",
       "  {'summonerId': 'cbvfKUodjTEkWDhHquPj5Jg1uDqDehJMvrPFC0fKuU--2ECf',\n",
       "   'summonerName': 'skinnyuglybaby',\n",
       "   'leaguePoints': 495,\n",
       "   'rank': 'I',\n",
       "   'wins': 580,\n",
       "   'losses': 574,\n",
       "   'veteran': False,\n",
       "   'inactive': False,\n",
       "   'freshBlood': False,\n",
       "   'hotStreak': False},\n",
       "  {'summonerId': 'HypnK1g4PhxdoYolNapZSiNLOGM1XDsvzUlC6afI4LXCbR_f',\n",
       "   'summonerName': 'JosefTheNiceGuy',\n",
       "   'leaguePoints': 382,\n",
       "   'rank': 'I',\n",
       "   'wins': 123,\n",
       "   'losses': 89,\n",
       "   'veteran': False,\n",
       "   'inactive': False,\n",
       "   'freshBlood': True,\n",
       "   'hotStreak': False},\n",
       "  {'summonerId': 'fom9dmzkge8r9BpfDs5_tVZv1dsiyBpQ22cS30vCaAriT-k',\n",
       "   'summonerName': 'TG Upsetmax',\n",
       "   'leaguePoints': 425,\n",
       "   'rank': 'I',\n",
       "   'wins': 345,\n",
       "   'losses': 256,\n",
       "   'veteran': False,\n",
       "   'inactive': False,\n",
       "   'freshBlood': True,\n",
       "   'hotStreak': False},\n",
       "  {'summonerId': '4jzxfjsCLt7KI9KYSdaCk_yGdqdZb4UfTNMtSykccO2XjgU',\n",
       "   'summonerName': 'psn47',\n",
       "   'leaguePoints': 560,\n",
       "   'rank': 'I',\n",
       "   'wins': 114,\n",
       "   'losses': 64,\n",
       "   'veteran': False,\n",
       "   'inactive': False,\n",
       "   'freshBlood': False,\n",
       "   'hotStreak': True},\n",
       "  {'summonerId': '-T1WP3YFy0ZAjeE2UMXN0pi6jQSER5Tmqt2GX3p6Z1TUIdo',\n",
       "   'summonerName': 'Lab 003 Broseph',\n",
       "   'leaguePoints': 542,\n",
       "   'rank': 'I',\n",
       "   'wins': 351,\n",
       "   'losses': 289,\n",
       "   'veteran': False,\n",
       "   'inactive': False,\n",
       "   'freshBlood': True,\n",
       "   'hotStreak': False},\n",
       "  {'summonerId': 'JAK9EHKMsmnXtN2PkNSqx99r3LDEs0ql2cCXZ1uIMrlKk9c',\n",
       "   'summonerName': 'Jaekun1maX',\n",
       "   'leaguePoints': 769,\n",
       "   'rank': 'I',\n",
       "   'wins': 84,\n",
       "   'losses': 36,\n",
       "   'veteran': False,\n",
       "   'inactive': False,\n",
       "   'freshBlood': True,\n",
       "   'hotStreak': True},\n",
       "  {'summonerId': '6BkR3MdEG8jYnVn7bL1eSV7eyCFjrQ_7cfR_V3zSlvN7UI0',\n",
       "   'summonerName': 'Ène',\n",
       "   'leaguePoints': 545,\n",
       "   'rank': 'I',\n",
       "   'wins': 151,\n",
       "   'losses': 105,\n",
       "   'veteran': False,\n",
       "   'inactive': False,\n",
       "   'freshBlood': False,\n",
       "   'hotStreak': False},\n",
       "  {'summonerId': '3u2eeRmQY1AcMkYVzQE08lXczl7ZpNjUqiAjZAV1WMi7bf_X',\n",
       "   'summonerName': 'boomiboom',\n",
       "   'leaguePoints': 715,\n",
       "   'rank': 'I',\n",
       "   'wins': 366,\n",
       "   'losses': 346,\n",
       "   'veteran': False,\n",
       "   'inactive': False,\n",
       "   'freshBlood': True,\n",
       "   'hotStreak': False},\n",
       "  {'summonerId': 'Od1xOgYCo6MDjkwt2LXo2D23pUlgVcwvV3990aB-ZQsbNdKwTVlBKQzpSg',\n",
       "   'summonerName': 'urbuiltdifferent',\n",
       "   'leaguePoints': 347,\n",
       "   'rank': 'I',\n",
       "   'wins': 272,\n",
       "   'losses': 237,\n",
       "   'veteran': False,\n",
       "   'inactive': False,\n",
       "   'freshBlood': False,\n",
       "   'hotStreak': False},\n",
       "  {'summonerId': 'fQaR5X3jDkXk78t9bfLKX_Q70fSLO7VOyXne62yaRY7A9cjr',\n",
       "   'summonerName': 'Big Boy Ramoy',\n",
       "   'leaguePoints': 533,\n",
       "   'rank': 'I',\n",
       "   'wins': 427,\n",
       "   'losses': 412,\n",
       "   'veteran': False,\n",
       "   'inactive': False,\n",
       "   'freshBlood': False,\n",
       "   'hotStreak': True},\n",
       "  {'summonerId': 'mz_sm5q7t6I7ir6Xy6wFv-Elc_an2zY-TA3f_Jr6X4ZVoy8',\n",
       "   'summonerName': 'Shadem',\n",
       "   'leaguePoints': 419,\n",
       "   'rank': 'I',\n",
       "   'wins': 85,\n",
       "   'losses': 48,\n",
       "   'veteran': False,\n",
       "   'inactive': False,\n",
       "   'freshBlood': True,\n",
       "   'hotStreak': True},\n",
       "  {'summonerId': 'bfSg9_pNCXnLZIpEWGm3oYwBDzMLNFSJ5Bfa9WhflyRpby0',\n",
       "   'summonerName': 'me go brrrr',\n",
       "   'leaguePoints': 555,\n",
       "   'rank': 'I',\n",
       "   'wins': 143,\n",
       "   'losses': 105,\n",
       "   'veteran': False,\n",
       "   'inactive': False,\n",
       "   'freshBlood': False,\n",
       "   'hotStreak': False},\n",
       "  {'summonerId': 'VAA_s8Mp8DVATHYy1KtgmvP8OlE9vY7oBcYoStgyTx_-7S6b6F2gIWb5QQ',\n",
       "   'summonerName': '',\n",
       "   'leaguePoints': 528,\n",
       "   'rank': 'I',\n",
       "   'wins': 311,\n",
       "   'losses': 200,\n",
       "   'veteran': False,\n",
       "   'inactive': False,\n",
       "   'freshBlood': True,\n",
       "   'hotStreak': True},\n",
       "  {'summonerId': '36aEemriaUFr2LNZhVMREM01Q3AKHWfGtwcnZfNZioixAUtsjdfkKBqFeg',\n",
       "   'summonerName': '',\n",
       "   'leaguePoints': 394,\n",
       "   'rank': 'I',\n",
       "   'wins': 99,\n",
       "   'losses': 80,\n",
       "   'veteran': False,\n",
       "   'inactive': False,\n",
       "   'freshBlood': True,\n",
       "   'hotStreak': False},\n",
       "  {'summonerId': 'xjHO8591IdrBBS7_oKAAOVfn8fXE94fvIPDXBbOI9v8O9OY',\n",
       "   'summonerName': 'NoMoreLoveinLA',\n",
       "   'leaguePoints': 479,\n",
       "   'rank': 'I',\n",
       "   'wins': 201,\n",
       "   'losses': 140,\n",
       "   'veteran': False,\n",
       "   'inactive': False,\n",
       "   'freshBlood': True,\n",
       "   'hotStreak': False},\n",
       "  {'summonerId': 'Jdi9L-jzCKXmprRg3P18cjMBTLBLvpNM1enIv5zZ494l0b0',\n",
       "   'summonerName': 'worthless pig',\n",
       "   'leaguePoints': 536,\n",
       "   'rank': 'I',\n",
       "   'wins': 264,\n",
       "   'losses': 228,\n",
       "   'veteran': False,\n",
       "   'inactive': False,\n",
       "   'freshBlood': False,\n",
       "   'hotStreak': False},\n",
       "  {'summonerId': 'hAPlBeasKyVNjbxHCBKkcxy0-NLXOtvB5xaf4AfmXLQooTs',\n",
       "   'summonerName': 'Jujü',\n",
       "   'leaguePoints': 425,\n",
       "   'rank': 'I',\n",
       "   'wins': 239,\n",
       "   'losses': 198,\n",
       "   'veteran': False,\n",
       "   'inactive': False,\n",
       "   'freshBlood': True,\n",
       "   'hotStreak': False},\n",
       "  {'summonerId': 'FH5oX6bJV3ho8n6H8Y_cTTCxLbD98LEasMG9jFf-ieUZ4CVXcLp004FUgQ',\n",
       "   'summonerName': 'Snaplulxd',\n",
       "   'leaguePoints': 459,\n",
       "   'rank': 'I',\n",
       "   'wins': 118,\n",
       "   'losses': 82,\n",
       "   'veteran': False,\n",
       "   'inactive': False,\n",
       "   'freshBlood': False,\n",
       "   'hotStreak': False},\n",
       "  {'summonerId': '1EDP0TjtRbRM8AHqrKJgkkArcQdxiCNz_bgixOpciBFUuc8',\n",
       "   'summonerName': 'DLetgit',\n",
       "   'leaguePoints': 527,\n",
       "   'rank': 'I',\n",
       "   'wins': 159,\n",
       "   'losses': 116,\n",
       "   'veteran': False,\n",
       "   'inactive': False,\n",
       "   'freshBlood': False,\n",
       "   'hotStreak': False},\n",
       "  {'summonerId': 'ZsP8nDJT_fnjuSHKcjp54u8cho-xLG0wrB-i7Lm2RTTAaR8',\n",
       "   'summonerName': 'Ghibli Studios',\n",
       "   'leaguePoints': 616,\n",
       "   'rank': 'I',\n",
       "   'wins': 196,\n",
       "   'losses': 166,\n",
       "   'veteran': False,\n",
       "   'inactive': False,\n",
       "   'freshBlood': False,\n",
       "   'hotStreak': False},\n",
       "  {'summonerId': 'SMos36hNpOV44Er5YjCrSFy2KMZmI_W3qNBpZDbrxn3jwFo',\n",
       "   'summonerName': 'Itachisax',\n",
       "   'leaguePoints': 542,\n",
       "   'rank': 'I',\n",
       "   'wins': 299,\n",
       "   'losses': 252,\n",
       "   'veteran': False,\n",
       "   'inactive': False,\n",
       "   'freshBlood': False,\n",
       "   'hotStreak': False},\n",
       "  {'summonerId': '1eCTK14eelvbINtDTxFYQbmCCmrIkZ8e3dOrdE8H5eN67Vg',\n",
       "   'summonerName': 'Kvaal',\n",
       "   'leaguePoints': 476,\n",
       "   'rank': 'I',\n",
       "   'wins': 221,\n",
       "   'losses': 184,\n",
       "   'veteran': False,\n",
       "   'inactive': False,\n",
       "   'freshBlood': False,\n",
       "   'hotStreak': False},\n",
       "  {'summonerId': '9unyslGCSQN5IvjDfi4yOvqZj2wLcpe2aThm3DgeqhI_-8NG',\n",
       "   'summonerName': 'Husklezz',\n",
       "   'leaguePoints': 390,\n",
       "   'rank': 'I',\n",
       "   'wins': 122,\n",
       "   'losses': 79,\n",
       "   'veteran': False,\n",
       "   'inactive': False,\n",
       "   'freshBlood': False,\n",
       "   'hotStreak': False},\n",
       "  {'summonerId': 'wQxbQmGhQxkJSepxBbs8IdmkRineYJ8xziO3UwqZrCKf5qo',\n",
       "   'summonerName': '01000101 1010011',\n",
       "   'leaguePoints': 494,\n",
       "   'rank': 'I',\n",
       "   'wins': 347,\n",
       "   'losses': 323,\n",
       "   'veteran': False,\n",
       "   'inactive': False,\n",
       "   'freshBlood': False,\n",
       "   'hotStreak': False},\n",
       "  {'summonerId': '-ZQPK5O0DkILI92CWLxsr8C4DGL4bRvvFKvgziIsYdKTWGk',\n",
       "   'summonerName': 'NattyFru',\n",
       "   'leaguePoints': 617,\n",
       "   'rank': 'I',\n",
       "   'wins': 155,\n",
       "   'losses': 112,\n",
       "   'veteran': False,\n",
       "   'inactive': False,\n",
       "   'freshBlood': False,\n",
       "   'hotStreak': False},\n",
       "  {'summonerId': 'U6kCQGqaaoH1LwQ2-sewstqKBCu2BraIwBswI-ZZKplIDXk',\n",
       "   'summonerName': 'Hymn',\n",
       "   'leaguePoints': 534,\n",
       "   'rank': 'I',\n",
       "   'wins': 290,\n",
       "   'losses': 223,\n",
       "   'veteran': False,\n",
       "   'inactive': False,\n",
       "   'freshBlood': False,\n",
       "   'hotStreak': False},\n",
       "  {'summonerId': 'm9XSthAAfK-1pV3p_1kb3nHpgUQ39lCxPeIW_vnB6qIdFJQ',\n",
       "   'summonerName': 'I am the Chief',\n",
       "   'leaguePoints': 454,\n",
       "   'rank': 'I',\n",
       "   'wins': 280,\n",
       "   'losses': 270,\n",
       "   'veteran': False,\n",
       "   'inactive': False,\n",
       "   'freshBlood': True,\n",
       "   'hotStreak': True},\n",
       "  {'summonerId': 'HCQVxx_j4jI_3O7WhakjAlXbzHX236EheSGGcj2yOUS3sUE',\n",
       "   'summonerName': 'Literally Legit',\n",
       "   'leaguePoints': 520,\n",
       "   'rank': 'I',\n",
       "   'wins': 172,\n",
       "   'losses': 134,\n",
       "   'veteran': False,\n",
       "   'inactive': False,\n",
       "   'freshBlood': False,\n",
       "   'hotStreak': False},\n",
       "  {'summonerId': 'Qv1c43Gdftd76UUiyIVqAG5Q1I4viERRg20_pTW6h67YKiQ',\n",
       "   'summonerName': 'Old Lodo',\n",
       "   'leaguePoints': 467,\n",
       "   'rank': 'I',\n",
       "   'wins': 253,\n",
       "   'losses': 228,\n",
       "   'veteran': False,\n",
       "   'inactive': False,\n",
       "   'freshBlood': True,\n",
       "   'hotStreak': False},\n",
       "  {'summonerId': 'Kqla8vtQDoc2gqoxRViwJdy3d-7r-UefFGocfWbv-8zifhU',\n",
       "   'summonerName': 'RumHammm',\n",
       "   'leaguePoints': 462,\n",
       "   'rank': 'I',\n",
       "   'wins': 344,\n",
       "   'losses': 290,\n",
       "   'veteran': False,\n",
       "   'inactive': False,\n",
       "   'freshBlood': True,\n",
       "   'hotStreak': False},\n",
       "  {'summonerId': 'i9-lldkteowplDG8MP_Z5HZrj2mUm8WXniGruVpSkLIfhrU',\n",
       "   'summonerName': 'moe549',\n",
       "   'leaguePoints': 640,\n",
       "   'rank': 'I',\n",
       "   'wins': 179,\n",
       "   'losses': 144,\n",
       "   'veteran': False,\n",
       "   'inactive': False,\n",
       "   'freshBlood': False,\n",
       "   'hotStreak': False},\n",
       "  {'summonerId': 'TA-bmvWZAPUYBgaX6AGJhH6gXcqLm4XdggCD_soqUnDeMak',\n",
       "   'summonerName': 'chobo86',\n",
       "   'leaguePoints': 420,\n",
       "   'rank': 'I',\n",
       "   'wins': 360,\n",
       "   'losses': 314,\n",
       "   'veteran': False,\n",
       "   'inactive': False,\n",
       "   'freshBlood': True,\n",
       "   'hotStreak': False},\n",
       "  {'summonerId': 'n_Ytpcxv7h2p7HgE4oaJEy6a99prqecJ9zYApuEZD-opcvpU',\n",
       "   'summonerName': 'best Taro NA',\n",
       "   'leaguePoints': 540,\n",
       "   'rank': 'I',\n",
       "   'wins': 222,\n",
       "   'losses': 151,\n",
       "   'veteran': False,\n",
       "   'inactive': False,\n",
       "   'freshBlood': True,\n",
       "   'hotStreak': False},\n",
       "  {'summonerId': 'KInibVUR_ZnoouSKLoy4QWiKZQCwYDFNHoyCldM2FlAfB6g',\n",
       "   'summonerName': 'Sovattana',\n",
       "   'leaguePoints': 390,\n",
       "   'rank': 'I',\n",
       "   'wins': 202,\n",
       "   'losses': 164,\n",
       "   'veteran': False,\n",
       "   'inactive': False,\n",
       "   'freshBlood': True,\n",
       "   'hotStreak': False},\n",
       "  {'summonerId': 'w0Plo_K2VYPkpI9Lr_ncm2OO3V8SYJdWPOsIR5lgCs4BZWiW0iMDBjVX4w',\n",
       "   'summonerName': 'Redynz',\n",
       "   'leaguePoints': 461,\n",
       "   'rank': 'I',\n",
       "   'wins': 203,\n",
       "   'losses': 170,\n",
       "   'veteran': False,\n",
       "   'inactive': False,\n",
       "   'freshBlood': False,\n",
       "   'hotStreak': False},\n",
       "  {'summonerId': 'k8GwXgZ3FiUJoxMfa-jklMFIPdN8OiIeJ3Tc71Oi-o8geEi_s9KynfTkQg',\n",
       "   'summonerName': 'robivankenob',\n",
       "   'leaguePoints': 652,\n",
       "   'rank': 'I',\n",
       "   'wins': 579,\n",
       "   'losses': 384,\n",
       "   'veteran': False,\n",
       "   'inactive': False,\n",
       "   'freshBlood': True,\n",
       "   'hotStreak': False},\n",
       "  {'summonerId': 'EY8Xulx-JmnYOgForpQWeQehoUaLX-ob0Gm2z2okLAbc2EQ',\n",
       "   'summonerName': 'Marian',\n",
       "   'leaguePoints': 574,\n",
       "   'rank': 'I',\n",
       "   'wins': 286,\n",
       "   'losses': 240,\n",
       "   'veteran': False,\n",
       "   'inactive': False,\n",
       "   'freshBlood': False,\n",
       "   'hotStreak': False},\n",
       "  {'summonerId': 'VYKaKnpwZqwOQf1SjqpcCV1qOGIWDGzH1bHqoR53C01YG6wH',\n",
       "   'summonerName': 'Spethom',\n",
       "   'leaguePoints': 397,\n",
       "   'rank': 'I',\n",
       "   'wins': 492,\n",
       "   'losses': 389,\n",
       "   'veteran': False,\n",
       "   'inactive': False,\n",
       "   'freshBlood': False,\n",
       "   'hotStreak': False},\n",
       "  {'summonerId': 'z6VSkaMkthuqKK5pF47twvNWNKLAsVWo1zKfxUGZmqHLogo',\n",
       "   'summonerName': 'Endlesss',\n",
       "   'leaguePoints': 465,\n",
       "   'rank': 'I',\n",
       "   'wins': 209,\n",
       "   'losses': 164,\n",
       "   'veteran': False,\n",
       "   'inactive': False,\n",
       "   'freshBlood': True,\n",
       "   'hotStreak': False},\n",
       "  {'summonerId': 'ZeBwPYYM30WNKIzjx0zLbzWnpQ9IFrh1hMRS1O7IJ86rISE',\n",
       "   'summonerName': 'xJanoh',\n",
       "   'leaguePoints': 491,\n",
       "   'rank': 'I',\n",
       "   'wins': 393,\n",
       "   'losses': 363,\n",
       "   'veteran': False,\n",
       "   'inactive': False,\n",
       "   'freshBlood': False,\n",
       "   'hotStreak': False},\n",
       "  {'summonerId': 'McOifjfpxGDcr-a2W6hyW8NUxyv7cuXt9HX4GexNN40XkrI',\n",
       "   'summonerName': 'IronG',\n",
       "   'leaguePoints': 471,\n",
       "   'rank': 'I',\n",
       "   'wins': 494,\n",
       "   'losses': 492,\n",
       "   'veteran': False,\n",
       "   'inactive': False,\n",
       "   'freshBlood': True,\n",
       "   'hotStreak': False},\n",
       "  {'summonerId': 'd09wl8rfldy46Y83SK6o_RzY0doOrYUtUvHOg_xcZL3-',\n",
       "   'summonerName': 'deathbycow',\n",
       "   'leaguePoints': 425,\n",
       "   'rank': 'I',\n",
       "   'wins': 134,\n",
       "   'losses': 111,\n",
       "   'veteran': False,\n",
       "   'inactive': False,\n",
       "   'freshBlood': True,\n",
       "   'hotStreak': False},\n",
       "  {'summonerId': 'BWvQyQn8vNAMxgYSQ_FEmFzBflp7oDFzDz3m9nAa0q-aSiQ',\n",
       "   'summonerName': 'HopefullyDead',\n",
       "   'leaguePoints': 474,\n",
       "   'rank': 'I',\n",
       "   'wins': 94,\n",
       "   'losses': 52,\n",
       "   'veteran': False,\n",
       "   'inactive': False,\n",
       "   'freshBlood': False,\n",
       "   'hotStreak': False},\n",
       "  {'summonerId': 'Eei2-pMLEoffIygeeW-8hyrf6dhepZJPNPSF2XAtziY8-779H_nqUxSgXQ',\n",
       "   'summonerName': 'yubiyubiiiii',\n",
       "   'leaguePoints': 678,\n",
       "   'rank': 'I',\n",
       "   'wins': 297,\n",
       "   'losses': 258,\n",
       "   'veteran': False,\n",
       "   'inactive': False,\n",
       "   'freshBlood': True,\n",
       "   'hotStreak': False},\n",
       "  {'summonerId': '1fgmtPZ4V5LdFP1ppBIWm6x8yFPQLKfdyAHHtlbWryy8xKo',\n",
       "   'summonerName': 'ksid',\n",
       "   'leaguePoints': 576,\n",
       "   'rank': 'I',\n",
       "   'wins': 522,\n",
       "   'losses': 484,\n",
       "   'veteran': False,\n",
       "   'inactive': False,\n",
       "   'freshBlood': False,\n",
       "   'hotStreak': False},\n",
       "  {'summonerId': 'jJrmLJdsFTGGpPt6RDqqbldb_KVIb9Wz-GZdXvk7GEdXjqg',\n",
       "   'summonerName': 'Suwa Nanaka',\n",
       "   'leaguePoints': 532,\n",
       "   'rank': 'I',\n",
       "   'wins': 247,\n",
       "   'losses': 230,\n",
       "   'veteran': False,\n",
       "   'inactive': False,\n",
       "   'freshBlood': False,\n",
       "   'hotStreak': True},\n",
       "  {'summonerId': 'NIgSzDmuRwAIgxqw38g2PPKBmqxX8Ng14jgcihVOF3hO-CKd',\n",
       "   'summonerName': 'Upper Moon 0',\n",
       "   'leaguePoints': 436,\n",
       "   'rank': 'I',\n",
       "   'wins': 211,\n",
       "   'losses': 165,\n",
       "   'veteran': False,\n",
       "   'inactive': False,\n",
       "   'freshBlood': True,\n",
       "   'hotStreak': False},\n",
       "  {'summonerId': 'GWEcNHyR66hn-_85DlEQ3eG9Smws08l2OpzVIGCyLT-pJQc',\n",
       "   'summonerName': 'FluffyJoliopo',\n",
       "   'leaguePoints': 519,\n",
       "   'rank': 'I',\n",
       "   'wins': 321,\n",
       "   'losses': 271,\n",
       "   'veteran': False,\n",
       "   'inactive': False,\n",
       "   'freshBlood': False,\n",
       "   'hotStreak': False},\n",
       "  {'summonerId': 'VZqMLnBSaO-J_emwIqJsa3f09t0pOuwehdXgEq_U1jJE64r1',\n",
       "   'summonerName': 'Nostereleven',\n",
       "   'leaguePoints': 514,\n",
       "   'rank': 'I',\n",
       "   'wins': 535,\n",
       "   'losses': 348,\n",
       "   'veteran': False,\n",
       "   'inactive': False,\n",
       "   'freshBlood': True,\n",
       "   'hotStreak': False},\n",
       "  {'summonerId': 'J9IkvcvYkcFEtvW5BKO-d4iLoEXrgMsN1nTSGtsgR3NTkv4',\n",
       "   'summonerName': 'Bunji',\n",
       "   'leaguePoints': 561,\n",
       "   'rank': 'I',\n",
       "   'wins': 375,\n",
       "   'losses': 324,\n",
       "   'veteran': True,\n",
       "   'inactive': False,\n",
       "   'freshBlood': False,\n",
       "   'hotStreak': False},\n",
       "  {'summonerId': 'OPuvLsGP9tjJIZc1tmMvB0_h0Iq1lLdUKP9cqvK14e7d6s4',\n",
       "   'summonerName': 'gg you11',\n",
       "   'leaguePoints': 387,\n",
       "   'rank': 'I',\n",
       "   'wins': 220,\n",
       "   'losses': 180,\n",
       "   'veteran': False,\n",
       "   'inactive': False,\n",
       "   'freshBlood': True,\n",
       "   'hotStreak': False},\n",
       "  {'summonerId': '6EVnpLd5_sLtLaxp9yXRVQqMpROVwErPOPL4VTlq2KWA8l4',\n",
       "   'summonerName': 'yolomonther',\n",
       "   'leaguePoints': 401,\n",
       "   'rank': 'I',\n",
       "   'wins': 179,\n",
       "   'losses': 140,\n",
       "   'veteran': False,\n",
       "   'inactive': False,\n",
       "   'freshBlood': True,\n",
       "   'hotStreak': False},\n",
       "  {'summonerId': 'VQTK5j9unqh3oB9VOfO6VVIdaxsDaZj6n5WXzh9nngoDex8suqk_2xVD7w',\n",
       "   'summonerName': 'soulblackRD',\n",
       "   'leaguePoints': 380,\n",
       "   'rank': 'I',\n",
       "   'wins': 169,\n",
       "   'losses': 135,\n",
       "   'veteran': False,\n",
       "   'inactive': False,\n",
       "   'freshBlood': True,\n",
       "   'hotStreak': False},\n",
       "  {'summonerId': 'ZeipdSvD-UsTZEB9I57PdTpZdxvJ_P6uOsGWbJS29ADOx9LWhzUaB5YURw',\n",
       "   'summonerName': '',\n",
       "   'leaguePoints': 406,\n",
       "   'rank': 'I',\n",
       "   'wins': 104,\n",
       "   'losses': 68,\n",
       "   'veteran': False,\n",
       "   'inactive': False,\n",
       "   'freshBlood': True,\n",
       "   'hotStreak': False},\n",
       "  {'summonerId': 'CsOkHuC1_vVKvgxZSTyDiEo4t1KFWajOLxP6C9ADnydLAis',\n",
       "   'summonerName': 'QlN',\n",
       "   'leaguePoints': 502,\n",
       "   'rank': 'I',\n",
       "   'wins': 183,\n",
       "   'losses': 158,\n",
       "   'veteran': False,\n",
       "   'inactive': False,\n",
       "   'freshBlood': False,\n",
       "   'hotStreak': True},\n",
       "  {'summonerId': 'h9V38uPNaQrtI2ge9gF4VNn7VPBXHMApzDiwXkWtdYJqzJo',\n",
       "   'summonerName': 'WhitezZ',\n",
       "   'leaguePoints': 496,\n",
       "   'rank': 'I',\n",
       "   'wins': 169,\n",
       "   'losses': 137,\n",
       "   'veteran': False,\n",
       "   'inactive': False,\n",
       "   'freshBlood': False,\n",
       "   'hotStreak': False},\n",
       "  {'summonerId': 'bCDcxoSNY59-gF_47LxFFmProV4cKB5FLo97FZOrTBlnyIGcqQDTuWuOdA',\n",
       "   'summonerName': 'kokoiuu',\n",
       "   'leaguePoints': 392,\n",
       "   'rank': 'I',\n",
       "   'wins': 113,\n",
       "   'losses': 77,\n",
       "   'veteran': False,\n",
       "   'inactive': False,\n",
       "   'freshBlood': False,\n",
       "   'hotStreak': True},\n",
       "  {'summonerId': 'jXE_vuIffWWy2o2gpqyurU2LTySxta9MDYur0plRsg0I_dNQ',\n",
       "   'summonerName': 'ShibaInugold',\n",
       "   'leaguePoints': 514,\n",
       "   'rank': 'I',\n",
       "   'wins': 279,\n",
       "   'losses': 225,\n",
       "   'veteran': False,\n",
       "   'inactive': False,\n",
       "   'freshBlood': False,\n",
       "   'hotStreak': False},\n",
       "  {'summonerId': '33t5V8mkysRO5Q5xxaz8czSR4P8LOt9FD-2FKE7qANOJHJKD76yXvDx13Q',\n",
       "   'summonerName': 'son of krub',\n",
       "   'leaguePoints': 470,\n",
       "   'rank': 'I',\n",
       "   'wins': 104,\n",
       "   'losses': 68,\n",
       "   'veteran': False,\n",
       "   'inactive': False,\n",
       "   'freshBlood': False,\n",
       "   'hotStreak': False},\n",
       "  {'summonerId': 'YUq_S-KZvGLbpauu9lsh7eOL1rhc1lqcaygb8rXgeXFZoWzi',\n",
       "   'summonerName': 'RerollTheTroll',\n",
       "   'leaguePoints': 416,\n",
       "   'rank': 'I',\n",
       "   'wins': 318,\n",
       "   'losses': 266,\n",
       "   'veteran': False,\n",
       "   'inactive': False,\n",
       "   'freshBlood': True,\n",
       "   'hotStreak': True},\n",
       "  {'summonerId': 'kIieJfx57KTm06hi25pvI-LoxAlXcIPB4l351O_oFbI0Gq8cZA0s_Flr7g',\n",
       "   'summonerName': 'dididdndn',\n",
       "   'leaguePoints': 611,\n",
       "   'rank': 'I',\n",
       "   'wins': 270,\n",
       "   'losses': 240,\n",
       "   'veteran': False,\n",
       "   'inactive': False,\n",
       "   'freshBlood': False,\n",
       "   'hotStreak': False},\n",
       "  {'summonerId': 'bAdn-AjeheKkZ-Ub325JAcgccAgZUOLSNX98upu19ptiagE',\n",
       "   'summonerName': 'joeynguyen',\n",
       "   'leaguePoints': 561,\n",
       "   'rank': 'I',\n",
       "   'wins': 410,\n",
       "   'losses': 392,\n",
       "   'veteran': False,\n",
       "   'inactive': False,\n",
       "   'freshBlood': True,\n",
       "   'hotStreak': False},\n",
       "  {'summonerId': 'y8ton0EonshSb0agjCJcnapefi5qp9hT6tbf1CkGOMp7vjI',\n",
       "   'summonerName': 'blackrosedragon2',\n",
       "   'leaguePoints': 586,\n",
       "   'rank': 'I',\n",
       "   'wins': 115,\n",
       "   'losses': 85,\n",
       "   'veteran': False,\n",
       "   'inactive': False,\n",
       "   'freshBlood': False,\n",
       "   'hotStreak': False},\n",
       "  {'summonerId': 'Cp2cudstFYxsNmMxE_UhLWIsoF7eLOMw0H0J1FnVs9k1ZHb6BAiARy8BcA',\n",
       "   'summonerName': 'Twitch cosmo',\n",
       "   'leaguePoints': 563,\n",
       "   'rank': 'I',\n",
       "   'wins': 302,\n",
       "   'losses': 195,\n",
       "   'veteran': False,\n",
       "   'inactive': False,\n",
       "   'freshBlood': True,\n",
       "   'hotStreak': True},\n",
       "  {'summonerId': '8mZX6J3COCg9_RelDt64_7ElMeGoraVWrLZ8sVu5YedKEqY',\n",
       "   'summonerName': 'Best TuTu NA',\n",
       "   'leaguePoints': 480,\n",
       "   'rank': 'I',\n",
       "   'wins': 137,\n",
       "   'losses': 101,\n",
       "   'veteran': False,\n",
       "   'inactive': False,\n",
       "   'freshBlood': False,\n",
       "   'hotStreak': True},\n",
       "  {'summonerId': 'Hc2QDeE2ollK3Zvlsf7sRBP28uq-dXEAMW8pzQzKmZyxafQ',\n",
       "   'summonerName': 'JoxestersLeftNut',\n",
       "   'leaguePoints': 467,\n",
       "   'rank': 'I',\n",
       "   'wins': 185,\n",
       "   'losses': 152,\n",
       "   'veteran': False,\n",
       "   'inactive': False,\n",
       "   'freshBlood': False,\n",
       "   'hotStreak': False},\n",
       "  {'summonerId': '0Xx-emkqz9MxJ3F7NhLYYXVSN3HVmopqxf5LdJ0verFBklA',\n",
       "   'summonerName': 'Suburban Jimster',\n",
       "   'leaguePoints': 385,\n",
       "   'rank': 'I',\n",
       "   'wins': 300,\n",
       "   'losses': 273,\n",
       "   'veteran': False,\n",
       "   'inactive': False,\n",
       "   'freshBlood': True,\n",
       "   'hotStreak': False},\n",
       "  {'summonerId': '_O2-kbd_Ep-EW_sPzLnE6MWO_p87orxqQQ0sh6lc05Mh1d_I',\n",
       "   'summonerName': 'paisleyy',\n",
       "   'leaguePoints': 397,\n",
       "   'rank': 'I',\n",
       "   'wins': 227,\n",
       "   'losses': 209,\n",
       "   'veteran': False,\n",
       "   'inactive': False,\n",
       "   'freshBlood': True,\n",
       "   'hotStreak': False},\n",
       "  {'summonerId': '-5KTDT0HM68U0KItRjgP0b4_-tRNzDBO6brnwtJFPaJwMHo',\n",
       "   'summonerName': 'ForrestNuts',\n",
       "   'leaguePoints': 624,\n",
       "   'rank': 'I',\n",
       "   'wins': 98,\n",
       "   'losses': 77,\n",
       "   'veteran': False,\n",
       "   'inactive': False,\n",
       "   'freshBlood': False,\n",
       "   'hotStreak': False},\n",
       "  {'summonerId': 'tdAT3xdeZ_3ZbHsuY9FuQsbVLIzEtBvxbYK4weR-4HsHAV8',\n",
       "   'summonerName': 'Hanryu',\n",
       "   'leaguePoints': 419,\n",
       "   'rank': 'I',\n",
       "   'wins': 141,\n",
       "   'losses': 101,\n",
       "   'veteran': False,\n",
       "   'inactive': False,\n",
       "   'freshBlood': True,\n",
       "   'hotStreak': True},\n",
       "  {'summonerId': '_pOkJMVwanIuJgSyyrAhotcHwVmLQBpHwrjJH7cut3YTDrQmjwCzRnKQog',\n",
       "   'summonerName': 'stepee4',\n",
       "   'leaguePoints': 654,\n",
       "   'rank': 'I',\n",
       "   'wins': 227,\n",
       "   'losses': 204,\n",
       "   'veteran': False,\n",
       "   'inactive': False,\n",
       "   'freshBlood': False,\n",
       "   'hotStreak': True},\n",
       "  {'summonerId': 'UTff8GMlL32L2Am-VXA4wSt-62j3I-NcCC7IhIpL1bVuSr4',\n",
       "   'summonerName': 'theOnLy1z',\n",
       "   'leaguePoints': 656,\n",
       "   'rank': 'I',\n",
       "   'wins': 316,\n",
       "   'losses': 296,\n",
       "   'veteran': False,\n",
       "   'inactive': False,\n",
       "   'freshBlood': False,\n",
       "   'hotStreak': False},\n",
       "  {'summonerId': 'cEepVLUowmQRhRy0jEyZqCHMdD3UxYktdsn1VrIt3LKMOX6FdzWkU6plFw',\n",
       "   'summonerName': 'Hijodelaluna',\n",
       "   'leaguePoints': 390,\n",
       "   'rank': 'I',\n",
       "   'wins': 365,\n",
       "   'losses': 351,\n",
       "   'veteran': False,\n",
       "   'inactive': False,\n",
       "   'freshBlood': True,\n",
       "   'hotStreak': True},\n",
       "  {'summonerId': 'hcz8R9cV4NkVEio4Qje94kguERQpFLrLQi8lN_Q5Z-aMlR4',\n",
       "   'summonerName': 'xxsnackbarxx',\n",
       "   'leaguePoints': 329,\n",
       "   'rank': 'I',\n",
       "   'wins': 688,\n",
       "   'losses': 652,\n",
       "   'veteran': False,\n",
       "   'inactive': False,\n",
       "   'freshBlood': True,\n",
       "   'hotStreak': False},\n",
       "  {'summonerId': 'Lv63Pfl4qPWT4-IkWyN6kDwxQxwO4Qxr5_78yFMSqgvjb6c',\n",
       "   'summonerName': '7 inches',\n",
       "   'leaguePoints': 371,\n",
       "   'rank': 'I',\n",
       "   'wins': 221,\n",
       "   'losses': 180,\n",
       "   'veteran': False,\n",
       "   'inactive': False,\n",
       "   'freshBlood': True,\n",
       "   'hotStreak': True},\n",
       "  {'summonerId': 'c0LcRxVuqjvAAq4Dg4u5zQBGjO-n8-Uu-fL8iryQOU_OXoI',\n",
       "   'summonerName': 'Shine',\n",
       "   'leaguePoints': 472,\n",
       "   'rank': 'I',\n",
       "   'wins': 319,\n",
       "   'losses': 269,\n",
       "   'veteran': False,\n",
       "   'inactive': False,\n",
       "   'freshBlood': True,\n",
       "   'hotStreak': True},\n",
       "  {'summonerId': 'y9QJ0T4VC015s_2AETr_MlTmp2efltqw_V5Rh0u4LJ7d30U',\n",
       "   'summonerName': 'CtHin',\n",
       "   'leaguePoints': 534,\n",
       "   'rank': 'I',\n",
       "   'wins': 206,\n",
       "   'losses': 181,\n",
       "   'veteran': False,\n",
       "   'inactive': False,\n",
       "   'freshBlood': False,\n",
       "   'hotStreak': False},\n",
       "  {'summonerId': 'e5DQhq8-LkapQtDCieRVlUbCbostdZxeLKlQQFbGvAVmbzN6roWKCA3HXQ',\n",
       "   'summonerName': 'morphan xoxo',\n",
       "   'leaguePoints': 582,\n",
       "   'rank': 'I',\n",
       "   'wins': 848,\n",
       "   'losses': 763,\n",
       "   'veteran': False,\n",
       "   'inactive': False,\n",
       "   'freshBlood': True,\n",
       "   'hotStreak': False},\n",
       "  {'summonerId': 'Ia3oSvtq5im5qleSWNDrW9JfTp9ZckK2qIXz9egIuAjleYAenOH0Olv67Q',\n",
       "   'summonerName': 'TSLPie',\n",
       "   'leaguePoints': 378,\n",
       "   'rank': 'I',\n",
       "   'wins': 84,\n",
       "   'losses': 44,\n",
       "   'veteran': False,\n",
       "   'inactive': False,\n",
       "   'freshBlood': True,\n",
       "   'hotStreak': False},\n",
       "  {'summonerId': 'gDTcBncTZffAYZ6ByilsyS6RNn9oUa2_GpOI2Hnm9x2IYWY',\n",
       "   'summonerName': 'BiteSizedSkillz',\n",
       "   'leaguePoints': 374,\n",
       "   'rank': 'I',\n",
       "   'wins': 226,\n",
       "   'losses': 179,\n",
       "   'veteran': False,\n",
       "   'inactive': False,\n",
       "   'freshBlood': True,\n",
       "   'hotStreak': True},\n",
       "  {'summonerId': 'VwMxlWtyuOt2iYT1Y14MYNRIFg2u5avXeawkc0cgtgvHd1g',\n",
       "   'summonerName': 'edvango',\n",
       "   'leaguePoints': 467,\n",
       "   'rank': 'I',\n",
       "   'wins': 139,\n",
       "   'losses': 108,\n",
       "   'veteran': False,\n",
       "   'inactive': False,\n",
       "   'freshBlood': False,\n",
       "   'hotStreak': True},\n",
       "  {'summonerId': '1Pn446TYu9YtqYfGcILuE3Qv3WL37cSBdIdjK8FI1Rpj15R0K-ldU0m5fQ',\n",
       "   'summonerName': 'Clloud',\n",
       "   'leaguePoints': 395,\n",
       "   'rank': 'I',\n",
       "   'wins': 278,\n",
       "   'losses': 245,\n",
       "   'veteran': False,\n",
       "   'inactive': False,\n",
       "   'freshBlood': True,\n",
       "   'hotStreak': True},\n",
       "  {'summonerId': 'ryTgupGPrTMGDMA5VVbCy6C6gz7-cxLO90CVMYBvdKsXvNET',\n",
       "   'summonerName': 'TheStormReborn',\n",
       "   'leaguePoints': 536,\n",
       "   'rank': 'I',\n",
       "   'wins': 386,\n",
       "   'losses': 353,\n",
       "   'veteran': False,\n",
       "   'inactive': False,\n",
       "   'freshBlood': False,\n",
       "   'hotStreak': False},\n",
       "  {'summonerId': 'BW8tB1q26Es_HhQJWC4pNPHtpQvPfWwdpglOMmZyRWAwFgc',\n",
       "   'summonerName': 'HZB',\n",
       "   'leaguePoints': 465,\n",
       "   'rank': 'I',\n",
       "   'wins': 243,\n",
       "   'losses': 199,\n",
       "   'veteran': False,\n",
       "   'inactive': False,\n",
       "   'freshBlood': True,\n",
       "   'hotStreak': False},\n",
       "  {'summonerId': 'sw_l00iajwu5cRD22y9PEc1RdpwXGk3FFDto0QKXZwXZ_a0',\n",
       "   'summonerName': 'im s0 bad',\n",
       "   'leaguePoints': 521,\n",
       "   'rank': 'I',\n",
       "   'wins': 460,\n",
       "   'losses': 428,\n",
       "   'veteran': True,\n",
       "   'inactive': False,\n",
       "   'freshBlood': False,\n",
       "   'hotStreak': False},\n",
       "  {'summonerId': '6o8Rq1p6O4mnfW27PScTNdaO0fpktUY30A08czm2BFS3JXRh',\n",
       "   'summonerName': 'syztum',\n",
       "   'leaguePoints': 573,\n",
       "   'rank': 'I',\n",
       "   'wins': 292,\n",
       "   'losses': 243,\n",
       "   'veteran': False,\n",
       "   'inactive': False,\n",
       "   'freshBlood': False,\n",
       "   'hotStreak': False},\n",
       "  {'summonerId': 'esv-v3DLSXdRS7xM9oZjayai4W-8ZdIhZvnESgOqIv26TeY',\n",
       "   'summonerName': 'Shadow x 17',\n",
       "   'leaguePoints': 523,\n",
       "   'rank': 'I',\n",
       "   'wins': 373,\n",
       "   'losses': 352,\n",
       "   'veteran': False,\n",
       "   'inactive': False,\n",
       "   'freshBlood': False,\n",
       "   'hotStreak': False},\n",
       "  {'summonerId': 'op5lRY0S_bbzragsNO-pFD1yS2757j1xB8iJYOqA9HLKc0O03ih286PBxg',\n",
       "   'summonerName': 'click my d',\n",
       "   'leaguePoints': 481,\n",
       "   'rank': 'I',\n",
       "   'wins': 303,\n",
       "   'losses': 223,\n",
       "   'veteran': False,\n",
       "   'inactive': False,\n",
       "   'freshBlood': True,\n",
       "   'hotStreak': False},\n",
       "  {'summonerId': 'lPi89vcpa7f0TfePL3f1k5wrFLBOFcPlj4NWhXZMlk3yiuY',\n",
       "   'summonerName': 'Starrk00',\n",
       "   'leaguePoints': 411,\n",
       "   'rank': 'I',\n",
       "   'wins': 136,\n",
       "   'losses': 94,\n",
       "   'veteran': False,\n",
       "   'inactive': False,\n",
       "   'freshBlood': True,\n",
       "   'hotStreak': True},\n",
       "  {'summonerId': 'D2zQ_2XpEtslfz8PQn7uDGxmTCZfby1G2YEMIeEqWr_7Wlo',\n",
       "   'summonerName': 'SlenderShlong',\n",
       "   'leaguePoints': 423,\n",
       "   'rank': 'I',\n",
       "   'wins': 435,\n",
       "   'losses': 397,\n",
       "   'veteran': False,\n",
       "   'inactive': False,\n",
       "   'freshBlood': True,\n",
       "   'hotStreak': False},\n",
       "  {'summonerId': 'InCMETYHBKT8i1LzbUaEi5arQF3D-rgrQN7X4EHeuBEYGyQ',\n",
       "   'summonerName': 'Suzumiya',\n",
       "   'leaguePoints': 517,\n",
       "   'rank': 'I',\n",
       "   'wins': 170,\n",
       "   'losses': 138,\n",
       "   'veteran': False,\n",
       "   'inactive': False,\n",
       "   'freshBlood': False,\n",
       "   'hotStreak': False},\n",
       "  {'summonerId': 'vIoV6KuwxErwzCyUpnuOwph09JMEasqyfeSnWWvF6z2kXNI',\n",
       "   'summonerName': '2YoHae7',\n",
       "   'leaguePoints': 492,\n",
       "   'rank': 'I',\n",
       "   'wins': 248,\n",
       "   'losses': 228,\n",
       "   'veteran': False,\n",
       "   'inactive': False,\n",
       "   'freshBlood': False,\n",
       "   'hotStreak': False},\n",
       "  {'summonerId': 'bnxtJcu0gbARHQTyrqWMvVZUTjkypaKud7rgQiO2MczkAROAEW6IPI5tdg',\n",
       "   'summonerName': 'CallMeMilk',\n",
       "   'leaguePoints': 395,\n",
       "   'rank': 'I',\n",
       "   'wins': 421,\n",
       "   'losses': 392,\n",
       "   'veteran': False,\n",
       "   'inactive': False,\n",
       "   'freshBlood': True,\n",
       "   'hotStreak': False},\n",
       "  {'summonerId': 'iSlSVDx2HvHKaTnkTcsK1Lun2FkROngahH5NrI6MIgGHhxE8I7h0ENBPFA',\n",
       "   'summonerName': '',\n",
       "   'leaguePoints': 493,\n",
       "   'rank': 'I',\n",
       "   'wins': 87,\n",
       "   'losses': 37,\n",
       "   'veteran': False,\n",
       "   'inactive': False,\n",
       "   'freshBlood': True,\n",
       "   'hotStreak': True},\n",
       "  {'summonerId': 'dZRvRB85mVWhJXrjH0zT6qKc85kqLoAUhkRUNmk9XSrR3yuMrCawjzfrvg',\n",
       "   'summonerName': 'YungYimTFT',\n",
       "   'leaguePoints': 452,\n",
       "   'rank': 'I',\n",
       "   'wins': 403,\n",
       "   'losses': 379,\n",
       "   'veteran': False,\n",
       "   'inactive': False,\n",
       "   'freshBlood': False,\n",
       "   'hotStreak': False},\n",
       "  {'summonerId': 'b-ML9s0FUmc-9QjxZrOpUyaK6D5VbqbQs4BJ-nK4fCYR_mylZ2meRpSKPA',\n",
       "   'summonerName': 'Cephillipod',\n",
       "   'leaguePoints': 645,\n",
       "   'rank': 'I',\n",
       "   'wins': 214,\n",
       "   'losses': 202,\n",
       "   'veteran': False,\n",
       "   'inactive': False,\n",
       "   'freshBlood': False,\n",
       "   'hotStreak': False},\n",
       "  {'summonerId': 'n3UdDcWND6EnADwLElewBQKT14ACYVsWygoMvMQAAGJIn5E',\n",
       "   'summonerName': 'chen du xiu',\n",
       "   'leaguePoints': 440,\n",
       "   'rank': 'I',\n",
       "   'wins': 386,\n",
       "   'losses': 379,\n",
       "   'veteran': False,\n",
       "   'inactive': False,\n",
       "   'freshBlood': False,\n",
       "   'hotStreak': False},\n",
       "  {'summonerId': 'kTuoNFwtxXtgAGsTSGcRXawh1t3fRZuwEpWoXoopc2KlpPo',\n",
       "   'summonerName': 'mao zi donger',\n",
       "   'leaguePoints': 600,\n",
       "   'rank': 'I',\n",
       "   'wins': 267,\n",
       "   'losses': 236,\n",
       "   'veteran': False,\n",
       "   'inactive': False,\n",
       "   'freshBlood': False,\n",
       "   'hotStreak': False},\n",
       "  {'summonerId': 'dwNyyakaV2paJOzWzHHcVwtwKJrUPIeMhVlsBPEJJcGAUl0',\n",
       "   'summonerName': 'matthewk',\n",
       "   'leaguePoints': 528,\n",
       "   'rank': 'I',\n",
       "   'wins': 211,\n",
       "   'losses': 176,\n",
       "   'veteran': False,\n",
       "   'inactive': False,\n",
       "   'freshBlood': False,\n",
       "   'hotStreak': False},\n",
       "  {'summonerId': 'gRi7MKqevcbmjDrDUxEs6IYteEKvo8ArbbOMbkKm9X61gcGi',\n",
       "   'summonerName': 'Smart Top',\n",
       "   'leaguePoints': 383,\n",
       "   'rank': 'I',\n",
       "   'wins': 232,\n",
       "   'losses': 218,\n",
       "   'veteran': False,\n",
       "   'inactive': False,\n",
       "   'freshBlood': True,\n",
       "   'hotStreak': True},\n",
       "  {'summonerId': 'sejCVxQTM8qhoNdbUu5ySFSN1qv-AQohn4wnSLsGfRGQ80WbbvAl6AgpaQ',\n",
       "   'summonerName': '',\n",
       "   'leaguePoints': 399,\n",
       "   'rank': 'I',\n",
       "   'wins': 89,\n",
       "   'losses': 46,\n",
       "   'veteran': False,\n",
       "   'inactive': False,\n",
       "   'freshBlood': True,\n",
       "   'hotStreak': False},\n",
       "  {'summonerId': 'nSf2cOqMTZ2pFpvzvTvqLCoBN2Peh469IS2UiSsR_1B_1Ts',\n",
       "   'summonerName': 'CritterFiles',\n",
       "   'leaguePoints': 576,\n",
       "   'rank': 'I',\n",
       "   'wins': 404,\n",
       "   'losses': 363,\n",
       "   'veteran': False,\n",
       "   'inactive': False,\n",
       "   'freshBlood': False,\n",
       "   'hotStreak': False},\n",
       "  {'summonerId': 'spoKjJWIrRL1mj0mik3HJfbSqsQTm-8cZmp-dhZ0GNC2QgH-',\n",
       "   'summonerName': 'KingSantee',\n",
       "   'leaguePoints': 539,\n",
       "   'rank': 'I',\n",
       "   'wins': 179,\n",
       "   'losses': 116,\n",
       "   'veteran': False,\n",
       "   'inactive': False,\n",
       "   'freshBlood': False,\n",
       "   'hotStreak': False},\n",
       "  {'summonerId': '2NZhOU8j2XSDe8Svo7AecWQoxZWi4R5yZDOsrM1nf5E0Sqmgbvu5yu2OKg',\n",
       "   'summonerName': 'Wegoing7th',\n",
       "   'leaguePoints': 355,\n",
       "   'rank': 'I',\n",
       "   'wins': 201,\n",
       "   'losses': 164,\n",
       "   'veteran': False,\n",
       "   'inactive': False,\n",
       "   'freshBlood': False,\n",
       "   'hotStreak': False},\n",
       "  {'summonerId': 'ENPZDolCFLOXqpGmFQsY2ydNlfuo2O-fjdWqZHb06yyaLwY',\n",
       "   'summonerName': 'yung jame',\n",
       "   'leaguePoints': 536,\n",
       "   'rank': 'I',\n",
       "   'wins': 200,\n",
       "   'losses': 170,\n",
       "   'veteran': False,\n",
       "   'inactive': False,\n",
       "   'freshBlood': False,\n",
       "   'hotStreak': False},\n",
       "  {'summonerId': '38DvtDUEldqAeq4_epTEF2DidRwGiot5kj4BM6bpPFYe4t4',\n",
       "   'summonerName': 'skrtdab123',\n",
       "   'leaguePoints': 435,\n",
       "   'rank': 'I',\n",
       "   'wins': 149,\n",
       "   'losses': 119,\n",
       "   'veteran': False,\n",
       "   'inactive': False,\n",
       "   'freshBlood': True,\n",
       "   'hotStreak': False},\n",
       "  {'summonerId': 'ebvfEepblb1xX2-bq_4kDPua6JGcHk48a7RvhFQw74F8c0w',\n",
       "   'summonerName': 'kiyu',\n",
       "   'leaguePoints': 446,\n",
       "   'rank': 'I',\n",
       "   'wins': 172,\n",
       "   'losses': 143,\n",
       "   'veteran': False,\n",
       "   'inactive': False,\n",
       "   'freshBlood': True,\n",
       "   'hotStreak': True},\n",
       "  {'summonerId': 'jQf5dgBADAsaQBq95nOWJ5x77ouRaD4zEhF9U0NBDaXGA4x3gPwcUynQnw',\n",
       "   'summonerName': '',\n",
       "   'leaguePoints': 647,\n",
       "   'rank': 'I',\n",
       "   'wins': 170,\n",
       "   'losses': 105,\n",
       "   'veteran': False,\n",
       "   'inactive': False,\n",
       "   'freshBlood': True,\n",
       "   'hotStreak': False},\n",
       "  {'summonerId': '9v-19TrhZGabq6A1ez0sHNGfO8H-doNsINGEYxPXVbsBfcsq',\n",
       "   'summonerName': 'Bu Ceng Lai Guo',\n",
       "   'leaguePoints': 450,\n",
       "   'rank': 'I',\n",
       "   'wins': 149,\n",
       "   'losses': 129,\n",
       "   'veteran': False,\n",
       "   'inactive': False,\n",
       "   'freshBlood': True,\n",
       "   'hotStreak': True},\n",
       "  {'summonerId': 'qVyZas4bkrnr_KPUEAMtv60ShyvnHVfRBufVEMsi-nN0ASI',\n",
       "   'summonerName': 'lesterengee',\n",
       "   'leaguePoints': 627,\n",
       "   'rank': 'I',\n",
       "   'wins': 197,\n",
       "   'losses': 163,\n",
       "   'veteran': False,\n",
       "   'inactive': False,\n",
       "   'freshBlood': True,\n",
       "   'hotStreak': False},\n",
       "  {'summonerId': 'beZmZc3ij_IaDGQnvxKCsjUb9-FAHj0j2FUdgM9hVJQ-3LI',\n",
       "   'summonerName': 'Isaac Netero',\n",
       "   'leaguePoints': 567,\n",
       "   'rank': 'I',\n",
       "   'wins': 252,\n",
       "   'losses': 203,\n",
       "   'veteran': False,\n",
       "   'inactive': False,\n",
       "   'freshBlood': False,\n",
       "   'hotStreak': False},\n",
       "  {'summonerId': 'eBsblVB4wKy7klZ4mTzic_FMpH1kH2NDqq5tu9HL9ksIkm8',\n",
       "   'summonerName': 'BurntFrie',\n",
       "   'leaguePoints': 658,\n",
       "   'rank': 'I',\n",
       "   'wins': 249,\n",
       "   'losses': 204,\n",
       "   'veteran': False,\n",
       "   'inactive': False,\n",
       "   'freshBlood': False,\n",
       "   'hotStreak': True},\n",
       "  {'summonerId': 'Ba5Gj0q8DdQEjftW1T1SdSCBajiou7QncIEUcfZYBksNiaJl-dWbArL0qQ',\n",
       "   'summonerName': 'Rinze Morino',\n",
       "   'leaguePoints': 597,\n",
       "   'rank': 'I',\n",
       "   'wins': 175,\n",
       "   'losses': 133,\n",
       "   'veteran': False,\n",
       "   'inactive': False,\n",
       "   'freshBlood': False,\n",
       "   'hotStreak': False},\n",
       "  {'summonerId': 'OodSWMPFjHBzQKH8S_H27oU7Nl1PrfdSfdzw4nK2zHZe76H9824pgq2jkA',\n",
       "   'summonerName': 'Derations',\n",
       "   'leaguePoints': 554,\n",
       "   'rank': 'I',\n",
       "   'wins': 225,\n",
       "   'losses': 197,\n",
       "   'veteran': False,\n",
       "   'inactive': False,\n",
       "   'freshBlood': False,\n",
       "   'hotStreak': False},\n",
       "  {'summonerId': 'UbCQ_BoL7AbX9ViTn7M1m9MyrJi2_glh0C0WYMvH6r_4TTE',\n",
       "   'summonerName': 'Mango Nibbler',\n",
       "   'leaguePoints': 552,\n",
       "   'rank': 'I',\n",
       "   'wins': 190,\n",
       "   'losses': 146,\n",
       "   'veteran': False,\n",
       "   'inactive': False,\n",
       "   'freshBlood': False,\n",
       "   'hotStreak': False},\n",
       "  {'summonerId': 'ybiDsRfnsrOL1AGE-SOIVFn1blcajoBPCVfMvBQowYagZ6g',\n",
       "   'summonerName': 'TheMrPeanuts',\n",
       "   'leaguePoints': 588,\n",
       "   'rank': 'I',\n",
       "   'wins': 255,\n",
       "   'losses': 199,\n",
       "   'veteran': False,\n",
       "   'inactive': False,\n",
       "   'freshBlood': False,\n",
       "   'hotStreak': False},\n",
       "  {'summonerId': 'kWAsY9EJbWL_SlLTHZXa5jv_Woh62nqdQTL9WAMjLkmvypo',\n",
       "   'summonerName': 'Ratataouille1v9',\n",
       "   'leaguePoints': 461,\n",
       "   'rank': 'I',\n",
       "   'wins': 256,\n",
       "   'losses': 203,\n",
       "   'veteran': False,\n",
       "   'inactive': False,\n",
       "   'freshBlood': True,\n",
       "   'hotStreak': False},\n",
       "  {'summonerId': 'X7A7UdY1yJF1jfnJcNGuCX2DLexODSxHtBqAbn1KcEumnJjsnOhHrKJtQg',\n",
       "   'summonerName': 'seong3',\n",
       "   'leaguePoints': 527,\n",
       "   'rank': 'I',\n",
       "   'wins': 162,\n",
       "   'losses': 127,\n",
       "   'veteran': False,\n",
       "   'inactive': False,\n",
       "   'freshBlood': False,\n",
       "   'hotStreak': False},\n",
       "  {'summonerId': '3M1AX19zMBQsyCkoA5BsFc0OwhlBt7sy4CQw247wjf0u4y0',\n",
       "   'summonerName': 'Torageki',\n",
       "   'leaguePoints': 493,\n",
       "   'rank': 'I',\n",
       "   'wins': 442,\n",
       "   'losses': 417,\n",
       "   'veteran': False,\n",
       "   'inactive': False,\n",
       "   'freshBlood': False,\n",
       "   'hotStreak': True},\n",
       "  {'summonerId': 'BebjM7jWMFODa0cbfoMFwYzLYBhcyfc-mO7fnyLD1usQuM8',\n",
       "   'summonerName': 'Mr DoubleUOhEnJi',\n",
       "   'leaguePoints': 369,\n",
       "   'rank': 'I',\n",
       "   'wins': 186,\n",
       "   'losses': 155,\n",
       "   'veteran': False,\n",
       "   'inactive': False,\n",
       "   'freshBlood': True,\n",
       "   'hotStreak': False},\n",
       "  {'summonerId': 'kv7NweLDnnU8fx3YajyHY2CbLkF1ZEbtG7Y01QRa0vkwENk',\n",
       "   'summonerName': 'kayrub',\n",
       "   'leaguePoints': 652,\n",
       "   'rank': 'I',\n",
       "   'wins': 332,\n",
       "   'losses': 289,\n",
       "   'veteran': False,\n",
       "   'inactive': False,\n",
       "   'freshBlood': False,\n",
       "   'hotStreak': False},\n",
       "  {'summonerId': '1yHKVfBOhfZnA_8c5AB-NvNgNpeI45bn45V1J4FZ7VyGIC4mir3E--DMOg',\n",
       "   'summonerName': 'deexctft',\n",
       "   'leaguePoints': 469,\n",
       "   'rank': 'I',\n",
       "   'wins': 273,\n",
       "   'losses': 249,\n",
       "   'veteran': False,\n",
       "   'inactive': False,\n",
       "   'freshBlood': False,\n",
       "   'hotStreak': False},\n",
       "  {'summonerId': 'PyNew-iAqQ0Jjli-f2ZlMoHbb18fogoiGI83ZGbV4rGZROI',\n",
       "   'summonerName': 'TheRushingMan',\n",
       "   'leaguePoints': 496,\n",
       "   'rank': 'I',\n",
       "   'wins': 427,\n",
       "   'losses': 405,\n",
       "   'veteran': False,\n",
       "   'inactive': False,\n",
       "   'freshBlood': False,\n",
       "   'hotStreak': False},\n",
       "  {'summonerId': 'Dg8g21dfmr4wgifeckYbiTm1moQ_IHczlmFJMqvsEoYPfPs',\n",
       "   'summonerName': 'misssingg',\n",
       "   'leaguePoints': 681,\n",
       "   'rank': 'I',\n",
       "   'wins': 250,\n",
       "   'losses': 239,\n",
       "   'veteran': False,\n",
       "   'inactive': False,\n",
       "   'freshBlood': True,\n",
       "   'hotStreak': True},\n",
       "  {'summonerId': 'SYFt3ga3PHdc4PO3pnWxl9KVhCcAhf1MnW55BfcVNt-zbjU',\n",
       "   'summonerName': 'PookieBuns',\n",
       "   'leaguePoints': 387,\n",
       "   'rank': 'I',\n",
       "   'wins': 518,\n",
       "   'losses': 479,\n",
       "   'veteran': False,\n",
       "   'inactive': False,\n",
       "   'freshBlood': True,\n",
       "   'hotStreak': False},\n",
       "  {'summonerId': '0dwWwckfVagdfH1KMO3r06dqhbgT-MR24rFt8JWWG5M9x0E',\n",
       "   'summonerName': 'skunkywinn',\n",
       "   'leaguePoints': 467,\n",
       "   'rank': 'I',\n",
       "   'wins': 301,\n",
       "   'losses': 274,\n",
       "   'veteran': False,\n",
       "   'inactive': False,\n",
       "   'freshBlood': True,\n",
       "   'hotStreak': True},\n",
       "  {'summonerId': 'lZrJOTRvWc-hs2b0FyD3DhX3Pdtgj7brJ_jPtD3v-X99MAc',\n",
       "   'summonerName': 'Puss',\n",
       "   'leaguePoints': 533,\n",
       "   'rank': 'I',\n",
       "   'wins': 310,\n",
       "   'losses': 285,\n",
       "   'veteran': False,\n",
       "   'inactive': False,\n",
       "   'freshBlood': False,\n",
       "   'hotStreak': True},\n",
       "  {'summonerId': 'ZFLuwoKTunvFCifTJO8s1T2AKm1LEZ_6QGloAglQrMAlyNk8PDUbt54taA',\n",
       "   'summonerName': 'jehndexx',\n",
       "   'leaguePoints': 503,\n",
       "   'rank': 'I',\n",
       "   'wins': 361,\n",
       "   'losses': 303,\n",
       "   'veteran': False,\n",
       "   'inactive': False,\n",
       "   'freshBlood': False,\n",
       "   'hotStreak': False},\n",
       "  {'summonerId': '7McvrxDoN5FOr2ydFVX5pHlzuC8LXYceLI_z8ygvA4zPqWM',\n",
       "   'summonerName': 'Anx',\n",
       "   'leaguePoints': 371,\n",
       "   'rank': 'I',\n",
       "   'wins': 256,\n",
       "   'losses': 219,\n",
       "   'veteran': False,\n",
       "   'inactive': False,\n",
       "   'freshBlood': True,\n",
       "   'hotStreak': False},\n",
       "  {'summonerId': 'sxutN1WlWuBxx-bWmPzcesM25o4PNsk4VtFi07MQLAtG0fLZ',\n",
       "   'summonerName': 'Gabymar10',\n",
       "   'leaguePoints': 419,\n",
       "   'rank': 'I',\n",
       "   'wins': 122,\n",
       "   'losses': 83,\n",
       "   'veteran': False,\n",
       "   'inactive': False,\n",
       "   'freshBlood': True,\n",
       "   'hotStreak': False},\n",
       "  {'summonerId': 'vyvMrjR6s5A1EeiYJmyAJEu3VjZhgvNJ1LYP0Ci1kQ2ijMs',\n",
       "   'summonerName': 'KaenNoMai',\n",
       "   'leaguePoints': 403,\n",
       "   'rank': 'I',\n",
       "   'wins': 240,\n",
       "   'losses': 201,\n",
       "   'veteran': False,\n",
       "   'inactive': False,\n",
       "   'freshBlood': True,\n",
       "   'hotStreak': True},\n",
       "  {'summonerId': '2h2ReqF4ilIBEbv81hsCE-V1grIS4S497FqMMLKNa6upzZHT',\n",
       "   'summonerName': 'hyoon is cute',\n",
       "   'leaguePoints': 602,\n",
       "   'rank': 'I',\n",
       "   'wins': 112,\n",
       "   'losses': 85,\n",
       "   'veteran': False,\n",
       "   'inactive': False,\n",
       "   'freshBlood': False,\n",
       "   'hotStreak': False},\n",
       "  {'summonerId': '9NrlqG-6DS6QnyYLXxP9BrKyOOHiWxIrMMrgpcfSPBh8obIf',\n",
       "   'summonerName': 'Kings1ayer',\n",
       "   'leaguePoints': 425,\n",
       "   'rank': 'I',\n",
       "   'wins': 308,\n",
       "   'losses': 264,\n",
       "   'veteran': False,\n",
       "   'inactive': False,\n",
       "   'freshBlood': True,\n",
       "   'hotStreak': True},\n",
       "  {'summonerId': 'kcs1qBtGQurj4BPuIzqLREjj8IN4XBYpUodEgISyDSyo0prhqKvx77mAMA',\n",
       "   'summonerName': 'tipere22',\n",
       "   'leaguePoints': 529,\n",
       "   'rank': 'I',\n",
       "   'wins': 208,\n",
       "   'losses': 152,\n",
       "   'veteran': False,\n",
       "   'inactive': False,\n",
       "   'freshBlood': False,\n",
       "   'hotStreak': True},\n",
       "  {'summonerId': 'VNmnWX4f10iJ_w9l6LfNwFvXz2uJJP_PIYgo4VLoInm-W3k',\n",
       "   'summonerName': 'XeneasFyre',\n",
       "   'leaguePoints': 506,\n",
       "   'rank': 'I',\n",
       "   'wins': 228,\n",
       "   'losses': 185,\n",
       "   'veteran': False,\n",
       "   'inactive': False,\n",
       "   'freshBlood': False,\n",
       "   'hotStreak': False},\n",
       "  {'summonerId': 'TS_XFsvB4ZnUYWCZYRvpLKHUxvRMwzDpfaEr8nMbNB-tfXI',\n",
       "   'summonerName': 'Uziuziuziiii',\n",
       "   'leaguePoints': 429,\n",
       "   'rank': 'I',\n",
       "   'wins': 179,\n",
       "   'losses': 165,\n",
       "   'veteran': False,\n",
       "   'inactive': False,\n",
       "   'freshBlood': True,\n",
       "   'hotStreak': False},\n",
       "  {'summonerId': 'BcvaGbyOYPSthyxn8b8Dkvso4lyEBQpd4mTpC9xc6rGXoa8',\n",
       "   'summonerName': 'ConstantlyMaldin',\n",
       "   'leaguePoints': 516,\n",
       "   'rank': 'I',\n",
       "   'wins': 270,\n",
       "   'losses': 236,\n",
       "   'veteran': False,\n",
       "   'inactive': False,\n",
       "   'freshBlood': False,\n",
       "   'hotStreak': False},\n",
       "  {'summonerId': 'UnGwwtjKtE37IpRP_Oo1HZJASZhOTKwRV_XntyoTgWBVP13-Ae-JdNLNog',\n",
       "   'summonerName': '',\n",
       "   'leaguePoints': 416,\n",
       "   'rank': 'I',\n",
       "   'wins': 204,\n",
       "   'losses': 130,\n",
       "   'veteran': False,\n",
       "   'inactive': False,\n",
       "   'freshBlood': True,\n",
       "   'hotStreak': False},\n",
       "  {'summonerId': 'jxIvCZc_1YZRuhtlonjvX6FnuCZd9DOlYmmz7yq2I4chSiA',\n",
       "   'summonerName': 'LittleBlindMoose',\n",
       "   'leaguePoints': 483,\n",
       "   'rank': 'I',\n",
       "   'wins': 377,\n",
       "   'losses': 355,\n",
       "   'veteran': False,\n",
       "   'inactive': False,\n",
       "   'freshBlood': False,\n",
       "   'hotStreak': False},\n",
       "  {'summonerId': 'Fgz4eAj9Dprs7GxsXp0zzCvKdBvZpfabpWzxc9QgPB5jU4a4',\n",
       "   'summonerName': 'proustdreams',\n",
       "   'leaguePoints': 534,\n",
       "   'rank': 'I',\n",
       "   'wins': 307,\n",
       "   'losses': 276,\n",
       "   'veteran': False,\n",
       "   'inactive': False,\n",
       "   'freshBlood': True,\n",
       "   'hotStreak': False},\n",
       "  {'summonerId': '1Xsh44Mh5imBC5KYnitX5Y78_rAMjDvkDWomzuz_uBBZhzIz',\n",
       "   'summonerName': 'bbug23',\n",
       "   'leaguePoints': 367,\n",
       "   'rank': 'I',\n",
       "   'wins': 326,\n",
       "   'losses': 295,\n",
       "   'veteran': False,\n",
       "   'inactive': False,\n",
       "   'freshBlood': True,\n",
       "   'hotStreak': False},\n",
       "  {'summonerId': 'kq11dWnbA2AozBDGw4uDWCaS98dZV4upWegIX4cnpFE2XTdNLsF4_E9zzg',\n",
       "   'summonerName': 'insomniacati',\n",
       "   'leaguePoints': 656,\n",
       "   'rank': 'I',\n",
       "   'wins': 121,\n",
       "   'losses': 83,\n",
       "   'veteran': False,\n",
       "   'inactive': False,\n",
       "   'freshBlood': False,\n",
       "   'hotStreak': False},\n",
       "  {'summonerId': 'Nr-To4iQmCGEduEr974sFQ39UTk1Ym__zdDkHka63ROJHRKoRDDRuRkNLg',\n",
       "   'summonerName': 'twitch catbobogo',\n",
       "   'leaguePoints': 460,\n",
       "   'rank': 'I',\n",
       "   'wins': 170,\n",
       "   'losses': 142,\n",
       "   'veteran': False,\n",
       "   'inactive': False,\n",
       "   'freshBlood': True,\n",
       "   'hotStreak': False},\n",
       "  {'summonerId': '6CfrU8xv_dFOc7PcnNcm7hOLsLZ7k8LeOF2MvzG3teFVp6I',\n",
       "   'summonerName': 'HoneyTurkey',\n",
       "   'leaguePoints': 541,\n",
       "   'rank': 'I',\n",
       "   'wins': 438,\n",
       "   'losses': 405,\n",
       "   'veteran': False,\n",
       "   'inactive': False,\n",
       "   'freshBlood': False,\n",
       "   'hotStreak': False},\n",
       "  {'summonerId': 'DMBO_UkRZE2qTHhHziKucanaq6UqdFQhgaRfM9_SDzblSnw',\n",
       "   'summonerName': 'The Gandalf Fan',\n",
       "   'leaguePoints': 471,\n",
       "   'rank': 'I',\n",
       "   'wins': 169,\n",
       "   'losses': 113,\n",
       "   'veteran': False,\n",
       "   'inactive': False,\n",
       "   'freshBlood': False,\n",
       "   'hotStreak': False},\n",
       "  {'summonerId': 'j-ShamrVggKmWhPJ27BlocxKVvUmJkW4HVLHUWtSCxmk82k',\n",
       "   'summonerName': 'gr0dy',\n",
       "   'leaguePoints': 360,\n",
       "   'rank': 'I',\n",
       "   'wins': 298,\n",
       "   'losses': 262,\n",
       "   'veteran': False,\n",
       "   'inactive': False,\n",
       "   'freshBlood': True,\n",
       "   'hotStreak': False},\n",
       "  {'summonerId': 'hybpAoOaowkcf8C0mhGp69GDMh-FUTc9SnNvT3nn3SNP0xM',\n",
       "   'summonerName': 'gud nubz',\n",
       "   'leaguePoints': 420,\n",
       "   'rank': 'I',\n",
       "   'wins': 171,\n",
       "   'losses': 153,\n",
       "   'veteran': False,\n",
       "   'inactive': False,\n",
       "   'freshBlood': True,\n",
       "   'hotStreak': False},\n",
       "  {'summonerId': 'wXFYG38_VQBYoW8hee5_LO7Ad_VDdPX7EH8by0PhUjcSh_M',\n",
       "   'summonerName': '',\n",
       "   'leaguePoints': 542,\n",
       "   'rank': 'I',\n",
       "   'wins': 278,\n",
       "   'losses': 245,\n",
       "   'veteran': True,\n",
       "   'inactive': False,\n",
       "   'freshBlood': False,\n",
       "   'hotStreak': False},\n",
       "  {'summonerId': 'gs_-ZbF_UgG9u3dJ2hkN16ILenU45GnmdoiAeHi2YXQYETXklkMDuNWe1Q',\n",
       "   'summonerName': 'pasuterie',\n",
       "   'leaguePoints': 481,\n",
       "   'rank': 'I',\n",
       "   'wins': 379,\n",
       "   'losses': 330,\n",
       "   'veteran': False,\n",
       "   'inactive': False,\n",
       "   'freshBlood': False,\n",
       "   'hotStreak': False},\n",
       "  {'summonerId': 'e_ZnFkbJ-h3Ytcmj2IGwpgLmPQolIjGDOxkqSB0JdygABsY',\n",
       "   'summonerName': 'DesertFox',\n",
       "   'leaguePoints': 578,\n",
       "   'rank': 'I',\n",
       "   'wins': 250,\n",
       "   'losses': 212,\n",
       "   'veteran': False,\n",
       "   'inactive': False,\n",
       "   'freshBlood': False,\n",
       "   'hotStreak': False},\n",
       "  {'summonerId': 'gPooDPjLf8_ylBVWoPJmXojo5WhnWn7VOmjOKwBgOvsn_X5Jbn5jwoQPcw',\n",
       "   'summonerName': '',\n",
       "   'leaguePoints': 534,\n",
       "   'rank': 'I',\n",
       "   'wins': 88,\n",
       "   'losses': 50,\n",
       "   'veteran': False,\n",
       "   'inactive': False,\n",
       "   'freshBlood': True,\n",
       "   'hotStreak': False},\n",
       "  {'summonerId': 'NAvwH02kkaHoGse4g4w7aciXVHjpFNVMkAtBJvrlFxPzAUlo',\n",
       "   'summonerName': 'Yardang',\n",
       "   'leaguePoints': 408,\n",
       "   'rank': 'I',\n",
       "   'wins': 366,\n",
       "   'losses': 337,\n",
       "   'veteran': False,\n",
       "   'inactive': False,\n",
       "   'freshBlood': True,\n",
       "   'hotStreak': False},\n",
       "  {'summonerId': 'hR_oPNK6qoRE8-7nAb10I7q-r038EtYsHjqRfRMCg7-R5-w',\n",
       "   'summonerName': 'Asha Yunie',\n",
       "   'leaguePoints': 589,\n",
       "   'rank': 'I',\n",
       "   'wins': 211,\n",
       "   'losses': 171,\n",
       "   'veteran': False,\n",
       "   'inactive': False,\n",
       "   'freshBlood': False,\n",
       "   'hotStreak': False},\n",
       "  {'summonerId': '-Mshs7kLEbJwGDdMIXHTfWcszxfnweODRQPn63twhtz0Mh0',\n",
       "   'summonerName': 'Nethea',\n",
       "   'leaguePoints': 390,\n",
       "   'rank': 'I',\n",
       "   'wins': 110,\n",
       "   'losses': 87,\n",
       "   'veteran': False,\n",
       "   'inactive': False,\n",
       "   'freshBlood': False,\n",
       "   'hotStreak': False},\n",
       "  {'summonerId': 'ilEABnJ3iaTeP3pQtsE4MlpsZ2LNAzbpJQNMc04lUh0Ay-U',\n",
       "   'summonerName': 'JomeSnow19',\n",
       "   'leaguePoints': 425,\n",
       "   'rank': 'I',\n",
       "   'wins': 296,\n",
       "   'losses': 269,\n",
       "   'veteran': False,\n",
       "   'inactive': False,\n",
       "   'freshBlood': True,\n",
       "   'hotStreak': True},\n",
       "  {'summonerId': 'xv5pn3JWy5XWSwDz-o02P1nA_gACA4o3A24FnXFY6EzGPNE',\n",
       "   'summonerName': 'FredYuanme',\n",
       "   'leaguePoints': 530,\n",
       "   'rank': 'I',\n",
       "   'wins': 400,\n",
       "   'losses': 375,\n",
       "   'veteran': False,\n",
       "   'inactive': False,\n",
       "   'freshBlood': True,\n",
       "   'hotStreak': True},\n",
       "  {'summonerId': 'Z-89KAQyNOZinYOH3cHZFiLUS1T5FWH0NLYqTcBB5NoEJsQ',\n",
       "   'summonerName': 'saku j',\n",
       "   'leaguePoints': 475,\n",
       "   'rank': 'I',\n",
       "   'wins': 344,\n",
       "   'losses': 332,\n",
       "   'veteran': False,\n",
       "   'inactive': False,\n",
       "   'freshBlood': False,\n",
       "   'hotStreak': False},\n",
       "  {'summonerId': 'ewC4jOvCqFI5ycCk3TVlKjqwvIjQNGighoHzSFt1wJMQqdA',\n",
       "   'summonerName': 'branmuffin119',\n",
       "   'leaguePoints': 511,\n",
       "   'rank': 'I',\n",
       "   'wins': 292,\n",
       "   'losses': 256,\n",
       "   'veteran': False,\n",
       "   'inactive': False,\n",
       "   'freshBlood': True,\n",
       "   'hotStreak': False},\n",
       "  {'summonerId': 'itXQirb2d0H7hHwIPFHrF4WIbzI56cSyFwzeH-52KyAOjQ8',\n",
       "   'summonerName': 'DhampirGG',\n",
       "   'leaguePoints': 349,\n",
       "   'rank': 'I',\n",
       "   'wins': 201,\n",
       "   'losses': 179,\n",
       "   'veteran': False,\n",
       "   'inactive': False,\n",
       "   'freshBlood': True,\n",
       "   'hotStreak': False},\n",
       "  {'summonerId': 'pdCx5wnmO9fQomVsKk_4ypvUDRxfcAPY-sUuKpab7HhySRg',\n",
       "   'summonerName': 'Captain Ryce',\n",
       "   'leaguePoints': 350,\n",
       "   'rank': 'I',\n",
       "   'wins': 301,\n",
       "   'losses': 257,\n",
       "   'veteran': False,\n",
       "   'inactive': False,\n",
       "   'freshBlood': True,\n",
       "   'hotStreak': True},\n",
       "  {'summonerId': 'kOgn5cLavRkmY-FzpNdev4Eaf9VeFK-zhbRAeJyYLowR2Os',\n",
       "   'summonerName': 'shademaster',\n",
       "   'leaguePoints': 445,\n",
       "   'rank': 'I',\n",
       "   'wins': 313,\n",
       "   'losses': 287,\n",
       "   'veteran': False,\n",
       "   'inactive': False,\n",
       "   'freshBlood': True,\n",
       "   'hotStreak': False},\n",
       "  {'summonerId': 'nruXSAgA9HKbXvLVX0XuMKumfi7TxJw5O_QsZubb80TgJFS3nlhI__FE1Q',\n",
       "   'summonerName': 'NotGlassss',\n",
       "   'leaguePoints': 526,\n",
       "   'rank': 'I',\n",
       "   'wins': 128,\n",
       "   'losses': 92,\n",
       "   'veteran': False,\n",
       "   'inactive': False,\n",
       "   'freshBlood': False,\n",
       "   'hotStreak': False},\n",
       "  {'summonerId': 'FZ6SWj-W-BQpcc8oHV74T2dWK_Si-OuqJ4yryUeKUmdi8jw',\n",
       "   'summonerName': 'wang the bang',\n",
       "   'leaguePoints': 408,\n",
       "   'rank': 'I',\n",
       "   'wins': 181,\n",
       "   'losses': 156,\n",
       "   'veteran': False,\n",
       "   'inactive': False,\n",
       "   'freshBlood': False,\n",
       "   'hotStreak': False},\n",
       "  {'summonerId': 'JXugs7QCzt0Va-zSIUxg6phmoKYsFVFnAWOe7Ty1odXXoac',\n",
       "   'summonerName': 'Minoi',\n",
       "   'leaguePoints': 437,\n",
       "   'rank': 'I',\n",
       "   'wins': 393,\n",
       "   'losses': 374,\n",
       "   'veteran': False,\n",
       "   'inactive': False,\n",
       "   'freshBlood': True,\n",
       "   'hotStreak': True},\n",
       "  {'summonerId': 's_xr_pV4OvJnp6iSK-Ai_UQFCn1l-Qd6zc9yBfCCvwD87GNrPT_ZKq9BZg',\n",
       "   'summonerName': 'D1g1t0x',\n",
       "   'leaguePoints': 553,\n",
       "   'rank': 'I',\n",
       "   'wins': 141,\n",
       "   'losses': 97,\n",
       "   'veteran': False,\n",
       "   'inactive': False,\n",
       "   'freshBlood': False,\n",
       "   'hotStreak': False},\n",
       "  {'summonerId': 'N3Ppp1xKGDV7O_ipBaVtdMeP5bDKNWXZbRIkAVBjwWJHDXbboIowfaBbAw',\n",
       "   'summonerName': 'voldsky',\n",
       "   'leaguePoints': 399,\n",
       "   'rank': 'I',\n",
       "   'wins': 114,\n",
       "   'losses': 71,\n",
       "   'veteran': False,\n",
       "   'inactive': False,\n",
       "   'freshBlood': True,\n",
       "   'hotStreak': False},\n",
       "  {'summonerId': 'GWdJ4R7Q1LdCH_GDszpAQVrmALUW8nr4b5Liae8CdUI7P-g',\n",
       "   'summonerName': 'Usualtrash',\n",
       "   'leaguePoints': 475,\n",
       "   'rank': 'I',\n",
       "   'wins': 233,\n",
       "   'losses': 200,\n",
       "   'veteran': False,\n",
       "   'inactive': False,\n",
       "   'freshBlood': False,\n",
       "   'hotStreak': True},\n",
       "  {'summonerId': 'yYyvBmJUXBSW4ynNyNzkyhOphLlDPwtZGCvu0ZMLou6Garg',\n",
       "   'summonerName': 'taskforce222',\n",
       "   'leaguePoints': 520,\n",
       "   'rank': 'I',\n",
       "   'wins': 257,\n",
       "   'losses': 225,\n",
       "   'veteran': False,\n",
       "   'inactive': False,\n",
       "   'freshBlood': False,\n",
       "   'hotStreak': False},\n",
       "  {'summonerId': 'SPGTnQS8yoMPzIpp3sWj3wg24seFr6oyfwgVRbqe2ACWHOs',\n",
       "   'summonerName': 'TheVincent',\n",
       "   'leaguePoints': 465,\n",
       "   'rank': 'I',\n",
       "   'wins': 302,\n",
       "   'losses': 242,\n",
       "   'veteran': False,\n",
       "   'inactive': False,\n",
       "   'freshBlood': False,\n",
       "   'hotStreak': False},\n",
       "  {'summonerId': 'PKWpvBaG1fgMNR7q-jv41GN4GDtis4udPhlPAWlCX-z28J0',\n",
       "   'summonerName': 'IlIus10n',\n",
       "   'leaguePoints': 344,\n",
       "   'rank': 'I',\n",
       "   'wins': 266,\n",
       "   'losses': 252,\n",
       "   'veteran': False,\n",
       "   'inactive': False,\n",
       "   'freshBlood': True,\n",
       "   'hotStreak': False},\n",
       "  {'summonerId': 'GVa6BHDCee5kxhRHT7iQWOF3bpMC68BVsTQ0i-l_Mr2TuGEQ',\n",
       "   'summonerName': 'SuperSoyajin',\n",
       "   'leaguePoints': 639,\n",
       "   'rank': 'I',\n",
       "   'wins': 240,\n",
       "   'losses': 207,\n",
       "   'veteran': False,\n",
       "   'inactive': False,\n",
       "   'freshBlood': False,\n",
       "   'hotStreak': False},\n",
       "  {'summonerId': 'x3bhgPuONZEcZ0wWQxZqKsEOEU_2abFIEFVhfW3cOJYQ0WnHX_WG1exRUw',\n",
       "   'summonerName': 'I go 9th for LP',\n",
       "   'leaguePoints': 566,\n",
       "   'rank': 'I',\n",
       "   'wins': 222,\n",
       "   'losses': 194,\n",
       "   'veteran': False,\n",
       "   'inactive': False,\n",
       "   'freshBlood': False,\n",
       "   'hotStreak': False},\n",
       "  {'summonerId': 'YwKPto7tnPLTLU1RqTuwrRteIrvPtbQ7jfbcN9fyz24heCXW',\n",
       "   'summonerName': 'Yaritza',\n",
       "   'leaguePoints': 512,\n",
       "   'rank': 'I',\n",
       "   'wins': 157,\n",
       "   'losses': 125,\n",
       "   'veteran': False,\n",
       "   'inactive': False,\n",
       "   'freshBlood': False,\n",
       "   'hotStreak': False},\n",
       "  {'summonerId': 'Cq_MvbroThDePYlWJJo2BlybALLqfXfJaHL3Dtl_rXEe4oY',\n",
       "   'summonerName': 'Jake Ree',\n",
       "   'leaguePoints': 507,\n",
       "   'rank': 'I',\n",
       "   'wins': 225,\n",
       "   'losses': 167,\n",
       "   'veteran': False,\n",
       "   'inactive': False,\n",
       "   'freshBlood': False,\n",
       "   'hotStreak': True},\n",
       "  {'summonerId': 'rH_YVvAPm1aPrEdNQM49CEzkch1_NKhDrhgWoOu4tgMQby8',\n",
       "   'summonerName': 'Kayhan',\n",
       "   'leaguePoints': 449,\n",
       "   'rank': 'I',\n",
       "   'wins': 247,\n",
       "   'losses': 217,\n",
       "   'veteran': False,\n",
       "   'inactive': False,\n",
       "   'freshBlood': False,\n",
       "   'hotStreak': False},\n",
       "  {'summonerId': 'B5gVXA4hnCC2ZkUPFwoF40cDfBoxkzBA_EwRZkhUM3lL3kM',\n",
       "   'summonerName': 'J is watching',\n",
       "   'leaguePoints': 439,\n",
       "   'rank': 'I',\n",
       "   'wins': 362,\n",
       "   'losses': 345,\n",
       "   'veteran': False,\n",
       "   'inactive': False,\n",
       "   'freshBlood': False,\n",
       "   'hotStreak': False},\n",
       "  {'summonerId': 'suOm7teUPmxisDmUJIBaeT3wkEnEYui7HQAJKRGhj4oOUC4',\n",
       "   'summonerName': 'Yoüsef',\n",
       "   'leaguePoints': 378,\n",
       "   'rank': 'I',\n",
       "   'wins': 468,\n",
       "   'losses': 438,\n",
       "   'veteran': False,\n",
       "   'inactive': False,\n",
       "   'freshBlood': False,\n",
       "   'hotStreak': False},\n",
       "  {'summonerId': 'I6yN0Rz6T2cURyeQ5z4p25EH7V8PmsC0iENhZ6s7Q0rnKUg',\n",
       "   'summonerName': 'Daon',\n",
       "   'leaguePoints': 468,\n",
       "   'rank': 'I',\n",
       "   'wins': 535,\n",
       "   'losses': 506,\n",
       "   'veteran': False,\n",
       "   'inactive': False,\n",
       "   'freshBlood': False,\n",
       "   'hotStreak': True},\n",
       "  {'summonerId': 'x_eOd3Zj4_nehuyfdJGHFETpW8BG1EuNlwaaM9ZY8vsuPYY',\n",
       "   'summonerName': 'GLAD 999',\n",
       "   'leaguePoints': 392,\n",
       "   'rank': 'I',\n",
       "   'wins': 333,\n",
       "   'losses': 309,\n",
       "   'veteran': False,\n",
       "   'inactive': False,\n",
       "   'freshBlood': True,\n",
       "   'hotStreak': False},\n",
       "  {'summonerId': '8tnFZSlJbJ8X8ZjBRA0XgX6vsm7H0LcQeYUG5oJiwlpAr1U-',\n",
       "   'summonerName': 'bmoy',\n",
       "   'leaguePoints': 449,\n",
       "   'rank': 'I',\n",
       "   'wins': 359,\n",
       "   'losses': 312,\n",
       "   'veteran': False,\n",
       "   'inactive': False,\n",
       "   'freshBlood': False,\n",
       "   'hotStreak': False},\n",
       "  {'summonerId': 'sdj2B_V4MnJjNFWWiM8vHh1oGLAjBvPY2Ow--mqKz1SDmWCzMm-hleKneg',\n",
       "   'summonerName': 'SofmLeviDNK',\n",
       "   'leaguePoints': 444,\n",
       "   'rank': 'I',\n",
       "   'wins': 203,\n",
       "   'losses': 172,\n",
       "   'veteran': False,\n",
       "   'inactive': False,\n",
       "   'freshBlood': True,\n",
       "   'hotStreak': False},\n",
       "  {'summonerId': '4HCW4RImO_aZc4GZW8LQBQlsMhaEGheppjLW-UOVLz2rL_Jy',\n",
       "   'summonerName': 'Pendoof',\n",
       "   'leaguePoints': 385,\n",
       "   'rank': 'I',\n",
       "   'wins': 220,\n",
       "   'losses': 187,\n",
       "   'veteran': False,\n",
       "   'inactive': False,\n",
       "   'freshBlood': True,\n",
       "   'hotStreak': False},\n",
       "  {'summonerId': 'wZr8E_rXNTwLEk4jtQTHLWrJEfiKouZqe0MIyQBY7Ydvj2A',\n",
       "   'summonerName': 'TSphere',\n",
       "   'leaguePoints': 361,\n",
       "   'rank': 'I',\n",
       "   'wins': 282,\n",
       "   'losses': 262,\n",
       "   'veteran': False,\n",
       "   'inactive': False,\n",
       "   'freshBlood': False,\n",
       "   'hotStreak': False},\n",
       "  {'summonerId': 'UwxkdpNb_aBRG6QbLOF_3PAP-abBWYgw6uLdHyifH_jliYt9H78yv6Li4w',\n",
       "   'summonerName': 'Itsvo',\n",
       "   'leaguePoints': 573,\n",
       "   'rank': 'I',\n",
       "   'wins': 632,\n",
       "   'losses': 648,\n",
       "   'veteran': False,\n",
       "   'inactive': False,\n",
       "   'freshBlood': True,\n",
       "   'hotStreak': False},\n",
       "  {'summonerId': 'snFTS7HlKhhfZ_ZEMfJHN9e2aolHB0NoHiNcDkPVr187HdB4iHaA7XIXsQ',\n",
       "   'summonerName': 'YT Mamba TFT',\n",
       "   'leaguePoints': 367,\n",
       "   'rank': 'I',\n",
       "   'wins': 379,\n",
       "   'losses': 350,\n",
       "   'veteran': False,\n",
       "   'inactive': False,\n",
       "   'freshBlood': True,\n",
       "   'hotStreak': False},\n",
       "  {'summonerId': 'JcqrAVhXEkG69zV9Ba8jnidqv8KwJAL90x1l9pvFpUlwW24',\n",
       "   'summonerName': 'Ayy Rick',\n",
       "   'leaguePoints': 463,\n",
       "   'rank': 'I',\n",
       "   'wins': 256,\n",
       "   'losses': 241,\n",
       "   'veteran': True,\n",
       "   'inactive': False,\n",
       "   'freshBlood': False,\n",
       "   'hotStreak': False},\n",
       "  {'summonerId': 'mxUo0D4NceKMPd2cXIJZP2OVevOj4VGb2x3iT_jVEghSpQ_2',\n",
       "   'summonerName': 'DrJarrodMD',\n",
       "   'leaguePoints': 371,\n",
       "   'rank': 'I',\n",
       "   'wins': 171,\n",
       "   'losses': 139,\n",
       "   'veteran': False,\n",
       "   'inactive': False,\n",
       "   'freshBlood': True,\n",
       "   'hotStreak': False},\n",
       "  {'summonerId': 'Zf6KQy0P58YKALYWL2-pN2rvYZXqhsS4X4Lk-j2ZSrIjtGc',\n",
       "   'summonerName': 'grn bublz',\n",
       "   'leaguePoints': 675,\n",
       "   'rank': 'I',\n",
       "   'wins': 270,\n",
       "   'losses': 249,\n",
       "   'veteran': False,\n",
       "   'inactive': False,\n",
       "   'freshBlood': True,\n",
       "   'hotStreak': False},\n",
       "  {'summonerId': 'DUURqn4pNbzfosE8mUjvAK0BPWJAREQeToAFPDgH8u77ahTPEK8GyC3_KA',\n",
       "   'summonerName': 'HKERTFT',\n",
       "   'leaguePoints': 631,\n",
       "   'rank': 'I',\n",
       "   'wins': 446,\n",
       "   'losses': 411,\n",
       "   'veteran': False,\n",
       "   'inactive': False,\n",
       "   'freshBlood': True,\n",
       "   'hotStreak': False},\n",
       "  {'summonerId': 'Ol_MxPpcAQtMVx63S7oF5sQ6Ti_WYWPtl9QrybOZJLLurWs',\n",
       "   'summonerName': 'Sploke',\n",
       "   'leaguePoints': 427,\n",
       "   'rank': 'I',\n",
       "   'wins': 193,\n",
       "   'losses': 155,\n",
       "   'veteran': False,\n",
       "   'inactive': False,\n",
       "   'freshBlood': True,\n",
       "   'hotStreak': False},\n",
       "  {'summonerId': '_ihsFCo30cKeAVbob0dxu_bpJMT-xSK8F4G6urYtNhlv_zI',\n",
       "   'summonerName': 'Helianthus',\n",
       "   'leaguePoints': 538,\n",
       "   'rank': 'I',\n",
       "   'wins': 102,\n",
       "   'losses': 82,\n",
       "   'veteran': False,\n",
       "   'inactive': False,\n",
       "   'freshBlood': False,\n",
       "   'hotStreak': False},\n",
       "  {'summonerId': '8CT9WnC5g8ohNOS-qtgRLSPp4az4YcUXJW_XcLYsTsOmWy2am1WZTF3cTA',\n",
       "   'summonerName': 'Jasensational',\n",
       "   'leaguePoints': 434,\n",
       "   'rank': 'I',\n",
       "   'wins': 265,\n",
       "   'losses': 227,\n",
       "   'veteran': False,\n",
       "   'inactive': False,\n",
       "   'freshBlood': False,\n",
       "   'hotStreak': False},\n",
       "  {'summonerId': 'U8N-czUCwvg0HYF9wt9HkqXG6-DA6IlgkHEkm3mEkwKttLzqmB9OBFIX-Q',\n",
       "   'summonerName': 'LeoTheGreat',\n",
       "   'leaguePoints': 546,\n",
       "   'rank': 'I',\n",
       "   'wins': 482,\n",
       "   'losses': 360,\n",
       "   'veteran': False,\n",
       "   'inactive': False,\n",
       "   'freshBlood': True,\n",
       "   'hotStreak': False},\n",
       "  {'summonerId': 'zjkaxjiYZ5keFofKy8r6vJJ5E5r6U-pQKfz82VIoYKJKfo0',\n",
       "   'summonerName': 'cloudzxl777',\n",
       "   'leaguePoints': 476,\n",
       "   'rank': 'I',\n",
       "   'wins': 266,\n",
       "   'losses': 230,\n",
       "   'veteran': False,\n",
       "   'inactive': False,\n",
       "   'freshBlood': False,\n",
       "   'hotStreak': False},\n",
       "  {'summonerId': '_YVlHCYDBoKr2qYWjJyRoJX4YM3CqQAadZTrjNw0MydQWa5w',\n",
       "   'summonerName': 'showoff134',\n",
       "   'leaguePoints': 399,\n",
       "   'rank': 'I',\n",
       "   'wins': 168,\n",
       "   'losses': 118,\n",
       "   'veteran': False,\n",
       "   'inactive': False,\n",
       "   'freshBlood': True,\n",
       "   'hotStreak': False},\n",
       "  {'summonerId': 'r84iUBjoNnb3O5-aGYsuvNFNjJX3XfBH8i8Oy7vxE-JzEZFn5V8Zdna44A',\n",
       "   'summonerName': 'waterboy34',\n",
       "   'leaguePoints': 579,\n",
       "   'rank': 'I',\n",
       "   'wins': 182,\n",
       "   'losses': 147,\n",
       "   'veteran': False,\n",
       "   'inactive': False,\n",
       "   'freshBlood': False,\n",
       "   'hotStreak': False},\n",
       "  {'summonerId': 'NVMneIdvOBRBqINY9VGY8GIn2M0XlIFrTsykIWgS24aIGTpZYSTb4GAvtQ',\n",
       "   'summonerName': 'wii wii woo',\n",
       "   'leaguePoints': 423,\n",
       "   'rank': 'I',\n",
       "   'wins': 108,\n",
       "   'losses': 81,\n",
       "   'veteran': False,\n",
       "   'inactive': False,\n",
       "   'freshBlood': True,\n",
       "   'hotStreak': False},\n",
       "  {'summonerId': '4yWVPi6frY5kRhoXb8eu-QTQtFxG_4Ravrfd5ZiP-YhkJuQ',\n",
       "   'summonerName': 'The Big Whale',\n",
       "   'leaguePoints': 479,\n",
       "   'rank': 'I',\n",
       "   'wins': 207,\n",
       "   'losses': 171,\n",
       "   'veteran': False,\n",
       "   'inactive': False,\n",
       "   'freshBlood': False,\n",
       "   'hotStreak': False},\n",
       "  {'summonerId': '50IBc1uePgDBN3qARFHhwUD9pt5uijbiTy8Nj9PMFglY5HDZQa_ZH8QkJA',\n",
       "   'summonerName': 'Atesgety',\n",
       "   'leaguePoints': 376,\n",
       "   'rank': 'I',\n",
       "   'wins': 378,\n",
       "   'losses': 353,\n",
       "   'veteran': False,\n",
       "   'inactive': False,\n",
       "   'freshBlood': True,\n",
       "   'hotStreak': False},\n",
       "  {'summonerId': 'y6NHDHr2XpezWViSVdRDMhD9JaQOBcNisG1B0wO_puclgbS6',\n",
       "   'summonerName': 'Vae',\n",
       "   'leaguePoints': 423,\n",
       "   'rank': 'I',\n",
       "   'wins': 80,\n",
       "   'losses': 53,\n",
       "   'veteran': False,\n",
       "   'inactive': False,\n",
       "   'freshBlood': True,\n",
       "   'hotStreak': True},\n",
       "  {'summonerId': 'FAo3ZlFYno3cy5cGQRQAGmWRN0biXkto6e6y_eDxjBtFSBY',\n",
       "   'summonerName': 'Sirturtlelot',\n",
       "   'leaguePoints': 495,\n",
       "   'rank': 'I',\n",
       "   'wins': 381,\n",
       "   'losses': 338,\n",
       "   'veteran': False,\n",
       "   'inactive': False,\n",
       "   'freshBlood': False,\n",
       "   'hotStreak': False},\n",
       "  {'summonerId': 'fur68Oi1iIdm1zcpCbaGsc81LTpnwlqhTfcUiI-EVrttuME',\n",
       "   'summonerName': 'FNC Gumayusi',\n",
       "   'leaguePoints': 409,\n",
       "   'rank': 'I',\n",
       "   'wins': 175,\n",
       "   'losses': 145,\n",
       "   'veteran': False,\n",
       "   'inactive': False,\n",
       "   'freshBlood': True,\n",
       "   'hotStreak': False},\n",
       "  {'summonerId': 'vZqdZAe1gGs7L5K0ZGq8glwtfyVA2TIWQrZCIIlIZVEC5r0',\n",
       "   'summonerName': 'Cryogenic Monke',\n",
       "   'leaguePoints': 365,\n",
       "   'rank': 'I',\n",
       "   'wins': 103,\n",
       "   'losses': 63,\n",
       "   'veteran': False,\n",
       "   'inactive': False,\n",
       "   'freshBlood': True,\n",
       "   'hotStreak': False},\n",
       "  {'summonerId': 'FoHY7WXMjht-jwYW0df4ACiFRM5zUtpX5aUswgV6Gsrt980',\n",
       "   'summonerName': 'Nimbłe',\n",
       "   'leaguePoints': 464,\n",
       "   'rank': 'I',\n",
       "   'wins': 182,\n",
       "   'losses': 133,\n",
       "   'veteran': False,\n",
       "   'inactive': False,\n",
       "   'freshBlood': False,\n",
       "   'hotStreak': True},\n",
       "  {'summonerId': 'WJUIlUWBYspeqnnECGDfhLxFj3iL7sXAlu6KYPZ0i5EARu4',\n",
       "   'summonerName': 'Personified',\n",
       "   'leaguePoints': 438,\n",
       "   'rank': 'I',\n",
       "   'wins': 140,\n",
       "   'losses': 108,\n",
       "   'veteran': False,\n",
       "   'inactive': False,\n",
       "   'freshBlood': False,\n",
       "   'hotStreak': False},\n",
       "  {'summonerId': '4hblGijNXZH-gvQfv8IU39WasCM9Cob75cte-lQZc3PX-dXQ0ySOhJUSMA',\n",
       "   'summonerName': 'ilo ilo',\n",
       "   'leaguePoints': 591,\n",
       "   'rank': 'I',\n",
       "   'wins': 443,\n",
       "   'losses': 388,\n",
       "   'veteran': False,\n",
       "   'inactive': False,\n",
       "   'freshBlood': False,\n",
       "   'hotStreak': False},\n",
       "  {'summonerId': '0-GvsdmzPbOXi-yc2WtjwTNSzeDpvoQsvPAF9Jh6aXlKqsA',\n",
       "   'summonerName': 'k24dizzle',\n",
       "   'leaguePoints': 438,\n",
       "   'rank': 'I',\n",
       "   'wins': 154,\n",
       "   'losses': 115,\n",
       "   'veteran': False,\n",
       "   'inactive': False,\n",
       "   'freshBlood': True,\n",
       "   'hotStreak': False},\n",
       "  {'summonerId': 'Fo5PNGn5JHj7xI22ZZRvkDexpMESkVvU9zML3MjBu-kpjPCAEe4xgGjuYQ',\n",
       "   'summonerName': 'NiihiI',\n",
       "   'leaguePoints': 361,\n",
       "   'rank': 'I',\n",
       "   'wins': 155,\n",
       "   'losses': 107,\n",
       "   'veteran': True,\n",
       "   'inactive': False,\n",
       "   'freshBlood': False,\n",
       "   'hotStreak': False},\n",
       "  {'summonerId': 'l50giFiF8jiafIHi-qLfcVDEELzuWdqAUZ_2sUTmdkpIH9g',\n",
       "   'summonerName': 'Sheli',\n",
       "   'leaguePoints': 428,\n",
       "   'rank': 'I',\n",
       "   'wins': 237,\n",
       "   'losses': 207,\n",
       "   'veteran': False,\n",
       "   'inactive': False,\n",
       "   'freshBlood': False,\n",
       "   'hotStreak': False},\n",
       "  {'summonerId': 'DpQD8ytt-40N87PJsBExUr65TqXTQ0Jbcgv7zJQlUR861Y4',\n",
       "   'summonerName': 'Rising Phoenix75',\n",
       "   'leaguePoints': 586,\n",
       "   'rank': 'I',\n",
       "   'wins': 398,\n",
       "   'losses': 308,\n",
       "   'veteran': False,\n",
       "   'inactive': False,\n",
       "   'freshBlood': False,\n",
       "   'hotStreak': False},\n",
       "  {'summonerId': 'qxh1IE1A3LMZxGQT0EFUFY3BLZm9I9M3ttcDaSU57_4qiyw',\n",
       "   'summonerName': 'Béaster',\n",
       "   'leaguePoints': 509,\n",
       "   'rank': 'I',\n",
       "   'wins': 673,\n",
       "   'losses': 582,\n",
       "   'veteran': False,\n",
       "   'inactive': False,\n",
       "   'freshBlood': True,\n",
       "   'hotStreak': False},\n",
       "  {'summonerId': 'lPgPc6xlLyaiW8Gmrr-lR373p-d5Yy1fBScXx26Xvod6ioTR',\n",
       "   'summonerName': 'Crushings',\n",
       "   'leaguePoints': 641,\n",
       "   'rank': 'I',\n",
       "   'wins': 531,\n",
       "   'losses': 494,\n",
       "   'veteran': False,\n",
       "   'inactive': False,\n",
       "   'freshBlood': False,\n",
       "   'hotStreak': False},\n",
       "  {'summonerId': 'tsiya_jC0VhtFoc4JxxwNbUJh8-UW886wQOXbJFldBnYukh7d7x54OQ57Q',\n",
       "   'summonerName': 'hcaer',\n",
       "   'leaguePoints': 647,\n",
       "   'rank': 'I',\n",
       "   'wins': 158,\n",
       "   'losses': 138,\n",
       "   'veteran': False,\n",
       "   'inactive': False,\n",
       "   'freshBlood': False,\n",
       "   'hotStreak': False},\n",
       "  {'summonerId': 't86hihijApzzKqjp871cjxpqBWkkxn-se9seN4VQHjzM2FA',\n",
       "   'summonerName': 'ComeSeeSee',\n",
       "   'leaguePoints': 457,\n",
       "   'rank': 'I',\n",
       "   'wins': 316,\n",
       "   'losses': 276,\n",
       "   'veteran': False,\n",
       "   'inactive': False,\n",
       "   'freshBlood': False,\n",
       "   'hotStreak': False},\n",
       "  {'summonerId': 'PCf20h6-tm6rU2ku9bpHQZbKa4DItu8opAqh96IWT5wfgxU',\n",
       "   'summonerName': 'Árturo',\n",
       "   'leaguePoints': 708,\n",
       "   'rank': 'I',\n",
       "   'wins': 328,\n",
       "   'losses': 292,\n",
       "   'veteran': False,\n",
       "   'inactive': False,\n",
       "   'freshBlood': False,\n",
       "   'hotStreak': False},\n",
       "  {'summonerId': 'yb6oELHAuRYtjXAZwaLevhj2ylyI2iu6-2nJHgxiri_P9I7c',\n",
       "   'summonerName': 'Meoi',\n",
       "   'leaguePoints': 622,\n",
       "   'rank': 'I',\n",
       "   'wins': 144,\n",
       "   'losses': 72,\n",
       "   'veteran': False,\n",
       "   'inactive': False,\n",
       "   'freshBlood': True,\n",
       "   'hotStreak': True},\n",
       "  {'summonerId': 'R6AZZtbqNsE_P914Tfxh2rJVlRQz2up3ELYFbyi5yT7XwDY',\n",
       "   'summonerName': 'Mikulll',\n",
       "   'leaguePoints': 470,\n",
       "   'rank': 'I',\n",
       "   'wins': 281,\n",
       "   'losses': 248,\n",
       "   'veteran': False,\n",
       "   'inactive': False,\n",
       "   'freshBlood': False,\n",
       "   'hotStreak': True},\n",
       "  {'summonerId': 'ZU1eTscjJr4XqE3J1ZXW9P5nHX6RUdGeke5hm8eT4ht16sFceC3y-UIVeg',\n",
       "   'summonerName': 'Pháp Phút Phik',\n",
       "   'leaguePoints': 463,\n",
       "   'rank': 'I',\n",
       "   'wins': 178,\n",
       "   'losses': 137,\n",
       "   'veteran': False,\n",
       "   'inactive': False,\n",
       "   'freshBlood': False,\n",
       "   'hotStreak': False},\n",
       "  {'summonerId': '_XbzMgeHnsQcuBMptlV-i1b7HN0jjYtzpNmtlvjmfkZeVOg',\n",
       "   'summonerName': 'archerboy',\n",
       "   'leaguePoints': 98,\n",
       "   'rank': 'I',\n",
       "   'wins': 156,\n",
       "   'losses': 122,\n",
       "   'veteran': False,\n",
       "   'inactive': False,\n",
       "   'freshBlood': True,\n",
       "   'hotStreak': False},\n",
       "  {'summonerId': 'C9YivDEoyXMTZFpw7ZJFCukJ3nZD_pgDK8j0HgZo1Xc_ndI',\n",
       "   'summonerName': '3GØ',\n",
       "   'leaguePoints': 437,\n",
       "   'rank': 'I',\n",
       "   'wins': 135,\n",
       "   'losses': 102,\n",
       "   'veteran': False,\n",
       "   'inactive': False,\n",
       "   'freshBlood': True,\n",
       "   'hotStreak': False},\n",
       "  {'summonerId': 't8D0gnPRaOr6UajXhBbuPxuF_yxGsWkJtt-tj2PPXhTJc0s',\n",
       "   'summonerName': 'Kole',\n",
       "   'leaguePoints': 402,\n",
       "   'rank': 'I',\n",
       "   'wins': 238,\n",
       "   'losses': 186,\n",
       "   'veteran': False,\n",
       "   'inactive': False,\n",
       "   'freshBlood': True,\n",
       "   'hotStreak': True},\n",
       "  {'summonerId': 'CPrYU8lyNlr88URUu6z6nTnvmz_A888-8RaLb3MvdwckKJcJ',\n",
       "   'summonerName': 'trll',\n",
       "   'leaguePoints': 613,\n",
       "   'rank': 'I',\n",
       "   'wins': 192,\n",
       "   'losses': 145,\n",
       "   'veteran': False,\n",
       "   'inactive': False,\n",
       "   'freshBlood': True,\n",
       "   'hotStreak': False},\n",
       "  {'summonerId': 'isxQWU7s0PzltpGsGmajIDtyuO0Te-I05Qx4XeW8id-8icg',\n",
       "   'summonerName': 'President Azir',\n",
       "   'leaguePoints': 549,\n",
       "   'rank': 'I',\n",
       "   'wins': 205,\n",
       "   'losses': 166,\n",
       "   'veteran': False,\n",
       "   'inactive': False,\n",
       "   'freshBlood': False,\n",
       "   'hotStreak': False},\n",
       "  {'summonerId': 'iwbdVpYsE6wX18z1PqyA_-M7JQA-VbhLTU6eOUEnzC_4_7A',\n",
       "   'summonerName': 'Jay',\n",
       "   'leaguePoints': 575,\n",
       "   'rank': 'I',\n",
       "   'wins': 240,\n",
       "   'losses': 202,\n",
       "   'veteran': False,\n",
       "   'inactive': False,\n",
       "   'freshBlood': False,\n",
       "   'hotStreak': False},\n",
       "  {'summonerId': 'Q2blpp3ioXB4TAvcp5qy-pUduLzOqBuslSGCl_QfQFDxE3A',\n",
       "   'summonerName': 'Boundlyn',\n",
       "   'leaguePoints': 414,\n",
       "   'rank': 'I',\n",
       "   'wins': 258,\n",
       "   'losses': 217,\n",
       "   'veteran': False,\n",
       "   'inactive': False,\n",
       "   'freshBlood': True,\n",
       "   'hotStreak': True},\n",
       "  {'summonerId': 'A762OMdWjMjGnvi7TNODnWOJG01TLeaZmsA-snzC_aUPfCg',\n",
       "   'summonerName': 'Shuckhax123',\n",
       "   'leaguePoints': 469,\n",
       "   'rank': 'I',\n",
       "   'wins': 362,\n",
       "   'losses': 347,\n",
       "   'veteran': False,\n",
       "   'inactive': False,\n",
       "   'freshBlood': False,\n",
       "   'hotStreak': False},\n",
       "  {'summonerId': 'OzRspm8h9yfEeOm1K-37sEhL54suVAj4wgSUGXYJK5xMYgNq',\n",
       "   'summonerName': 'copypasteyoasobi',\n",
       "   'leaguePoints': 471,\n",
       "   'rank': 'I',\n",
       "   'wins': 106,\n",
       "   'losses': 65,\n",
       "   'veteran': False,\n",
       "   'inactive': False,\n",
       "   'freshBlood': False,\n",
       "   'hotStreak': False},\n",
       "  {'summonerId': 'rpqBE59aNPUQ_07eQkBDjq40ozKazSn2j80JgD4VeBZfcWMy92oElHy_hw',\n",
       "   'summonerName': '300 ping pog',\n",
       "   'leaguePoints': 462,\n",
       "   'rank': 'I',\n",
       "   'wins': 313,\n",
       "   'losses': 286,\n",
       "   'veteran': False,\n",
       "   'inactive': False,\n",
       "   'freshBlood': False,\n",
       "   'hotStreak': False},\n",
       "  {'summonerId': 'JCHffkML1lcYSh8oJ95OkMKyJ87DJj0ZmL7yDTeM88JJTDA',\n",
       "   'summonerName': 'Project Tempo',\n",
       "   'leaguePoints': 616,\n",
       "   'rank': 'I',\n",
       "   'wins': 125,\n",
       "   'losses': 85,\n",
       "   'veteran': False,\n",
       "   'inactive': False,\n",
       "   'freshBlood': False,\n",
       "   'hotStreak': False},\n",
       "  {'summonerId': 'w3z4hTx9YKYlk6RFQ3HCi2tQO11kDAyotNIHH5V5yytoyMw',\n",
       "   'summonerName': 'Casual Inter',\n",
       "   'leaguePoints': 356,\n",
       "   'rank': 'I',\n",
       "   'wins': 306,\n",
       "   'losses': 282,\n",
       "   'veteran': False,\n",
       "   'inactive': False,\n",
       "   'freshBlood': True,\n",
       "   'hotStreak': True},\n",
       "  {'summonerId': 'ndCeKuTYWQjFM-7xNGAJskAREELQPTqZ0t20-V6751M8dvE',\n",
       "   'summonerName': 'Yiggles',\n",
       "   'leaguePoints': 531,\n",
       "   'rank': 'I',\n",
       "   'wins': 448,\n",
       "   'losses': 428,\n",
       "   'veteran': False,\n",
       "   'inactive': False,\n",
       "   'freshBlood': False,\n",
       "   'hotStreak': False},\n",
       "  {'summonerId': 'avFfW1ZyXDq3NeDBoX4sfLMVm3cmpp293qzIxVufq9U3JSosDscV0mOYyA',\n",
       "   'summonerName': 'EggRollings',\n",
       "   'leaguePoints': 440,\n",
       "   'rank': 'I',\n",
       "   'wins': 352,\n",
       "   'losses': 307,\n",
       "   'veteran': False,\n",
       "   'inactive': False,\n",
       "   'freshBlood': True,\n",
       "   'hotStreak': False},\n",
       "  {'summonerId': 'qjhaAxBe8ArVWabZGJWWyXfkGUEo7FVBKwhlTAPGUcJRMHzR7Yrs1q3xlQ',\n",
       "   'summonerName': '',\n",
       "   'leaguePoints': 432,\n",
       "   'rank': 'I',\n",
       "   'wins': 76,\n",
       "   'losses': 46,\n",
       "   'veteran': False,\n",
       "   'inactive': False,\n",
       "   'freshBlood': False,\n",
       "   'hotStreak': False},\n",
       "  {'summonerId': '2FRMDjPsjNZlhP-t0D5Uzrp98Kbpv1-s38CQscNVft2A',\n",
       "   'summonerName': 'Bakla',\n",
       "   'leaguePoints': 406,\n",
       "   'rank': 'I',\n",
       "   'wins': 151,\n",
       "   'losses': 106,\n",
       "   'veteran': False,\n",
       "   'inactive': False,\n",
       "   'freshBlood': True,\n",
       "   'hotStreak': False},\n",
       "  {'summonerId': 'W6Gswl6BO4j9D-wNNTQ3qn9U7QDZ5t9WNCtc2lgzsL5bZkw',\n",
       "   'summonerName': 'carrotman',\n",
       "   'leaguePoints': 538,\n",
       "   'rank': 'I',\n",
       "   'wins': 248,\n",
       "   'losses': 203,\n",
       "   'veteran': False,\n",
       "   'inactive': False,\n",
       "   'freshBlood': True,\n",
       "   'hotStreak': False},\n",
       "  {'summonerId': 'F1WmitEXSYYxPlfSQbAAliw814a92UsH4xS-cuHr5tV32Ihe',\n",
       "   'summonerName': 'aD0NiS',\n",
       "   'leaguePoints': 418,\n",
       "   'rank': 'I',\n",
       "   'wins': 289,\n",
       "   'losses': 246,\n",
       "   'veteran': False,\n",
       "   'inactive': False,\n",
       "   'freshBlood': True,\n",
       "   'hotStreak': False},\n",
       "  {'summonerId': '9fEx5qeexcxhAl489bn28MyWjgfdD5fho9PjCrmqkU7VOYA',\n",
       "   'summonerName': 'NeuroticMudkip',\n",
       "   'leaguePoints': 471,\n",
       "   'rank': 'I',\n",
       "   'wins': 364,\n",
       "   'losses': 337,\n",
       "   'veteran': False,\n",
       "   'inactive': False,\n",
       "   'freshBlood': False,\n",
       "   'hotStreak': False},\n",
       "  {'summonerId': 'h4dqf26DxBriXMnQLTPkgrLpf1lDxFVOiTCoLKbKBrbxMVw',\n",
       "   'summonerName': 'Ðlwlrma',\n",
       "   'leaguePoints': 483,\n",
       "   'rank': 'I',\n",
       "   'wins': 107,\n",
       "   'losses': 59,\n",
       "   'veteran': False,\n",
       "   'inactive': False,\n",
       "   'freshBlood': False,\n",
       "   'hotStreak': True},\n",
       "  {'summonerId': '-AdK3oNQWBhs4HhfUoKzmLYVroGOhpASXwlx7BLBWhKm4sc',\n",
       "   'summonerName': 'WesleyPoker',\n",
       "   'leaguePoints': 446,\n",
       "   'rank': 'I',\n",
       "   'wins': 599,\n",
       "   'losses': 583,\n",
       "   'veteran': False,\n",
       "   'inactive': False,\n",
       "   'freshBlood': False,\n",
       "   'hotStreak': True},\n",
       "  {'summonerId': 'Jgnoh8pCCb-UGY01v_rO_IAHtYwJNA0XyJvi7QBTJxVEIGcruzXJ2enLSw',\n",
       "   'summonerName': '',\n",
       "   'leaguePoints': 391,\n",
       "   'rank': 'I',\n",
       "   'wins': 89,\n",
       "   'losses': 57,\n",
       "   'veteran': False,\n",
       "   'inactive': False,\n",
       "   'freshBlood': True,\n",
       "   'hotStreak': True},\n",
       "  {'summonerId': 'JJtaMZDvOBOqKsrH9y0gwSdxYL7ZRXfpYQZma6s0DDhNI0I',\n",
       "   'summonerName': 'EoSoo',\n",
       "   'leaguePoints': 490,\n",
       "   'rank': 'I',\n",
       "   'wins': 96,\n",
       "   'losses': 54,\n",
       "   'veteran': False,\n",
       "   'inactive': False,\n",
       "   'freshBlood': False,\n",
       "   'hotStreak': False},\n",
       "  {'summonerId': 'z06fJVu7GpflyVeME7aEu-s6rGE6ugYDfvXyrbIE92qpAQY4CfKuwUai3g',\n",
       "   'summonerName': 'dyaanjwb',\n",
       "   'leaguePoints': 501,\n",
       "   'rank': 'I',\n",
       "   'wins': 296,\n",
       "   'losses': 259,\n",
       "   'veteran': False,\n",
       "   'inactive': False,\n",
       "   'freshBlood': False,\n",
       "   'hotStreak': False},\n",
       "  {'summonerId': 'VDs4Rrx6aTblReClMgzN5Xf6y-XYLxAaPxHnxoPzPQlgudM',\n",
       "   'summonerName': 'Mikealio',\n",
       "   'leaguePoints': 481,\n",
       "   'rank': 'I',\n",
       "   'wins': 195,\n",
       "   'losses': 144,\n",
       "   'veteran': False,\n",
       "   'inactive': False,\n",
       "   'freshBlood': True,\n",
       "   'hotStreak': False},\n",
       "  {'summonerId': 'zsgFcBOg0EA94PfEXFuc3ycGYO3MAvoQcD3v3cUouzjjT4g',\n",
       "   'summonerName': 'Shuaps',\n",
       "   'leaguePoints': 494,\n",
       "   'rank': 'I',\n",
       "   'wins': 126,\n",
       "   'losses': 78,\n",
       "   'veteran': False,\n",
       "   'inactive': False,\n",
       "   'freshBlood': True,\n",
       "   'hotStreak': False},\n",
       "  {'summonerId': 'pYV6xIK5rIO_0EdeZMX-AqDZLUGjoOdZHjIcf1OnjZRrTwo',\n",
       "   'summonerName': 'ThatWasPatricia',\n",
       "   'leaguePoints': 393,\n",
       "   'rank': 'I',\n",
       "   'wins': 301,\n",
       "   'losses': 271,\n",
       "   'veteran': False,\n",
       "   'inactive': False,\n",
       "   'freshBlood': True,\n",
       "   'hotStreak': False},\n",
       "  {'summonerId': 'jO3ixGygnm6D8REa0mAaSZIYUUmezVkzUP2ImflbKp-7bxrqF0mv5qQMdw',\n",
       "   'summonerName': 'alrsre',\n",
       "   'leaguePoints': 580,\n",
       "   'rank': 'I',\n",
       "   'wins': 488,\n",
       "   'losses': 437,\n",
       "   'veteran': True,\n",
       "   'inactive': False,\n",
       "   'freshBlood': False,\n",
       "   'hotStreak': False},\n",
       "  {'summonerId': 'Rz9a1il_dO0R-WsfOWQCg32ZnVGu4tLgVZABthlB6BVnkWk',\n",
       "   'summonerName': 'imnotrussell',\n",
       "   'leaguePoints': 537,\n",
       "   'rank': 'I',\n",
       "   'wins': 147,\n",
       "   'losses': 124,\n",
       "   'veteran': False,\n",
       "   'inactive': False,\n",
       "   'freshBlood': False,\n",
       "   'hotStreak': False},\n",
       "  {'summonerId': 'dUl_pWTBt5EGkGCjr8oUbPlylHYbF9mDzgoeuUwuIanu9s0',\n",
       "   'summonerName': 'Polarbeartrainer',\n",
       "   'leaguePoints': 437,\n",
       "   'rank': 'I',\n",
       "   'wins': 296,\n",
       "   'losses': 265,\n",
       "   'veteran': False,\n",
       "   'inactive': False,\n",
       "   'freshBlood': True,\n",
       "   'hotStreak': False},\n",
       "  {'summonerId': 'kqDq2IHC6N1PQ6rIW3rwjPEb5-We4IF452CmfuX6qeQoK8D8IaFcKDteNQ',\n",
       "   'summonerName': '',\n",
       "   'leaguePoints': 627,\n",
       "   'rank': 'I',\n",
       "   'wins': 199,\n",
       "   'losses': 154,\n",
       "   'veteran': False,\n",
       "   'inactive': False,\n",
       "   'freshBlood': False,\n",
       "   'hotStreak': False},\n",
       "  {'summonerId': 'ADt5n6pHRfEzq3xyHGseQK5xVlt4h_1aX33bU3lCXBsZLIk',\n",
       "   'summonerName': 'Kvelix',\n",
       "   'leaguePoints': 505,\n",
       "   'rank': 'I',\n",
       "   'wins': 104,\n",
       "   'losses': 59,\n",
       "   'veteran': False,\n",
       "   'inactive': False,\n",
       "   'freshBlood': False,\n",
       "   'hotStreak': False},\n",
       "  {'summonerId': 'RVEZja6ShXDmbv4HeQZoUzFvTvgrm3OuNgDynSFNVYVbphA',\n",
       "   'summonerName': 'Âcîd',\n",
       "   'leaguePoints': 439,\n",
       "   'rank': 'I',\n",
       "   'wins': 245,\n",
       "   'losses': 195,\n",
       "   'veteran': False,\n",
       "   'inactive': False,\n",
       "   'freshBlood': True,\n",
       "   'hotStreak': False},\n",
       "  {'summonerId': '0d_NV1wDmn9y3Bknno04sue1LTYkm1FwTVHvHufi5ptWugU',\n",
       "   'summonerName': 'Aeternalis1',\n",
       "   'leaguePoints': 396,\n",
       "   'rank': 'I',\n",
       "   'wins': 108,\n",
       "   'losses': 84,\n",
       "   'veteran': False,\n",
       "   'inactive': False,\n",
       "   'freshBlood': True,\n",
       "   'hotStreak': True},\n",
       "  {'summonerId': 'GuUQ2ktvLGLvk4i6D64It_pa_s9p4BotERjTzjwbBGxXYWQ',\n",
       "   'summonerName': 'Celtics Fan',\n",
       "   'leaguePoints': 445,\n",
       "   'rank': 'I',\n",
       "   'wins': 180,\n",
       "   'losses': 163,\n",
       "   'veteran': False,\n",
       "   'inactive': False,\n",
       "   'freshBlood': False,\n",
       "   'hotStreak': False},\n",
       "  {'summonerId': 'Bt6vaOuPN0YSVNKwfeVMrff6aFzi53q0jv466GLru8vB0zw',\n",
       "   'summonerName': 'Amzïng',\n",
       "   'leaguePoints': 394,\n",
       "   'rank': 'I',\n",
       "   'wins': 292,\n",
       "   'losses': 256,\n",
       "   'veteran': False,\n",
       "   'inactive': False,\n",
       "   'freshBlood': True,\n",
       "   'hotStreak': False},\n",
       "  {'summonerId': '8Fbs96rijl-oX-7FQi5wbZYZqLfcACQ9TITOUuAofU-1ShQ',\n",
       "   'summonerName': 'Kayrís',\n",
       "   'leaguePoints': 611,\n",
       "   'rank': 'I',\n",
       "   'wins': 231,\n",
       "   'losses': 186,\n",
       "   'veteran': False,\n",
       "   'inactive': False,\n",
       "   'freshBlood': False,\n",
       "   'hotStreak': False},\n",
       "  {'summonerId': 'OI38ScHOWnCrqRDDb1qYKyoBo3HieJCOe-bl5u-2_4fUYS8',\n",
       "   'summonerName': 'CauliflowerTFT',\n",
       "   'leaguePoints': 655,\n",
       "   'rank': 'I',\n",
       "   'wins': 350,\n",
       "   'losses': 343,\n",
       "   'veteran': False,\n",
       "   'inactive': False,\n",
       "   'freshBlood': False,\n",
       "   'hotStreak': False},\n",
       "  {'summonerId': 'YX9zMGYCbMFhSv7MvTVBovpxUl7m7UpjRVs4GbpEQojP0jA',\n",
       "   'summonerName': 'TftCream',\n",
       "   'leaguePoints': 555,\n",
       "   'rank': 'I',\n",
       "   'wins': 345,\n",
       "   'losses': 331,\n",
       "   'veteran': False,\n",
       "   'inactive': False,\n",
       "   'freshBlood': False,\n",
       "   'hotStreak': False},\n",
       "  {'summonerId': 'YO-soU_RkpvN477B35Lteeu0wG-Ns0Syt4lWlfiEgKPUh-I',\n",
       "   'summonerName': 'pandamuffinz',\n",
       "   'leaguePoints': 451,\n",
       "   'rank': 'I',\n",
       "   'wins': 174,\n",
       "   'losses': 125,\n",
       "   'veteran': False,\n",
       "   'inactive': False,\n",
       "   'freshBlood': False,\n",
       "   'hotStreak': True},\n",
       "  {'summonerId': 'k6-I31i8_4lIy-bjiU3sWrN_QkghKsQnaHfvNHrQ5pavSHk',\n",
       "   'summonerName': 'Danger Penguin',\n",
       "   'leaguePoints': 463,\n",
       "   'rank': 'I',\n",
       "   'wins': 283,\n",
       "   'losses': 242,\n",
       "   'veteran': False,\n",
       "   'inactive': False,\n",
       "   'freshBlood': False,\n",
       "   'hotStreak': False},\n",
       "  {'summonerId': '8Jdd4qd9oZ4nRFdITXWqlrdCHbWWkJS3zmDjZ4YVSGqmKRY',\n",
       "   'summonerName': 'Enzile',\n",
       "   'leaguePoints': 580,\n",
       "   'rank': 'I',\n",
       "   'wins': 303,\n",
       "   'losses': 272,\n",
       "   'veteran': False,\n",
       "   'inactive': False,\n",
       "   'freshBlood': False,\n",
       "   'hotStreak': False},\n",
       "  {'summonerId': 'pzN19doQL3ePUyqRjEthSOdOHYS0FrB5aMRHip5qG27-w3w',\n",
       "   'summonerName': 'Account Reset',\n",
       "   'leaguePoints': 505,\n",
       "   'rank': 'I',\n",
       "   'wins': 159,\n",
       "   'losses': 135,\n",
       "   'veteran': False,\n",
       "   'inactive': False,\n",
       "   'freshBlood': False,\n",
       "   'hotStreak': False},\n",
       "  {'summonerId': 'IdXcHew3Dm4E283U1qIZQ1vZtKHP1Z5-N5fmQ_wB2VF7iYM',\n",
       "   'summonerName': 'mattjzhou',\n",
       "   'leaguePoints': 396,\n",
       "   'rank': 'I',\n",
       "   'wins': 189,\n",
       "   'losses': 147,\n",
       "   'veteran': False,\n",
       "   'inactive': False,\n",
       "   'freshBlood': False,\n",
       "   'hotStreak': False},\n",
       "  {'summonerId': 'xEy3COjoLR8pA8TnLr6_aaYI1ElrVwPofApz6hswSNCKVjl4sAR_T2laoQ',\n",
       "   'summonerName': 'PancakesTFT',\n",
       "   'leaguePoints': 523,\n",
       "   'rank': 'I',\n",
       "   'wins': 189,\n",
       "   'losses': 144,\n",
       "   'veteran': False,\n",
       "   'inactive': False,\n",
       "   'freshBlood': False,\n",
       "   'hotStreak': False},\n",
       "  {'summonerId': 'oeGFAgyT_tMo_1sXkFZHegLyyXYOU9Mcvc8AI2MTdJJhIaI',\n",
       "   'summonerName': 'QtsLusciousLocks',\n",
       "   'leaguePoints': 380,\n",
       "   'rank': 'I',\n",
       "   'wins': 96,\n",
       "   'losses': 78,\n",
       "   'veteran': False,\n",
       "   'inactive': False,\n",
       "   'freshBlood': True,\n",
       "   'hotStreak': True},\n",
       "  {'summonerId': 'lJWjMTXRnAwGuvNWdiOu-X5a02J1BvjnaHB7uuYucKhe7D4',\n",
       "   'summonerName': 'nickcaponee',\n",
       "   'leaguePoints': 595,\n",
       "   'rank': 'I',\n",
       "   'wins': 307,\n",
       "   'losses': 242,\n",
       "   'veteran': False,\n",
       "   'inactive': False,\n",
       "   'freshBlood': False,\n",
       "   'hotStreak': False},\n",
       "  {'summonerId': 'YUICa_mMagX18j08cpoB2iGnXTAtP9GIQ_vpo_JwjgB9CuKJ',\n",
       "   'summonerName': 'FataIyst',\n",
       "   'leaguePoints': 487,\n",
       "   'rank': 'I',\n",
       "   'wins': 173,\n",
       "   'losses': 133,\n",
       "   'veteran': False,\n",
       "   'inactive': False,\n",
       "   'freshBlood': False,\n",
       "   'hotStreak': True},\n",
       "  {'summonerId': 'RtX7CXHRROIgYdMVKMWczIgKL9VNSbEBdV2tHzuU-d2JShw',\n",
       "   'summonerName': 'go bears',\n",
       "   'leaguePoints': 598,\n",
       "   'rank': 'I',\n",
       "   'wins': 128,\n",
       "   'losses': 89,\n",
       "   'veteran': False,\n",
       "   'inactive': False,\n",
       "   'freshBlood': False,\n",
       "   'hotStreak': False},\n",
       "  {'summonerId': 'php1e3hPJQpCzErGG7bJj2R1QHy9Dz-oWvpMapMM_kfbz0Az',\n",
       "   'summonerName': 'soldier003',\n",
       "   'leaguePoints': 383,\n",
       "   'rank': 'I',\n",
       "   'wins': 221,\n",
       "   'losses': 181,\n",
       "   'veteran': False,\n",
       "   'inactive': False,\n",
       "   'freshBlood': False,\n",
       "   'hotStreak': False},\n",
       "  {'summonerId': 'osfrAtvF1t3HCpwj3IbVprE4lkyxTdTfYvpkcNMG7Fs7cUmY',\n",
       "   'summonerName': 'LOESRZZZ',\n",
       "   'leaguePoints': 504,\n",
       "   'rank': 'I',\n",
       "   'wins': 125,\n",
       "   'losses': 93,\n",
       "   'veteran': False,\n",
       "   'inactive': False,\n",
       "   'freshBlood': False,\n",
       "   'hotStreak': False},\n",
       "  {'summonerId': 'gTZkKzU_qazhF3dbrnz4wBbnpsmGqQNX2NddZyCm_6-ShQg',\n",
       "   'summonerName': 'Frank7Li',\n",
       "   'leaguePoints': 382,\n",
       "   'rank': 'I',\n",
       "   'wins': 219,\n",
       "   'losses': 196,\n",
       "   'veteran': False,\n",
       "   'inactive': False,\n",
       "   'freshBlood': True,\n",
       "   'hotStreak': False},\n",
       "  {'summonerId': 'PuaCJjX7aidjagpR9If7YUDg4f3hWSzqzmlBK2txQGGGMbQw',\n",
       "   'summonerName': 'RightInTime',\n",
       "   'leaguePoints': 488,\n",
       "   'rank': 'I',\n",
       "   'wins': 221,\n",
       "   'losses': 170,\n",
       "   'veteran': False,\n",
       "   'inactive': False,\n",
       "   'freshBlood': False,\n",
       "   'hotStreak': False},\n",
       "  {'summonerId': 'eZgIL9C4_DOVP5QHRWtKo2hga2hipY-WLEYyINKWrB4od7tF',\n",
       "   'summonerName': 'IIllIIIlIIIIIIII',\n",
       "   'leaguePoints': 536,\n",
       "   'rank': 'I',\n",
       "   'wins': 424,\n",
       "   'losses': 360,\n",
       "   'veteran': True,\n",
       "   'inactive': False,\n",
       "   'freshBlood': False,\n",
       "   'hotStreak': False},\n",
       "  {'summonerId': '4y-HvOepraNjGbI6QlvOtaFkdi8vSB3mDP-Ry0nCfaUmTA0',\n",
       "   'summonerName': 'Joner72',\n",
       "   'leaguePoints': 432,\n",
       "   'rank': 'I',\n",
       "   'wins': 449,\n",
       "   'losses': 421,\n",
       "   'veteran': False,\n",
       "   'inactive': False,\n",
       "   'freshBlood': True,\n",
       "   'hotStreak': False},\n",
       "  {'summonerId': 'XKcxpPqJelvC-ocGWhljzDKMpfmcCOEBvJVwO-ZuBXdFHFo',\n",
       "   'summonerName': 'Not Now',\n",
       "   'leaguePoints': 381,\n",
       "   'rank': 'I',\n",
       "   'wins': 212,\n",
       "   'losses': 182,\n",
       "   'veteran': False,\n",
       "   'inactive': False,\n",
       "   'freshBlood': True,\n",
       "   'hotStreak': True},\n",
       "  {'summonerId': 'QXvKMd5OgUUBBlcZRhT6lVOaXSKCQ7dbOvToMvDelCiWfNc',\n",
       "   'summonerName': 'HarmlessPikachu',\n",
       "   'leaguePoints': 479,\n",
       "   'rank': 'I',\n",
       "   'wins': 261,\n",
       "   'losses': 234,\n",
       "   'veteran': False,\n",
       "   'inactive': False,\n",
       "   'freshBlood': False,\n",
       "   'hotStreak': False},\n",
       "  {'summonerId': 'OjfilIMCCKpe_sVOqAzYqLR_hA02BSkrqOpEGW_8VcEvkpw',\n",
       "   'summonerName': 'TFTea',\n",
       "   'leaguePoints': 537,\n",
       "   'rank': 'I',\n",
       "   'wins': 287,\n",
       "   'losses': 250,\n",
       "   'veteran': False,\n",
       "   'inactive': False,\n",
       "   'freshBlood': False,\n",
       "   'hotStreak': False},\n",
       "  {'summonerId': 'JmsGAxezc9sEqqTSohCDuMhcFTFiYrthnc2BrNIWmpsmuBZtTRTMYupJTA',\n",
       "   'summonerName': 'NeamFromVietNam',\n",
       "   'leaguePoints': 618,\n",
       "   'rank': 'I',\n",
       "   'wins': 387,\n",
       "   'losses': 367,\n",
       "   'veteran': True,\n",
       "   'inactive': False,\n",
       "   'freshBlood': False,\n",
       "   'hotStreak': False},\n",
       "  {'summonerId': 'dNBWoAyDPIIbbjon2UqJRJ_G9mOs9-NRv4GIO9UBTIvGf8Aa',\n",
       "   'summonerName': '1998HondaAccord',\n",
       "   'leaguePoints': 495,\n",
       "   'rank': 'I',\n",
       "   'wins': 263,\n",
       "   'losses': 217,\n",
       "   'veteran': False,\n",
       "   'inactive': False,\n",
       "   'freshBlood': False,\n",
       "   'hotStreak': False},\n",
       "  {'summonerId': 'FIoiZrzmUHZYGtMdH_KSmIfeZc7Pl0X4nXtF7wW-HbSEsqQ',\n",
       "   'summonerName': 'johnbo',\n",
       "   'leaguePoints': 447,\n",
       "   'rank': 'I',\n",
       "   'wins': 160,\n",
       "   'losses': 115,\n",
       "   'veteran': False,\n",
       "   'inactive': False,\n",
       "   'freshBlood': False,\n",
       "   'hotStreak': False},\n",
       "  {'summonerId': '-12Bk34gWxUVnmvjB71E-2chF3o_V3s8Aoxp9XfqCehbA5E',\n",
       "   'summonerName': 'LAVISHMONKEY56',\n",
       "   'leaguePoints': 449,\n",
       "   'rank': 'I',\n",
       "   'wins': 180,\n",
       "   'losses': 151,\n",
       "   'veteran': False,\n",
       "   'inactive': False,\n",
       "   'freshBlood': False,\n",
       "   'hotStreak': False},\n",
       "  {'summonerId': '4yl6snPA65D3s_ypaw1QtEtCnEnCxq-ioiYYHEoU1XDQV84',\n",
       "   'summonerName': 'yawnathan',\n",
       "   'leaguePoints': 543,\n",
       "   'rank': 'I',\n",
       "   'wins': 518,\n",
       "   'losses': 483,\n",
       "   'veteran': False,\n",
       "   'inactive': False,\n",
       "   'freshBlood': False,\n",
       "   'hotStreak': False},\n",
       "  {'summonerId': 'xDqtl3rPWkhQ0Py5QCMbHvC9Xca0rB-5hrpqV1ZV3CASmQU',\n",
       "   'summonerName': 'NôVà',\n",
       "   'leaguePoints': 372,\n",
       "   'rank': 'I',\n",
       "   'wins': 264,\n",
       "   'losses': 214,\n",
       "   'veteran': False,\n",
       "   'inactive': False,\n",
       "   'freshBlood': True,\n",
       "   'hotStreak': False},\n",
       "  {'summonerId': 'Kv22jMg5PjhvxV287Z5dscjJOlFhTgSmJcdoBRJPwPJpNqjjDwxUEJSHXA',\n",
       "   'summonerName': 'Rednex',\n",
       "   'leaguePoints': 718,\n",
       "   'rank': 'I',\n",
       "   'wins': 985,\n",
       "   'losses': 975,\n",
       "   'veteran': False,\n",
       "   'inactive': False,\n",
       "   'freshBlood': False,\n",
       "   'hotStreak': False},\n",
       "  {'summonerId': 'HW59bkChIw-h84IIaDZwxFGuAgJzJ-1y2ABvAdJhuPw-eQNum1Tu6cvxXw',\n",
       "   'summonerName': 'amariyoooo',\n",
       "   'leaguePoints': 489,\n",
       "   'rank': 'I',\n",
       "   'wins': 238,\n",
       "   'losses': 220,\n",
       "   'veteran': False,\n",
       "   'inactive': False,\n",
       "   'freshBlood': False,\n",
       "   'hotStreak': False},\n",
       "  {'summonerId': 'M1wwSqL1YyCdCqmYKjyYwrO6me7Msh8cKRiG1rxUkO_1jg4',\n",
       "   'summonerName': 'Scytzer',\n",
       "   'leaguePoints': 652,\n",
       "   'rank': 'I',\n",
       "   'wins': 236,\n",
       "   'losses': 222,\n",
       "   'veteran': False,\n",
       "   'inactive': False,\n",
       "   'freshBlood': False,\n",
       "   'hotStreak': False},\n",
       "  {'summonerId': '_PKLN6xiQMUNa49ki4-DqkugrmJ84iBatz47Z-GG3JkOCsbKImTkk4m4DA',\n",
       "   'summonerName': 'mindoI',\n",
       "   'leaguePoints': 478,\n",
       "   'rank': 'I',\n",
       "   'wins': 332,\n",
       "   'losses': 297,\n",
       "   'veteran': False,\n",
       "   'inactive': False,\n",
       "   'freshBlood': True,\n",
       "   'hotStreak': False},\n",
       "  {'summonerId': 'V5DwGFJB2wQQ1vgM-yUGCDsrDSGmkhP_gzS1yF2d2jGXjdlwDPkCu0QzkQ',\n",
       "   'summonerName': 'Clenvy22',\n",
       "   'leaguePoints': 664,\n",
       "   'rank': 'I',\n",
       "   'wins': 333,\n",
       "   'losses': 293,\n",
       "   'veteran': False,\n",
       "   'inactive': False,\n",
       "   'freshBlood': False,\n",
       "   'hotStreak': False},\n",
       "  {'summonerId': 'iINdACRrQxSJR18HfH3vOY3nMTxRVcEFaCO2q8zzi1vkpM5SIWkWX24Z4w',\n",
       "   'summonerName': 'DougFrank',\n",
       "   'leaguePoints': 495,\n",
       "   'rank': 'I',\n",
       "   'wins': 295,\n",
       "   'losses': 261,\n",
       "   'veteran': False,\n",
       "   'inactive': False,\n",
       "   'freshBlood': False,\n",
       "   'hotStreak': True},\n",
       "  {'summonerId': 'OngPVg_shbuFomvLOCIsLXBQc6cSDi_dvwiXb4fCl0EHh_o',\n",
       "   'summonerName': 'EBIC GAMER',\n",
       "   'leaguePoints': 363,\n",
       "   'rank': 'I',\n",
       "   'wins': 163,\n",
       "   'losses': 133,\n",
       "   'veteran': False,\n",
       "   'inactive': False,\n",
       "   'freshBlood': False,\n",
       "   'hotStreak': False},\n",
       "  {'summonerId': 'GVSrZKsh2j7oMRns0dBAQDTEBMUIEtikWEufbdZ2ViE5FmA',\n",
       "   'summonerName': 'jlee7x2',\n",
       "   'leaguePoints': 485,\n",
       "   'rank': 'I',\n",
       "   'wins': 358,\n",
       "   'losses': 314,\n",
       "   'veteran': False,\n",
       "   'inactive': False,\n",
       "   'freshBlood': False,\n",
       "   'hotStreak': False},\n",
       "  {'summonerId': 'LWh8XQbfkg5PrIK4-KZkm47WwPTt6DghtY2hodGvRq4-78zh',\n",
       "   'summonerName': 'OtherDarnLobster',\n",
       "   'leaguePoints': 363,\n",
       "   'rank': 'I',\n",
       "   'wins': 65,\n",
       "   'losses': 29,\n",
       "   'veteran': False,\n",
       "   'inactive': False,\n",
       "   'freshBlood': True,\n",
       "   'hotStreak': False},\n",
       "  {'summonerId': 'qY0MO0_YEnpM7OxXkSWI5f0h0yv45U4Va33khPDGVN7TQfQ',\n",
       "   'summonerName': 'JesusTeemo',\n",
       "   'leaguePoints': 449,\n",
       "   'rank': 'I',\n",
       "   'wins': 380,\n",
       "   'losses': 351,\n",
       "   'veteran': False,\n",
       "   'inactive': False,\n",
       "   'freshBlood': False,\n",
       "   'hotStreak': False},\n",
       "  {'summonerId': 'kOfaroo_dJlf-aKJGrgt46Xls_QxroqV4LWdr7rD7lioe-N_qEoecagCqg',\n",
       "   'summonerName': 'So bad at VALO',\n",
       "   'leaguePoints': 622,\n",
       "   'rank': 'I',\n",
       "   'wins': 167,\n",
       "   'losses': 131,\n",
       "   'veteran': False,\n",
       "   'inactive': False,\n",
       "   'freshBlood': False,\n",
       "   'hotStreak': False},\n",
       "  {'summonerId': 'DFVuPwntQade8ALH6tHffaYBSvirusfvm5GVSYN--fNXfOU',\n",
       "   'summonerName': 'Pyrosigma',\n",
       "   'leaguePoints': 406,\n",
       "   'rank': 'I',\n",
       "   'wins': 249,\n",
       "   'losses': 229,\n",
       "   'veteran': False,\n",
       "   'inactive': False,\n",
       "   'freshBlood': True,\n",
       "   'hotStreak': True},\n",
       "  {'summonerId': '6WLtFJjOYu0D6qeYaDdFWiTSAY432ulnlzDh7cIo6CM3qjE',\n",
       "   'summonerName': 'Inferno IV',\n",
       "   'leaguePoints': 524,\n",
       "   'rank': 'I',\n",
       "   'wins': 123,\n",
       "   'losses': 90,\n",
       "   'veteran': False,\n",
       "   'inactive': False,\n",
       "   'freshBlood': True,\n",
       "   'hotStreak': False},\n",
       "  {'summonerId': 'wO7ILWvga7Y1DPJF3Kdw4gw7m0F7KPbJwDzydAQqBwnHbq9i',\n",
       "   'summonerName': 'meatcaketien',\n",
       "   'leaguePoints': 477,\n",
       "   'rank': 'I',\n",
       "   'wins': 108,\n",
       "   'losses': 80,\n",
       "   'veteran': False,\n",
       "   'inactive': False,\n",
       "   'freshBlood': False,\n",
       "   'hotStreak': False},\n",
       "  {'summonerId': 'Ie5nzO-1zN_-uy_LVbEGuR5xfXEuKIHhKHTaWMyOhptIzR8',\n",
       "   'summonerName': 'Silversimian',\n",
       "   'leaguePoints': 349,\n",
       "   'rank': 'I',\n",
       "   'wins': 118,\n",
       "   'losses': 90,\n",
       "   'veteran': False,\n",
       "   'inactive': False,\n",
       "   'freshBlood': True,\n",
       "   'hotStreak': False},\n",
       "  {'summonerId': 'z1qZ3D5gKoO_OxxqgwBmiY6YPrShaICxRKb28XpCnxPW0R16eZMptwfpBQ',\n",
       "   'summonerName': 'Portuguese Babe',\n",
       "   'leaguePoints': 463,\n",
       "   'rank': 'I',\n",
       "   'wins': 142,\n",
       "   'losses': 104,\n",
       "   'veteran': False,\n",
       "   'inactive': False,\n",
       "   'freshBlood': True,\n",
       "   'hotStreak': True},\n",
       "  {'summonerId': 'pJ0fZJdAyZDJjxxqoSqJEClncE8_4U5hvqhNgJt4JDgRCtk',\n",
       "   'summonerName': 'athenera',\n",
       "   'leaguePoints': 636,\n",
       "   'rank': 'I',\n",
       "   'wins': 138,\n",
       "   'losses': 110,\n",
       "   'veteran': False,\n",
       "   'inactive': False,\n",
       "   'freshBlood': False,\n",
       "   'hotStreak': False},\n",
       "  {'summonerId': 'b577LeDRlLsCVtxeZZs_FCwjYazQE2USndNL1I22B9OQ-a0',\n",
       "   'summonerName': 'WWWWWWMWWMWWWMWM',\n",
       "   'leaguePoints': 452,\n",
       "   'rank': 'I',\n",
       "   'wins': 96,\n",
       "   'losses': 59,\n",
       "   'veteran': False,\n",
       "   'inactive': False,\n",
       "   'freshBlood': False,\n",
       "   'hotStreak': True},\n",
       "  {'summonerId': 'UPKXjHLSTvBJP6ttKLh9aSt9UR01JkzfZramI-IxDkkSqvE',\n",
       "   'summonerName': 'LearningToPIay',\n",
       "   'leaguePoints': 652,\n",
       "   'rank': 'I',\n",
       "   'wins': 210,\n",
       "   'losses': 183,\n",
       "   'veteran': False,\n",
       "   'inactive': False,\n",
       "   'freshBlood': False,\n",
       "   'hotStreak': True},\n",
       "  {'summonerId': 'r4xz6NaIqPuto7fg8nZ8WSzHvMO3iKP5V_PqyNo0htkbDqLghsdloZ1cKw',\n",
       "   'summonerName': 'basukara',\n",
       "   'leaguePoints': 396,\n",
       "   'rank': 'I',\n",
       "   'wins': 139,\n",
       "   'losses': 100,\n",
       "   'veteran': False,\n",
       "   'inactive': False,\n",
       "   'freshBlood': True,\n",
       "   'hotStreak': False},\n",
       "  {'summonerId': '2iEjXcuE0-fcsEE94prvGL25-qVYjDgwnQZ48mEjBXDdoYw',\n",
       "   'summonerName': 'Mandala30',\n",
       "   'leaguePoints': 491,\n",
       "   'rank': 'I',\n",
       "   'wins': 275,\n",
       "   'losses': 224,\n",
       "   'veteran': False,\n",
       "   'inactive': False,\n",
       "   'freshBlood': False,\n",
       "   'hotStreak': False},\n",
       "  {'summonerId': 'QWLYTDbRJjjLtEuMf5WW3eodgMHLlThdlwqGoidfZWqRuvI',\n",
       "   'summonerName': 'Tmas',\n",
       "   'leaguePoints': 545,\n",
       "   'rank': 'I',\n",
       "   'wins': 276,\n",
       "   'losses': 243,\n",
       "   'veteran': False,\n",
       "   'inactive': False,\n",
       "   'freshBlood': False,\n",
       "   'hotStreak': False},\n",
       "  {'summonerId': 'DgPoDU7ovKNYGh-UfPJscYNPPP43hwZtKolucCgSfbZywjM',\n",
       "   'summonerName': 'Lab 001 Maki',\n",
       "   'leaguePoints': 448,\n",
       "   'rank': 'I',\n",
       "   'wins': 265,\n",
       "   'losses': 193,\n",
       "   'veteran': False,\n",
       "   'inactive': False,\n",
       "   'freshBlood': True,\n",
       "   'hotStreak': False},\n",
       "  {'summonerId': 'm56-JpKB7K24Rox328D9gCjdUSuQoVgtSHuQKquIbq0BMOw',\n",
       "   'summonerName': 'Lab 005 Kayndrew',\n",
       "   'leaguePoints': 402,\n",
       "   'rank': 'I',\n",
       "   'wins': 194,\n",
       "   'losses': 144,\n",
       "   'veteran': False,\n",
       "   'inactive': False,\n",
       "   'freshBlood': True,\n",
       "   'hotStreak': True},\n",
       "  {'summonerId': 'uxzAWSYcPJAAyCuctLyWcga4tXdo9KcgubDNLUdPa58tPiQ',\n",
       "   'summonerName': 'Paull',\n",
       "   'leaguePoints': 435,\n",
       "   'rank': 'I',\n",
       "   'wins': 278,\n",
       "   'losses': 258,\n",
       "   'veteran': False,\n",
       "   'inactive': False,\n",
       "   'freshBlood': True,\n",
       "   'hotStreak': False},\n",
       "  {'summonerId': 'tO9SxaxF2xumpB3cDfLsvk1UhO3sK0_Q7NWsx7Ifwhg36f0',\n",
       "   'summonerName': 'GuessThePlayer',\n",
       "   'leaguePoints': 451,\n",
       "   'rank': 'I',\n",
       "   'wins': 208,\n",
       "   'losses': 184,\n",
       "   'veteran': False,\n",
       "   'inactive': False,\n",
       "   'freshBlood': False,\n",
       "   'hotStreak': False},\n",
       "  {'summonerId': 'oy496GLOl24PZJva6ME7ShnzzyhJDCZ4VpPAQKTF8uUrZeQ',\n",
       "   'summonerName': 'Brandidon',\n",
       "   'leaguePoints': 592,\n",
       "   'rank': 'I',\n",
       "   'wins': 266,\n",
       "   'losses': 230,\n",
       "   'veteran': False,\n",
       "   'inactive': False,\n",
       "   'freshBlood': False,\n",
       "   'hotStreak': True},\n",
       "  {'summonerId': 'VdQJN_oB_-nQ9ENwhVxZXQBol-oMMQJBFkRkMgoMuLrvJwR_',\n",
       "   'summonerName': 'CalvinC',\n",
       "   'leaguePoints': 664,\n",
       "   'rank': 'I',\n",
       "   'wins': 117,\n",
       "   'losses': 79,\n",
       "   'veteran': False,\n",
       "   'inactive': False,\n",
       "   'freshBlood': False,\n",
       "   'hotStreak': False},\n",
       "  {'summonerId': 'ZV_0ZLBBFe6e1gOkybhISbqQukokBVBoSk7l1JcGgR4Wto1b',\n",
       "   'summonerName': 'Justinian I',\n",
       "   'leaguePoints': 491,\n",
       "   'rank': 'I',\n",
       "   'wins': 267,\n",
       "   'losses': 227,\n",
       "   'veteran': False,\n",
       "   'inactive': False,\n",
       "   'freshBlood': False,\n",
       "   'hotStreak': False},\n",
       "  {'summonerId': 'nkoEDCUWYi4sy2RgSbwLD_xo9pamjFdewJuwKsB3VcK-M44j',\n",
       "   'summonerName': 'auqaaa',\n",
       "   'leaguePoints': 603,\n",
       "   'rank': 'I',\n",
       "   'wins': 144,\n",
       "   'losses': 117,\n",
       "   'veteran': False,\n",
       "   'inactive': False,\n",
       "   'freshBlood': False,\n",
       "   'hotStreak': False},\n",
       "  {'summonerId': 'u3aZwChfr7kcbJxCAfsI5fFl6avPw6CbtSLUnFMR-p001WvDqDmCs7_n3g',\n",
       "   'summonerName': 'jindofever',\n",
       "   'leaguePoints': 668,\n",
       "   'rank': 'I',\n",
       "   'wins': 398,\n",
       "   'losses': 375,\n",
       "   'veteran': True,\n",
       "   'inactive': False,\n",
       "   'freshBlood': False,\n",
       "   'hotStreak': False},\n",
       "  {'summonerId': 'SwFVY-ecgefeTxivyhnikHMEu1OEkabGx9WAEduvq7uhLQly',\n",
       "   'summonerName': 'ecz man',\n",
       "   'leaguePoints': 393,\n",
       "   'rank': 'I',\n",
       "   'wins': 177,\n",
       "   'losses': 132,\n",
       "   'veteran': False,\n",
       "   'inactive': False,\n",
       "   'freshBlood': True,\n",
       "   'hotStreak': False},\n",
       "  {'summonerId': 'SB-K8d1iyr4YqGmsyr5TIopVrY4Zi5izW74HPCfTg3dpQnA',\n",
       "   'summonerName': '5hun',\n",
       "   'leaguePoints': 425,\n",
       "   'rank': 'I',\n",
       "   'wins': 203,\n",
       "   'losses': 160,\n",
       "   'veteran': False,\n",
       "   'inactive': False,\n",
       "   'freshBlood': True,\n",
       "   'hotStreak': True},\n",
       "  {'summonerId': 'cT9oNB-vafaWaTx-gVhHLNgoEwbzjCPr9gzxPS2Fbi7cBOU',\n",
       "   'summonerName': 'Sebs11',\n",
       "   'leaguePoints': 496,\n",
       "   'rank': 'I',\n",
       "   'wins': 329,\n",
       "   'losses': 276,\n",
       "   'veteran': False,\n",
       "   'inactive': False,\n",
       "   'freshBlood': False,\n",
       "   'hotStreak': False},\n",
       "  {'summonerId': '8Z_M-twjorX28-Omv0yM8jGoEE6m1lkAsHkwHdxpL9mVeJqa',\n",
       "   'summonerName': 'Groxie',\n",
       "   'leaguePoints': 457,\n",
       "   'rank': 'I',\n",
       "   'wins': 307,\n",
       "   'losses': 240,\n",
       "   'veteran': False,\n",
       "   'inactive': False,\n",
       "   'freshBlood': True,\n",
       "   'hotStreak': False},\n",
       "  {'summonerId': '27vspX1XX4T6pJPP569BoIJTQxIpCvbXR13wrh29PUl0mX-HAoS0hNEcuQ',\n",
       "   'summonerName': 'CLG HotshotGG',\n",
       "   'leaguePoints': 412,\n",
       "   'rank': 'I',\n",
       "   'wins': 143,\n",
       "   'losses': 108,\n",
       "   'veteran': False,\n",
       "   'inactive': False,\n",
       "   'freshBlood': True,\n",
       "   'hotStreak': False},\n",
       "  {'summonerId': '9LQJo1Mnt5GB1YVAYuwKklSXRS2ePo4IqH54jAyRUM7Bvm4',\n",
       "   'summonerName': 'RariDRIP',\n",
       "   'leaguePoints': 535,\n",
       "   'rank': 'I',\n",
       "   'wins': 113,\n",
       "   'losses': 69,\n",
       "   'veteran': False,\n",
       "   'inactive': False,\n",
       "   'freshBlood': False,\n",
       "   'hotStreak': False},\n",
       "  {'summonerId': 'VgHqPGbvAHZ8udUN_a-_WFfLepDqRvsNpDN4UHsoO4WdVb1k',\n",
       "   'summonerName': 'Kooooks',\n",
       "   'leaguePoints': 409,\n",
       "   'rank': 'I',\n",
       "   'wins': 300,\n",
       "   'losses': 284,\n",
       "   'veteran': False,\n",
       "   'inactive': False,\n",
       "   'freshBlood': True,\n",
       "   'hotStreak': False},\n",
       "  {'summonerId': 'nH3oyHO-9rVbiN4XRKqOlWt0XbYfFl1v_ZOPuneG0Exqsoh5',\n",
       "   'summonerName': 'GZaga',\n",
       "   'leaguePoints': 449,\n",
       "   'rank': 'I',\n",
       "   'wins': 165,\n",
       "   'losses': 104,\n",
       "   'veteran': False,\n",
       "   'inactive': False,\n",
       "   'freshBlood': True,\n",
       "   'hotStreak': True},\n",
       "  {'summonerId': 'LbfqZIYP6OvTubim3-jl6mC9m_afU9bfPV-R7VgN0IKYbLg',\n",
       "   'summonerName': 'YoungMoneyz',\n",
       "   'leaguePoints': 388,\n",
       "   'rank': 'I',\n",
       "   'wins': 265,\n",
       "   'losses': 231,\n",
       "   'veteran': False,\n",
       "   'inactive': False,\n",
       "   'freshBlood': False,\n",
       "   'hotStreak': False},\n",
       "  {'summonerId': '3fZIcM1SmHwPqAnqnP3dTIwoKrCZlwiecknb1OGEJ3bTSkN8',\n",
       "   'summonerName': 'DisguisedBanhmi',\n",
       "   'leaguePoints': 477,\n",
       "   'rank': 'I',\n",
       "   'wins': 273,\n",
       "   'losses': 248,\n",
       "   'veteran': False,\n",
       "   'inactive': False,\n",
       "   'freshBlood': False,\n",
       "   'hotStreak': False},\n",
       "  {'summonerId': 'BOfbTFCfJTFN7JMwoQfgJW2YRsmbwx5d9oWV3IU1AdfpTmM',\n",
       "   'summonerName': 'JaBistro',\n",
       "   'leaguePoints': 503,\n",
       "   'rank': 'I',\n",
       "   'wins': 413,\n",
       "   'losses': 406,\n",
       "   'veteran': False,\n",
       "   'inactive': False,\n",
       "   'freshBlood': False,\n",
       "   'hotStreak': False},\n",
       "  {'summonerId': 'hJkSBrzR3_4GCmHDUu4E5hzADuWcbfqnuKMzE6kRxTQugT0',\n",
       "   'summonerName': 'A shadowy figure',\n",
       "   'leaguePoints': 541,\n",
       "   'rank': 'I',\n",
       "   'wins': 518,\n",
       "   'losses': 515,\n",
       "   'veteran': False,\n",
       "   'inactive': False,\n",
       "   'freshBlood': True,\n",
       "   'hotStreak': False},\n",
       "  {'summonerId': '1TetHRUcb7x55PYVHcyZ1gufTPngYVclWBObOyj8Af43WolJJNKXQZHyKQ',\n",
       "   'summonerName': 'BurgerCheese73',\n",
       "   'leaguePoints': 413,\n",
       "   'rank': 'I',\n",
       "   'wins': 139,\n",
       "   'losses': 95,\n",
       "   'veteran': False,\n",
       "   'inactive': False,\n",
       "   'freshBlood': True,\n",
       "   'hotStreak': False},\n",
       "  {'summonerId': 'UxvvfMrhxMERzdx1Jx36vj2-QxGGW5ah_RdscscG6QgUN_I',\n",
       "   'summonerName': 'Governance',\n",
       "   'leaguePoints': 654,\n",
       "   'rank': 'I',\n",
       "   'wins': 255,\n",
       "   'losses': 226,\n",
       "   'veteran': False,\n",
       "   'inactive': False,\n",
       "   'freshBlood': False,\n",
       "   'hotStreak': False},\n",
       "  {'summonerId': 'HfRxRMrJ6dC7aAAvd6H4cnwwlALVEf3VTbSAXsUCkY9J6oMQ',\n",
       "   'summonerName': 'Bruhbruhbruh WHO',\n",
       "   'leaguePoints': 349,\n",
       "   'rank': 'I',\n",
       "   'wins': 290,\n",
       "   'losses': 261,\n",
       "   'veteran': True,\n",
       "   'inactive': False,\n",
       "   'freshBlood': False,\n",
       "   'hotStreak': False},\n",
       "  {'summonerId': 'jcB6lqMspNNvyBdYooRS6c4GlJwItK1i7TdyQz_WfKyGoxI',\n",
       "   'summonerName': 'pwnall123',\n",
       "   'leaguePoints': 471,\n",
       "   'rank': 'I',\n",
       "   'wins': 112,\n",
       "   'losses': 86,\n",
       "   'veteran': False,\n",
       "   'inactive': False,\n",
       "   'freshBlood': False,\n",
       "   'hotStreak': False},\n",
       "  {'summonerId': 'O6b5J5HSvMKavYfAf4AFHbyySsrqwl3kAws_7akriHArQc2TbTorGd1Xjg',\n",
       "   'summonerName': 'mutaaa',\n",
       "   'leaguePoints': 504,\n",
       "   'rank': 'I',\n",
       "   'wins': 157,\n",
       "   'losses': 103,\n",
       "   'veteran': False,\n",
       "   'inactive': False,\n",
       "   'freshBlood': False,\n",
       "   'hotStreak': False},\n",
       "  {'summonerId': 'Zowb4ltHxiJhFso_qQ4dkWrskt6C3pGBEDBi4g5kh09mqfWS1LohfBBOVQ',\n",
       "   'summonerName': 'ptypty18',\n",
       "   'leaguePoints': 403,\n",
       "   'rank': 'I',\n",
       "   'wins': 230,\n",
       "   'losses': 164,\n",
       "   'veteran': False,\n",
       "   'inactive': False,\n",
       "   'freshBlood': True,\n",
       "   'hotStreak': False},\n",
       "  {'summonerId': 'WyWwYoc5YPl0HF6_r-D6GOA5-kjeQ4aTfzi-NUdKnfrf5KM',\n",
       "   'summonerName': 'Kyvinn',\n",
       "   'leaguePoints': 479,\n",
       "   'rank': 'I',\n",
       "   'wins': 170,\n",
       "   'losses': 151,\n",
       "   'veteran': False,\n",
       "   'inactive': False,\n",
       "   'freshBlood': False,\n",
       "   'hotStreak': False},\n",
       "  {'summonerId': 'Ii75XHflD55I5cFW0DvY8WyCm9n5vOSq8QaQU1shKLRlAu0',\n",
       "   'summonerName': 'DerekWW',\n",
       "   'leaguePoints': 556,\n",
       "   'rank': 'I',\n",
       "   'wins': 160,\n",
       "   'losses': 137,\n",
       "   'veteran': False,\n",
       "   'inactive': False,\n",
       "   'freshBlood': False,\n",
       "   'hotStreak': True},\n",
       "  {'summonerId': 'X3ar2YfM6FeH6E0H4WtO3u1Aqg50iXsFcR6xi5PUFoM4IX8',\n",
       "   'summonerName': 'chas chas',\n",
       "   'leaguePoints': 368,\n",
       "   'rank': 'I',\n",
       "   'wins': 222,\n",
       "   'losses': 177,\n",
       "   'veteran': False,\n",
       "   'inactive': False,\n",
       "   'freshBlood': False,\n",
       "   'hotStreak': True},\n",
       "  {'summonerId': '9Dwxur6Ysy5AsygonR7aLeGB7389_yJQfL9YmeuJH_kePy4',\n",
       "   'summonerName': 'kirk1',\n",
       "   'leaguePoints': 405,\n",
       "   'rank': 'I',\n",
       "   'wins': 192,\n",
       "   'losses': 155,\n",
       "   'veteran': False,\n",
       "   'inactive': False,\n",
       "   'freshBlood': True,\n",
       "   'hotStreak': False},\n",
       "  {'summonerId': '-7mOPL5at8kp3idS5Fi1w7L7bPNgHG8disFJKXqhNTtUJx0',\n",
       "   'summonerName': 'Pinapplebun',\n",
       "   'leaguePoints': 478,\n",
       "   'rank': 'I',\n",
       "   'wins': 331,\n",
       "   'losses': 302,\n",
       "   'veteran': False,\n",
       "   'inactive': False,\n",
       "   'freshBlood': False,\n",
       "   'hotStreak': False},\n",
       "  {'summonerId': 'sSSr4LI6oOOxwH5DG27GgDatFDbm4RtMLYD-B1yeARpjIe1i',\n",
       "   'summonerName': 'TomChaw',\n",
       "   'leaguePoints': 402,\n",
       "   'rank': 'I',\n",
       "   'wins': 147,\n",
       "   'losses': 118,\n",
       "   'veteran': False,\n",
       "   'inactive': False,\n",
       "   'freshBlood': True,\n",
       "   'hotStreak': True},\n",
       "  {'summonerId': 'kKvFs0ueYO4yQk9ek5YT9T6ACU4JjILggVItiSYzpBzgWeU',\n",
       "   'summonerName': 'ManChodi',\n",
       "   'leaguePoints': 541,\n",
       "   'rank': 'I',\n",
       "   'wins': 155,\n",
       "   'losses': 108,\n",
       "   'veteran': False,\n",
       "   'inactive': False,\n",
       "   'freshBlood': False,\n",
       "   'hotStreak': True},\n",
       "  {'summonerId': 'Vp5iPigsJ2-yt--znV0rA8wztdBkmkAOuNjgMa1yYxJILdU',\n",
       "   'summonerName': 'chosam',\n",
       "   'leaguePoints': 471,\n",
       "   'rank': 'I',\n",
       "   'wins': 288,\n",
       "   'losses': 267,\n",
       "   'veteran': False,\n",
       "   'inactive': False,\n",
       "   'freshBlood': True,\n",
       "   'hotStreak': True},\n",
       "  {'summonerId': 'cNNVxdVckXzoBrOKOcvMWHiz-pu_vr7XzWiuSHdEsYG6zKg',\n",
       "   'summonerName': 'Jonu',\n",
       "   'leaguePoints': 486,\n",
       "   'rank': 'I',\n",
       "   'wins': 311,\n",
       "   'losses': 271,\n",
       "   'veteran': False,\n",
       "   'inactive': False,\n",
       "   'freshBlood': False,\n",
       "   'hotStreak': True},\n",
       "  {'summonerId': 'fAmUqCZY3sXVBtf59phtxqJVD5gVLgMl6d_EUIn2ToVEm95X',\n",
       "   'summonerName': 'YungScholar',\n",
       "   'leaguePoints': 426,\n",
       "   'rank': 'I',\n",
       "   'wins': 75,\n",
       "   'losses': 19,\n",
       "   'veteran': False,\n",
       "   'inactive': False,\n",
       "   'freshBlood': False,\n",
       "   'hotStreak': False},\n",
       "  {'summonerId': 'koXDIm2XXiHYpM_9tl7GEQA_aRjTum4z7vn1J2yDR2Jb1lY',\n",
       "   'summonerName': 'sylvester taløne',\n",
       "   'leaguePoints': 571,\n",
       "   'rank': 'I',\n",
       "   'wins': 197,\n",
       "   'losses': 159,\n",
       "   'veteran': False,\n",
       "   'inactive': False,\n",
       "   'freshBlood': True,\n",
       "   'hotStreak': False},\n",
       "  {'summonerId': 'hnnSDQ5WxWibi6cKysShxciSYkRd7hH2MtSNUerGgzvnjmynJSHZ4uc5bg',\n",
       "   'summonerName': '',\n",
       "   'leaguePoints': 474,\n",
       "   'rank': 'I',\n",
       "   'wins': 147,\n",
       "   'losses': 89,\n",
       "   'veteran': True,\n",
       "   'inactive': False,\n",
       "   'freshBlood': False,\n",
       "   'hotStreak': False},\n",
       "  {'summonerId': 'W6YhgbT8QUnEPeL2LMosL9OGP12EBEFDAoi5ha6b1k7WMc0',\n",
       "   'summonerName': 'GameBox',\n",
       "   'leaguePoints': 279,\n",
       "   'rank': 'I',\n",
       "   'wins': 432,\n",
       "   'losses': 402,\n",
       "   'veteran': False,\n",
       "   'inactive': False,\n",
       "   'freshBlood': True,\n",
       "   'hotStreak': False},\n",
       "  {'summonerId': 'uUHETvzHXygeenDRwKP3u9lJQRdD6RqFwA2b7uH1Mm4McwY',\n",
       "   'summonerName': 'Spicious',\n",
       "   'leaguePoints': 373,\n",
       "   'rank': 'I',\n",
       "   'wins': 195,\n",
       "   'losses': 164,\n",
       "   'veteran': False,\n",
       "   'inactive': False,\n",
       "   'freshBlood': True,\n",
       "   'hotStreak': False},\n",
       "  {'summonerId': 'BLJc9r4qo-OcajIBkmu5t9HQbwyWLEZzjfuuGItRJP4LUnat',\n",
       "   'summonerName': 'Sleepwalker303',\n",
       "   'leaguePoints': 482,\n",
       "   'rank': 'I',\n",
       "   'wins': 410,\n",
       "   'losses': 396,\n",
       "   'veteran': False,\n",
       "   'inactive': False,\n",
       "   'freshBlood': False,\n",
       "   'hotStreak': False},\n",
       "  {'summonerId': '4X60Ez5Z4DFIIGUIoKyNGP6RB6ajC4F7PApJtTpuXT7Jdac',\n",
       "   'summonerName': 'saiiaka',\n",
       "   'leaguePoints': 551,\n",
       "   'rank': 'I',\n",
       "   'wins': 390,\n",
       "   'losses': 352,\n",
       "   'veteran': False,\n",
       "   'inactive': False,\n",
       "   'freshBlood': True,\n",
       "   'hotStreak': False},\n",
       "  {'summonerId': 'fhhl1s3vIossjJWhkLEc_Pt9er265ZvJYv6MB1AxJ28LUU4',\n",
       "   'summonerName': '60000',\n",
       "   'leaguePoints': 550,\n",
       "   'rank': 'I',\n",
       "   'wins': 202,\n",
       "   'losses': 161,\n",
       "   'veteran': False,\n",
       "   'inactive': False,\n",
       "   'freshBlood': True,\n",
       "   'hotStreak': False},\n",
       "  {'summonerId': 'QnqtdF1TqENgz74ZctZy4PV8SuiZ0RqcSJO12REogbCb70Q',\n",
       "   'summonerName': 'Hangryperson',\n",
       "   'leaguePoints': 409,\n",
       "   'rank': 'I',\n",
       "   'wins': 170,\n",
       "   'losses': 128,\n",
       "   'veteran': False,\n",
       "   'inactive': False,\n",
       "   'freshBlood': True,\n",
       "   'hotStreak': True},\n",
       "  {'summonerId': 'U50pN1ARihQ_VpbHU6Q2nY67DfvsOxf73DVgkPSN1NY9whk',\n",
       "   'summonerName': 'Im Rasberry',\n",
       "   'leaguePoints': 527,\n",
       "   'rank': 'I',\n",
       "   'wins': 257,\n",
       "   'losses': 225,\n",
       "   'veteran': False,\n",
       "   'inactive': False,\n",
       "   'freshBlood': False,\n",
       "   'hotStreak': False},\n",
       "  {'summonerId': 'aNCpQ2OrtLFuTISogqc_ZnkRHH7BWKX8KnSArLrWJ6sc_RQ',\n",
       "   'summonerName': 'Hexagryph',\n",
       "   'leaguePoints': 421,\n",
       "   'rank': 'I',\n",
       "   'wins': 102,\n",
       "   'losses': 53,\n",
       "   'veteran': False,\n",
       "   'inactive': False,\n",
       "   'freshBlood': True,\n",
       "   'hotStreak': False},\n",
       "  {'summonerId': '3MznpGUqE-vWyanR9u3oqa_XEiWSMiXb040ooCooHIw0sZE',\n",
       "   'summonerName': 'Doble',\n",
       "   'leaguePoints': 650,\n",
       "   'rank': 'I',\n",
       "   'wins': 311,\n",
       "   'losses': 263,\n",
       "   'veteran': False,\n",
       "   'inactive': False,\n",
       "   'freshBlood': False,\n",
       "   'hotStreak': False},\n",
       "  {'summonerId': '2552ekkv4jUJQGqapEtzCnJAy-4piOK2vsxIS8TGlC78XNE',\n",
       "   'summonerName': 'DionPhaneuf',\n",
       "   'leaguePoints': 291,\n",
       "   'rank': 'I',\n",
       "   'wins': 379,\n",
       "   'losses': 337,\n",
       "   'veteran': False,\n",
       "   'inactive': False,\n",
       "   'freshBlood': True,\n",
       "   'hotStreak': False},\n",
       "  {'summonerId': 'dN87YSwE2i40BrPcSuuWtgpo7dyhokNKOvHZvA-eeeHPOAdF6fiiBOtTLA',\n",
       "   'summonerName': 'billycancarry1',\n",
       "   'leaguePoints': 512,\n",
       "   'rank': 'I',\n",
       "   'wins': 748,\n",
       "   'losses': 709,\n",
       "   'veteran': False,\n",
       "   'inactive': False,\n",
       "   'freshBlood': False,\n",
       "   'hotStreak': False},\n",
       "  {'summonerId': 'i8b6qvqDFG1XKaGjYQexAWxRHua_ssdxETGuQ8g2lN_ZPrG-',\n",
       "   'summonerName': 'wwwwwwwggggg',\n",
       "   'leaguePoints': 460,\n",
       "   'rank': 'I',\n",
       "   'wins': 371,\n",
       "   'losses': 313,\n",
       "   'veteran': False,\n",
       "   'inactive': False,\n",
       "   'freshBlood': True,\n",
       "   'hotStreak': True},\n",
       "  {'summonerId': 'iZujt1U_LcbJ0YxTjxKA1J-DKQwU4Wd8dKDO_OLD9Owkxyw',\n",
       "   'summonerName': 'Tacosu',\n",
       "   'leaguePoints': 525,\n",
       "   'rank': 'I',\n",
       "   'wins': 167,\n",
       "   'losses': 134,\n",
       "   'veteran': True,\n",
       "   'inactive': False,\n",
       "   'freshBlood': False,\n",
       "   'hotStreak': False},\n",
       "  {'summonerId': 'akdaK8kDzu8ykQaG9nE-DTf7PH4Kv23-41p8NrhY2XaxwZQ',\n",
       "   'summonerName': 'Hanhan345',\n",
       "   'leaguePoints': 488,\n",
       "   'rank': 'I',\n",
       "   'wins': 159,\n",
       "   'losses': 131,\n",
       "   'veteran': False,\n",
       "   'inactive': False,\n",
       "   'freshBlood': False,\n",
       "   'hotStreak': False},\n",
       "  {'summonerId': '6nGFfFrASalwsArJm8O1g3gDRTEVyIo3JSJwbczfm4GX43w',\n",
       "   'summonerName': 'RageModez',\n",
       "   'leaguePoints': 532,\n",
       "   'rank': 'I',\n",
       "   'wins': 400,\n",
       "   'losses': 356,\n",
       "   'veteran': True,\n",
       "   'inactive': False,\n",
       "   'freshBlood': False,\n",
       "   'hotStreak': True},\n",
       "  {'summonerId': 'rj7q2kBGz5c6zgpewJcV_frH42sFSZgHtgJ5sEELoARhKbc',\n",
       "   'summonerName': 'Darth Nub',\n",
       "   'leaguePoints': 485,\n",
       "   'rank': 'I',\n",
       "   'wins': 364,\n",
       "   'losses': 261,\n",
       "   'veteran': False,\n",
       "   'inactive': False,\n",
       "   'freshBlood': True,\n",
       "   'hotStreak': False},\n",
       "  {'summonerId': 'JZ6Mxxri0A8Tk_xmsiwFTO2razkVYq7QxjaL9nHKfQMDbvqBOfc4TfIC-Q',\n",
       "   'summonerName': 'KimSeJ',\n",
       "   'leaguePoints': 444,\n",
       "   'rank': 'I',\n",
       "   'wins': 196,\n",
       "   'losses': 162,\n",
       "   'veteran': False,\n",
       "   'inactive': False,\n",
       "   'freshBlood': True,\n",
       "   'hotStreak': False},\n",
       "  {'summonerId': 'BqberNKGSQ1-4MsIoGOA_J8ZDBwVrQs4DIG2Ies0vX3I6EM',\n",
       "   'summonerName': 'kingriaz',\n",
       "   'leaguePoints': 574,\n",
       "   'rank': 'I',\n",
       "   'wins': 132,\n",
       "   'losses': 96,\n",
       "   'veteran': False,\n",
       "   'inactive': False,\n",
       "   'freshBlood': False,\n",
       "   'hotStreak': False},\n",
       "  {'summonerId': 'fPDFGYDdShI6zXrcM3Jb9qH6XLBzg_x_owJMIB5txwREBLw',\n",
       "   'summonerName': 'DoctorL',\n",
       "   'leaguePoints': 623,\n",
       "   'rank': 'I',\n",
       "   'wins': 705,\n",
       "   'losses': 670,\n",
       "   'veteran': False,\n",
       "   'inactive': False,\n",
       "   'freshBlood': False,\n",
       "   'hotStreak': False},\n",
       "  {'summonerId': 'A6YnKzSfQF9IRr37tG5IB_8y5bWwDZOgN7lf5Rjx_HH5OXxT9BD5w2z7tA',\n",
       "   'summonerName': 'Unhert',\n",
       "   'leaguePoints': 376,\n",
       "   'rank': 'I',\n",
       "   'wins': 94,\n",
       "   'losses': 59,\n",
       "   'veteran': False,\n",
       "   'inactive': False,\n",
       "   'freshBlood': True,\n",
       "   'hotStreak': False},\n",
       "  {'summonerId': 'f9MeUPUFmvI2OAF0U_ZS6bHiauDBnBwE9rT2j2-7Hi_QIJk',\n",
       "   'summonerName': 'Xephyst',\n",
       "   'leaguePoints': 478,\n",
       "   'rank': 'I',\n",
       "   'wins': 258,\n",
       "   'losses': 211,\n",
       "   'veteran': False,\n",
       "   'inactive': False,\n",
       "   'freshBlood': False,\n",
       "   'hotStreak': False},\n",
       "  {'summonerId': 'bdwAHBX7xMComQJ1aojM6SdvmpSzDZX9PfvKPai-mJ0L87A',\n",
       "   'summonerName': 'DarkHalfAngel',\n",
       "   'leaguePoints': 410,\n",
       "   'rank': 'I',\n",
       "   'wins': 638,\n",
       "   'losses': 563,\n",
       "   'veteran': False,\n",
       "   'inactive': False,\n",
       "   'freshBlood': True,\n",
       "   'hotStreak': True},\n",
       "  {'summonerId': 'jPkflwBHsbY48RzpNrbBf_hiQJ0wtuxfTXUI5DvP3qu0TegEokTf6g4JjA',\n",
       "   'summonerName': 'veibaes thighs',\n",
       "   'leaguePoints': 415,\n",
       "   'rank': 'I',\n",
       "   'wins': 101,\n",
       "   'losses': 70,\n",
       "   'veteran': False,\n",
       "   'inactive': False,\n",
       "   'freshBlood': True,\n",
       "   'hotStreak': False},\n",
       "  {'summonerId': 'zLpe7ohTvTUuPfs81WDpHy_Z5sLckOs-dwAZ59Mx-MSQ8WU',\n",
       "   'summonerName': 'OneLifeLeft',\n",
       "   'leaguePoints': 517,\n",
       "   'rank': 'I',\n",
       "   'wins': 317,\n",
       "   'losses': 292,\n",
       "   'veteran': False,\n",
       "   'inactive': False,\n",
       "   'freshBlood': False,\n",
       "   'hotStreak': False},\n",
       "  {'summonerId': 'wcYt77mGiCVVlFPYf2jskIFyJG1mIh80DllvYVUPy0CNoa4h81LRlk8HFQ',\n",
       "   'summonerName': 'sun jia yi',\n",
       "   'leaguePoints': 608,\n",
       "   'rank': 'I',\n",
       "   'wins': 129,\n",
       "   'losses': 77,\n",
       "   'veteran': False,\n",
       "   'inactive': False,\n",
       "   'freshBlood': True,\n",
       "   'hotStreak': True},\n",
       "  {'summonerId': 'mHJG7bZ-UAOKklkpSIKhMtbP2cSluBnTOQX3ThaoGVS6qu6kRhk_wwg83w',\n",
       "   'summonerName': 'chocotte',\n",
       "   'leaguePoints': 534,\n",
       "   'rank': 'I',\n",
       "   'wins': 155,\n",
       "   'losses': 106,\n",
       "   'veteran': False,\n",
       "   'inactive': False,\n",
       "   'freshBlood': False,\n",
       "   'hotStreak': False},\n",
       "  {'summonerId': 'vyp_4sGAy4-E1m-mLMe9YdpVmRANwGoKKuLwI57ToBIeMl4',\n",
       "   'summonerName': 'Banh Trang Nuong',\n",
       "   'leaguePoints': 609,\n",
       "   'rank': 'I',\n",
       "   'wins': 212,\n",
       "   'losses': 192,\n",
       "   'veteran': False,\n",
       "   'inactive': False,\n",
       "   'freshBlood': False,\n",
       "   'hotStreak': False},\n",
       "  {'summonerId': 'naloqzx9gq-oLAkGV-8o2zNznkXhZ8zzFJTXbhi7x_4vBq8',\n",
       "   'summonerName': 'Dr Dontblink',\n",
       "   'leaguePoints': 519,\n",
       "   'rank': 'I',\n",
       "   'wins': 131,\n",
       "   'losses': 85,\n",
       "   'veteran': False,\n",
       "   'inactive': False,\n",
       "   'freshBlood': False,\n",
       "   'hotStreak': True},\n",
       "  {'summonerId': 'd_l4H-SCvcbt31Ai3LCWfrSz9xQtMtLwrYbc1xUwVkHqpXY',\n",
       "   'summonerName': 'Ortinax',\n",
       "   'leaguePoints': 385,\n",
       "   'rank': 'I',\n",
       "   'wins': 164,\n",
       "   'losses': 125,\n",
       "   'veteran': False,\n",
       "   'inactive': False,\n",
       "   'freshBlood': True,\n",
       "   'hotStreak': True},\n",
       "  {'summonerId': 'TxOanIDe28qdchyk6VrRbO14wc2z9C-p4yaDGY3g_qYzmkE',\n",
       "   'summonerName': 'Stopping',\n",
       "   'leaguePoints': 445,\n",
       "   'rank': 'I',\n",
       "   'wins': 327,\n",
       "   'losses': 298,\n",
       "   'veteran': False,\n",
       "   'inactive': False,\n",
       "   'freshBlood': False,\n",
       "   'hotStreak': False},\n",
       "  {'summonerId': 'Z0JG_ZwrzueaG_1SRMAwgko38STcV83QoDNpdBqmyEpVF599hDL-N32SIg',\n",
       "   'summonerName': 'BedgeBedgeBedge',\n",
       "   'leaguePoints': 358,\n",
       "   'rank': 'I',\n",
       "   'wins': 318,\n",
       "   'losses': 281,\n",
       "   'veteran': False,\n",
       "   'inactive': False,\n",
       "   'freshBlood': True,\n",
       "   'hotStreak': False},\n",
       "  {'summonerId': 'wlNE8lZh1OjcTHZc7MoF6AG-0mMSQIV3nwN3jNE0r7asABs',\n",
       "   'summonerName': 'alanxluc',\n",
       "   'leaguePoints': 577,\n",
       "   'rank': 'I',\n",
       "   'wins': 112,\n",
       "   'losses': 72,\n",
       "   'veteran': False,\n",
       "   'inactive': False,\n",
       "   'freshBlood': False,\n",
       "   'hotStreak': True},\n",
       "  {'summonerId': 'PzE2_k4OdwcCj4Jj7VuBE8cxwa2Mhbjbz7GI5j4KyL1WYnKH',\n",
       "   'summonerName': 'Kingmansteve',\n",
       "   'leaguePoints': 501,\n",
       "   'rank': 'I',\n",
       "   'wins': 266,\n",
       "   'losses': 233,\n",
       "   'veteran': False,\n",
       "   'inactive': False,\n",
       "   'freshBlood': False,\n",
       "   'hotStreak': False},\n",
       "  {'summonerId': 'ZlhWsqjYzZSrLVn-8KEWA-vOLw-9n1QMtqLDwSOV4-b3OfzJ',\n",
       "   'summonerName': '32B',\n",
       "   'leaguePoints': 461,\n",
       "   'rank': 'I',\n",
       "   'wins': 84,\n",
       "   'losses': 50,\n",
       "   'veteran': False,\n",
       "   'inactive': False,\n",
       "   'freshBlood': False,\n",
       "   'hotStreak': False},\n",
       "  {'summonerId': 'CgDWrnOpgsmq6y7tv-9oCXq7lmw5pHC51CEVmu3dGF2FixY',\n",
       "   'summonerName': 'aaronsoobeached',\n",
       "   'leaguePoints': 389,\n",
       "   'rank': 'I',\n",
       "   'wins': 240,\n",
       "   'losses': 200,\n",
       "   'veteran': False,\n",
       "   'inactive': False,\n",
       "   'freshBlood': True,\n",
       "   'hotStreak': False},\n",
       "  {'summonerId': 'K0rrLMFpATaGYl08PMaGgEA3FG7-BGNDzqwk0MnBSmyqYT0',\n",
       "   'summonerName': 'mutinyonthebay',\n",
       "   'leaguePoints': 478,\n",
       "   'rank': 'I',\n",
       "   'wins': 327,\n",
       "   'losses': 305,\n",
       "   'veteran': False,\n",
       "   'inactive': False,\n",
       "   'freshBlood': False,\n",
       "   'hotStreak': False},\n",
       "  {'summonerId': 'bWCgvGbyVO_cmLOkq8YKUsEYICaNlQXiy9GAk0letgXSU6A',\n",
       "   'summonerName': 'Outclass',\n",
       "   'leaguePoints': 472,\n",
       "   'rank': 'I',\n",
       "   'wins': 341,\n",
       "   'losses': 318,\n",
       "   'veteran': False,\n",
       "   'inactive': False,\n",
       "   'freshBlood': True,\n",
       "   'hotStreak': True},\n",
       "  {'summonerId': 'NlUC6T5JnHKQ3Z4AbDE_5zoUw3PTvjxOpZ9rhO2uBe3AOYBi',\n",
       "   'summonerName': 'JungleMyButt69',\n",
       "   'leaguePoints': 471,\n",
       "   'rank': 'I',\n",
       "   'wins': 162,\n",
       "   'losses': 110,\n",
       "   'veteran': False,\n",
       "   'inactive': False,\n",
       "   'freshBlood': True,\n",
       "   'hotStreak': False},\n",
       "  {'summonerId': 'b5XnF35wMVL1NdS1ZAhUs3bOP1HzgGfoBoH_rKjY5anarCQ',\n",
       "   'summonerName': 'mimivirus',\n",
       "   'leaguePoints': 483,\n",
       "   'rank': 'I',\n",
       "   'wins': 195,\n",
       "   'losses': 157,\n",
       "   'veteran': False,\n",
       "   'inactive': False,\n",
       "   'freshBlood': False,\n",
       "   'hotStreak': False},\n",
       "  {'summonerId': 'b-ZogkBdpuKV3pmpww_KOwKmbzNXnFyzFNzp2pvLhOBjrsM',\n",
       "   'summonerName': 'Day 505',\n",
       "   'leaguePoints': 359,\n",
       "   'rank': 'I',\n",
       "   'wins': 197,\n",
       "   'losses': 170,\n",
       "   'veteran': False,\n",
       "   'inactive': False,\n",
       "   'freshBlood': True,\n",
       "   'hotStreak': False},\n",
       "  {'summonerId': '6kmoRwerdym6zAFZcYsi4aONdsvTm_IsiQdw2eehLsRI7cZ2EB4aQeVXzg',\n",
       "   'summonerName': '',\n",
       "   'leaguePoints': 478,\n",
       "   'rank': 'I',\n",
       "   'wins': 160,\n",
       "   'losses': 129,\n",
       "   'veteran': True,\n",
       "   'inactive': False,\n",
       "   'freshBlood': False,\n",
       "   'hotStreak': False},\n",
       "  {'summonerId': 'XFGz1Yt5ysE2ADrjs4Sh-0q8L_e4lmVesvIzEuaP2qFJN2M',\n",
       "   'summonerName': 'Qhost',\n",
       "   'leaguePoints': 380,\n",
       "   'rank': 'I',\n",
       "   'wins': 202,\n",
       "   'losses': 155,\n",
       "   'veteran': False,\n",
       "   'inactive': False,\n",
       "   'freshBlood': True,\n",
       "   'hotStreak': True},\n",
       "  {'summonerId': 'Fk6IsmbxOfI7LDrj3LXDcKPtNh7jR7nCJniaoIGxZ6-9Q0I',\n",
       "   'summonerName': 'FunnelKing',\n",
       "   'leaguePoints': 467,\n",
       "   'rank': 'I',\n",
       "   'wins': 264,\n",
       "   'losses': 236,\n",
       "   'veteran': False,\n",
       "   'inactive': False,\n",
       "   'freshBlood': True,\n",
       "   'hotStreak': False},\n",
       "  {'summonerId': '8Z1ex7QrhU8dun3erC8OKWOXRKH9yTfAT7QzBGiJGuZs10I',\n",
       "   'summonerName': 'GurtG',\n",
       "   'leaguePoints': 636,\n",
       "   'rank': 'I',\n",
       "   'wins': 310,\n",
       "   'losses': 252,\n",
       "   'veteran': False,\n",
       "   'inactive': False,\n",
       "   'freshBlood': False,\n",
       "   'hotStreak': False},\n",
       "  {'summonerId': 'AIyXK7UEMh8_ZtkGP136HJarA2jVUMbjTcnu_ja6lob1I-9E',\n",
       "   'summonerName': 'kaedenec',\n",
       "   'leaguePoints': 369,\n",
       "   'rank': 'I',\n",
       "   'wins': 299,\n",
       "   'losses': 279,\n",
       "   'veteran': False,\n",
       "   'inactive': False,\n",
       "   'freshBlood': True,\n",
       "   'hotStreak': False},\n",
       "  {'summonerId': 'KpW-k3nWkMBowKAWZxBSfJwPsquZAkGa32mf-Fm2xQTTgW0',\n",
       "   'summonerName': 'Riot Hubris',\n",
       "   'leaguePoints': 490,\n",
       "   'rank': 'I',\n",
       "   'wins': 138,\n",
       "   'losses': 93,\n",
       "   'veteran': False,\n",
       "   'inactive': False,\n",
       "   'freshBlood': False,\n",
       "   'hotStreak': False},\n",
       "  {'summonerId': 'mE9TAo2pURJGME1IDl_DAIbNGNcWj10Df3-RJPKb4L09w0c',\n",
       "   'summonerName': 'iriketehpie',\n",
       "   'leaguePoints': 453,\n",
       "   'rank': 'I',\n",
       "   'wins': 165,\n",
       "   'losses': 145,\n",
       "   'veteran': False,\n",
       "   'inactive': False,\n",
       "   'freshBlood': True,\n",
       "   'hotStreak': False},\n",
       "  {'summonerId': 'YOKLA5d1j0PWYMctYizj8K9nOftqrNwFwU6pddNzHEOrU-M',\n",
       "   'summonerName': 'Lab 010 Barney',\n",
       "   'leaguePoints': 613,\n",
       "   'rank': 'I',\n",
       "   'wins': 200,\n",
       "   'losses': 156,\n",
       "   'veteran': False,\n",
       "   'inactive': False,\n",
       "   'freshBlood': True,\n",
       "   'hotStreak': True},\n",
       "  {'summonerId': 'wzccV9Kq03IqlnSfCtFnIDtaFWrTMREErlWpk_9aHB3Ui2zevzqI9qs_VQ',\n",
       "   'summonerName': 'fhqls',\n",
       "   'leaguePoints': 440,\n",
       "   'rank': 'I',\n",
       "   'wins': 177,\n",
       "   'losses': 152,\n",
       "   'veteran': False,\n",
       "   'inactive': False,\n",
       "   'freshBlood': True,\n",
       "   'hotStreak': False},\n",
       "  {'summonerId': 'TX3btc2WtxCZVK7ajxeJ_qW_CwGZFPpLZhbVgI_E2h_WoZ4',\n",
       "   'summonerName': 'Ajolt',\n",
       "   'leaguePoints': 497,\n",
       "   'rank': 'I',\n",
       "   'wins': 381,\n",
       "   'losses': 358,\n",
       "   'veteran': False,\n",
       "   'inactive': False,\n",
       "   'freshBlood': False,\n",
       "   'hotStreak': False},\n",
       "  {'summonerId': 'QxwWDfMhWiwo6t3wEtozTLza688GKFWZRfg7-GV-lN7qmJw',\n",
       "   'summonerName': 'diqdaq',\n",
       "   'leaguePoints': 400,\n",
       "   'rank': 'I',\n",
       "   'wins': 187,\n",
       "   'losses': 156,\n",
       "   'veteran': False,\n",
       "   'inactive': False,\n",
       "   'freshBlood': True,\n",
       "   'hotStreak': True},\n",
       "  {'summonerId': 'l83i-jsJxKrMAj3JSiUk3imrm91uS5AJCUQja-LEA127cluu',\n",
       "   'summonerName': 'Marshmadillo',\n",
       "   'leaguePoints': 415,\n",
       "   'rank': 'I',\n",
       "   'wins': 232,\n",
       "   'losses': 209,\n",
       "   'veteran': False,\n",
       "   'inactive': False,\n",
       "   'freshBlood': True,\n",
       "   'hotStreak': False},\n",
       "  {'summonerId': 'FaD_nqpbiiyiSTNqdk7POAuHQvuYebkzLQG-NgO0kaEt4VTXITx58E4CEA',\n",
       "   'summonerName': 'WDGNostalgia',\n",
       "   'leaguePoints': 657,\n",
       "   'rank': 'I',\n",
       "   'wins': 245,\n",
       "   'losses': 213,\n",
       "   'veteran': False,\n",
       "   'inactive': False,\n",
       "   'freshBlood': True,\n",
       "   'hotStreak': False},\n",
       "  {'summonerId': 'OzpsxAxCdIKSqC_19mq4-KHA2LcbIA5a4H7S3HvQfavnSQc',\n",
       "   'summonerName': 'Filup',\n",
       "   'leaguePoints': 537,\n",
       "   'rank': 'I',\n",
       "   'wins': 446,\n",
       "   'losses': 301,\n",
       "   'veteran': False,\n",
       "   'inactive': False,\n",
       "   'freshBlood': True,\n",
       "   'hotStreak': False},\n",
       "  {'summonerId': 'm-G4-xokEK7HDjkJIHKAFzxr12GBolXMGJHfFv3iK9t84D49otZ-rSTTLw',\n",
       "   'summonerName': 'jamjamminjam',\n",
       "   'leaguePoints': 466,\n",
       "   'rank': 'I',\n",
       "   'wins': 140,\n",
       "   'losses': 105,\n",
       "   'veteran': False,\n",
       "   'inactive': False,\n",
       "   'freshBlood': True,\n",
       "   'hotStreak': False},\n",
       "  {'summonerId': 'hM8VA5XH2pU4Eq2P1BCvR9ArvPShOqI0fRRE44VscKdQOxwt',\n",
       "   'summonerName': 'dadadaxigua',\n",
       "   'leaguePoints': 377,\n",
       "   'rank': 'I',\n",
       "   'wins': 292,\n",
       "   'losses': 271,\n",
       "   'veteran': False,\n",
       "   'inactive': False,\n",
       "   'freshBlood': True,\n",
       "   'hotStreak': False},\n",
       "  {'summonerId': 'dY0aJ-Y9pW2Q78g4OwQMUFUMEG4XUoW8lgsSOq26EcNlRqI',\n",
       "   'summonerName': 'iSquirtle',\n",
       "   'leaguePoints': 374,\n",
       "   'rank': 'I',\n",
       "   'wins': 382,\n",
       "   'losses': 332,\n",
       "   'veteran': False,\n",
       "   'inactive': False,\n",
       "   'freshBlood': True,\n",
       "   'hotStreak': False},\n",
       "  {'summonerId': 'jQBbysHEv6AEmYlS5Jzz8jcWjCLmy6X7tH3lGQDlxH571HM',\n",
       "   'summonerName': 'welp3',\n",
       "   'leaguePoints': 381,\n",
       "   'rank': 'I',\n",
       "   'wins': 324,\n",
       "   'losses': 281,\n",
       "   'veteran': False,\n",
       "   'inactive': False,\n",
       "   'freshBlood': False,\n",
       "   'hotStreak': False},\n",
       "  {'summonerId': 'dynR8_Bu5yzisYMXdbcpWI2AC-l1KLEz5yGG6rkUbWbd6cU',\n",
       "   'summonerName': 'Nova2011',\n",
       "   'leaguePoints': 481,\n",
       "   'rank': 'I',\n",
       "   'wins': 213,\n",
       "   'losses': 184,\n",
       "   'veteran': False,\n",
       "   'inactive': False,\n",
       "   'freshBlood': False,\n",
       "   'hotStreak': False},\n",
       "  {'summonerId': 'AIk4JmJm32SR7tupnninEQpDrHpvLEYF4r5fGlFrvXATKXZUsCCVO-Pxbg',\n",
       "   'summonerName': 'Windy Afternoon',\n",
       "   'leaguePoints': 589,\n",
       "   'rank': 'I',\n",
       "   'wins': 558,\n",
       "   'losses': 496,\n",
       "   'veteran': False,\n",
       "   'inactive': False,\n",
       "   'freshBlood': False,\n",
       "   'hotStreak': True},\n",
       "  {'summonerId': 'ALlTHDkt9mHsRTMJy6VATIip3Pz9hVOoEYTB-Goek1Wa6VM',\n",
       "   'summonerName': 'IamActuallyLvL1',\n",
       "   'leaguePoints': 644,\n",
       "   'rank': 'I',\n",
       "   'wins': 347,\n",
       "   'losses': 301,\n",
       "   'veteran': False,\n",
       "   'inactive': False,\n",
       "   'freshBlood': False,\n",
       "   'hotStreak': False},\n",
       "  {'summonerId': 'VRUQL0ynyNantB_sXeeU1gSFKhK6pLcy-X98AG-avjXV8Il4wZBaqWUgeQ',\n",
       "   'summonerName': 'RealShreddedSimp',\n",
       "   'leaguePoints': 359,\n",
       "   'rank': 'I',\n",
       "   'wins': 179,\n",
       "   'losses': 148,\n",
       "   'veteran': False,\n",
       "   'inactive': False,\n",
       "   'freshBlood': True,\n",
       "   'hotStreak': False},\n",
       "  {'summonerId': 'ohFGLJHtdPhInx3vUo9NnJ6Y_8zuxmBEAeOrMB_FZ5qca6lm',\n",
       "   'summonerName': 'SNRK9000',\n",
       "   'leaguePoints': 616,\n",
       "   'rank': 'I',\n",
       "   'wins': 313,\n",
       "   'losses': 264,\n",
       "   'veteran': False,\n",
       "   'inactive': False,\n",
       "   'freshBlood': False,\n",
       "   'hotStreak': False},\n",
       "  {'summonerId': '6kc9o1hEzZ3UvrQZzf2xUlx5UH4QbxcfNyIlB7P_Uu61lKw',\n",
       "   'summonerName': 'CoolCatamoto',\n",
       "   'leaguePoints': 384,\n",
       "   'rank': 'I',\n",
       "   'wins': 122,\n",
       "   'losses': 78,\n",
       "   'veteran': False,\n",
       "   'inactive': False,\n",
       "   'freshBlood': True,\n",
       "   'hotStreak': False},\n",
       "  {'summonerId': 'AGYUs4egfFXq3Ui0eQnI9UvWBQI1QLnh-CT_fopV-MDz97g',\n",
       "   'summonerName': 'Ayetrix',\n",
       "   'leaguePoints': 578,\n",
       "   'rank': 'I',\n",
       "   'wins': 379,\n",
       "   'losses': 349,\n",
       "   'veteran': True,\n",
       "   'inactive': False,\n",
       "   'freshBlood': False,\n",
       "   'hotStreak': False},\n",
       "  {'summonerId': 'EM020oU7RQFqLS-BFiLhdZC_21e5t07ewERGe8L6A-wNHEQ',\n",
       "   'summonerName': 'Bayeux Bill',\n",
       "   'leaguePoints': 524,\n",
       "   'rank': 'I',\n",
       "   'wins': 142,\n",
       "   'losses': 111,\n",
       "   'veteran': False,\n",
       "   'inactive': False,\n",
       "   'freshBlood': False,\n",
       "   'hotStreak': True},\n",
       "  {'summonerId': 'RwRpqH0JsMZHKLyxt-krC5RGjI-xTRUkMI1rC433GjXF2QY',\n",
       "   'summonerName': 'Indulge Xuan',\n",
       "   'leaguePoints': 519,\n",
       "   'rank': 'I',\n",
       "   'wins': 229,\n",
       "   'losses': 189,\n",
       "   'veteran': False,\n",
       "   'inactive': False,\n",
       "   'freshBlood': False,\n",
       "   'hotStreak': False},\n",
       "  {'summonerId': '0SbraWl4nWUZxvsn8Wmz4tmjh4eT5QAldM-xOYzAUDWOk8-P',\n",
       "   'summonerName': 'Gregthunder',\n",
       "   'leaguePoints': 527,\n",
       "   'rank': 'I',\n",
       "   'wins': 176,\n",
       "   'losses': 124,\n",
       "   'veteran': False,\n",
       "   'inactive': False,\n",
       "   'freshBlood': False,\n",
       "   'hotStreak': True},\n",
       "  {'summonerId': 'XKdIhMpVuwg3MRVdM36wvAehyRCl-ehjmECWkmyXmCfzOYdP',\n",
       "   'summonerName': 'Champagne99',\n",
       "   'leaguePoints': 613,\n",
       "   'rank': 'I',\n",
       "   'wins': 327,\n",
       "   'losses': 304,\n",
       "   'veteran': False,\n",
       "   'inactive': False,\n",
       "   'freshBlood': False,\n",
       "   'hotStreak': False},\n",
       "  {'summonerId': 'Veh2OhthxoSnhU2zeJdH6iW0ODUjPs4Yru_BequKbVn8kSaD',\n",
       "   'summonerName': 'puddingmao',\n",
       "   'leaguePoints': 549,\n",
       "   'rank': 'I',\n",
       "   'wins': 207,\n",
       "   'losses': 177,\n",
       "   'veteran': False,\n",
       "   'inactive': False,\n",
       "   'freshBlood': False,\n",
       "   'hotStreak': False},\n",
       "  {'summonerId': 'naOx4QCEgz2hItknktayHHIpCDCE7hr9wOMjSQFuAvuKtjQ',\n",
       "   'summonerName': 'Tadokor0 Megumi',\n",
       "   'leaguePoints': 408,\n",
       "   'rank': 'I',\n",
       "   'wins': 163,\n",
       "   'losses': 138,\n",
       "   'veteran': False,\n",
       "   'inactive': False,\n",
       "   'freshBlood': True,\n",
       "   'hotStreak': True},\n",
       "  {'summonerId': 'oz2XHXmwyrYJu_qwXBCjtE9098hMQ26kwB_BIl41RLwKjEU',\n",
       "   'summonerName': 'EclipZ TwiSt',\n",
       "   'leaguePoints': 490,\n",
       "   'rank': 'I',\n",
       "   'wins': 318,\n",
       "   'losses': 288,\n",
       "   'veteran': False,\n",
       "   'inactive': False,\n",
       "   'freshBlood': False,\n",
       "   'hotStreak': True},\n",
       "  {'summonerId': 'F2gVk8Fjwfq3eti_GjQSFoFlxY8ynFHKCKK9BuYJW8neQsCu',\n",
       "   'summonerName': 'Zhu 8 Jie',\n",
       "   'leaguePoints': 480,\n",
       "   'rank': 'I',\n",
       "   'wins': 225,\n",
       "   'losses': 170,\n",
       "   'veteran': False,\n",
       "   'inactive': False,\n",
       "   'freshBlood': False,\n",
       "   'hotStreak': False},\n",
       "  {'summonerId': '-Q3aymiDupaLLi1FBx18RyK58kZnTD6_v29POaHjzcf5HDlI',\n",
       "   'summonerName': 'kohada20',\n",
       "   'leaguePoints': 495,\n",
       "   'rank': 'I',\n",
       "   'wins': 152,\n",
       "   'losses': 120,\n",
       "   'veteran': False,\n",
       "   'inactive': False,\n",
       "   'freshBlood': False,\n",
       "   'hotStreak': False},\n",
       "  {'summonerId': '9l_pX1eIB9NDTEHW2jK4O8cQZbtL0ws2ronirkAJq9cIaZ8',\n",
       "   'summonerName': 'BYongski79',\n",
       "   'leaguePoints': 536,\n",
       "   'rank': 'I',\n",
       "   'wins': 346,\n",
       "   'losses': 315,\n",
       "   'veteran': False,\n",
       "   'inactive': False,\n",
       "   'freshBlood': False,\n",
       "   'hotStreak': False},\n",
       "  {'summonerId': 'CKTjHwlY88_qYIEpSxCLws6A3QrUulWON4gqU1uoaUqLkoE',\n",
       "   'summonerName': 'narutofan2017',\n",
       "   'leaguePoints': 531,\n",
       "   'rank': 'I',\n",
       "   'wins': 121,\n",
       "   'losses': 88,\n",
       "   'veteran': False,\n",
       "   'inactive': False,\n",
       "   'freshBlood': False,\n",
       "   'hotStreak': False},\n",
       "  {'summonerId': 'CVtGtaEAJgyqroe-oVHpszDygxLMRKkbjmVfNSsAb74bN-c',\n",
       "   'summonerName': 'mybadimsorry',\n",
       "   'leaguePoints': 448,\n",
       "   'rank': 'I',\n",
       "   'wins': 335,\n",
       "   'losses': 324,\n",
       "   'veteran': False,\n",
       "   'inactive': False,\n",
       "   'freshBlood': True,\n",
       "   'hotStreak': False},\n",
       "  {'summonerId': 'MIlhUalKDZdgUNrOT8NoBUxYrxEyZEwplxiH4oJ_hiEZru4',\n",
       "   'summonerName': 'Lmited',\n",
       "   'leaguePoints': 585,\n",
       "   'rank': 'I',\n",
       "   'wins': 273,\n",
       "   'losses': 226,\n",
       "   'veteran': False,\n",
       "   'inactive': False,\n",
       "   'freshBlood': False,\n",
       "   'hotStreak': True},\n",
       "  {'summonerId': 'S2NhFF_LqEnUlqE4d-lLk-YxGNlbt-ZmwzPpj_l2815NLNI',\n",
       "   'summonerName': 'Ye Tai Hui',\n",
       "   'leaguePoints': 644,\n",
       "   'rank': 'I',\n",
       "   'wins': 442,\n",
       "   'losses': 414,\n",
       "   'veteran': False,\n",
       "   'inactive': False,\n",
       "   'freshBlood': False,\n",
       "   'hotStreak': False},\n",
       "  {'summonerId': 'GBjRQr1N4STkpPf6S9c9QZVIKZnJY8AN24O7cBz1dSjZhMg',\n",
       "   'summonerName': 'Ryosh',\n",
       "   'leaguePoints': 437,\n",
       "   'rank': 'I',\n",
       "   'wins': 246,\n",
       "   'losses': 223,\n",
       "   'veteran': False,\n",
       "   'inactive': False,\n",
       "   'freshBlood': False,\n",
       "   'hotStreak': False},\n",
       "  {'summonerId': 'fLfOhnrbSgWMMp0CQdko9UwBuYpUtVzcfi61MwWFF4ov17M',\n",
       "   'summonerName': 'dhthy',\n",
       "   'leaguePoints': 379,\n",
       "   'rank': 'I',\n",
       "   'wins': 269,\n",
       "   'losses': 267,\n",
       "   'veteran': False,\n",
       "   'inactive': False,\n",
       "   'freshBlood': False,\n",
       "   'hotStreak': False},\n",
       "  {'summonerId': '7LL1tvTUtRrCxho3rGgKo1-UQqPbImUKgfbW_KwAx27AyKE',\n",
       "   'summonerName': 'Iloveva3a',\n",
       "   'leaguePoints': 442,\n",
       "   'rank': 'I',\n",
       "   'wins': 239,\n",
       "   'losses': 209,\n",
       "   'veteran': False,\n",
       "   'inactive': False,\n",
       "   'freshBlood': False,\n",
       "   'hotStreak': False},\n",
       "  {'summonerId': 'YWJ9LESESTNdcFJBCnPGQQtrhjOENCATxqnpSdUt07tJ9wbL',\n",
       "   'summonerName': 'CharmsnareNA',\n",
       "   'leaguePoints': 631,\n",
       "   'rank': 'I',\n",
       "   'wins': 171,\n",
       "   'losses': 131,\n",
       "   'veteran': True,\n",
       "   'inactive': False,\n",
       "   'freshBlood': False,\n",
       "   'hotStreak': False},\n",
       "  {'summonerId': '0J-yapt-R-tX-SEsZF9HOW5ipY5cuKzl_Rbd_ZpVTAQD3IM',\n",
       "   'summonerName': 'Uncreative001',\n",
       "   'leaguePoints': 448,\n",
       "   'rank': 'I',\n",
       "   'wins': 248,\n",
       "   'losses': 239,\n",
       "   'veteran': False,\n",
       "   'inactive': False,\n",
       "   'freshBlood': False,\n",
       "   'hotStreak': False},\n",
       "  {'summonerId': 'HyZ0bYWItjispzlWuUtG5IW62-9uB7PblskHsKa0eZ_Ch7U',\n",
       "   'summonerName': 'baka25',\n",
       "   'leaguePoints': 511,\n",
       "   'rank': 'I',\n",
       "   'wins': 220,\n",
       "   'losses': 204,\n",
       "   'veteran': False,\n",
       "   'inactive': False,\n",
       "   'freshBlood': False,\n",
       "   'hotStreak': False},\n",
       "  {'summonerId': 'k2cxNEFslwRMLCUA5KUMaXhuJkyc0vu_sNMH3EMt7_HzS_c',\n",
       "   'summonerName': 'Trvp',\n",
       "   'leaguePoints': 451,\n",
       "   'rank': 'I',\n",
       "   'wins': 266,\n",
       "   'losses': 227,\n",
       "   'veteran': False,\n",
       "   'inactive': False,\n",
       "   'freshBlood': True,\n",
       "   'hotStreak': True},\n",
       "  {'summonerId': 'PLU7_2S1HRm5on4NVCBtrp_av7xgRA0zN7ks_TwgzYhucRU',\n",
       "   'summonerName': 'Jyu V Grace',\n",
       "   'leaguePoints': 510,\n",
       "   'rank': 'I',\n",
       "   'wins': 384,\n",
       "   'losses': 368,\n",
       "   'veteran': False,\n",
       "   'inactive': False,\n",
       "   'freshBlood': False,\n",
       "   'hotStreak': False},\n",
       "  {'summonerId': 'K1XwVD66BqK2wMY8A2PWV6FOLFREv52PnmV0j2RxwF7xYPhVisjZz_CYfg',\n",
       "   'summonerName': '',\n",
       "   'leaguePoints': 528,\n",
       "   'rank': 'I',\n",
       "   'wins': 100,\n",
       "   'losses': 59,\n",
       "   'veteran': False,\n",
       "   'inactive': False,\n",
       "   'freshBlood': False,\n",
       "   'hotStreak': False},\n",
       "  {'summonerId': 'UzG8v8KbqTD4IsSMsLaHZ3neQtUOQbKwX7IB2Bnp6kBzfn8',\n",
       "   'summonerName': 'NotAddicted',\n",
       "   'leaguePoints': 519,\n",
       "   'rank': 'I',\n",
       "   'wins': 135,\n",
       "   'losses': 124,\n",
       "   'veteran': False,\n",
       "   'inactive': False,\n",
       "   'freshBlood': False,\n",
       "   'hotStreak': False},\n",
       "  {'summonerId': 'Mco85H7_ZGQdJmzDEKAWN7zFA_X7n-wdDqxfb3URk8Wj2UaS7s2Yf5gV7w',\n",
       "   'summonerName': 'observered',\n",
       "   'leaguePoints': 552,\n",
       "   'rank': 'I',\n",
       "   'wins': 339,\n",
       "   'losses': 320,\n",
       "   'veteran': False,\n",
       "   'inactive': False,\n",
       "   'freshBlood': False,\n",
       "   'hotStreak': False},\n",
       "  {'summonerId': 't9tQhj2LFZpch-1aV7D_QfrBk2M4G6I8un3G5-xi7PMimUU',\n",
       "   'summonerName': 'FuzzyPillowz',\n",
       "   'leaguePoints': 417,\n",
       "   'rank': 'I',\n",
       "   'wins': 374,\n",
       "   'losses': 349,\n",
       "   'veteran': False,\n",
       "   'inactive': False,\n",
       "   'freshBlood': True,\n",
       "   'hotStreak': False},\n",
       "  {'summonerId': 'JBTBGeM4nnpLW6uIjucfK_W5MKZApUmuESJdshMJMNsWrUVOhgvwKAvKcg',\n",
       "   'summonerName': 'Intenzou',\n",
       "   'leaguePoints': 426,\n",
       "   'rank': 'I',\n",
       "   'wins': 136,\n",
       "   'losses': 105,\n",
       "   'veteran': False,\n",
       "   'inactive': False,\n",
       "   'freshBlood': True,\n",
       "   'hotStreak': False},\n",
       "  {'summonerId': 'JUAF21QE4SxEwK4ysk-X2000pQoPXbImzw0Wz1GD-jGMZYgX4ATfMfuHuw',\n",
       "   'summonerName': 'tyreaal',\n",
       "   'leaguePoints': 451,\n",
       "   'rank': 'I',\n",
       "   'wins': 342,\n",
       "   'losses': 294,\n",
       "   'veteran': False,\n",
       "   'inactive': False,\n",
       "   'freshBlood': False,\n",
       "   'hotStreak': False},\n",
       "  {'summonerId': 'zLzJhVO-uJN9EzkUIHahjesPZqixF6IfMkrpt6BXlIYeLyw',\n",
       "   'summonerName': 'Attack on Tower',\n",
       "   'leaguePoints': 467,\n",
       "   'rank': 'I',\n",
       "   'wins': 288,\n",
       "   'losses': 272,\n",
       "   'veteran': False,\n",
       "   'inactive': False,\n",
       "   'freshBlood': False,\n",
       "   'hotStreak': False},\n",
       "  {'summonerId': '5BuS1YBbvQlD94ymzb8lEGPYcz7FgVaCOQbVIbzKjRnSLc2L',\n",
       "   'summonerName': '0goldtop4',\n",
       "   'leaguePoints': 414,\n",
       "   'rank': 'I',\n",
       "   'wins': 110,\n",
       "   'losses': 79,\n",
       "   'veteran': False,\n",
       "   'inactive': False,\n",
       "   'freshBlood': True,\n",
       "   'hotStreak': False},\n",
       "  {'summonerId': 'HiUrKe-COPLwQH7sNPnQIzmfudgj17msIBmIDifPWOeeAX8',\n",
       "   'summonerName': 'YerAWizardAhri',\n",
       "   'leaguePoints': 666,\n",
       "   'rank': 'I',\n",
       "   'wins': 410,\n",
       "   'losses': 398,\n",
       "   'veteran': False,\n",
       "   'inactive': False,\n",
       "   'freshBlood': False,\n",
       "   'hotStreak': True},\n",
       "  {'summonerId': '27cLnl3t-L0f2O1eB0G2f_ns8EFHRM1r1SX7uzlJQRHStgk',\n",
       "   'summonerName': 'eahr vaysiuh fw',\n",
       "   'leaguePoints': 492,\n",
       "   'rank': 'I',\n",
       "   'wins': 238,\n",
       "   'losses': 206,\n",
       "   'veteran': False,\n",
       "   'inactive': False,\n",
       "   'freshBlood': False,\n",
       "   'hotStreak': False},\n",
       "  {'summonerId': 'v6Z-Po-7pwXalZrSVILjEdatY5GNkhvZlu0IQ4U3jy2TW_Q',\n",
       "   'summonerName': 'Rookey123',\n",
       "   'leaguePoints': 560,\n",
       "   'rank': 'I',\n",
       "   'wins': 165,\n",
       "   'losses': 143,\n",
       "   'veteran': False,\n",
       "   'inactive': False,\n",
       "   'freshBlood': False,\n",
       "   'hotStreak': False},\n",
       "  {'summonerId': 'WOthsz6zMT1k6pduJx8nx3y1CW1ipDEg_G29_QuYbi7RVkmo7ASfpFbEyA',\n",
       "   'summonerName': 'atrealsheldor',\n",
       "   'leaguePoints': 356,\n",
       "   'rank': 'I',\n",
       "   'wins': 103,\n",
       "   'losses': 84,\n",
       "   'veteran': False,\n",
       "   'inactive': False,\n",
       "   'freshBlood': True,\n",
       "   'hotStreak': False},\n",
       "  {'summonerId': 'l6mOX_A1-PknMpi9QV8p1niw_WFPBmjLUC4vKIgtECVc',\n",
       "   'summonerName': 'Stonerule',\n",
       "   'leaguePoints': 392,\n",
       "   'rank': 'I',\n",
       "   'wins': 220,\n",
       "   'losses': 187,\n",
       "   'veteran': False,\n",
       "   'inactive': False,\n",
       "   'freshBlood': True,\n",
       "   'hotStreak': True},\n",
       "  {'summonerId': 'DSgHxwOges5zAe0QPfRhiO8RDwe2R2iLSKG-VKHQzikyJvM',\n",
       "   'summonerName': 'phlox fan 2',\n",
       "   'leaguePoints': 489,\n",
       "   'rank': 'I',\n",
       "   'wins': 291,\n",
       "   'losses': 258,\n",
       "   'veteran': False,\n",
       "   'inactive': False,\n",
       "   'freshBlood': False,\n",
       "   'hotStreak': False},\n",
       "  {'summonerId': 'VRqXKv2yHLSbem1JWl7VkscK_uqR_ZEe2sqAMunZWBOZGZPuZbKKP6QwYg',\n",
       "   'summonerName': 'taroumilk',\n",
       "   'leaguePoints': 440,\n",
       "   'rank': 'I',\n",
       "   'wins': 333,\n",
       "   'losses': 328,\n",
       "   'veteran': False,\n",
       "   'inactive': False,\n",
       "   'freshBlood': False,\n",
       "   'hotStreak': False},\n",
       "  {'summonerId': 'xIp_xN27IzmYmNil9BkVlwoTHUDN2Xhywy6hq91ZwRUz8kY',\n",
       "   'summonerName': 'GeniusAwakened',\n",
       "   'leaguePoints': 812,\n",
       "   'rank': 'I',\n",
       "   'wins': 604,\n",
       "   'losses': 555,\n",
       "   'veteran': False,\n",
       "   'inactive': False,\n",
       "   'freshBlood': True,\n",
       "   'hotStreak': True},\n",
       "  {'summonerId': 'oXVlsXVvbgmheN5ObFQuhC2ijEnLRsniCXYxIyEz4rUPii8',\n",
       "   'summonerName': 'fatcowftw',\n",
       "   'leaguePoints': 565,\n",
       "   'rank': 'I',\n",
       "   'wins': 157,\n",
       "   'losses': 136,\n",
       "   'veteran': False,\n",
       "   'inactive': False,\n",
       "   'freshBlood': False,\n",
       "   'hotStreak': False},\n",
       "  {'summonerId': 'Cv9d98muCKpJ4ZrjtER4FeNe24Yib53ZAwbamsdI53Fe3QE',\n",
       "   'summonerName': 'Phantasm0',\n",
       "   'leaguePoints': 369,\n",
       "   'rank': 'I',\n",
       "   'wins': 199,\n",
       "   'losses': 163,\n",
       "   'veteran': False,\n",
       "   'inactive': False,\n",
       "   'freshBlood': True,\n",
       "   'hotStreak': True},\n",
       "  {'summonerId': 'J76Ew9mSko0A-GtGLEgb7xr_KMQnn4Z5a6dVsp_87RrC2xWPXlgPR1LXpA',\n",
       "   'summonerName': 'JŠP',\n",
       "   'leaguePoints': 491,\n",
       "   'rank': 'I',\n",
       "   'wins': 381,\n",
       "   'losses': 314,\n",
       "   'veteran': False,\n",
       "   'inactive': False,\n",
       "   'freshBlood': False,\n",
       "   'hotStreak': False},\n",
       "  {'summonerId': 'nRaSEVqa9bpelB_IKkOGjp5JVSXKLff0CWYix6QOyaBWMQc',\n",
       "   'summonerName': 'ThatDarnLobster',\n",
       "   'leaguePoints': 466,\n",
       "   'rank': 'I',\n",
       "   'wins': 233,\n",
       "   'losses': 208,\n",
       "   'veteran': False,\n",
       "   'inactive': False,\n",
       "   'freshBlood': False,\n",
       "   'hotStreak': True},\n",
       "  {'summonerId': 'VfQtnxDlHzrs1cs4Q6x5ksyyqBZVgPzFk_b-AxuVqIkb5txKVR-XZb2dnw',\n",
       "   'summonerName': 'mrchab0',\n",
       "   'leaguePoints': 461,\n",
       "   'rank': 'I',\n",
       "   'wins': 211,\n",
       "   'losses': 178,\n",
       "   'veteran': False,\n",
       "   'inactive': False,\n",
       "   'freshBlood': False,\n",
       "   'hotStreak': False},\n",
       "  {'summonerId': 'YvDWwwuKPGklJI4YOzgLY7RD2W5EeA6Ul4kQLsZ5bviwQrw',\n",
       "   'summonerName': 'Mikoto Misaka',\n",
       "   'leaguePoints': 599,\n",
       "   'rank': 'I',\n",
       "   'wins': 116,\n",
       "   'losses': 76,\n",
       "   'veteran': False,\n",
       "   'inactive': False,\n",
       "   'freshBlood': False,\n",
       "   'hotStreak': True},\n",
       "  {'summonerId': 'lLx7L4wWbOKEAW-Wf4XZLhVter8eooUL0bnoh43EdPQAZ3U',\n",
       "   'summonerName': 'Reliabull',\n",
       "   'leaguePoints': 586,\n",
       "   'rank': 'I',\n",
       "   'wins': 242,\n",
       "   'losses': 195,\n",
       "   'veteran': False,\n",
       "   'inactive': False,\n",
       "   'freshBlood': False,\n",
       "   'hotStreak': True},\n",
       "  {'summonerId': 'WnJByZI1wjkXsC4q5Mi1sI2SegPPV2adP_FIP4OJ17cCpyvdllXuY4AD-Q',\n",
       "   'summonerName': '',\n",
       "   'leaguePoints': 638,\n",
       "   'rank': 'I',\n",
       "   'wins': 361,\n",
       "   'losses': 339,\n",
       "   'veteran': False,\n",
       "   'inactive': False,\n",
       "   'freshBlood': True,\n",
       "   'hotStreak': False},\n",
       "  {'summonerId': 'qTPWKbkvacm94HuyAXq7OByJfkYKGBxCGfFAIYSE7RJzZM6e',\n",
       "   'summonerName': 'kzf',\n",
       "   'leaguePoints': 409,\n",
       "   'rank': 'I',\n",
       "   'wins': 106,\n",
       "   'losses': 79,\n",
       "   'veteran': False,\n",
       "   'inactive': False,\n",
       "   'freshBlood': True,\n",
       "   'hotStreak': True},\n",
       "  {'summonerId': 'utySn3xsNCfap-_102Qd8tzpTE8ZYvq13JzcVsJME25aKBqS',\n",
       "   'summonerName': 'CR Noz',\n",
       "   'leaguePoints': 503,\n",
       "   'rank': 'I',\n",
       "   'wins': 450,\n",
       "   'losses': 422,\n",
       "   'veteran': False,\n",
       "   'inactive': False,\n",
       "   'freshBlood': True,\n",
       "   'hotStreak': False},\n",
       "  {'summonerId': 'W_lGArjchqhE5Keg0LEsox_RJT3E3JtIEyN0nf5EjgMx6TH0ZvD5BNBXoQ',\n",
       "   'summonerName': 'nayn4y',\n",
       "   'leaguePoints': 530,\n",
       "   'rank': 'I',\n",
       "   'wins': 171,\n",
       "   'losses': 135,\n",
       "   'veteran': False,\n",
       "   'inactive': False,\n",
       "   'freshBlood': False,\n",
       "   'hotStreak': False},\n",
       "  {'summonerId': 'i9VHcR-XU0QB_Xaw0ttgEtjQdoNve8o4NlE48RPa-M0G1IE',\n",
       "   'summonerName': 'Suzumiya Haruhi',\n",
       "   'leaguePoints': 451,\n",
       "   'rank': 'I',\n",
       "   'wins': 115,\n",
       "   'losses': 97,\n",
       "   'veteran': False,\n",
       "   'inactive': False,\n",
       "   'freshBlood': True,\n",
       "   'hotStreak': False},\n",
       "  {'summonerId': 'mp6_nfYWZg4WsKG1NrQ4KiGU4p-kTWLL4tfGUVmSte18_Zo',\n",
       "   'summonerName': 'PogiTheCorgi',\n",
       "   'leaguePoints': 552,\n",
       "   'rank': 'I',\n",
       "   'wins': 295,\n",
       "   'losses': 273,\n",
       "   'veteran': False,\n",
       "   'inactive': False,\n",
       "   'freshBlood': True,\n",
       "   'hotStreak': False},\n",
       "  {'summonerId': 'O3rDnlal6lnmaP9b-qDoNT-MyaKp5a2iFoEUcTVUaUGhMBmW',\n",
       "   'summonerName': 'ingan23',\n",
       "   'leaguePoints': 450,\n",
       "   'rank': 'I',\n",
       "   'wins': 354,\n",
       "   'losses': 284,\n",
       "   'veteran': False,\n",
       "   'inactive': False,\n",
       "   'freshBlood': True,\n",
       "   'hotStreak': True},\n",
       "  {'summonerId': 'NBWmEgfKrrfmU7plDA_7L8RqCXFdpU8k9Qp6S6JmDXZCFQs',\n",
       "   'summonerName': 'Absoleus',\n",
       "   'leaguePoints': 452,\n",
       "   'rank': 'I',\n",
       "   'wins': 156,\n",
       "   'losses': 128,\n",
       "   'veteran': False,\n",
       "   'inactive': False,\n",
       "   'freshBlood': False,\n",
       "   'hotStreak': False},\n",
       "  {'summonerId': 'QuLQdiNkpAbR0FLKLLmujyFHy2h0SsJvurg5mNHIsrEz1z4',\n",
       "   'summonerName': 'Alzip',\n",
       "   'leaguePoints': 410,\n",
       "   'rank': 'I',\n",
       "   'wins': 183,\n",
       "   'losses': 164,\n",
       "   'veteran': False,\n",
       "   'inactive': False,\n",
       "   'freshBlood': True,\n",
       "   'hotStreak': True},\n",
       "  {'summonerId': 'Pc65Mz6Q80QWMf8ncpRfqW3B31ym1Qw50eS5RcIL1w63CRo9qDKqvFlL8w',\n",
       "   'summonerName': '',\n",
       "   'leaguePoints': 427,\n",
       "   'rank': 'I',\n",
       "   'wins': 180,\n",
       "   'losses': 131,\n",
       "   'veteran': False,\n",
       "   'inactive': False,\n",
       "   'freshBlood': False,\n",
       "   'hotStreak': False},\n",
       "  {'summonerId': 'y5eSSVt9Z2q09SggXSWHwLDKjgnLs8xF8eWsA_iGYPhmiBo',\n",
       "   'summonerName': '0520',\n",
       "   'leaguePoints': 521,\n",
       "   'rank': 'I',\n",
       "   'wins': 171,\n",
       "   'losses': 142,\n",
       "   'veteran': False,\n",
       "   'inactive': False,\n",
       "   'freshBlood': False,\n",
       "   'hotStreak': False},\n",
       "  {'summonerId': '5Gj_ArDl_XY4yevGrNaf0c_jTFfjttD_yywAenCOcyvA_vH6vePHWORPBw',\n",
       "   'summonerName': 'owuS',\n",
       "   'leaguePoints': 393,\n",
       "   'rank': 'I',\n",
       "   'wins': 130,\n",
       "   'losses': 105,\n",
       "   'veteran': False,\n",
       "   'inactive': False,\n",
       "   'freshBlood': True,\n",
       "   'hotStreak': False},\n",
       "  {'summonerId': 'Cz3sNtl3zOLHcUYi1Agv0NUyqkbde_eZevyn1u7mrK_JaHE',\n",
       "   'summonerName': 'ThisIsAGodDream',\n",
       "   'leaguePoints': 426,\n",
       "   'rank': 'I',\n",
       "   'wins': 239,\n",
       "   'losses': 205,\n",
       "   'veteran': False,\n",
       "   'inactive': False,\n",
       "   'freshBlood': True,\n",
       "   'hotStreak': False},\n",
       "  {'summonerId': '0FY9zs6qDDXcvYOYcMgk5CYvTwA2I9263TprNrGu8090zyU',\n",
       "   'summonerName': 'MomoRay',\n",
       "   'leaguePoints': 401,\n",
       "   'rank': 'I',\n",
       "   'wins': 109,\n",
       "   'losses': 80,\n",
       "   'veteran': False,\n",
       "   'inactive': False,\n",
       "   'freshBlood': True,\n",
       "   'hotStreak': False},\n",
       "  {'summonerId': 'rIC3u-52Mpmp5X54jkzXee9ayk2u8yw9uQaYyFs7eA',\n",
       "   'summonerName': 'LvI 1',\n",
       "   'leaguePoints': 504,\n",
       "   'rank': 'I',\n",
       "   'wins': 283,\n",
       "   'losses': 258,\n",
       "   'veteran': False,\n",
       "   'inactive': False,\n",
       "   'freshBlood': False,\n",
       "   'hotStreak': False},\n",
       "  {'summonerId': 'AuNZlDmo4EnZn19Cvl4fu5pwHhXHExISxqg9Y4wp7uVFtDp30TXCT3z1fQ',\n",
       "   'summonerName': 'Piwattz',\n",
       "   'leaguePoints': 438,\n",
       "   'rank': 'I',\n",
       "   'wins': 412,\n",
       "   'losses': 395,\n",
       "   'veteran': False,\n",
       "   'inactive': False,\n",
       "   'freshBlood': True,\n",
       "   'hotStreak': True},\n",
       "  {'summonerId': 'k9HHDTZC7rFcnEYx0fmHy5tBX6Ry5Tr8LHzxxdb86wyKd6I',\n",
       "   'summonerName': 'red bublz',\n",
       "   'leaguePoints': 509,\n",
       "   'rank': 'I',\n",
       "   'wins': 337,\n",
       "   'losses': 328,\n",
       "   'veteran': False,\n",
       "   'inactive': False,\n",
       "   'freshBlood': False,\n",
       "   'hotStreak': False},\n",
       "  {'summonerId': '6NxzeryzxpbSJ5Xbhh3megW4Xn5mU-NsSrp0QDx23EkKlNGR',\n",
       "   'summonerName': 'Rennie',\n",
       "   'leaguePoints': 484,\n",
       "   'rank': 'I',\n",
       "   'wins': 872,\n",
       "   'losses': 845,\n",
       "   'veteran': True,\n",
       "   'inactive': False,\n",
       "   'freshBlood': False,\n",
       "   'hotStreak': False},\n",
       "  {'summonerId': 'lnI3cAxtCwfsNpTVgEerx7KfZcPmrGJRNnlH2O0T78rcZA3P',\n",
       "   'summonerName': 'xXLucina420Xx',\n",
       "   'leaguePoints': 674,\n",
       "   'rank': 'I',\n",
       "   'wins': 531,\n",
       "   'losses': 477,\n",
       "   'veteran': True,\n",
       "   'inactive': False,\n",
       "   'freshBlood': False,\n",
       "   'hotStreak': True},\n",
       "  {'summonerId': 'E6Brz5-GFJYbnDjCFZvF6Xtm2D8U7Ey5P1meoYN1e3WhU1Q',\n",
       "   'summonerName': 'youmen741',\n",
       "   'leaguePoints': 611,\n",
       "   'rank': 'I',\n",
       "   'wins': 143,\n",
       "   'losses': 96,\n",
       "   'veteran': False,\n",
       "   'inactive': False,\n",
       "   'freshBlood': False,\n",
       "   'hotStreak': False},\n",
       "  {'summonerId': 'Nn8f6lEbZH5EUeh0eNQC0JnPldbuOxXOR7-ZPDfi-ozdyGhX7fkzbdwHpQ',\n",
       "   'summonerName': 'hellokevvie',\n",
       "   'leaguePoints': 375,\n",
       "   'rank': 'I',\n",
       "   'wins': 186,\n",
       "   'losses': 157,\n",
       "   'veteran': False,\n",
       "   'inactive': False,\n",
       "   'freshBlood': True,\n",
       "   'hotStreak': False},\n",
       "  {'summonerId': '2VS0QrWUBUK_19wVoVtWnkN3Ysi0U1BZUAiasLFbEX9uF2w',\n",
       "   'summonerName': 'Prince Timothy',\n",
       "   'leaguePoints': 390,\n",
       "   'rank': 'I',\n",
       "   'wins': 283,\n",
       "   'losses': 261,\n",
       "   'veteran': False,\n",
       "   'inactive': False,\n",
       "   'freshBlood': True,\n",
       "   'hotStreak': False},\n",
       "  {'summonerId': 'pN7n0oHGKYFR1oF-whL4hqNitlL3khBTRwm0y4UrElq2tl4',\n",
       "   'summonerName': 'devlus',\n",
       "   'leaguePoints': 380,\n",
       "   'rank': 'I',\n",
       "   'wins': 523,\n",
       "   'losses': 494,\n",
       "   'veteran': False,\n",
       "   'inactive': False,\n",
       "   'freshBlood': False,\n",
       "   'hotStreak': False},\n",
       "  {'summonerId': 'fEfRRPeqgeIcIZq4b37_OBkDdJ1aPv5pXnxBavy4Hn0kXlg',\n",
       "   'summonerName': 'korok',\n",
       "   'leaguePoints': 436,\n",
       "   'rank': 'I',\n",
       "   'wins': 165,\n",
       "   'losses': 149,\n",
       "   'veteran': False,\n",
       "   'inactive': False,\n",
       "   'freshBlood': False,\n",
       "   'hotStreak': False},\n",
       "  {'summonerId': 'g9JJvMpMPsWDQTP6SPme3Ga6GYtbJlOjHxBiYE2VHyk_Q8XR',\n",
       "   'summonerName': 'HighIQBrain',\n",
       "   'leaguePoints': 613,\n",
       "   'rank': 'I',\n",
       "   'wins': 207,\n",
       "   'losses': 170,\n",
       "   'veteran': False,\n",
       "   'inactive': False,\n",
       "   'freshBlood': False,\n",
       "   'hotStreak': False},\n",
       "  {'summonerId': '10cbIjmTFxfwlkx-ra2A12CHPEkzzGKSNhQrsZnuqhJ5ykU',\n",
       "   'summonerName': 'ItzKrazy',\n",
       "   'leaguePoints': 357,\n",
       "   'rank': 'I',\n",
       "   'wins': 135,\n",
       "   'losses': 107,\n",
       "   'veteran': False,\n",
       "   'inactive': False,\n",
       "   'freshBlood': True,\n",
       "   'hotStreak': False},\n",
       "  {'summonerId': '5Ip9MxabJ9UNsm1FpM5MU_7CA9npjxa4w1pBcGwvV_iw612ijvQdzHMytg',\n",
       "   'summonerName': '',\n",
       "   'leaguePoints': 494,\n",
       "   'rank': 'I',\n",
       "   'wins': 82,\n",
       "   'losses': 32,\n",
       "   'veteran': False,\n",
       "   'inactive': False,\n",
       "   'freshBlood': False,\n",
       "   'hotStreak': False},\n",
       "  {'summonerId': '2OULNSFHqldztnvrXiiA7LtyZl7esxFfafJ29OkAMRIUrjrT',\n",
       "   'summonerName': 'Magarky',\n",
       "   'leaguePoints': 659,\n",
       "   'rank': 'I',\n",
       "   'wins': 101,\n",
       "   'losses': 53,\n",
       "   'veteran': False,\n",
       "   'inactive': False,\n",
       "   'freshBlood': False,\n",
       "   'hotStreak': False},\n",
       "  {'summonerId': 'LNbj5a4ucsciINETyCfE8AKm8ZiJXsFeQZ_i3dBstgN1xpJc',\n",
       "   'summonerName': 'amygdala gf',\n",
       "   'leaguePoints': 380,\n",
       "   'rank': 'I',\n",
       "   'wins': 184,\n",
       "   'losses': 160,\n",
       "   'veteran': False,\n",
       "   'inactive': False,\n",
       "   'freshBlood': True,\n",
       "   'hotStreak': False},\n",
       "  {'summonerId': 'ZlHRSJk4h8m-iLQkM_Z3KSLbQqzoRQmBN4uHxbeUY0oosVw',\n",
       "   'summonerName': 'sasukii uchiihaa',\n",
       "   'leaguePoints': 475,\n",
       "   'rank': 'I',\n",
       "   'wins': 300,\n",
       "   'losses': 247,\n",
       "   'veteran': False,\n",
       "   'inactive': False,\n",
       "   'freshBlood': False,\n",
       "   'hotStreak': True},\n",
       "  {'summonerId': 'NrVnCw38_6NoeqWetw3Vlh1qksqvIPwV-8FHPvX-RKMWPBsBpEj_pkVxVg',\n",
       "   'summonerName': 'Susamongusmoment',\n",
       "   'leaguePoints': 391,\n",
       "   'rank': 'I',\n",
       "   'wins': 519,\n",
       "   'losses': 478,\n",
       "   'veteran': False,\n",
       "   'inactive': False,\n",
       "   'freshBlood': True,\n",
       "   'hotStreak': False},\n",
       "  {'summonerId': 'Rf8qzjh6XEv9B-6d95wN9rjrqtfcdEYn7owk4AWh10cQvaDS',\n",
       "   'summonerName': 'b0ffEU',\n",
       "   'leaguePoints': 575,\n",
       "   'rank': 'I',\n",
       "   'wins': 338,\n",
       "   'losses': 315,\n",
       "   'veteran': False,\n",
       "   'inactive': False,\n",
       "   'freshBlood': False,\n",
       "   'hotStreak': False},\n",
       "  {'summonerId': '-B3A_dRhdbI3GOL_ClZCrePoXwcJoC6phtvJ3pL5fhzYs8w',\n",
       "   'summonerName': 'birbholic',\n",
       "   'leaguePoints': 540,\n",
       "   'rank': 'I',\n",
       "   'wins': 144,\n",
       "   'losses': 101,\n",
       "   'veteran': False,\n",
       "   'inactive': False,\n",
       "   'freshBlood': False,\n",
       "   'hotStreak': False},\n",
       "  {'summonerId': 'z_GX5rz80tbJpwKTVn0srXjq4cy1dG4C6AwSb-2wSNxLd1Y',\n",
       "   'summonerName': 'ocean banana',\n",
       "   'leaguePoints': 548,\n",
       "   'rank': 'I',\n",
       "   'wins': 336,\n",
       "   'losses': 286,\n",
       "   'veteran': False,\n",
       "   'inactive': False,\n",
       "   'freshBlood': False,\n",
       "   'hotStreak': False},\n",
       "  {'summonerId': 'sU01hO-yB56tuw0ee77jIn1NRZ0E-D3kYoth3FBBFWZbBeA',\n",
       "   'summonerName': 'Blahyay',\n",
       "   'leaguePoints': 439,\n",
       "   'rank': 'I',\n",
       "   'wins': 276,\n",
       "   'losses': 222,\n",
       "   'veteran': False,\n",
       "   'inactive': False,\n",
       "   'freshBlood': False,\n",
       "   'hotStreak': True},\n",
       "  {'summonerId': '5i79sVtfZRXtBmsHrUImebvh2J_qJK8V_2AMQt61PIpJ-72F',\n",
       "   'summonerName': 'SirLongwood',\n",
       "   'leaguePoints': 355,\n",
       "   'rank': 'I',\n",
       "   'wins': 160,\n",
       "   'losses': 127,\n",
       "   'veteran': False,\n",
       "   'inactive': False,\n",
       "   'freshBlood': False,\n",
       "   'hotStreak': True},\n",
       "  {'summonerId': 'UrXpp6yX16B6bhHJ9K24clJLDBlVdQHjbc3X_tNhe4f1d8s9',\n",
       "   'summonerName': 'shikamemadoka',\n",
       "   'leaguePoints': 613,\n",
       "   'rank': 'I',\n",
       "   'wins': 778,\n",
       "   'losses': 682,\n",
       "   'veteran': False,\n",
       "   'inactive': False,\n",
       "   'freshBlood': False,\n",
       "   'hotStreak': False},\n",
       "  {'summonerId': 'FnM-Kzjz9NS9DUqH7z9kXUK5LUJ-RPkzkOd-V-tX3CLqOpMS',\n",
       "   'summonerName': 'Bruaiden',\n",
       "   'leaguePoints': 390,\n",
       "   'rank': 'I',\n",
       "   'wins': 321,\n",
       "   'losses': 307,\n",
       "   'veteran': False,\n",
       "   'inactive': False,\n",
       "   'freshBlood': True,\n",
       "   'hotStreak': True},\n",
       "  {'summonerId': '2QK8BbngZHvEhM4KEiz9ZkWqcfMQNMs6T8aJyYge5I9USUNWuMlOrnmZ7w',\n",
       "   'summonerName': 'wocao michael',\n",
       "   'leaguePoints': 457,\n",
       "   'rank': 'I',\n",
       "   'wins': 240,\n",
       "   'losses': 223,\n",
       "   'veteran': False,\n",
       "   'inactive': False,\n",
       "   'freshBlood': True,\n",
       "   'hotStreak': False}]}"
      ]
     },
     "execution_count": 4,
     "metadata": {},
     "output_type": "execute_result"
    }
   ],
   "source": [
    "GRANDMASTER = response.json()\n",
    "GRANDMASTER"
   ]
  },
  {
   "cell_type": "code",
   "execution_count": 5,
   "id": "2d0dc530",
   "metadata": {
    "collapsed": false,
    "jupyter": {
     "outputs_hidden": false
    },
    "pycharm": {
     "name": "#%%\n"
    }
   },
   "outputs": [
    {
     "data": {
      "text/plain": [
       "['kIy1qHo-rjmtPnYY0Dn4PzyRsDxMBBUAxyit5zEB1TSTc-7f6BwKBlKI9A',\n",
       " 'GVKwjbUfODUlssrR4LIbMvCGy9YhspLXgdMgbldusV8pjbE',\n",
       " 'JLEZdyISIwz2a6nojw5JlCAinHdZly2Kn7Z121NUeRNz0X4',\n",
       " 'Iz3dGEHAIdeGvOPAwcU6iBz7TqtIe13E88PnJEXFKWWkxTw',\n",
       " 'Bm-RPDNNg3dINGc0nxKOo2YMhDBcHEv3nSY0YZp7cAfETI0',\n",
       " '4Xz_yRkZw31l9XJGmGLcC5R3gQE_4GWMena7-HLfPTGk184',\n",
       " 'muQO49lzXihiMFVkux7CFTcBQhtlYSSQ7Aj1-wohUPCH_xjp',\n",
       " 'R7O6_1-joKVvGC0I7yb2bv1QCx3nDGN57XEhdiHDgJ0w0lA',\n",
       " 'cbvfKUodjTEkWDhHquPj5Jg1uDqDehJMvrPFC0fKuU--2ECf',\n",
       " 'HypnK1g4PhxdoYolNapZSiNLOGM1XDsvzUlC6afI4LXCbR_f',\n",
       " 'fom9dmzkge8r9BpfDs5_tVZv1dsiyBpQ22cS30vCaAriT-k',\n",
       " '4jzxfjsCLt7KI9KYSdaCk_yGdqdZb4UfTNMtSykccO2XjgU',\n",
       " '-T1WP3YFy0ZAjeE2UMXN0pi6jQSER5Tmqt2GX3p6Z1TUIdo',\n",
       " 'JAK9EHKMsmnXtN2PkNSqx99r3LDEs0ql2cCXZ1uIMrlKk9c',\n",
       " '6BkR3MdEG8jYnVn7bL1eSV7eyCFjrQ_7cfR_V3zSlvN7UI0',\n",
       " '3u2eeRmQY1AcMkYVzQE08lXczl7ZpNjUqiAjZAV1WMi7bf_X',\n",
       " 'Od1xOgYCo6MDjkwt2LXo2D23pUlgVcwvV3990aB-ZQsbNdKwTVlBKQzpSg',\n",
       " 'fQaR5X3jDkXk78t9bfLKX_Q70fSLO7VOyXne62yaRY7A9cjr',\n",
       " 'mz_sm5q7t6I7ir6Xy6wFv-Elc_an2zY-TA3f_Jr6X4ZVoy8',\n",
       " 'bfSg9_pNCXnLZIpEWGm3oYwBDzMLNFSJ5Bfa9WhflyRpby0',\n",
       " 'VAA_s8Mp8DVATHYy1KtgmvP8OlE9vY7oBcYoStgyTx_-7S6b6F2gIWb5QQ',\n",
       " '36aEemriaUFr2LNZhVMREM01Q3AKHWfGtwcnZfNZioixAUtsjdfkKBqFeg',\n",
       " 'xjHO8591IdrBBS7_oKAAOVfn8fXE94fvIPDXBbOI9v8O9OY',\n",
       " 'Jdi9L-jzCKXmprRg3P18cjMBTLBLvpNM1enIv5zZ494l0b0',\n",
       " 'hAPlBeasKyVNjbxHCBKkcxy0-NLXOtvB5xaf4AfmXLQooTs',\n",
       " 'FH5oX6bJV3ho8n6H8Y_cTTCxLbD98LEasMG9jFf-ieUZ4CVXcLp004FUgQ',\n",
       " '1EDP0TjtRbRM8AHqrKJgkkArcQdxiCNz_bgixOpciBFUuc8',\n",
       " 'ZsP8nDJT_fnjuSHKcjp54u8cho-xLG0wrB-i7Lm2RTTAaR8',\n",
       " 'SMos36hNpOV44Er5YjCrSFy2KMZmI_W3qNBpZDbrxn3jwFo',\n",
       " '1eCTK14eelvbINtDTxFYQbmCCmrIkZ8e3dOrdE8H5eN67Vg',\n",
       " '9unyslGCSQN5IvjDfi4yOvqZj2wLcpe2aThm3DgeqhI_-8NG',\n",
       " 'wQxbQmGhQxkJSepxBbs8IdmkRineYJ8xziO3UwqZrCKf5qo',\n",
       " '-ZQPK5O0DkILI92CWLxsr8C4DGL4bRvvFKvgziIsYdKTWGk',\n",
       " 'U6kCQGqaaoH1LwQ2-sewstqKBCu2BraIwBswI-ZZKplIDXk',\n",
       " 'm9XSthAAfK-1pV3p_1kb3nHpgUQ39lCxPeIW_vnB6qIdFJQ',\n",
       " 'HCQVxx_j4jI_3O7WhakjAlXbzHX236EheSGGcj2yOUS3sUE',\n",
       " 'Qv1c43Gdftd76UUiyIVqAG5Q1I4viERRg20_pTW6h67YKiQ',\n",
       " 'Kqla8vtQDoc2gqoxRViwJdy3d-7r-UefFGocfWbv-8zifhU',\n",
       " 'i9-lldkteowplDG8MP_Z5HZrj2mUm8WXniGruVpSkLIfhrU',\n",
       " 'TA-bmvWZAPUYBgaX6AGJhH6gXcqLm4XdggCD_soqUnDeMak',\n",
       " 'n_Ytpcxv7h2p7HgE4oaJEy6a99prqecJ9zYApuEZD-opcvpU',\n",
       " 'KInibVUR_ZnoouSKLoy4QWiKZQCwYDFNHoyCldM2FlAfB6g',\n",
       " 'w0Plo_K2VYPkpI9Lr_ncm2OO3V8SYJdWPOsIR5lgCs4BZWiW0iMDBjVX4w',\n",
       " 'k8GwXgZ3FiUJoxMfa-jklMFIPdN8OiIeJ3Tc71Oi-o8geEi_s9KynfTkQg',\n",
       " 'EY8Xulx-JmnYOgForpQWeQehoUaLX-ob0Gm2z2okLAbc2EQ',\n",
       " 'VYKaKnpwZqwOQf1SjqpcCV1qOGIWDGzH1bHqoR53C01YG6wH',\n",
       " 'z6VSkaMkthuqKK5pF47twvNWNKLAsVWo1zKfxUGZmqHLogo',\n",
       " 'ZeBwPYYM30WNKIzjx0zLbzWnpQ9IFrh1hMRS1O7IJ86rISE',\n",
       " 'McOifjfpxGDcr-a2W6hyW8NUxyv7cuXt9HX4GexNN40XkrI',\n",
       " 'd09wl8rfldy46Y83SK6o_RzY0doOrYUtUvHOg_xcZL3-',\n",
       " 'BWvQyQn8vNAMxgYSQ_FEmFzBflp7oDFzDz3m9nAa0q-aSiQ',\n",
       " 'Eei2-pMLEoffIygeeW-8hyrf6dhepZJPNPSF2XAtziY8-779H_nqUxSgXQ',\n",
       " '1fgmtPZ4V5LdFP1ppBIWm6x8yFPQLKfdyAHHtlbWryy8xKo',\n",
       " 'jJrmLJdsFTGGpPt6RDqqbldb_KVIb9Wz-GZdXvk7GEdXjqg',\n",
       " 'NIgSzDmuRwAIgxqw38g2PPKBmqxX8Ng14jgcihVOF3hO-CKd',\n",
       " 'GWEcNHyR66hn-_85DlEQ3eG9Smws08l2OpzVIGCyLT-pJQc',\n",
       " 'VZqMLnBSaO-J_emwIqJsa3f09t0pOuwehdXgEq_U1jJE64r1',\n",
       " 'J9IkvcvYkcFEtvW5BKO-d4iLoEXrgMsN1nTSGtsgR3NTkv4',\n",
       " 'OPuvLsGP9tjJIZc1tmMvB0_h0Iq1lLdUKP9cqvK14e7d6s4',\n",
       " '6EVnpLd5_sLtLaxp9yXRVQqMpROVwErPOPL4VTlq2KWA8l4',\n",
       " 'VQTK5j9unqh3oB9VOfO6VVIdaxsDaZj6n5WXzh9nngoDex8suqk_2xVD7w',\n",
       " 'ZeipdSvD-UsTZEB9I57PdTpZdxvJ_P6uOsGWbJS29ADOx9LWhzUaB5YURw',\n",
       " 'CsOkHuC1_vVKvgxZSTyDiEo4t1KFWajOLxP6C9ADnydLAis',\n",
       " 'h9V38uPNaQrtI2ge9gF4VNn7VPBXHMApzDiwXkWtdYJqzJo',\n",
       " 'bCDcxoSNY59-gF_47LxFFmProV4cKB5FLo97FZOrTBlnyIGcqQDTuWuOdA',\n",
       " 'jXE_vuIffWWy2o2gpqyurU2LTySxta9MDYur0plRsg0I_dNQ',\n",
       " '33t5V8mkysRO5Q5xxaz8czSR4P8LOt9FD-2FKE7qANOJHJKD76yXvDx13Q',\n",
       " 'YUq_S-KZvGLbpauu9lsh7eOL1rhc1lqcaygb8rXgeXFZoWzi',\n",
       " 'kIieJfx57KTm06hi25pvI-LoxAlXcIPB4l351O_oFbI0Gq8cZA0s_Flr7g',\n",
       " 'bAdn-AjeheKkZ-Ub325JAcgccAgZUOLSNX98upu19ptiagE',\n",
       " 'y8ton0EonshSb0agjCJcnapefi5qp9hT6tbf1CkGOMp7vjI',\n",
       " 'Cp2cudstFYxsNmMxE_UhLWIsoF7eLOMw0H0J1FnVs9k1ZHb6BAiARy8BcA',\n",
       " '8mZX6J3COCg9_RelDt64_7ElMeGoraVWrLZ8sVu5YedKEqY',\n",
       " 'Hc2QDeE2ollK3Zvlsf7sRBP28uq-dXEAMW8pzQzKmZyxafQ',\n",
       " '0Xx-emkqz9MxJ3F7NhLYYXVSN3HVmopqxf5LdJ0verFBklA',\n",
       " '_O2-kbd_Ep-EW_sPzLnE6MWO_p87orxqQQ0sh6lc05Mh1d_I',\n",
       " '-5KTDT0HM68U0KItRjgP0b4_-tRNzDBO6brnwtJFPaJwMHo',\n",
       " 'tdAT3xdeZ_3ZbHsuY9FuQsbVLIzEtBvxbYK4weR-4HsHAV8',\n",
       " '_pOkJMVwanIuJgSyyrAhotcHwVmLQBpHwrjJH7cut3YTDrQmjwCzRnKQog',\n",
       " 'UTff8GMlL32L2Am-VXA4wSt-62j3I-NcCC7IhIpL1bVuSr4',\n",
       " 'cEepVLUowmQRhRy0jEyZqCHMdD3UxYktdsn1VrIt3LKMOX6FdzWkU6plFw',\n",
       " 'hcz8R9cV4NkVEio4Qje94kguERQpFLrLQi8lN_Q5Z-aMlR4',\n",
       " 'Lv63Pfl4qPWT4-IkWyN6kDwxQxwO4Qxr5_78yFMSqgvjb6c',\n",
       " 'c0LcRxVuqjvAAq4Dg4u5zQBGjO-n8-Uu-fL8iryQOU_OXoI',\n",
       " 'y9QJ0T4VC015s_2AETr_MlTmp2efltqw_V5Rh0u4LJ7d30U',\n",
       " 'e5DQhq8-LkapQtDCieRVlUbCbostdZxeLKlQQFbGvAVmbzN6roWKCA3HXQ',\n",
       " 'Ia3oSvtq5im5qleSWNDrW9JfTp9ZckK2qIXz9egIuAjleYAenOH0Olv67Q',\n",
       " 'gDTcBncTZffAYZ6ByilsyS6RNn9oUa2_GpOI2Hnm9x2IYWY',\n",
       " 'VwMxlWtyuOt2iYT1Y14MYNRIFg2u5avXeawkc0cgtgvHd1g',\n",
       " '1Pn446TYu9YtqYfGcILuE3Qv3WL37cSBdIdjK8FI1Rpj15R0K-ldU0m5fQ',\n",
       " 'ryTgupGPrTMGDMA5VVbCy6C6gz7-cxLO90CVMYBvdKsXvNET',\n",
       " 'BW8tB1q26Es_HhQJWC4pNPHtpQvPfWwdpglOMmZyRWAwFgc',\n",
       " 'sw_l00iajwu5cRD22y9PEc1RdpwXGk3FFDto0QKXZwXZ_a0',\n",
       " '6o8Rq1p6O4mnfW27PScTNdaO0fpktUY30A08czm2BFS3JXRh',\n",
       " 'esv-v3DLSXdRS7xM9oZjayai4W-8ZdIhZvnESgOqIv26TeY',\n",
       " 'op5lRY0S_bbzragsNO-pFD1yS2757j1xB8iJYOqA9HLKc0O03ih286PBxg',\n",
       " 'lPi89vcpa7f0TfePL3f1k5wrFLBOFcPlj4NWhXZMlk3yiuY',\n",
       " 'D2zQ_2XpEtslfz8PQn7uDGxmTCZfby1G2YEMIeEqWr_7Wlo',\n",
       " 'InCMETYHBKT8i1LzbUaEi5arQF3D-rgrQN7X4EHeuBEYGyQ',\n",
       " 'vIoV6KuwxErwzCyUpnuOwph09JMEasqyfeSnWWvF6z2kXNI',\n",
       " 'bnxtJcu0gbARHQTyrqWMvVZUTjkypaKud7rgQiO2MczkAROAEW6IPI5tdg',\n",
       " 'iSlSVDx2HvHKaTnkTcsK1Lun2FkROngahH5NrI6MIgGHhxE8I7h0ENBPFA',\n",
       " 'dZRvRB85mVWhJXrjH0zT6qKc85kqLoAUhkRUNmk9XSrR3yuMrCawjzfrvg',\n",
       " 'b-ML9s0FUmc-9QjxZrOpUyaK6D5VbqbQs4BJ-nK4fCYR_mylZ2meRpSKPA',\n",
       " 'n3UdDcWND6EnADwLElewBQKT14ACYVsWygoMvMQAAGJIn5E',\n",
       " 'kTuoNFwtxXtgAGsTSGcRXawh1t3fRZuwEpWoXoopc2KlpPo',\n",
       " 'dwNyyakaV2paJOzWzHHcVwtwKJrUPIeMhVlsBPEJJcGAUl0',\n",
       " 'gRi7MKqevcbmjDrDUxEs6IYteEKvo8ArbbOMbkKm9X61gcGi',\n",
       " 'sejCVxQTM8qhoNdbUu5ySFSN1qv-AQohn4wnSLsGfRGQ80WbbvAl6AgpaQ',\n",
       " 'nSf2cOqMTZ2pFpvzvTvqLCoBN2Peh469IS2UiSsR_1B_1Ts',\n",
       " 'spoKjJWIrRL1mj0mik3HJfbSqsQTm-8cZmp-dhZ0GNC2QgH-',\n",
       " '2NZhOU8j2XSDe8Svo7AecWQoxZWi4R5yZDOsrM1nf5E0Sqmgbvu5yu2OKg',\n",
       " 'ENPZDolCFLOXqpGmFQsY2ydNlfuo2O-fjdWqZHb06yyaLwY',\n",
       " '38DvtDUEldqAeq4_epTEF2DidRwGiot5kj4BM6bpPFYe4t4',\n",
       " 'ebvfEepblb1xX2-bq_4kDPua6JGcHk48a7RvhFQw74F8c0w',\n",
       " 'jQf5dgBADAsaQBq95nOWJ5x77ouRaD4zEhF9U0NBDaXGA4x3gPwcUynQnw',\n",
       " '9v-19TrhZGabq6A1ez0sHNGfO8H-doNsINGEYxPXVbsBfcsq',\n",
       " 'qVyZas4bkrnr_KPUEAMtv60ShyvnHVfRBufVEMsi-nN0ASI',\n",
       " 'beZmZc3ij_IaDGQnvxKCsjUb9-FAHj0j2FUdgM9hVJQ-3LI',\n",
       " 'eBsblVB4wKy7klZ4mTzic_FMpH1kH2NDqq5tu9HL9ksIkm8',\n",
       " 'Ba5Gj0q8DdQEjftW1T1SdSCBajiou7QncIEUcfZYBksNiaJl-dWbArL0qQ',\n",
       " 'OodSWMPFjHBzQKH8S_H27oU7Nl1PrfdSfdzw4nK2zHZe76H9824pgq2jkA',\n",
       " 'UbCQ_BoL7AbX9ViTn7M1m9MyrJi2_glh0C0WYMvH6r_4TTE',\n",
       " 'ybiDsRfnsrOL1AGE-SOIVFn1blcajoBPCVfMvBQowYagZ6g',\n",
       " 'kWAsY9EJbWL_SlLTHZXa5jv_Woh62nqdQTL9WAMjLkmvypo',\n",
       " 'X7A7UdY1yJF1jfnJcNGuCX2DLexODSxHtBqAbn1KcEumnJjsnOhHrKJtQg',\n",
       " '3M1AX19zMBQsyCkoA5BsFc0OwhlBt7sy4CQw247wjf0u4y0',\n",
       " 'BebjM7jWMFODa0cbfoMFwYzLYBhcyfc-mO7fnyLD1usQuM8',\n",
       " 'kv7NweLDnnU8fx3YajyHY2CbLkF1ZEbtG7Y01QRa0vkwENk',\n",
       " '1yHKVfBOhfZnA_8c5AB-NvNgNpeI45bn45V1J4FZ7VyGIC4mir3E--DMOg',\n",
       " 'PyNew-iAqQ0Jjli-f2ZlMoHbb18fogoiGI83ZGbV4rGZROI',\n",
       " 'Dg8g21dfmr4wgifeckYbiTm1moQ_IHczlmFJMqvsEoYPfPs',\n",
       " 'SYFt3ga3PHdc4PO3pnWxl9KVhCcAhf1MnW55BfcVNt-zbjU',\n",
       " '0dwWwckfVagdfH1KMO3r06dqhbgT-MR24rFt8JWWG5M9x0E',\n",
       " 'lZrJOTRvWc-hs2b0FyD3DhX3Pdtgj7brJ_jPtD3v-X99MAc',\n",
       " 'ZFLuwoKTunvFCifTJO8s1T2AKm1LEZ_6QGloAglQrMAlyNk8PDUbt54taA',\n",
       " '7McvrxDoN5FOr2ydFVX5pHlzuC8LXYceLI_z8ygvA4zPqWM',\n",
       " 'sxutN1WlWuBxx-bWmPzcesM25o4PNsk4VtFi07MQLAtG0fLZ',\n",
       " 'vyvMrjR6s5A1EeiYJmyAJEu3VjZhgvNJ1LYP0Ci1kQ2ijMs',\n",
       " '2h2ReqF4ilIBEbv81hsCE-V1grIS4S497FqMMLKNa6upzZHT',\n",
       " '9NrlqG-6DS6QnyYLXxP9BrKyOOHiWxIrMMrgpcfSPBh8obIf',\n",
       " 'kcs1qBtGQurj4BPuIzqLREjj8IN4XBYpUodEgISyDSyo0prhqKvx77mAMA',\n",
       " 'VNmnWX4f10iJ_w9l6LfNwFvXz2uJJP_PIYgo4VLoInm-W3k',\n",
       " 'TS_XFsvB4ZnUYWCZYRvpLKHUxvRMwzDpfaEr8nMbNB-tfXI',\n",
       " 'BcvaGbyOYPSthyxn8b8Dkvso4lyEBQpd4mTpC9xc6rGXoa8',\n",
       " 'UnGwwtjKtE37IpRP_Oo1HZJASZhOTKwRV_XntyoTgWBVP13-Ae-JdNLNog',\n",
       " 'jxIvCZc_1YZRuhtlonjvX6FnuCZd9DOlYmmz7yq2I4chSiA',\n",
       " 'Fgz4eAj9Dprs7GxsXp0zzCvKdBvZpfabpWzxc9QgPB5jU4a4',\n",
       " '1Xsh44Mh5imBC5KYnitX5Y78_rAMjDvkDWomzuz_uBBZhzIz',\n",
       " 'kq11dWnbA2AozBDGw4uDWCaS98dZV4upWegIX4cnpFE2XTdNLsF4_E9zzg',\n",
       " 'Nr-To4iQmCGEduEr974sFQ39UTk1Ym__zdDkHka63ROJHRKoRDDRuRkNLg',\n",
       " '6CfrU8xv_dFOc7PcnNcm7hOLsLZ7k8LeOF2MvzG3teFVp6I',\n",
       " 'DMBO_UkRZE2qTHhHziKucanaq6UqdFQhgaRfM9_SDzblSnw',\n",
       " 'j-ShamrVggKmWhPJ27BlocxKVvUmJkW4HVLHUWtSCxmk82k',\n",
       " 'hybpAoOaowkcf8C0mhGp69GDMh-FUTc9SnNvT3nn3SNP0xM',\n",
       " 'wXFYG38_VQBYoW8hee5_LO7Ad_VDdPX7EH8by0PhUjcSh_M',\n",
       " 'gs_-ZbF_UgG9u3dJ2hkN16ILenU45GnmdoiAeHi2YXQYETXklkMDuNWe1Q',\n",
       " 'e_ZnFkbJ-h3Ytcmj2IGwpgLmPQolIjGDOxkqSB0JdygABsY',\n",
       " 'gPooDPjLf8_ylBVWoPJmXojo5WhnWn7VOmjOKwBgOvsn_X5Jbn5jwoQPcw',\n",
       " 'NAvwH02kkaHoGse4g4w7aciXVHjpFNVMkAtBJvrlFxPzAUlo',\n",
       " 'hR_oPNK6qoRE8-7nAb10I7q-r038EtYsHjqRfRMCg7-R5-w',\n",
       " '-Mshs7kLEbJwGDdMIXHTfWcszxfnweODRQPn63twhtz0Mh0',\n",
       " 'ilEABnJ3iaTeP3pQtsE4MlpsZ2LNAzbpJQNMc04lUh0Ay-U',\n",
       " 'xv5pn3JWy5XWSwDz-o02P1nA_gACA4o3A24FnXFY6EzGPNE',\n",
       " 'Z-89KAQyNOZinYOH3cHZFiLUS1T5FWH0NLYqTcBB5NoEJsQ',\n",
       " 'ewC4jOvCqFI5ycCk3TVlKjqwvIjQNGighoHzSFt1wJMQqdA',\n",
       " 'itXQirb2d0H7hHwIPFHrF4WIbzI56cSyFwzeH-52KyAOjQ8',\n",
       " 'pdCx5wnmO9fQomVsKk_4ypvUDRxfcAPY-sUuKpab7HhySRg',\n",
       " 'kOgn5cLavRkmY-FzpNdev4Eaf9VeFK-zhbRAeJyYLowR2Os',\n",
       " 'nruXSAgA9HKbXvLVX0XuMKumfi7TxJw5O_QsZubb80TgJFS3nlhI__FE1Q',\n",
       " 'FZ6SWj-W-BQpcc8oHV74T2dWK_Si-OuqJ4yryUeKUmdi8jw',\n",
       " 'JXugs7QCzt0Va-zSIUxg6phmoKYsFVFnAWOe7Ty1odXXoac',\n",
       " 's_xr_pV4OvJnp6iSK-Ai_UQFCn1l-Qd6zc9yBfCCvwD87GNrPT_ZKq9BZg',\n",
       " 'N3Ppp1xKGDV7O_ipBaVtdMeP5bDKNWXZbRIkAVBjwWJHDXbboIowfaBbAw',\n",
       " 'GWdJ4R7Q1LdCH_GDszpAQVrmALUW8nr4b5Liae8CdUI7P-g',\n",
       " 'yYyvBmJUXBSW4ynNyNzkyhOphLlDPwtZGCvu0ZMLou6Garg',\n",
       " 'SPGTnQS8yoMPzIpp3sWj3wg24seFr6oyfwgVRbqe2ACWHOs',\n",
       " 'PKWpvBaG1fgMNR7q-jv41GN4GDtis4udPhlPAWlCX-z28J0',\n",
       " 'GVa6BHDCee5kxhRHT7iQWOF3bpMC68BVsTQ0i-l_Mr2TuGEQ',\n",
       " 'x3bhgPuONZEcZ0wWQxZqKsEOEU_2abFIEFVhfW3cOJYQ0WnHX_WG1exRUw',\n",
       " 'YwKPto7tnPLTLU1RqTuwrRteIrvPtbQ7jfbcN9fyz24heCXW',\n",
       " 'Cq_MvbroThDePYlWJJo2BlybALLqfXfJaHL3Dtl_rXEe4oY',\n",
       " 'rH_YVvAPm1aPrEdNQM49CEzkch1_NKhDrhgWoOu4tgMQby8',\n",
       " 'B5gVXA4hnCC2ZkUPFwoF40cDfBoxkzBA_EwRZkhUM3lL3kM',\n",
       " 'suOm7teUPmxisDmUJIBaeT3wkEnEYui7HQAJKRGhj4oOUC4',\n",
       " 'I6yN0Rz6T2cURyeQ5z4p25EH7V8PmsC0iENhZ6s7Q0rnKUg',\n",
       " 'x_eOd3Zj4_nehuyfdJGHFETpW8BG1EuNlwaaM9ZY8vsuPYY',\n",
       " '8tnFZSlJbJ8X8ZjBRA0XgX6vsm7H0LcQeYUG5oJiwlpAr1U-',\n",
       " 'sdj2B_V4MnJjNFWWiM8vHh1oGLAjBvPY2Ow--mqKz1SDmWCzMm-hleKneg',\n",
       " '4HCW4RImO_aZc4GZW8LQBQlsMhaEGheppjLW-UOVLz2rL_Jy',\n",
       " 'wZr8E_rXNTwLEk4jtQTHLWrJEfiKouZqe0MIyQBY7Ydvj2A',\n",
       " 'UwxkdpNb_aBRG6QbLOF_3PAP-abBWYgw6uLdHyifH_jliYt9H78yv6Li4w',\n",
       " 'snFTS7HlKhhfZ_ZEMfJHN9e2aolHB0NoHiNcDkPVr187HdB4iHaA7XIXsQ',\n",
       " 'JcqrAVhXEkG69zV9Ba8jnidqv8KwJAL90x1l9pvFpUlwW24',\n",
       " 'mxUo0D4NceKMPd2cXIJZP2OVevOj4VGb2x3iT_jVEghSpQ_2',\n",
       " 'Zf6KQy0P58YKALYWL2-pN2rvYZXqhsS4X4Lk-j2ZSrIjtGc',\n",
       " 'DUURqn4pNbzfosE8mUjvAK0BPWJAREQeToAFPDgH8u77ahTPEK8GyC3_KA',\n",
       " 'Ol_MxPpcAQtMVx63S7oF5sQ6Ti_WYWPtl9QrybOZJLLurWs',\n",
       " '_ihsFCo30cKeAVbob0dxu_bpJMT-xSK8F4G6urYtNhlv_zI',\n",
       " '8CT9WnC5g8ohNOS-qtgRLSPp4az4YcUXJW_XcLYsTsOmWy2am1WZTF3cTA',\n",
       " 'U8N-czUCwvg0HYF9wt9HkqXG6-DA6IlgkHEkm3mEkwKttLzqmB9OBFIX-Q',\n",
       " 'zjkaxjiYZ5keFofKy8r6vJJ5E5r6U-pQKfz82VIoYKJKfo0',\n",
       " '_YVlHCYDBoKr2qYWjJyRoJX4YM3CqQAadZTrjNw0MydQWa5w',\n",
       " 'r84iUBjoNnb3O5-aGYsuvNFNjJX3XfBH8i8Oy7vxE-JzEZFn5V8Zdna44A',\n",
       " 'NVMneIdvOBRBqINY9VGY8GIn2M0XlIFrTsykIWgS24aIGTpZYSTb4GAvtQ',\n",
       " '4yWVPi6frY5kRhoXb8eu-QTQtFxG_4Ravrfd5ZiP-YhkJuQ',\n",
       " '50IBc1uePgDBN3qARFHhwUD9pt5uijbiTy8Nj9PMFglY5HDZQa_ZH8QkJA',\n",
       " 'y6NHDHr2XpezWViSVdRDMhD9JaQOBcNisG1B0wO_puclgbS6',\n",
       " 'FAo3ZlFYno3cy5cGQRQAGmWRN0biXkto6e6y_eDxjBtFSBY',\n",
       " 'fur68Oi1iIdm1zcpCbaGsc81LTpnwlqhTfcUiI-EVrttuME',\n",
       " 'vZqdZAe1gGs7L5K0ZGq8glwtfyVA2TIWQrZCIIlIZVEC5r0',\n",
       " 'FoHY7WXMjht-jwYW0df4ACiFRM5zUtpX5aUswgV6Gsrt980',\n",
       " 'WJUIlUWBYspeqnnECGDfhLxFj3iL7sXAlu6KYPZ0i5EARu4',\n",
       " '4hblGijNXZH-gvQfv8IU39WasCM9Cob75cte-lQZc3PX-dXQ0ySOhJUSMA',\n",
       " '0-GvsdmzPbOXi-yc2WtjwTNSzeDpvoQsvPAF9Jh6aXlKqsA',\n",
       " 'Fo5PNGn5JHj7xI22ZZRvkDexpMESkVvU9zML3MjBu-kpjPCAEe4xgGjuYQ',\n",
       " 'l50giFiF8jiafIHi-qLfcVDEELzuWdqAUZ_2sUTmdkpIH9g',\n",
       " 'DpQD8ytt-40N87PJsBExUr65TqXTQ0Jbcgv7zJQlUR861Y4',\n",
       " 'qxh1IE1A3LMZxGQT0EFUFY3BLZm9I9M3ttcDaSU57_4qiyw',\n",
       " 'lPgPc6xlLyaiW8Gmrr-lR373p-d5Yy1fBScXx26Xvod6ioTR',\n",
       " 'tsiya_jC0VhtFoc4JxxwNbUJh8-UW886wQOXbJFldBnYukh7d7x54OQ57Q',\n",
       " 't86hihijApzzKqjp871cjxpqBWkkxn-se9seN4VQHjzM2FA',\n",
       " 'PCf20h6-tm6rU2ku9bpHQZbKa4DItu8opAqh96IWT5wfgxU',\n",
       " 'yb6oELHAuRYtjXAZwaLevhj2ylyI2iu6-2nJHgxiri_P9I7c',\n",
       " 'R6AZZtbqNsE_P914Tfxh2rJVlRQz2up3ELYFbyi5yT7XwDY',\n",
       " 'ZU1eTscjJr4XqE3J1ZXW9P5nHX6RUdGeke5hm8eT4ht16sFceC3y-UIVeg',\n",
       " '_XbzMgeHnsQcuBMptlV-i1b7HN0jjYtzpNmtlvjmfkZeVOg',\n",
       " 'C9YivDEoyXMTZFpw7ZJFCukJ3nZD_pgDK8j0HgZo1Xc_ndI',\n",
       " 't8D0gnPRaOr6UajXhBbuPxuF_yxGsWkJtt-tj2PPXhTJc0s',\n",
       " 'CPrYU8lyNlr88URUu6z6nTnvmz_A888-8RaLb3MvdwckKJcJ',\n",
       " 'isxQWU7s0PzltpGsGmajIDtyuO0Te-I05Qx4XeW8id-8icg',\n",
       " 'iwbdVpYsE6wX18z1PqyA_-M7JQA-VbhLTU6eOUEnzC_4_7A',\n",
       " 'Q2blpp3ioXB4TAvcp5qy-pUduLzOqBuslSGCl_QfQFDxE3A',\n",
       " 'A762OMdWjMjGnvi7TNODnWOJG01TLeaZmsA-snzC_aUPfCg',\n",
       " 'OzRspm8h9yfEeOm1K-37sEhL54suVAj4wgSUGXYJK5xMYgNq',\n",
       " 'rpqBE59aNPUQ_07eQkBDjq40ozKazSn2j80JgD4VeBZfcWMy92oElHy_hw',\n",
       " 'JCHffkML1lcYSh8oJ95OkMKyJ87DJj0ZmL7yDTeM88JJTDA',\n",
       " 'w3z4hTx9YKYlk6RFQ3HCi2tQO11kDAyotNIHH5V5yytoyMw',\n",
       " 'ndCeKuTYWQjFM-7xNGAJskAREELQPTqZ0t20-V6751M8dvE',\n",
       " 'avFfW1ZyXDq3NeDBoX4sfLMVm3cmpp293qzIxVufq9U3JSosDscV0mOYyA',\n",
       " 'qjhaAxBe8ArVWabZGJWWyXfkGUEo7FVBKwhlTAPGUcJRMHzR7Yrs1q3xlQ',\n",
       " '2FRMDjPsjNZlhP-t0D5Uzrp98Kbpv1-s38CQscNVft2A',\n",
       " 'W6Gswl6BO4j9D-wNNTQ3qn9U7QDZ5t9WNCtc2lgzsL5bZkw',\n",
       " 'F1WmitEXSYYxPlfSQbAAliw814a92UsH4xS-cuHr5tV32Ihe',\n",
       " '9fEx5qeexcxhAl489bn28MyWjgfdD5fho9PjCrmqkU7VOYA',\n",
       " 'h4dqf26DxBriXMnQLTPkgrLpf1lDxFVOiTCoLKbKBrbxMVw',\n",
       " '-AdK3oNQWBhs4HhfUoKzmLYVroGOhpASXwlx7BLBWhKm4sc',\n",
       " 'Jgnoh8pCCb-UGY01v_rO_IAHtYwJNA0XyJvi7QBTJxVEIGcruzXJ2enLSw',\n",
       " 'JJtaMZDvOBOqKsrH9y0gwSdxYL7ZRXfpYQZma6s0DDhNI0I',\n",
       " 'z06fJVu7GpflyVeME7aEu-s6rGE6ugYDfvXyrbIE92qpAQY4CfKuwUai3g',\n",
       " 'VDs4Rrx6aTblReClMgzN5Xf6y-XYLxAaPxHnxoPzPQlgudM',\n",
       " 'zsgFcBOg0EA94PfEXFuc3ycGYO3MAvoQcD3v3cUouzjjT4g',\n",
       " 'pYV6xIK5rIO_0EdeZMX-AqDZLUGjoOdZHjIcf1OnjZRrTwo',\n",
       " 'jO3ixGygnm6D8REa0mAaSZIYUUmezVkzUP2ImflbKp-7bxrqF0mv5qQMdw',\n",
       " 'Rz9a1il_dO0R-WsfOWQCg32ZnVGu4tLgVZABthlB6BVnkWk',\n",
       " 'dUl_pWTBt5EGkGCjr8oUbPlylHYbF9mDzgoeuUwuIanu9s0',\n",
       " 'kqDq2IHC6N1PQ6rIW3rwjPEb5-We4IF452CmfuX6qeQoK8D8IaFcKDteNQ',\n",
       " 'ADt5n6pHRfEzq3xyHGseQK5xVlt4h_1aX33bU3lCXBsZLIk',\n",
       " 'RVEZja6ShXDmbv4HeQZoUzFvTvgrm3OuNgDynSFNVYVbphA',\n",
       " '0d_NV1wDmn9y3Bknno04sue1LTYkm1FwTVHvHufi5ptWugU',\n",
       " 'GuUQ2ktvLGLvk4i6D64It_pa_s9p4BotERjTzjwbBGxXYWQ',\n",
       " 'Bt6vaOuPN0YSVNKwfeVMrff6aFzi53q0jv466GLru8vB0zw',\n",
       " '8Fbs96rijl-oX-7FQi5wbZYZqLfcACQ9TITOUuAofU-1ShQ',\n",
       " 'OI38ScHOWnCrqRDDb1qYKyoBo3HieJCOe-bl5u-2_4fUYS8',\n",
       " 'YX9zMGYCbMFhSv7MvTVBovpxUl7m7UpjRVs4GbpEQojP0jA',\n",
       " 'YO-soU_RkpvN477B35Lteeu0wG-Ns0Syt4lWlfiEgKPUh-I',\n",
       " 'k6-I31i8_4lIy-bjiU3sWrN_QkghKsQnaHfvNHrQ5pavSHk',\n",
       " '8Jdd4qd9oZ4nRFdITXWqlrdCHbWWkJS3zmDjZ4YVSGqmKRY',\n",
       " 'pzN19doQL3ePUyqRjEthSOdOHYS0FrB5aMRHip5qG27-w3w',\n",
       " 'IdXcHew3Dm4E283U1qIZQ1vZtKHP1Z5-N5fmQ_wB2VF7iYM',\n",
       " 'xEy3COjoLR8pA8TnLr6_aaYI1ElrVwPofApz6hswSNCKVjl4sAR_T2laoQ',\n",
       " 'oeGFAgyT_tMo_1sXkFZHegLyyXYOU9Mcvc8AI2MTdJJhIaI',\n",
       " 'lJWjMTXRnAwGuvNWdiOu-X5a02J1BvjnaHB7uuYucKhe7D4',\n",
       " 'YUICa_mMagX18j08cpoB2iGnXTAtP9GIQ_vpo_JwjgB9CuKJ',\n",
       " 'RtX7CXHRROIgYdMVKMWczIgKL9VNSbEBdV2tHzuU-d2JShw',\n",
       " 'php1e3hPJQpCzErGG7bJj2R1QHy9Dz-oWvpMapMM_kfbz0Az',\n",
       " 'osfrAtvF1t3HCpwj3IbVprE4lkyxTdTfYvpkcNMG7Fs7cUmY',\n",
       " 'gTZkKzU_qazhF3dbrnz4wBbnpsmGqQNX2NddZyCm_6-ShQg',\n",
       " 'PuaCJjX7aidjagpR9If7YUDg4f3hWSzqzmlBK2txQGGGMbQw',\n",
       " 'eZgIL9C4_DOVP5QHRWtKo2hga2hipY-WLEYyINKWrB4od7tF',\n",
       " '4y-HvOepraNjGbI6QlvOtaFkdi8vSB3mDP-Ry0nCfaUmTA0',\n",
       " 'XKcxpPqJelvC-ocGWhljzDKMpfmcCOEBvJVwO-ZuBXdFHFo',\n",
       " 'QXvKMd5OgUUBBlcZRhT6lVOaXSKCQ7dbOvToMvDelCiWfNc',\n",
       " 'OjfilIMCCKpe_sVOqAzYqLR_hA02BSkrqOpEGW_8VcEvkpw',\n",
       " 'JmsGAxezc9sEqqTSohCDuMhcFTFiYrthnc2BrNIWmpsmuBZtTRTMYupJTA',\n",
       " 'dNBWoAyDPIIbbjon2UqJRJ_G9mOs9-NRv4GIO9UBTIvGf8Aa',\n",
       " 'FIoiZrzmUHZYGtMdH_KSmIfeZc7Pl0X4nXtF7wW-HbSEsqQ',\n",
       " '-12Bk34gWxUVnmvjB71E-2chF3o_V3s8Aoxp9XfqCehbA5E',\n",
       " '4yl6snPA65D3s_ypaw1QtEtCnEnCxq-ioiYYHEoU1XDQV84',\n",
       " 'xDqtl3rPWkhQ0Py5QCMbHvC9Xca0rB-5hrpqV1ZV3CASmQU',\n",
       " 'Kv22jMg5PjhvxV287Z5dscjJOlFhTgSmJcdoBRJPwPJpNqjjDwxUEJSHXA',\n",
       " 'HW59bkChIw-h84IIaDZwxFGuAgJzJ-1y2ABvAdJhuPw-eQNum1Tu6cvxXw',\n",
       " 'M1wwSqL1YyCdCqmYKjyYwrO6me7Msh8cKRiG1rxUkO_1jg4',\n",
       " '_PKLN6xiQMUNa49ki4-DqkugrmJ84iBatz47Z-GG3JkOCsbKImTkk4m4DA',\n",
       " 'V5DwGFJB2wQQ1vgM-yUGCDsrDSGmkhP_gzS1yF2d2jGXjdlwDPkCu0QzkQ',\n",
       " 'iINdACRrQxSJR18HfH3vOY3nMTxRVcEFaCO2q8zzi1vkpM5SIWkWX24Z4w',\n",
       " 'OngPVg_shbuFomvLOCIsLXBQc6cSDi_dvwiXb4fCl0EHh_o',\n",
       " 'GVSrZKsh2j7oMRns0dBAQDTEBMUIEtikWEufbdZ2ViE5FmA',\n",
       " 'LWh8XQbfkg5PrIK4-KZkm47WwPTt6DghtY2hodGvRq4-78zh',\n",
       " 'qY0MO0_YEnpM7OxXkSWI5f0h0yv45U4Va33khPDGVN7TQfQ',\n",
       " 'kOfaroo_dJlf-aKJGrgt46Xls_QxroqV4LWdr7rD7lioe-N_qEoecagCqg',\n",
       " 'DFVuPwntQade8ALH6tHffaYBSvirusfvm5GVSYN--fNXfOU',\n",
       " '6WLtFJjOYu0D6qeYaDdFWiTSAY432ulnlzDh7cIo6CM3qjE',\n",
       " 'wO7ILWvga7Y1DPJF3Kdw4gw7m0F7KPbJwDzydAQqBwnHbq9i',\n",
       " 'Ie5nzO-1zN_-uy_LVbEGuR5xfXEuKIHhKHTaWMyOhptIzR8',\n",
       " 'z1qZ3D5gKoO_OxxqgwBmiY6YPrShaICxRKb28XpCnxPW0R16eZMptwfpBQ',\n",
       " 'pJ0fZJdAyZDJjxxqoSqJEClncE8_4U5hvqhNgJt4JDgRCtk',\n",
       " 'b577LeDRlLsCVtxeZZs_FCwjYazQE2USndNL1I22B9OQ-a0',\n",
       " 'UPKXjHLSTvBJP6ttKLh9aSt9UR01JkzfZramI-IxDkkSqvE',\n",
       " 'r4xz6NaIqPuto7fg8nZ8WSzHvMO3iKP5V_PqyNo0htkbDqLghsdloZ1cKw',\n",
       " '2iEjXcuE0-fcsEE94prvGL25-qVYjDgwnQZ48mEjBXDdoYw',\n",
       " 'QWLYTDbRJjjLtEuMf5WW3eodgMHLlThdlwqGoidfZWqRuvI',\n",
       " 'DgPoDU7ovKNYGh-UfPJscYNPPP43hwZtKolucCgSfbZywjM',\n",
       " 'm56-JpKB7K24Rox328D9gCjdUSuQoVgtSHuQKquIbq0BMOw',\n",
       " 'uxzAWSYcPJAAyCuctLyWcga4tXdo9KcgubDNLUdPa58tPiQ',\n",
       " 'tO9SxaxF2xumpB3cDfLsvk1UhO3sK0_Q7NWsx7Ifwhg36f0',\n",
       " 'oy496GLOl24PZJva6ME7ShnzzyhJDCZ4VpPAQKTF8uUrZeQ',\n",
       " 'VdQJN_oB_-nQ9ENwhVxZXQBol-oMMQJBFkRkMgoMuLrvJwR_',\n",
       " 'ZV_0ZLBBFe6e1gOkybhISbqQukokBVBoSk7l1JcGgR4Wto1b',\n",
       " 'nkoEDCUWYi4sy2RgSbwLD_xo9pamjFdewJuwKsB3VcK-M44j',\n",
       " 'u3aZwChfr7kcbJxCAfsI5fFl6avPw6CbtSLUnFMR-p001WvDqDmCs7_n3g',\n",
       " 'SwFVY-ecgefeTxivyhnikHMEu1OEkabGx9WAEduvq7uhLQly',\n",
       " 'SB-K8d1iyr4YqGmsyr5TIopVrY4Zi5izW74HPCfTg3dpQnA',\n",
       " 'cT9oNB-vafaWaTx-gVhHLNgoEwbzjCPr9gzxPS2Fbi7cBOU',\n",
       " '8Z_M-twjorX28-Omv0yM8jGoEE6m1lkAsHkwHdxpL9mVeJqa',\n",
       " '27vspX1XX4T6pJPP569BoIJTQxIpCvbXR13wrh29PUl0mX-HAoS0hNEcuQ',\n",
       " '9LQJo1Mnt5GB1YVAYuwKklSXRS2ePo4IqH54jAyRUM7Bvm4',\n",
       " 'VgHqPGbvAHZ8udUN_a-_WFfLepDqRvsNpDN4UHsoO4WdVb1k',\n",
       " 'nH3oyHO-9rVbiN4XRKqOlWt0XbYfFl1v_ZOPuneG0Exqsoh5',\n",
       " 'LbfqZIYP6OvTubim3-jl6mC9m_afU9bfPV-R7VgN0IKYbLg',\n",
       " '3fZIcM1SmHwPqAnqnP3dTIwoKrCZlwiecknb1OGEJ3bTSkN8',\n",
       " 'BOfbTFCfJTFN7JMwoQfgJW2YRsmbwx5d9oWV3IU1AdfpTmM',\n",
       " 'hJkSBrzR3_4GCmHDUu4E5hzADuWcbfqnuKMzE6kRxTQugT0',\n",
       " '1TetHRUcb7x55PYVHcyZ1gufTPngYVclWBObOyj8Af43WolJJNKXQZHyKQ',\n",
       " 'UxvvfMrhxMERzdx1Jx36vj2-QxGGW5ah_RdscscG6QgUN_I',\n",
       " 'HfRxRMrJ6dC7aAAvd6H4cnwwlALVEf3VTbSAXsUCkY9J6oMQ',\n",
       " 'jcB6lqMspNNvyBdYooRS6c4GlJwItK1i7TdyQz_WfKyGoxI',\n",
       " 'O6b5J5HSvMKavYfAf4AFHbyySsrqwl3kAws_7akriHArQc2TbTorGd1Xjg',\n",
       " 'Zowb4ltHxiJhFso_qQ4dkWrskt6C3pGBEDBi4g5kh09mqfWS1LohfBBOVQ',\n",
       " 'WyWwYoc5YPl0HF6_r-D6GOA5-kjeQ4aTfzi-NUdKnfrf5KM',\n",
       " 'Ii75XHflD55I5cFW0DvY8WyCm9n5vOSq8QaQU1shKLRlAu0',\n",
       " 'X3ar2YfM6FeH6E0H4WtO3u1Aqg50iXsFcR6xi5PUFoM4IX8',\n",
       " '9Dwxur6Ysy5AsygonR7aLeGB7389_yJQfL9YmeuJH_kePy4',\n",
       " '-7mOPL5at8kp3idS5Fi1w7L7bPNgHG8disFJKXqhNTtUJx0',\n",
       " 'sSSr4LI6oOOxwH5DG27GgDatFDbm4RtMLYD-B1yeARpjIe1i',\n",
       " 'kKvFs0ueYO4yQk9ek5YT9T6ACU4JjILggVItiSYzpBzgWeU',\n",
       " 'Vp5iPigsJ2-yt--znV0rA8wztdBkmkAOuNjgMa1yYxJILdU',\n",
       " 'cNNVxdVckXzoBrOKOcvMWHiz-pu_vr7XzWiuSHdEsYG6zKg',\n",
       " 'fAmUqCZY3sXVBtf59phtxqJVD5gVLgMl6d_EUIn2ToVEm95X',\n",
       " 'koXDIm2XXiHYpM_9tl7GEQA_aRjTum4z7vn1J2yDR2Jb1lY',\n",
       " 'hnnSDQ5WxWibi6cKysShxciSYkRd7hH2MtSNUerGgzvnjmynJSHZ4uc5bg',\n",
       " 'W6YhgbT8QUnEPeL2LMosL9OGP12EBEFDAoi5ha6b1k7WMc0',\n",
       " 'uUHETvzHXygeenDRwKP3u9lJQRdD6RqFwA2b7uH1Mm4McwY',\n",
       " 'BLJc9r4qo-OcajIBkmu5t9HQbwyWLEZzjfuuGItRJP4LUnat',\n",
       " '4X60Ez5Z4DFIIGUIoKyNGP6RB6ajC4F7PApJtTpuXT7Jdac',\n",
       " 'fhhl1s3vIossjJWhkLEc_Pt9er265ZvJYv6MB1AxJ28LUU4',\n",
       " 'QnqtdF1TqENgz74ZctZy4PV8SuiZ0RqcSJO12REogbCb70Q',\n",
       " 'U50pN1ARihQ_VpbHU6Q2nY67DfvsOxf73DVgkPSN1NY9whk',\n",
       " 'aNCpQ2OrtLFuTISogqc_ZnkRHH7BWKX8KnSArLrWJ6sc_RQ',\n",
       " '3MznpGUqE-vWyanR9u3oqa_XEiWSMiXb040ooCooHIw0sZE',\n",
       " '2552ekkv4jUJQGqapEtzCnJAy-4piOK2vsxIS8TGlC78XNE',\n",
       " 'dN87YSwE2i40BrPcSuuWtgpo7dyhokNKOvHZvA-eeeHPOAdF6fiiBOtTLA',\n",
       " 'i8b6qvqDFG1XKaGjYQexAWxRHua_ssdxETGuQ8g2lN_ZPrG-',\n",
       " 'iZujt1U_LcbJ0YxTjxKA1J-DKQwU4Wd8dKDO_OLD9Owkxyw',\n",
       " 'akdaK8kDzu8ykQaG9nE-DTf7PH4Kv23-41p8NrhY2XaxwZQ',\n",
       " '6nGFfFrASalwsArJm8O1g3gDRTEVyIo3JSJwbczfm4GX43w',\n",
       " 'rj7q2kBGz5c6zgpewJcV_frH42sFSZgHtgJ5sEELoARhKbc',\n",
       " 'JZ6Mxxri0A8Tk_xmsiwFTO2razkVYq7QxjaL9nHKfQMDbvqBOfc4TfIC-Q',\n",
       " 'BqberNKGSQ1-4MsIoGOA_J8ZDBwVrQs4DIG2Ies0vX3I6EM',\n",
       " 'fPDFGYDdShI6zXrcM3Jb9qH6XLBzg_x_owJMIB5txwREBLw',\n",
       " 'A6YnKzSfQF9IRr37tG5IB_8y5bWwDZOgN7lf5Rjx_HH5OXxT9BD5w2z7tA',\n",
       " 'f9MeUPUFmvI2OAF0U_ZS6bHiauDBnBwE9rT2j2-7Hi_QIJk',\n",
       " 'bdwAHBX7xMComQJ1aojM6SdvmpSzDZX9PfvKPai-mJ0L87A',\n",
       " 'jPkflwBHsbY48RzpNrbBf_hiQJ0wtuxfTXUI5DvP3qu0TegEokTf6g4JjA',\n",
       " 'zLpe7ohTvTUuPfs81WDpHy_Z5sLckOs-dwAZ59Mx-MSQ8WU',\n",
       " 'wcYt77mGiCVVlFPYf2jskIFyJG1mIh80DllvYVUPy0CNoa4h81LRlk8HFQ',\n",
       " 'mHJG7bZ-UAOKklkpSIKhMtbP2cSluBnTOQX3ThaoGVS6qu6kRhk_wwg83w',\n",
       " 'vyp_4sGAy4-E1m-mLMe9YdpVmRANwGoKKuLwI57ToBIeMl4',\n",
       " 'naloqzx9gq-oLAkGV-8o2zNznkXhZ8zzFJTXbhi7x_4vBq8',\n",
       " 'd_l4H-SCvcbt31Ai3LCWfrSz9xQtMtLwrYbc1xUwVkHqpXY',\n",
       " 'TxOanIDe28qdchyk6VrRbO14wc2z9C-p4yaDGY3g_qYzmkE',\n",
       " 'Z0JG_ZwrzueaG_1SRMAwgko38STcV83QoDNpdBqmyEpVF599hDL-N32SIg',\n",
       " 'wlNE8lZh1OjcTHZc7MoF6AG-0mMSQIV3nwN3jNE0r7asABs',\n",
       " 'PzE2_k4OdwcCj4Jj7VuBE8cxwa2Mhbjbz7GI5j4KyL1WYnKH',\n",
       " 'ZlhWsqjYzZSrLVn-8KEWA-vOLw-9n1QMtqLDwSOV4-b3OfzJ',\n",
       " 'CgDWrnOpgsmq6y7tv-9oCXq7lmw5pHC51CEVmu3dGF2FixY',\n",
       " 'K0rrLMFpATaGYl08PMaGgEA3FG7-BGNDzqwk0MnBSmyqYT0',\n",
       " 'bWCgvGbyVO_cmLOkq8YKUsEYICaNlQXiy9GAk0letgXSU6A',\n",
       " 'NlUC6T5JnHKQ3Z4AbDE_5zoUw3PTvjxOpZ9rhO2uBe3AOYBi',\n",
       " 'b5XnF35wMVL1NdS1ZAhUs3bOP1HzgGfoBoH_rKjY5anarCQ',\n",
       " 'b-ZogkBdpuKV3pmpww_KOwKmbzNXnFyzFNzp2pvLhOBjrsM',\n",
       " '6kmoRwerdym6zAFZcYsi4aONdsvTm_IsiQdw2eehLsRI7cZ2EB4aQeVXzg',\n",
       " 'XFGz1Yt5ysE2ADrjs4Sh-0q8L_e4lmVesvIzEuaP2qFJN2M',\n",
       " 'Fk6IsmbxOfI7LDrj3LXDcKPtNh7jR7nCJniaoIGxZ6-9Q0I',\n",
       " '8Z1ex7QrhU8dun3erC8OKWOXRKH9yTfAT7QzBGiJGuZs10I',\n",
       " 'AIyXK7UEMh8_ZtkGP136HJarA2jVUMbjTcnu_ja6lob1I-9E',\n",
       " 'KpW-k3nWkMBowKAWZxBSfJwPsquZAkGa32mf-Fm2xQTTgW0',\n",
       " 'mE9TAo2pURJGME1IDl_DAIbNGNcWj10Df3-RJPKb4L09w0c',\n",
       " 'YOKLA5d1j0PWYMctYizj8K9nOftqrNwFwU6pddNzHEOrU-M',\n",
       " 'wzccV9Kq03IqlnSfCtFnIDtaFWrTMREErlWpk_9aHB3Ui2zevzqI9qs_VQ',\n",
       " 'TX3btc2WtxCZVK7ajxeJ_qW_CwGZFPpLZhbVgI_E2h_WoZ4',\n",
       " 'QxwWDfMhWiwo6t3wEtozTLza688GKFWZRfg7-GV-lN7qmJw',\n",
       " 'l83i-jsJxKrMAj3JSiUk3imrm91uS5AJCUQja-LEA127cluu',\n",
       " 'FaD_nqpbiiyiSTNqdk7POAuHQvuYebkzLQG-NgO0kaEt4VTXITx58E4CEA',\n",
       " 'OzpsxAxCdIKSqC_19mq4-KHA2LcbIA5a4H7S3HvQfavnSQc',\n",
       " 'm-G4-xokEK7HDjkJIHKAFzxr12GBolXMGJHfFv3iK9t84D49otZ-rSTTLw',\n",
       " 'hM8VA5XH2pU4Eq2P1BCvR9ArvPShOqI0fRRE44VscKdQOxwt',\n",
       " 'dY0aJ-Y9pW2Q78g4OwQMUFUMEG4XUoW8lgsSOq26EcNlRqI',\n",
       " 'jQBbysHEv6AEmYlS5Jzz8jcWjCLmy6X7tH3lGQDlxH571HM',\n",
       " 'dynR8_Bu5yzisYMXdbcpWI2AC-l1KLEz5yGG6rkUbWbd6cU',\n",
       " 'AIk4JmJm32SR7tupnninEQpDrHpvLEYF4r5fGlFrvXATKXZUsCCVO-Pxbg',\n",
       " 'ALlTHDkt9mHsRTMJy6VATIip3Pz9hVOoEYTB-Goek1Wa6VM',\n",
       " 'VRUQL0ynyNantB_sXeeU1gSFKhK6pLcy-X98AG-avjXV8Il4wZBaqWUgeQ',\n",
       " 'ohFGLJHtdPhInx3vUo9NnJ6Y_8zuxmBEAeOrMB_FZ5qca6lm',\n",
       " '6kc9o1hEzZ3UvrQZzf2xUlx5UH4QbxcfNyIlB7P_Uu61lKw',\n",
       " 'AGYUs4egfFXq3Ui0eQnI9UvWBQI1QLnh-CT_fopV-MDz97g',\n",
       " 'EM020oU7RQFqLS-BFiLhdZC_21e5t07ewERGe8L6A-wNHEQ',\n",
       " 'RwRpqH0JsMZHKLyxt-krC5RGjI-xTRUkMI1rC433GjXF2QY',\n",
       " '0SbraWl4nWUZxvsn8Wmz4tmjh4eT5QAldM-xOYzAUDWOk8-P',\n",
       " 'XKdIhMpVuwg3MRVdM36wvAehyRCl-ehjmECWkmyXmCfzOYdP',\n",
       " 'Veh2OhthxoSnhU2zeJdH6iW0ODUjPs4Yru_BequKbVn8kSaD',\n",
       " 'naOx4QCEgz2hItknktayHHIpCDCE7hr9wOMjSQFuAvuKtjQ',\n",
       " 'oz2XHXmwyrYJu_qwXBCjtE9098hMQ26kwB_BIl41RLwKjEU',\n",
       " 'F2gVk8Fjwfq3eti_GjQSFoFlxY8ynFHKCKK9BuYJW8neQsCu',\n",
       " '-Q3aymiDupaLLi1FBx18RyK58kZnTD6_v29POaHjzcf5HDlI',\n",
       " '9l_pX1eIB9NDTEHW2jK4O8cQZbtL0ws2ronirkAJq9cIaZ8',\n",
       " 'CKTjHwlY88_qYIEpSxCLws6A3QrUulWON4gqU1uoaUqLkoE',\n",
       " 'CVtGtaEAJgyqroe-oVHpszDygxLMRKkbjmVfNSsAb74bN-c',\n",
       " 'MIlhUalKDZdgUNrOT8NoBUxYrxEyZEwplxiH4oJ_hiEZru4',\n",
       " 'S2NhFF_LqEnUlqE4d-lLk-YxGNlbt-ZmwzPpj_l2815NLNI',\n",
       " 'GBjRQr1N4STkpPf6S9c9QZVIKZnJY8AN24O7cBz1dSjZhMg',\n",
       " 'fLfOhnrbSgWMMp0CQdko9UwBuYpUtVzcfi61MwWFF4ov17M',\n",
       " '7LL1tvTUtRrCxho3rGgKo1-UQqPbImUKgfbW_KwAx27AyKE',\n",
       " 'YWJ9LESESTNdcFJBCnPGQQtrhjOENCATxqnpSdUt07tJ9wbL',\n",
       " '0J-yapt-R-tX-SEsZF9HOW5ipY5cuKzl_Rbd_ZpVTAQD3IM',\n",
       " 'HyZ0bYWItjispzlWuUtG5IW62-9uB7PblskHsKa0eZ_Ch7U',\n",
       " 'k2cxNEFslwRMLCUA5KUMaXhuJkyc0vu_sNMH3EMt7_HzS_c',\n",
       " 'PLU7_2S1HRm5on4NVCBtrp_av7xgRA0zN7ks_TwgzYhucRU',\n",
       " 'K1XwVD66BqK2wMY8A2PWV6FOLFREv52PnmV0j2RxwF7xYPhVisjZz_CYfg',\n",
       " 'UzG8v8KbqTD4IsSMsLaHZ3neQtUOQbKwX7IB2Bnp6kBzfn8',\n",
       " 'Mco85H7_ZGQdJmzDEKAWN7zFA_X7n-wdDqxfb3URk8Wj2UaS7s2Yf5gV7w',\n",
       " 't9tQhj2LFZpch-1aV7D_QfrBk2M4G6I8un3G5-xi7PMimUU',\n",
       " 'JBTBGeM4nnpLW6uIjucfK_W5MKZApUmuESJdshMJMNsWrUVOhgvwKAvKcg',\n",
       " 'JUAF21QE4SxEwK4ysk-X2000pQoPXbImzw0Wz1GD-jGMZYgX4ATfMfuHuw',\n",
       " 'zLzJhVO-uJN9EzkUIHahjesPZqixF6IfMkrpt6BXlIYeLyw',\n",
       " '5BuS1YBbvQlD94ymzb8lEGPYcz7FgVaCOQbVIbzKjRnSLc2L',\n",
       " 'HiUrKe-COPLwQH7sNPnQIzmfudgj17msIBmIDifPWOeeAX8',\n",
       " '27cLnl3t-L0f2O1eB0G2f_ns8EFHRM1r1SX7uzlJQRHStgk',\n",
       " 'v6Z-Po-7pwXalZrSVILjEdatY5GNkhvZlu0IQ4U3jy2TW_Q',\n",
       " 'WOthsz6zMT1k6pduJx8nx3y1CW1ipDEg_G29_QuYbi7RVkmo7ASfpFbEyA',\n",
       " 'l6mOX_A1-PknMpi9QV8p1niw_WFPBmjLUC4vKIgtECVc',\n",
       " 'DSgHxwOges5zAe0QPfRhiO8RDwe2R2iLSKG-VKHQzikyJvM',\n",
       " 'VRqXKv2yHLSbem1JWl7VkscK_uqR_ZEe2sqAMunZWBOZGZPuZbKKP6QwYg',\n",
       " 'xIp_xN27IzmYmNil9BkVlwoTHUDN2Xhywy6hq91ZwRUz8kY',\n",
       " 'oXVlsXVvbgmheN5ObFQuhC2ijEnLRsniCXYxIyEz4rUPii8',\n",
       " 'Cv9d98muCKpJ4ZrjtER4FeNe24Yib53ZAwbamsdI53Fe3QE',\n",
       " 'J76Ew9mSko0A-GtGLEgb7xr_KMQnn4Z5a6dVsp_87RrC2xWPXlgPR1LXpA',\n",
       " 'nRaSEVqa9bpelB_IKkOGjp5JVSXKLff0CWYix6QOyaBWMQc',\n",
       " 'VfQtnxDlHzrs1cs4Q6x5ksyyqBZVgPzFk_b-AxuVqIkb5txKVR-XZb2dnw',\n",
       " 'YvDWwwuKPGklJI4YOzgLY7RD2W5EeA6Ul4kQLsZ5bviwQrw',\n",
       " 'lLx7L4wWbOKEAW-Wf4XZLhVter8eooUL0bnoh43EdPQAZ3U',\n",
       " 'WnJByZI1wjkXsC4q5Mi1sI2SegPPV2adP_FIP4OJ17cCpyvdllXuY4AD-Q',\n",
       " 'qTPWKbkvacm94HuyAXq7OByJfkYKGBxCGfFAIYSE7RJzZM6e',\n",
       " 'utySn3xsNCfap-_102Qd8tzpTE8ZYvq13JzcVsJME25aKBqS',\n",
       " 'W_lGArjchqhE5Keg0LEsox_RJT3E3JtIEyN0nf5EjgMx6TH0ZvD5BNBXoQ',\n",
       " 'i9VHcR-XU0QB_Xaw0ttgEtjQdoNve8o4NlE48RPa-M0G1IE',\n",
       " 'mp6_nfYWZg4WsKG1NrQ4KiGU4p-kTWLL4tfGUVmSte18_Zo',\n",
       " 'O3rDnlal6lnmaP9b-qDoNT-MyaKp5a2iFoEUcTVUaUGhMBmW',\n",
       " 'NBWmEgfKrrfmU7plDA_7L8RqCXFdpU8k9Qp6S6JmDXZCFQs',\n",
       " 'QuLQdiNkpAbR0FLKLLmujyFHy2h0SsJvurg5mNHIsrEz1z4',\n",
       " 'Pc65Mz6Q80QWMf8ncpRfqW3B31ym1Qw50eS5RcIL1w63CRo9qDKqvFlL8w',\n",
       " 'y5eSSVt9Z2q09SggXSWHwLDKjgnLs8xF8eWsA_iGYPhmiBo',\n",
       " '5Gj_ArDl_XY4yevGrNaf0c_jTFfjttD_yywAenCOcyvA_vH6vePHWORPBw',\n",
       " 'Cz3sNtl3zOLHcUYi1Agv0NUyqkbde_eZevyn1u7mrK_JaHE',\n",
       " '0FY9zs6qDDXcvYOYcMgk5CYvTwA2I9263TprNrGu8090zyU',\n",
       " 'rIC3u-52Mpmp5X54jkzXee9ayk2u8yw9uQaYyFs7eA',\n",
       " 'AuNZlDmo4EnZn19Cvl4fu5pwHhXHExISxqg9Y4wp7uVFtDp30TXCT3z1fQ',\n",
       " 'k9HHDTZC7rFcnEYx0fmHy5tBX6Ry5Tr8LHzxxdb86wyKd6I',\n",
       " '6NxzeryzxpbSJ5Xbhh3megW4Xn5mU-NsSrp0QDx23EkKlNGR',\n",
       " 'lnI3cAxtCwfsNpTVgEerx7KfZcPmrGJRNnlH2O0T78rcZA3P',\n",
       " 'E6Brz5-GFJYbnDjCFZvF6Xtm2D8U7Ey5P1meoYN1e3WhU1Q',\n",
       " 'Nn8f6lEbZH5EUeh0eNQC0JnPldbuOxXOR7-ZPDfi-ozdyGhX7fkzbdwHpQ',\n",
       " '2VS0QrWUBUK_19wVoVtWnkN3Ysi0U1BZUAiasLFbEX9uF2w',\n",
       " 'pN7n0oHGKYFR1oF-whL4hqNitlL3khBTRwm0y4UrElq2tl4',\n",
       " 'fEfRRPeqgeIcIZq4b37_OBkDdJ1aPv5pXnxBavy4Hn0kXlg',\n",
       " 'g9JJvMpMPsWDQTP6SPme3Ga6GYtbJlOjHxBiYE2VHyk_Q8XR',\n",
       " '10cbIjmTFxfwlkx-ra2A12CHPEkzzGKSNhQrsZnuqhJ5ykU',\n",
       " '5Ip9MxabJ9UNsm1FpM5MU_7CA9npjxa4w1pBcGwvV_iw612ijvQdzHMytg',\n",
       " '2OULNSFHqldztnvrXiiA7LtyZl7esxFfafJ29OkAMRIUrjrT',\n",
       " 'LNbj5a4ucsciINETyCfE8AKm8ZiJXsFeQZ_i3dBstgN1xpJc',\n",
       " 'ZlHRSJk4h8m-iLQkM_Z3KSLbQqzoRQmBN4uHxbeUY0oosVw',\n",
       " 'NrVnCw38_6NoeqWetw3Vlh1qksqvIPwV-8FHPvX-RKMWPBsBpEj_pkVxVg',\n",
       " 'Rf8qzjh6XEv9B-6d95wN9rjrqtfcdEYn7owk4AWh10cQvaDS',\n",
       " '-B3A_dRhdbI3GOL_ClZCrePoXwcJoC6phtvJ3pL5fhzYs8w',\n",
       " 'z_GX5rz80tbJpwKTVn0srXjq4cy1dG4C6AwSb-2wSNxLd1Y',\n",
       " 'sU01hO-yB56tuw0ee77jIn1NRZ0E-D3kYoth3FBBFWZbBeA',\n",
       " '5i79sVtfZRXtBmsHrUImebvh2J_qJK8V_2AMQt61PIpJ-72F',\n",
       " 'UrXpp6yX16B6bhHJ9K24clJLDBlVdQHjbc3X_tNhe4f1d8s9',\n",
       " 'FnM-Kzjz9NS9DUqH7z9kXUK5LUJ-RPkzkOd-V-tX3CLqOpMS',\n",
       " '2QK8BbngZHvEhM4KEiz9ZkWqcfMQNMs6T8aJyYge5I9USUNWuMlOrnmZ7w']"
      ]
     },
     "execution_count": 5,
     "metadata": {},
     "output_type": "execute_result"
    }
   ],
   "source": [
    "summonerIDs = []\n",
    "for summoner in GRANDMASTER[\"entries\"]:\n",
    "  summonerIDs.append(summoner[\"summonerId\"])\n",
    "\n",
    "summonerIDs"
   ]
  },
  {
   "cell_type": "code",
   "execution_count": 6,
   "id": "094f607c",
   "metadata": {
    "collapsed": false,
    "jupyter": {
     "outputs_hidden": false
    },
    "pycharm": {
     "name": "#%%\n"
    }
   },
   "outputs": [],
   "source": [
    "def gatherSummonerData (summonerID):\n",
    "  calls = 0\n",
    "\n",
    "  summonerEnd = \"/tft/summoner/v1/summoners/\"\n",
    "  puuidsResponse = requests.get(f\"{api_url}{summonerEnd}{summonerID}\", headers={\"X-Riot-Token\": keys[\"private\"]})\n",
    "  calls += 1\n",
    "  puuid = puuidsResponse.json()[\"puuid\"]\n",
    "\n",
    "  api_url_region_america = \"https://americas.api.riotgames.com\"\n",
    "  matchPUUIDEnd = f\"/tft/match/v1/matches/by-puuid/{puuid}/ids\"\n",
    "  start = 0\n",
    "  count = 20\n",
    "  matchesResponse = requests.get(f\"{api_url_region_america}{matchPUUIDEnd}?start={start}&count={count}\", headers={\"X-Riot-Token\": keys[\"private\"]})\n",
    "  calls += 1\n",
    "\n",
    "  matches = matchesResponse.json()\n",
    "\n",
    "  sleepTime = 0\n",
    "  summonerMatchData = []\n",
    "  for match in matches:\n",
    "    matchEND = \"/tft/match/v1/matches/\"\n",
    "    matchDataResponse = requests.get(f\"{api_url_region_america}{matchEND}{match}\", headers={\"X-Riot-Token\": keys[\"private\"]})\n",
    "\n",
    "    calls += 1\n",
    "    time.sleep(0.1)\n",
    "    sleepTime += 1\n",
    "\n",
    "    matchData = {}\n",
    "    for participant in matchDataResponse.json()[\"info\"][\"participants\"]:\n",
    "      matchData[participant[\"puuid\"]] = {}\n",
    "      matchData[participant[\"puuid\"]][\"placement\"] = participant[\"placement\"]\n",
    "      matchData[participant[\"puuid\"]][\"traits\"] = []\n",
    "      matchData[participant[\"puuid\"]][\"units\"] = []\n",
    "      matchData[participant[\"puuid\"]][\"augments\"] = []\n",
    "      for trait in participant[\"traits\"]:\n",
    "        matchData[participant[\"puuid\"]][\"traits\"].append(trait[\"name\"])\n",
    "      for unit in participant[\"units\"]:\n",
    "         matchData[participant[\"puuid\"]][\"units\"].append(unit[\"character_id\"])\n",
    "      for augment in participant[\"augments\"]:\n",
    "        matchData[participant[\"puuid\"]][\"augments\"].append(augment)\n",
    "\n",
    "    summonerMatchData.append(matchData)\n",
    "\n",
    "  return summonerMatchData, calls, sleepTime"
   ]
  },
  {
   "cell_type": "code",
   "execution_count": 7,
   "id": "1f3edc4f",
   "metadata": {
    "collapsed": false,
    "jupyter": {
     "outputs_hidden": false
    },
    "pycharm": {
     "name": "#%%\n"
    }
   },
   "outputs": [
    {
     "name": "stderr",
     "output_type": "stream",
     "text": [
      "  3%|██                                                                             | 13/500 [05:58<2:50:24, 21.00s/it]"
     ]
    },
    {
     "name": "stdout",
     "output_type": "stream",
     "text": [
      "-T1WP3YFy0ZAjeE2UMXN0pi6jQSER5Tmqt2GX3p6Z1TUIdo did not load.\n"
     ]
    },
    {
     "name": "stderr",
     "output_type": "stream",
     "text": [
      "  3%|██▏                                                                            | 14/500 [06:00<2:05:25, 15.48s/it]"
     ]
    },
    {
     "name": "stdout",
     "output_type": "stream",
     "text": [
      "JAK9EHKMsmnXtN2PkNSqx99r3LDEs0ql2cCXZ1uIMrlKk9c did not load.\n"
     ]
    },
    {
     "name": "stderr",
     "output_type": "stream",
     "text": [
      "  3%|██▎                                                                            | 15/500 [06:03<1:34:11, 11.65s/it]"
     ]
    },
    {
     "name": "stdout",
     "output_type": "stream",
     "text": [
      "6BkR3MdEG8jYnVn7bL1eSV7eyCFjrQ_7cfR_V3zSlvN7UI0 did not load.\n"
     ]
    },
    {
     "name": "stderr",
     "output_type": "stream",
     "text": [
      "  4%|███▏                                                                           | 20/500 [08:01<2:49:05, 21.14s/it]"
     ]
    },
    {
     "name": "stdout",
     "output_type": "stream",
     "text": [
      "bfSg9_pNCXnLZIpEWGm3oYwBDzMLNFSJ5Bfa9WhflyRpby0 did not load.\n"
     ]
    },
    {
     "name": "stderr",
     "output_type": "stream",
     "text": [
      "  4%|███▎                                                                           | 21/500 [08:04<2:04:41, 15.62s/it]"
     ]
    },
    {
     "name": "stdout",
     "output_type": "stream",
     "text": [
      "VAA_s8Mp8DVATHYy1KtgmvP8OlE9vY7oBcYoStgyTx_-7S6b6F2gIWb5QQ did not load.\n"
     ]
    },
    {
     "name": "stderr",
     "output_type": "stream",
     "text": [
      "  5%|████                                                                           | 26/500 [09:58<2:47:08, 21.16s/it]"
     ]
    },
    {
     "name": "stdout",
     "output_type": "stream",
     "text": [
      "FH5oX6bJV3ho8n6H8Y_cTTCxLbD98LEasMG9jFf-ieUZ4CVXcLp004FUgQ did not load.\n"
     ]
    },
    {
     "name": "stderr",
     "output_type": "stream",
     "text": [
      "  5%|████▎                                                                          | 27/500 [10:01<2:03:22, 15.65s/it]"
     ]
    },
    {
     "name": "stdout",
     "output_type": "stream",
     "text": [
      "1EDP0TjtRbRM8AHqrKJgkkArcQdxiCNz_bgixOpciBFUuc8 did not load.\n"
     ]
    },
    {
     "name": "stderr",
     "output_type": "stream",
     "text": [
      "  6%|████▍                                                                          | 28/500 [10:04<1:32:37, 11.78s/it]"
     ]
    },
    {
     "name": "stdout",
     "output_type": "stream",
     "text": [
      "ZsP8nDJT_fnjuSHKcjp54u8cho-xLG0wrB-i7Lm2RTTAaR8 did not load.\n"
     ]
    },
    {
     "name": "stderr",
     "output_type": "stream",
     "text": [
      "  7%|█████▏                                                                         | 33/500 [12:00<2:40:44, 20.65s/it]"
     ]
    },
    {
     "name": "stdout",
     "output_type": "stream",
     "text": [
      "-ZQPK5O0DkILI92CWLxsr8C4DGL4bRvvFKvgziIsYdKTWGk did not load.\n"
     ]
    },
    {
     "name": "stderr",
     "output_type": "stream",
     "text": [
      "  7%|█████▎                                                                         | 34/500 [12:03<1:58:43, 15.29s/it]"
     ]
    },
    {
     "name": "stdout",
     "output_type": "stream",
     "text": [
      "U6kCQGqaaoH1LwQ2-sewstqKBCu2BraIwBswI-ZZKplIDXk did not load.\n"
     ]
    },
    {
     "name": "stderr",
     "output_type": "stream",
     "text": [
      "  7%|█████▌                                                                         | 35/500 [12:06<1:29:12, 11.51s/it]"
     ]
    },
    {
     "name": "stdout",
     "output_type": "stream",
     "text": [
      "m9XSthAAfK-1pV3p_1kb3nHpgUQ39lCxPeIW_vnB6qIdFJQ did not load.\n"
     ]
    },
    {
     "name": "stderr",
     "output_type": "stream",
     "text": [
      "  8%|██████▎                                                                        | 40/500 [14:03<2:39:31, 20.81s/it]"
     ]
    },
    {
     "name": "stdout",
     "output_type": "stream",
     "text": [
      "TA-bmvWZAPUYBgaX6AGJhH6gXcqLm4XdggCD_soqUnDeMak did not load.\n"
     ]
    },
    {
     "name": "stderr",
     "output_type": "stream",
     "text": [
      "  8%|██████▍                                                                        | 41/500 [14:06<1:57:41, 15.38s/it]"
     ]
    },
    {
     "name": "stdout",
     "output_type": "stream",
     "text": [
      "n_Ytpcxv7h2p7HgE4oaJEy6a99prqecJ9zYApuEZD-opcvpU did not load.\n"
     ]
    },
    {
     "name": "stderr",
     "output_type": "stream",
     "text": [
      "  9%|███████▎                                                                       | 46/500 [16:00<2:38:46, 20.98s/it]"
     ]
    },
    {
     "name": "stdout",
     "output_type": "stream",
     "text": [
      "VYKaKnpwZqwOQf1SjqpcCV1qOGIWDGzH1bHqoR53C01YG6wH did not load.\n"
     ]
    },
    {
     "name": "stderr",
     "output_type": "stream",
     "text": [
      "  9%|███████▍                                                                       | 47/500 [16:02<1:57:14, 15.53s/it]"
     ]
    },
    {
     "name": "stdout",
     "output_type": "stream",
     "text": [
      "z6VSkaMkthuqKK5pF47twvNWNKLAsVWo1zKfxUGZmqHLogo did not load.\n"
     ]
    },
    {
     "name": "stderr",
     "output_type": "stream",
     "text": [
      " 10%|███████▌                                                                       | 48/500 [16:05<1:28:05, 11.69s/it]"
     ]
    },
    {
     "name": "stdout",
     "output_type": "stream",
     "text": [
      "ZeBwPYYM30WNKIzjx0zLbzWnpQ9IFrh1hMRS1O7IJ86rISE did not load.\n"
     ]
    },
    {
     "name": "stderr",
     "output_type": "stream",
     "text": [
      " 10%|███████▋                                                                       | 49/500 [16:08<1:07:52,  9.03s/it]"
     ]
    },
    {
     "name": "stdout",
     "output_type": "stream",
     "text": [
      "McOifjfpxGDcr-a2W6hyW8NUxyv7cuXt9HX4GexNN40XkrI did not load.\n"
     ]
    },
    {
     "name": "stderr",
     "output_type": "stream",
     "text": [
      " 11%|████████▌                                                                      | 54/500 [18:02<2:27:47, 19.88s/it]"
     ]
    },
    {
     "name": "stdout",
     "output_type": "stream",
     "text": [
      "jJrmLJdsFTGGpPt6RDqqbldb_KVIb9Wz-GZdXvk7GEdXjqg did not load.\n"
     ]
    },
    {
     "name": "stderr",
     "output_type": "stream",
     "text": [
      " 11%|████████▋                                                                      | 55/500 [18:05<1:49:29, 14.76s/it]"
     ]
    },
    {
     "name": "stdout",
     "output_type": "stream",
     "text": [
      "NIgSzDmuRwAIgxqw38g2PPKBmqxX8Ng14jgcihVOF3hO-CKd did not load.\n"
     ]
    },
    {
     "name": "stderr",
     "output_type": "stream",
     "text": [
      " 11%|████████▊                                                                      | 56/500 [18:08<1:22:57, 11.21s/it]"
     ]
    },
    {
     "name": "stdout",
     "output_type": "stream",
     "text": [
      "GWEcNHyR66hn-_85DlEQ3eG9Smws08l2OpzVIGCyLT-pJQc did not load.\n"
     ]
    },
    {
     "name": "stderr",
     "output_type": "stream",
     "text": [
      " 12%|█████████▋                                                                     | 61/500 [20:03<2:28:49, 20.34s/it]"
     ]
    },
    {
     "name": "stdout",
     "output_type": "stream",
     "text": [
      "VQTK5j9unqh3oB9VOfO6VVIdaxsDaZj6n5WXzh9nngoDex8suqk_2xVD7w did not load.\n"
     ]
    },
    {
     "name": "stderr",
     "output_type": "stream",
     "text": [
      " 12%|█████████▊                                                                     | 62/500 [20:06<1:50:49, 15.18s/it]"
     ]
    },
    {
     "name": "stdout",
     "output_type": "stream",
     "text": [
      "ZeipdSvD-UsTZEB9I57PdTpZdxvJ_P6uOsGWbJS29ADOx9LWhzUaB5YURw did not load.\n"
     ]
    },
    {
     "name": "stderr",
     "output_type": "stream",
     "text": [
      " 13%|█████████▉                                                                     | 63/500 [20:09<1:23:25, 11.45s/it]"
     ]
    },
    {
     "name": "stdout",
     "output_type": "stream",
     "text": [
      "CsOkHuC1_vVKvgxZSTyDiEo4t1KFWajOLxP6C9ADnydLAis did not load.\n"
     ]
    },
    {
     "name": "stderr",
     "output_type": "stream",
     "text": [
      " 14%|██████████▋                                                                    | 68/500 [22:03<2:26:41, 20.37s/it]"
     ]
    },
    {
     "name": "stdout",
     "output_type": "stream",
     "text": [
      "YUq_S-KZvGLbpauu9lsh7eOL1rhc1lqcaygb8rXgeXFZoWzi did not load.\n"
     ]
    },
    {
     "name": "stderr",
     "output_type": "stream",
     "text": [
      " 14%|██████████▉                                                                    | 69/500 [22:06<1:48:22, 15.09s/it]"
     ]
    },
    {
     "name": "stdout",
     "output_type": "stream",
     "text": [
      "kIieJfx57KTm06hi25pvI-LoxAlXcIPB4l351O_oFbI0Gq8cZA0s_Flr7g did not load.\n"
     ]
    },
    {
     "name": "stderr",
     "output_type": "stream",
     "text": [
      " 14%|███████████                                                                    | 70/500 [22:08<1:21:32, 11.38s/it]"
     ]
    },
    {
     "name": "stdout",
     "output_type": "stream",
     "text": [
      "bAdn-AjeheKkZ-Ub325JAcgccAgZUOLSNX98upu19ptiagE did not load.\n"
     ]
    },
    {
     "name": "stderr",
     "output_type": "stream",
     "text": [
      " 14%|███████████▏                                                                   | 71/500 [22:11<1:03:00,  8.81s/it]"
     ]
    },
    {
     "name": "stdout",
     "output_type": "stream",
     "text": [
      "y8ton0EonshSb0agjCJcnapefi5qp9hT6tbf1CkGOMp7vjI did not load.\n"
     ]
    },
    {
     "name": "stderr",
     "output_type": "stream",
     "text": [
      " 15%|████████████                                                                   | 76/500 [24:05<2:18:07, 19.55s/it]"
     ]
    },
    {
     "name": "stdout",
     "output_type": "stream",
     "text": [
      "_O2-kbd_Ep-EW_sPzLnE6MWO_p87orxqQQ0sh6lc05Mh1d_I did not load.\n"
     ]
    },
    {
     "name": "stderr",
     "output_type": "stream",
     "text": [
      " 15%|████████████▏                                                                  | 77/500 [24:08<1:42:40, 14.56s/it]"
     ]
    },
    {
     "name": "stdout",
     "output_type": "stream",
     "text": [
      "-5KTDT0HM68U0KItRjgP0b4_-tRNzDBO6brnwtJFPaJwMHo did not load.\n"
     ]
    },
    {
     "name": "stderr",
     "output_type": "stream",
     "text": [
      " 16%|████████████▎                                                                  | 78/500 [24:11<1:17:28, 11.01s/it]"
     ]
    },
    {
     "name": "stdout",
     "output_type": "stream",
     "text": [
      "tdAT3xdeZ_3ZbHsuY9FuQsbVLIzEtBvxbYK4weR-4HsHAV8 did not load.\n"
     ]
    },
    {
     "name": "stderr",
     "output_type": "stream",
     "text": [
      " 16%|████████████▍                                                                  | 79/500 [24:34<1:43:54, 14.81s/it]"
     ]
    },
    {
     "name": "stdout",
     "output_type": "stream",
     "text": [
      "100 requests reached. Sleeping 1 minute.\n"
     ]
    },
    {
     "name": "stderr",
     "output_type": "stream",
     "text": [
      " 17%|█████████████▌                                                                 | 86/500 [28:06<2:21:57, 20.57s/it]"
     ]
    },
    {
     "name": "stdout",
     "output_type": "stream",
     "text": [
      "e5DQhq8-LkapQtDCieRVlUbCbostdZxeLKlQQFbGvAVmbzN6roWKCA3HXQ did not load.\n"
     ]
    },
    {
     "name": "stderr",
     "output_type": "stream",
     "text": [
      " 17%|█████████████▋                                                                 | 87/500 [28:09<1:44:48, 15.23s/it]"
     ]
    },
    {
     "name": "stdout",
     "output_type": "stream",
     "text": [
      "Ia3oSvtq5im5qleSWNDrW9JfTp9ZckK2qIXz9egIuAjleYAenOH0Olv67Q did not load.\n"
     ]
    },
    {
     "name": "stderr",
     "output_type": "stream",
     "text": [
      " 18%|█████████████▉                                                                 | 88/500 [28:12<1:18:51, 11.48s/it]"
     ]
    },
    {
     "name": "stdout",
     "output_type": "stream",
     "text": [
      "gDTcBncTZffAYZ6ByilsyS6RNn9oUa2_GpOI2Hnm9x2IYWY did not load.\n"
     ]
    },
    {
     "name": "stderr",
     "output_type": "stream",
     "text": [
      " 19%|██████████████▋                                                                | 93/500 [30:05<2:17:37, 20.29s/it]"
     ]
    },
    {
     "name": "stdout",
     "output_type": "stream",
     "text": [
      "sw_l00iajwu5cRD22y9PEc1RdpwXGk3FFDto0QKXZwXZ_a0 did not load.\n"
     ]
    },
    {
     "name": "stderr",
     "output_type": "stream",
     "text": [
      " 19%|██████████████▊                                                                | 94/500 [30:08<1:41:41, 15.03s/it]"
     ]
    },
    {
     "name": "stdout",
     "output_type": "stream",
     "text": [
      "6o8Rq1p6O4mnfW27PScTNdaO0fpktUY30A08czm2BFS3JXRh did not load.\n"
     ]
    },
    {
     "name": "stderr",
     "output_type": "stream",
     "text": [
      " 19%|███████████████                                                                | 95/500 [30:11<1:16:27, 11.33s/it]"
     ]
    },
    {
     "name": "stdout",
     "output_type": "stream",
     "text": [
      "esv-v3DLSXdRS7xM9oZjayai4W-8ZdIhZvnESgOqIv26TeY did not load.\n"
     ]
    },
    {
     "name": "stderr",
     "output_type": "stream",
     "text": [
      " 19%|███████████████▌                                                                 | 96/500 [30:14<58:59,  8.76s/it]"
     ]
    },
    {
     "name": "stdout",
     "output_type": "stream",
     "text": [
      "op5lRY0S_bbzragsNO-pFD1yS2757j1xB8iJYOqA9HLKc0O03ih286PBxg did not load.\n"
     ]
    },
    {
     "name": "stderr",
     "output_type": "stream",
     "text": [
      " 20%|███████████████▊                                                              | 101/500 [32:09<2:13:11, 20.03s/it]"
     ]
    },
    {
     "name": "stdout",
     "output_type": "stream",
     "text": [
      "bnxtJcu0gbARHQTyrqWMvVZUTjkypaKud7rgQiO2MczkAROAEW6IPI5tdg did not load.\n"
     ]
    },
    {
     "name": "stderr",
     "output_type": "stream",
     "text": [
      " 20%|███████████████▉                                                              | 102/500 [32:12<1:38:29, 14.85s/it]"
     ]
    },
    {
     "name": "stdout",
     "output_type": "stream",
     "text": [
      "iSlSVDx2HvHKaTnkTcsK1Lun2FkROngahH5NrI6MIgGHhxE8I7h0ENBPFA did not load.\n"
     ]
    },
    {
     "name": "stderr",
     "output_type": "stream",
     "text": [
      " 21%|████████████████                                                              | 103/500 [32:14<1:14:07, 11.20s/it]"
     ]
    },
    {
     "name": "stdout",
     "output_type": "stream",
     "text": [
      "dZRvRB85mVWhJXrjH0zT6qKc85kqLoAUhkRUNmk9XSrR3yuMrCawjzfrvg did not load.\n"
     ]
    },
    {
     "name": "stderr",
     "output_type": "stream",
     "text": [
      " 22%|████████████████▊                                                             | 108/500 [34:08<2:11:46, 20.17s/it]"
     ]
    },
    {
     "name": "stdout",
     "output_type": "stream",
     "text": [
      "gRi7MKqevcbmjDrDUxEs6IYteEKvo8ArbbOMbkKm9X61gcGi did not load.\n"
     ]
    },
    {
     "name": "stderr",
     "output_type": "stream",
     "text": [
      " 22%|█████████████████                                                             | 109/500 [34:10<1:37:27, 14.96s/it]"
     ]
    },
    {
     "name": "stdout",
     "output_type": "stream",
     "text": [
      "sejCVxQTM8qhoNdbUu5ySFSN1qv-AQohn4wnSLsGfRGQ80WbbvAl6AgpaQ did not load.\n"
     ]
    },
    {
     "name": "stderr",
     "output_type": "stream",
     "text": [
      " 22%|█████████████████▏                                                            | 110/500 [34:13<1:13:20, 11.28s/it]"
     ]
    },
    {
     "name": "stdout",
     "output_type": "stream",
     "text": [
      "nSf2cOqMTZ2pFpvzvTvqLCoBN2Peh469IS2UiSsR_1B_1Ts did not load.\n"
     ]
    },
    {
     "name": "stderr",
     "output_type": "stream",
     "text": [
      " 22%|█████████████████▊                                                              | 111/500 [34:16<56:31,  8.72s/it]"
     ]
    },
    {
     "name": "stdout",
     "output_type": "stream",
     "text": [
      "spoKjJWIrRL1mj0mik3HJfbSqsQTm-8cZmp-dhZ0GNC2QgH- did not load.\n"
     ]
    },
    {
     "name": "stderr",
     "output_type": "stream",
     "text": [
      " 23%|██████████████████                                                            | 116/500 [36:10<2:06:48, 19.81s/it]"
     ]
    },
    {
     "name": "stdout",
     "output_type": "stream",
     "text": [
      "jQf5dgBADAsaQBq95nOWJ5x77ouRaD4zEhF9U0NBDaXGA4x3gPwcUynQnw did not load.\n"
     ]
    },
    {
     "name": "stderr",
     "output_type": "stream",
     "text": [
      " 23%|██████████████████▎                                                           | 117/500 [36:12<1:34:01, 14.73s/it]"
     ]
    },
    {
     "name": "stdout",
     "output_type": "stream",
     "text": [
      "9v-19TrhZGabq6A1ez0sHNGfO8H-doNsINGEYxPXVbsBfcsq did not load.\n"
     ]
    },
    {
     "name": "stderr",
     "output_type": "stream",
     "text": [
      " 24%|██████████████████▍                                                           | 118/500 [36:15<1:10:50, 11.13s/it]"
     ]
    },
    {
     "name": "stdout",
     "output_type": "stream",
     "text": [
      "qVyZas4bkrnr_KPUEAMtv60ShyvnHVfRBufVEMsi-nN0ASI did not load.\n"
     ]
    },
    {
     "name": "stderr",
     "output_type": "stream",
     "text": [
      " 24%|███████████████████                                                             | 119/500 [36:18<54:45,  8.62s/it]"
     ]
    },
    {
     "name": "stdout",
     "output_type": "stream",
     "text": [
      "beZmZc3ij_IaDGQnvxKCsjUb9-FAHj0j2FUdgM9hVJQ-3LI did not load.\n"
     ]
    },
    {
     "name": "stderr",
     "output_type": "stream",
     "text": [
      " 25%|███████████████████▎                                                          | 124/500 [37:58<1:35:07, 15.18s/it]"
     ]
    },
    {
     "name": "stdout",
     "output_type": "stream",
     "text": [
      "ybiDsRfnsrOL1AGE-SOIVFn1blcajoBPCVfMvBQowYagZ6g did not load.\n"
     ]
    },
    {
     "name": "stderr",
     "output_type": "stream",
     "text": [
      " 25%|███████████████████▌                                                          | 125/500 [38:14<1:36:29, 15.44s/it]"
     ]
    },
    {
     "name": "stdout",
     "output_type": "stream",
     "text": [
      "kWAsY9EJbWL_SlLTHZXa5jv_Woh62nqdQTL9WAMjLkmvypo did not load.\n"
     ]
    },
    {
     "name": "stderr",
     "output_type": "stream",
     "text": [
      " 25%|███████████████████▋                                                          | 126/500 [38:17<1:12:35, 11.65s/it]"
     ]
    },
    {
     "name": "stdout",
     "output_type": "stream",
     "text": [
      "X7A7UdY1yJF1jfnJcNGuCX2DLexODSxHtBqAbn1KcEumnJjsnOhHrKJtQg did not load.\n"
     ]
    },
    {
     "name": "stderr",
     "output_type": "stream",
     "text": [
      " 26%|████████████████████▍                                                         | 131/500 [40:12<2:05:49, 20.46s/it]"
     ]
    },
    {
     "name": "stdout",
     "output_type": "stream",
     "text": [
      "PyNew-iAqQ0Jjli-f2ZlMoHbb18fogoiGI83ZGbV4rGZROI did not load.\n"
     ]
    },
    {
     "name": "stderr",
     "output_type": "stream",
     "text": [
      " 26%|████████████████████▌                                                         | 132/500 [40:14<1:33:01, 15.17s/it]"
     ]
    },
    {
     "name": "stdout",
     "output_type": "stream",
     "text": [
      "Dg8g21dfmr4wgifeckYbiTm1moQ_IHczlmFJMqvsEoYPfPs did not load.\n"
     ]
    },
    {
     "name": "stderr",
     "output_type": "stream",
     "text": [
      " 27%|████████████████████▋                                                         | 133/500 [40:17<1:10:02, 11.45s/it]"
     ]
    },
    {
     "name": "stdout",
     "output_type": "stream",
     "text": [
      "SYFt3ga3PHdc4PO3pnWxl9KVhCcAhf1MnW55BfcVNt-zbjU did not load.\n"
     ]
    },
    {
     "name": "stderr",
     "output_type": "stream",
     "text": [
      " 28%|█████████████████████▌                                                        | 138/500 [42:12<2:03:41, 20.50s/it]"
     ]
    },
    {
     "name": "stdout",
     "output_type": "stream",
     "text": [
      "sxutN1WlWuBxx-bWmPzcesM25o4PNsk4VtFi07MQLAtG0fLZ did not load.\n"
     ]
    },
    {
     "name": "stderr",
     "output_type": "stream",
     "text": [
      " 28%|█████████████████████▋                                                        | 139/500 [42:15<1:31:26, 15.20s/it]"
     ]
    },
    {
     "name": "stdout",
     "output_type": "stream",
     "text": [
      "vyvMrjR6s5A1EeiYJmyAJEu3VjZhgvNJ1LYP0Ci1kQ2ijMs did not load.\n"
     ]
    },
    {
     "name": "stderr",
     "output_type": "stream",
     "text": [
      " 28%|█████████████████████▊                                                        | 140/500 [42:18<1:08:45, 11.46s/it]"
     ]
    },
    {
     "name": "stdout",
     "output_type": "stream",
     "text": [
      "2h2ReqF4ilIBEbv81hsCE-V1grIS4S497FqMMLKNa6upzZHT did not load.\n"
     ]
    },
    {
     "name": "stderr",
     "output_type": "stream",
     "text": [
      " 29%|██████████████████████▌                                                       | 145/500 [44:11<1:59:26, 20.19s/it]"
     ]
    },
    {
     "name": "stdout",
     "output_type": "stream",
     "text": [
      "BcvaGbyOYPSthyxn8b8Dkvso4lyEBQpd4mTpC9xc6rGXoa8 did not load.\n"
     ]
    },
    {
     "name": "stderr",
     "output_type": "stream",
     "text": [
      " 29%|██████████████████████▊                                                       | 146/500 [44:14<1:28:27, 14.99s/it]"
     ]
    },
    {
     "name": "stdout",
     "output_type": "stream",
     "text": [
      "UnGwwtjKtE37IpRP_Oo1HZJASZhOTKwRV_XntyoTgWBVP13-Ae-JdNLNog did not load.\n"
     ]
    },
    {
     "name": "stderr",
     "output_type": "stream",
     "text": [
      " 29%|██████████████████████▉                                                       | 147/500 [44:17<1:06:34, 11.32s/it]"
     ]
    },
    {
     "name": "stdout",
     "output_type": "stream",
     "text": [
      "jxIvCZc_1YZRuhtlonjvX6FnuCZd9DOlYmmz7yq2I4chSiA did not load.\n"
     ]
    },
    {
     "name": "stderr",
     "output_type": "stream",
     "text": [
      " 30%|███████████████████████▋                                                        | 148/500 [44:20<51:32,  8.79s/it]"
     ]
    },
    {
     "name": "stdout",
     "output_type": "stream",
     "text": [
      "Fgz4eAj9Dprs7GxsXp0zzCvKdBvZpfabpWzxc9QgPB5jU4a4 did not load.\n"
     ]
    },
    {
     "name": "stderr",
     "output_type": "stream",
     "text": [
      " 31%|███████████████████████▊                                                      | 153/500 [46:13<1:53:37, 19.65s/it]"
     ]
    },
    {
     "name": "stdout",
     "output_type": "stream",
     "text": [
      "DMBO_UkRZE2qTHhHziKucanaq6UqdFQhgaRfM9_SDzblSnw did not load.\n"
     ]
    },
    {
     "name": "stderr",
     "output_type": "stream",
     "text": [
      " 31%|████████████████████████                                                      | 154/500 [46:16<1:24:23, 14.63s/it]"
     ]
    },
    {
     "name": "stdout",
     "output_type": "stream",
     "text": [
      "j-ShamrVggKmWhPJ27BlocxKVvUmJkW4HVLHUWtSCxmk82k did not load.\n"
     ]
    },
    {
     "name": "stderr",
     "output_type": "stream",
     "text": [
      " 31%|████████████████████████▏                                                     | 155/500 [46:19<1:03:38, 11.07s/it]"
     ]
    },
    {
     "name": "stdout",
     "output_type": "stream",
     "text": [
      "hybpAoOaowkcf8C0mhGp69GDMh-FUTc9SnNvT3nn3SNP0xM did not load.\n"
     ]
    },
    {
     "name": "stderr",
     "output_type": "stream",
     "text": [
      " 32%|████████████████████████▉                                                     | 160/500 [48:13<1:54:07, 20.14s/it]"
     ]
    },
    {
     "name": "stdout",
     "output_type": "stream",
     "text": [
      "NAvwH02kkaHoGse4g4w7aciXVHjpFNVMkAtBJvrlFxPzAUlo did not load.\n"
     ]
    },
    {
     "name": "stderr",
     "output_type": "stream",
     "text": [
      " 32%|█████████████████████████                                                     | 161/500 [48:16<1:24:22, 14.93s/it]"
     ]
    },
    {
     "name": "stdout",
     "output_type": "stream",
     "text": [
      "hR_oPNK6qoRE8-7nAb10I7q-r038EtYsHjqRfRMCg7-R5-w did not load.\n"
     ]
    },
    {
     "name": "stderr",
     "output_type": "stream",
     "text": [
      " 32%|█████████████████████████▎                                                    | 162/500 [48:19<1:03:35, 11.29s/it]"
     ]
    },
    {
     "name": "stdout",
     "output_type": "stream",
     "text": [
      "-Mshs7kLEbJwGDdMIXHTfWcszxfnweODRQPn63twhtz0Mh0 did not load.\n"
     ]
    },
    {
     "name": "stderr",
     "output_type": "stream",
     "text": [
      " 33%|██████████████████████████                                                      | 163/500 [48:22<50:00,  8.90s/it]"
     ]
    },
    {
     "name": "stdout",
     "output_type": "stream",
     "text": [
      "ilEABnJ3iaTeP3pQtsE4MlpsZ2LNAzbpJQNMc04lUh0Ay-U did not load.\n"
     ]
    },
    {
     "name": "stderr",
     "output_type": "stream",
     "text": [
      " 34%|██████████████████████████▏                                                   | 168/500 [50:16<1:48:21, 19.58s/it]"
     ]
    },
    {
     "name": "stdout",
     "output_type": "stream",
     "text": [
      "pdCx5wnmO9fQomVsKk_4ypvUDRxfcAPY-sUuKpab7HhySRg did not load.\n"
     ]
    },
    {
     "name": "stderr",
     "output_type": "stream",
     "text": [
      " 34%|██████████████████████████▎                                                   | 169/500 [50:18<1:20:16, 14.55s/it]"
     ]
    },
    {
     "name": "stdout",
     "output_type": "stream",
     "text": [
      "kOgn5cLavRkmY-FzpNdev4Eaf9VeFK-zhbRAeJyYLowR2Os did not load.\n"
     ]
    },
    {
     "name": "stderr",
     "output_type": "stream",
     "text": [
      " 34%|██████████████████████████▌                                                   | 170/500 [50:21<1:00:50, 11.06s/it]"
     ]
    },
    {
     "name": "stdout",
     "output_type": "stream",
     "text": [
      "nruXSAgA9HKbXvLVX0XuMKumfi7TxJw5O_QsZubb80TgJFS3nlhI__FE1Q did not load.\n",
      "100 requests reached. Sleeping 1 minute.\n"
     ]
    },
    {
     "name": "stderr",
     "output_type": "stream",
     "text": [
      " 36%|███████████████████████████▊                                                  | 178/500 [54:17<1:47:49, 20.09s/it]"
     ]
    },
    {
     "name": "stdout",
     "output_type": "stream",
     "text": [
      "PKWpvBaG1fgMNR7q-jv41GN4GDtis4udPhlPAWlCX-z28J0 did not load.\n"
     ]
    },
    {
     "name": "stderr",
     "output_type": "stream",
     "text": [
      " 36%|███████████████████████████▉                                                  | 179/500 [54:19<1:19:46, 14.91s/it]"
     ]
    },
    {
     "name": "stdout",
     "output_type": "stream",
     "text": [
      "GVa6BHDCee5kxhRHT7iQWOF3bpMC68BVsTQ0i-l_Mr2TuGEQ did not load.\n"
     ]
    },
    {
     "name": "stderr",
     "output_type": "stream",
     "text": [
      " 36%|████████████████████████████                                                  | 180/500 [54:22<1:00:03, 11.26s/it]"
     ]
    },
    {
     "name": "stdout",
     "output_type": "stream",
     "text": [
      "x3bhgPuONZEcZ0wWQxZqKsEOEU_2abFIEFVhfW3cOJYQ0WnHX_WG1exRUw did not load.\n"
     ]
    },
    {
     "name": "stderr",
     "output_type": "stream",
     "text": [
      " 37%|████████████████████████████▊                                                 | 185/500 [56:17<1:47:41, 20.51s/it]"
     ]
    },
    {
     "name": "stdout",
     "output_type": "stream",
     "text": [
      "suOm7teUPmxisDmUJIBaeT3wkEnEYui7HQAJKRGhj4oOUC4 did not load.\n"
     ]
    },
    {
     "name": "stderr",
     "output_type": "stream",
     "text": [
      " 37%|█████████████████████████████                                                 | 186/500 [56:20<1:19:32, 15.20s/it]"
     ]
    },
    {
     "name": "stdout",
     "output_type": "stream",
     "text": [
      "I6yN0Rz6T2cURyeQ5z4p25EH7V8PmsC0iENhZ6s7Q0rnKUg did not load.\n"
     ]
    },
    {
     "name": "stderr",
     "output_type": "stream",
     "text": [
      " 37%|█████████████████████████████▉                                                  | 187/500 [56:23<59:42, 11.44s/it]"
     ]
    },
    {
     "name": "stdout",
     "output_type": "stream",
     "text": [
      "x_eOd3Zj4_nehuyfdJGHFETpW8BG1EuNlwaaM9ZY8vsuPYY did not load.\n"
     ]
    },
    {
     "name": "stderr",
     "output_type": "stream",
     "text": [
      " 38%|█████████████████████████████▊                                                | 191/500 [57:55<1:42:58, 20.00s/it]"
     ]
    },
    {
     "name": "stdout",
     "output_type": "stream",
     "text": [
      "wZr8E_rXNTwLEk4jtQTHLWrJEfiKouZqe0MIyQBY7Ydvj2A did not load.\n"
     ]
    },
    {
     "name": "stderr",
     "output_type": "stream",
     "text": [
      " 38%|█████████████████████████████▉                                                | 192/500 [58:05<1:26:58, 16.94s/it]"
     ]
    },
    {
     "name": "stdout",
     "output_type": "stream",
     "text": [
      "UwxkdpNb_aBRG6QbLOF_3PAP-abBWYgw6uLdHyifH_jliYt9H78yv6Li4w did not load.\n"
     ]
    },
    {
     "name": "stderr",
     "output_type": "stream",
     "text": [
      " 39%|██████████████████████████████                                                | 193/500 [58:19<1:21:34, 15.94s/it]"
     ]
    },
    {
     "name": "stdout",
     "output_type": "stream",
     "text": [
      "snFTS7HlKhhfZ_ZEMfJHN9e2aolHB0NoHiNcDkPVr187HdB4iHaA7XIXsQ did not load.\n"
     ]
    },
    {
     "name": "stderr",
     "output_type": "stream",
     "text": [
      " 39%|██████████████████████████████▎                                               | 194/500 [58:22<1:01:10, 12.00s/it]"
     ]
    },
    {
     "name": "stdout",
     "output_type": "stream",
     "text": [
      "JcqrAVhXEkG69zV9Ba8jnidqv8KwJAL90x1l9pvFpUlwW24 did not load.\n"
     ]
    },
    {
     "name": "stderr",
     "output_type": "stream",
     "text": [
      " 39%|███████████████████████████████▏                                                | 195/500 [58:24<46:49,  9.21s/it]"
     ]
    },
    {
     "name": "stdout",
     "output_type": "stream",
     "text": [
      "mxUo0D4NceKMPd2cXIJZP2OVevOj4VGb2x3iT_jVEghSpQ_2 did not load.\n"
     ]
    },
    {
     "name": "stderr",
     "output_type": "stream",
     "text": [
      " 40%|██████████████████████████████▍                                             | 200/500 [1:00:18<1:40:24, 20.08s/it]"
     ]
    },
    {
     "name": "stdout",
     "output_type": "stream",
     "text": [
      "8CT9WnC5g8ohNOS-qtgRLSPp4az4YcUXJW_XcLYsTsOmWy2am1WZTF3cTA did not load.\n"
     ]
    },
    {
     "name": "stderr",
     "output_type": "stream",
     "text": [
      " 40%|██████████████████████████████▌                                             | 201/500 [1:00:21<1:14:07, 14.87s/it]"
     ]
    },
    {
     "name": "stdout",
     "output_type": "stream",
     "text": [
      "U8N-czUCwvg0HYF9wt9HkqXG6-DA6IlgkHEkm3mEkwKttLzqmB9OBFIX-Q did not load.\n"
     ]
    },
    {
     "name": "stderr",
     "output_type": "stream",
     "text": [
      " 40%|███████████████████████████████▌                                              | 202/500 [1:00:24<56:25, 11.36s/it]"
     ]
    },
    {
     "name": "stdout",
     "output_type": "stream",
     "text": [
      "zjkaxjiYZ5keFofKy8r6vJJ5E5r6U-pQKfz82VIoYKJKfo0 did not load.\n"
     ]
    },
    {
     "name": "stderr",
     "output_type": "stream",
     "text": [
      " 41%|███████████████████████████████▋                                              | 203/500 [1:00:27<43:38,  8.82s/it]"
     ]
    },
    {
     "name": "stdout",
     "output_type": "stream",
     "text": [
      "_YVlHCYDBoKr2qYWjJyRoJX4YM3CqQAadZTrjNw0MydQWa5w did not load.\n"
     ]
    },
    {
     "name": "stderr",
     "output_type": "stream",
     "text": [
      " 42%|███████████████████████████████▌                                            | 208/500 [1:02:21<1:35:49, 19.69s/it]"
     ]
    },
    {
     "name": "stdout",
     "output_type": "stream",
     "text": [
      "y6NHDHr2XpezWViSVdRDMhD9JaQOBcNisG1B0wO_puclgbS6 did not load.\n"
     ]
    },
    {
     "name": "stderr",
     "output_type": "stream",
     "text": [
      " 42%|███████████████████████████████▊                                            | 209/500 [1:02:24<1:10:57, 14.63s/it]"
     ]
    },
    {
     "name": "stdout",
     "output_type": "stream",
     "text": [
      "FAo3ZlFYno3cy5cGQRQAGmWRN0biXkto6e6y_eDxjBtFSBY did not load.\n"
     ]
    },
    {
     "name": "stderr",
     "output_type": "stream",
     "text": [
      " 42%|████████████████████████████████▊                                             | 210/500 [1:02:27<53:27, 11.06s/it]"
     ]
    },
    {
     "name": "stdout",
     "output_type": "stream",
     "text": [
      "fur68Oi1iIdm1zcpCbaGsc81LTpnwlqhTfcUiI-EVrttuME did not load.\n"
     ]
    },
    {
     "name": "stderr",
     "output_type": "stream",
     "text": [
      " 43%|████████████████████████████████▋                                           | 215/500 [1:04:21<1:35:59, 20.21s/it]"
     ]
    },
    {
     "name": "stdout",
     "output_type": "stream",
     "text": [
      "0-GvsdmzPbOXi-yc2WtjwTNSzeDpvoQsvPAF9Jh6aXlKqsA did not load.\n"
     ]
    },
    {
     "name": "stderr",
     "output_type": "stream",
     "text": [
      " 43%|████████████████████████████████▊                                           | 216/500 [1:04:23<1:10:51, 14.97s/it]"
     ]
    },
    {
     "name": "stdout",
     "output_type": "stream",
     "text": [
      "Fo5PNGn5JHj7xI22ZZRvkDexpMESkVvU9zML3MjBu-kpjPCAEe4xgGjuYQ did not load.\n"
     ]
    },
    {
     "name": "stderr",
     "output_type": "stream",
     "text": [
      " 43%|█████████████████████████████████▊                                            | 217/500 [1:04:26<53:17, 11.30s/it]"
     ]
    },
    {
     "name": "stdout",
     "output_type": "stream",
     "text": [
      "l50giFiF8jiafIHi-qLfcVDEELzuWdqAUZ_2sUTmdkpIH9g did not load.\n"
     ]
    },
    {
     "name": "stderr",
     "output_type": "stream",
     "text": [
      " 44%|██████████████████████████████████                                            | 218/500 [1:04:29<41:18,  8.79s/it]"
     ]
    },
    {
     "name": "stdout",
     "output_type": "stream",
     "text": [
      "DpQD8ytt-40N87PJsBExUr65TqXTQ0Jbcgv7zJQlUR861Y4 did not load.\n"
     ]
    },
    {
     "name": "stderr",
     "output_type": "stream",
     "text": [
      " 45%|█████████████████████████████████▉                                          | 223/500 [1:06:23<1:30:47, 19.66s/it]"
     ]
    },
    {
     "name": "stdout",
     "output_type": "stream",
     "text": [
      "PCf20h6-tm6rU2ku9bpHQZbKa4DItu8opAqh96IWT5wfgxU did not load.\n"
     ]
    },
    {
     "name": "stderr",
     "output_type": "stream",
     "text": [
      " 45%|██████████████████████████████████                                          | 224/500 [1:06:26<1:07:12, 14.61s/it]"
     ]
    },
    {
     "name": "stdout",
     "output_type": "stream",
     "text": [
      "yb6oELHAuRYtjXAZwaLevhj2ylyI2iu6-2nJHgxiri_P9I7c did not load.\n"
     ]
    },
    {
     "name": "stderr",
     "output_type": "stream",
     "text": [
      " 45%|███████████████████████████████████                                           | 225/500 [1:06:29<51:04, 11.14s/it]"
     ]
    },
    {
     "name": "stdout",
     "output_type": "stream",
     "text": [
      "R6AZZtbqNsE_P914Tfxh2rJVlRQz2up3ELYFbyi5yT7XwDY did not load.\n"
     ]
    },
    {
     "name": "stderr",
     "output_type": "stream",
     "text": [
      " 46%|██████████████████████████████████▉                                         | 230/500 [1:08:21<1:29:15, 19.84s/it]"
     ]
    },
    {
     "name": "stdout",
     "output_type": "stream",
     "text": [
      "CPrYU8lyNlr88URUu6z6nTnvmz_A888-8RaLb3MvdwckKJcJ did not load.\n"
     ]
    },
    {
     "name": "stderr",
     "output_type": "stream",
     "text": [
      " 46%|███████████████████████████████████                                         | 231/500 [1:08:24<1:06:03, 14.73s/it]"
     ]
    },
    {
     "name": "stdout",
     "output_type": "stream",
     "text": [
      "isxQWU7s0PzltpGsGmajIDtyuO0Te-I05Qx4XeW8id-8icg did not load.\n"
     ]
    },
    {
     "name": "stderr",
     "output_type": "stream",
     "text": [
      " 46%|████████████████████████████████████▏                                         | 232/500 [1:08:27<49:47, 11.15s/it]"
     ]
    },
    {
     "name": "stdout",
     "output_type": "stream",
     "text": [
      "iwbdVpYsE6wX18z1PqyA_-M7JQA-VbhLTU6eOUEnzC_4_7A did not load.\n"
     ]
    },
    {
     "name": "stderr",
     "output_type": "stream",
     "text": [
      " 47%|████████████████████████████████████                                        | 237/500 [1:10:21<1:28:52, 20.28s/it]"
     ]
    },
    {
     "name": "stdout",
     "output_type": "stream",
     "text": [
      "JCHffkML1lcYSh8oJ95OkMKyJ87DJj0ZmL7yDTeM88JJTDA did not load.\n"
     ]
    },
    {
     "name": "stderr",
     "output_type": "stream",
     "text": [
      " 48%|████████████████████████████████████▏                                       | 238/500 [1:10:24<1:05:35, 15.02s/it]"
     ]
    },
    {
     "name": "stdout",
     "output_type": "stream",
     "text": [
      "w3z4hTx9YKYlk6RFQ3HCi2tQO11kDAyotNIHH5V5yytoyMw did not load.\n"
     ]
    },
    {
     "name": "stderr",
     "output_type": "stream",
     "text": [
      " 48%|█████████████████████████████████████▎                                        | 239/500 [1:10:27<49:19, 11.34s/it]"
     ]
    },
    {
     "name": "stdout",
     "output_type": "stream",
     "text": [
      "ndCeKuTYWQjFM-7xNGAJskAREELQPTqZ0t20-V6751M8dvE did not load.\n"
     ]
    },
    {
     "name": "stderr",
     "output_type": "stream",
     "text": [
      " 48%|█████████████████████████████████████▍                                        | 240/500 [1:10:30<38:03,  8.78s/it]"
     ]
    },
    {
     "name": "stdout",
     "output_type": "stream",
     "text": [
      "avFfW1ZyXDq3NeDBoX4sfLMVm3cmpp293qzIxVufq9U3JSosDscV0mOYyA did not load.\n"
     ]
    },
    {
     "name": "stderr",
     "output_type": "stream",
     "text": [
      " 49%|█████████████████████████████████████▏                                      | 245/500 [1:12:22<1:22:37, 19.44s/it]"
     ]
    },
    {
     "name": "stdout",
     "output_type": "stream",
     "text": [
      "9fEx5qeexcxhAl489bn28MyWjgfdD5fho9PjCrmqkU7VOYA did not load.\n"
     ]
    },
    {
     "name": "stderr",
     "output_type": "stream",
     "text": [
      " 49%|█████████████████████████████████████▍                                      | 246/500 [1:12:25<1:01:05, 14.43s/it]"
     ]
    },
    {
     "name": "stdout",
     "output_type": "stream",
     "text": [
      "h4dqf26DxBriXMnQLTPkgrLpf1lDxFVOiTCoLKbKBrbxMVw did not load.\n"
     ]
    },
    {
     "name": "stderr",
     "output_type": "stream",
     "text": [
      " 49%|██████████████████████████████████████▌                                       | 247/500 [1:12:28<46:06, 10.93s/it]"
     ]
    },
    {
     "name": "stdout",
     "output_type": "stream",
     "text": [
      "-AdK3oNQWBhs4HhfUoKzmLYVroGOhpASXwlx7BLBWhKm4sc did not load.\n"
     ]
    },
    {
     "name": "stderr",
     "output_type": "stream",
     "text": [
      " 50%|██████████████████████████████████████▎                                     | 252/500 [1:14:21<1:22:47, 20.03s/it]"
     ]
    },
    {
     "name": "stdout",
     "output_type": "stream",
     "text": [
      "zsgFcBOg0EA94PfEXFuc3ycGYO3MAvoQcD3v3cUouzjjT4g did not load.\n"
     ]
    },
    {
     "name": "stderr",
     "output_type": "stream",
     "text": [
      " 51%|██████████████████████████████████████▍                                     | 253/500 [1:14:24<1:01:14, 14.88s/it]"
     ]
    },
    {
     "name": "stdout",
     "output_type": "stream",
     "text": [
      "pYV6xIK5rIO_0EdeZMX-AqDZLUGjoOdZHjIcf1OnjZRrTwo did not load.\n"
     ]
    },
    {
     "name": "stderr",
     "output_type": "stream",
     "text": [
      " 51%|███████████████████████████████████████▌                                      | 254/500 [1:14:27<46:01, 11.23s/it]"
     ]
    },
    {
     "name": "stdout",
     "output_type": "stream",
     "text": [
      "jO3ixGygnm6D8REa0mAaSZIYUUmezVkzUP2ImflbKp-7bxrqF0mv5qQMdw did not load.\n"
     ]
    },
    {
     "name": "stderr",
     "output_type": "stream",
     "text": [
      " 51%|███████████████████████████████████████▊                                      | 255/500 [1:14:30<35:30,  8.69s/it]"
     ]
    },
    {
     "name": "stdout",
     "output_type": "stream",
     "text": [
      "Rz9a1il_dO0R-WsfOWQCg32ZnVGu4tLgVZABthlB6BVnkWk did not load.\n"
     ]
    },
    {
     "name": "stderr",
     "output_type": "stream",
     "text": [
      " 52%|███████████████████████████████████████▌                                    | 260/500 [1:16:24<1:19:54, 19.98s/it]"
     ]
    },
    {
     "name": "stdout",
     "output_type": "stream",
     "text": [
      "0d_NV1wDmn9y3Bknno04sue1LTYkm1FwTVHvHufi5ptWugU did not load.\n"
     ]
    },
    {
     "name": "stderr",
     "output_type": "stream",
     "text": [
      " 52%|████████████████████████████████████████▋                                     | 261/500 [1:16:27<59:07, 14.84s/it]"
     ]
    },
    {
     "name": "stdout",
     "output_type": "stream",
     "text": [
      "GuUQ2ktvLGLvk4i6D64It_pa_s9p4BotERjTzjwbBGxXYWQ did not load.\n"
     ]
    },
    {
     "name": "stderr",
     "output_type": "stream",
     "text": [
      " 52%|████████████████████████████████████████▊                                     | 262/500 [1:16:30<44:35, 11.24s/it]"
     ]
    },
    {
     "name": "stdout",
     "output_type": "stream",
     "text": [
      "Bt6vaOuPN0YSVNKwfeVMrff6aFzi53q0jv466GLru8vB0zw did not load.\n",
      "100 requests reached. Sleeping 1 minute.\n"
     ]
    },
    {
     "name": "stderr",
     "output_type": "stream",
     "text": [
      " 54%|█████████████████████████████████████████                                   | 270/500 [1:20:26<1:16:21, 19.92s/it]"
     ]
    },
    {
     "name": "stdout",
     "output_type": "stream",
     "text": [
      "IdXcHew3Dm4E283U1qIZQ1vZtKHP1Z5-N5fmQ_wB2VF7iYM did not load.\n"
     ]
    },
    {
     "name": "stderr",
     "output_type": "stream",
     "text": [
      " 54%|██████████████████████████████████████████▎                                   | 271/500 [1:20:28<56:24, 14.78s/it]"
     ]
    },
    {
     "name": "stdout",
     "output_type": "stream",
     "text": [
      "xEy3COjoLR8pA8TnLr6_aaYI1ElrVwPofApz6hswSNCKVjl4sAR_T2laoQ did not load.\n"
     ]
    },
    {
     "name": "stderr",
     "output_type": "stream",
     "text": [
      " 54%|██████████████████████████████████████████▍                                   | 272/500 [1:20:31<42:28, 11.18s/it]"
     ]
    },
    {
     "name": "stdout",
     "output_type": "stream",
     "text": [
      "oeGFAgyT_tMo_1sXkFZHegLyyXYOU9Mcvc8AI2MTdJJhIaI did not load.\n"
     ]
    },
    {
     "name": "stderr",
     "output_type": "stream",
     "text": [
      " 55%|██████████████████████████████████████████                                  | 277/500 [1:22:25<1:15:18, 20.26s/it]"
     ]
    },
    {
     "name": "stdout",
     "output_type": "stream",
     "text": [
      "osfrAtvF1t3HCpwj3IbVprE4lkyxTdTfYvpkcNMG7Fs7cUmY did not load.\n"
     ]
    },
    {
     "name": "stderr",
     "output_type": "stream",
     "text": [
      " 56%|███████████████████████████████████████████▎                                  | 278/500 [1:22:28<55:51, 15.10s/it]"
     ]
    },
    {
     "name": "stdout",
     "output_type": "stream",
     "text": [
      "gTZkKzU_qazhF3dbrnz4wBbnpsmGqQNX2NddZyCm_6-ShQg did not load.\n"
     ]
    },
    {
     "name": "stderr",
     "output_type": "stream",
     "text": [
      " 56%|███████████████████████████████████████████▌                                  | 279/500 [1:22:31<41:55, 11.38s/it]"
     ]
    },
    {
     "name": "stdout",
     "output_type": "stream",
     "text": [
      "PuaCJjX7aidjagpR9If7YUDg4f3hWSzqzmlBK2txQGGGMbQw did not load.\n"
     ]
    },
    {
     "name": "stderr",
     "output_type": "stream",
     "text": [
      " 56%|███████████████████████████████████████████▋                                  | 280/500 [1:22:34<32:23,  8.83s/it]"
     ]
    },
    {
     "name": "stdout",
     "output_type": "stream",
     "text": [
      "eZgIL9C4_DOVP5QHRWtKo2hga2hipY-WLEYyINKWrB4od7tF did not load.\n"
     ]
    },
    {
     "name": "stderr",
     "output_type": "stream",
     "text": [
      " 57%|███████████████████████████████████████████▎                                | 285/500 [1:24:27<1:10:20, 19.63s/it]"
     ]
    },
    {
     "name": "stdout",
     "output_type": "stream",
     "text": [
      "JmsGAxezc9sEqqTSohCDuMhcFTFiYrthnc2BrNIWmpsmuBZtTRTMYupJTA did not load.\n"
     ]
    },
    {
     "name": "stderr",
     "output_type": "stream",
     "text": [
      " 57%|████████████████████████████████████████████▌                                 | 286/500 [1:24:30<52:00, 14.58s/it]"
     ]
    },
    {
     "name": "stdout",
     "output_type": "stream",
     "text": [
      "dNBWoAyDPIIbbjon2UqJRJ_G9mOs9-NRv4GIO9UBTIvGf8Aa did not load.\n"
     ]
    },
    {
     "name": "stderr",
     "output_type": "stream",
     "text": [
      " 57%|████████████████████████████████████████████▊                                 | 287/500 [1:24:32<39:08, 11.03s/it]"
     ]
    },
    {
     "name": "stdout",
     "output_type": "stream",
     "text": [
      "FIoiZrzmUHZYGtMdH_KSmIfeZc7Pl0X4nXtF7wW-HbSEsqQ did not load.\n"
     ]
    },
    {
     "name": "stderr",
     "output_type": "stream",
     "text": [
      " 58%|████████████████████████████████████████████▍                               | 292/500 [1:26:27<1:10:26, 20.32s/it]"
     ]
    },
    {
     "name": "stdout",
     "output_type": "stream",
     "text": [
      "HW59bkChIw-h84IIaDZwxFGuAgJzJ-1y2ABvAdJhuPw-eQNum1Tu6cvxXw did not load.\n"
     ]
    },
    {
     "name": "stderr",
     "output_type": "stream",
     "text": [
      " 59%|█████████████████████████████████████████████▋                                | 293/500 [1:26:30<52:03, 15.09s/it]"
     ]
    },
    {
     "name": "stdout",
     "output_type": "stream",
     "text": [
      "M1wwSqL1YyCdCqmYKjyYwrO6me7Msh8cKRiG1rxUkO_1jg4 did not load.\n"
     ]
    },
    {
     "name": "stderr",
     "output_type": "stream",
     "text": [
      " 59%|█████████████████████████████████████████████▊                                | 294/500 [1:26:32<39:05, 11.38s/it]"
     ]
    },
    {
     "name": "stdout",
     "output_type": "stream",
     "text": [
      "_PKLN6xiQMUNa49ki4-DqkugrmJ84iBatz47Z-GG3JkOCsbKImTkk4m4DA did not load.\n"
     ]
    },
    {
     "name": "stderr",
     "output_type": "stream",
     "text": [
      " 60%|█████████████████████████████████████████████▍                              | 299/500 [1:28:26<1:07:58, 20.29s/it]"
     ]
    },
    {
     "name": "stdout",
     "output_type": "stream",
     "text": [
      "LWh8XQbfkg5PrIK4-KZkm47WwPTt6DghtY2hodGvRq4-78zh did not load.\n"
     ]
    },
    {
     "name": "stderr",
     "output_type": "stream",
     "text": [
      " 60%|██████████████████████████████████████████████▊                               | 300/500 [1:28:29<50:05, 15.03s/it]"
     ]
    },
    {
     "name": "stdout",
     "output_type": "stream",
     "text": [
      "qY0MO0_YEnpM7OxXkSWI5f0h0yv45U4Va33khPDGVN7TQfQ did not load.\n"
     ]
    },
    {
     "name": "stderr",
     "output_type": "stream",
     "text": [
      " 60%|██████████████████████████████████████████████▉                               | 301/500 [1:28:31<37:35, 11.33s/it]"
     ]
    },
    {
     "name": "stdout",
     "output_type": "stream",
     "text": [
      "kOfaroo_dJlf-aKJGrgt46Xls_QxroqV4LWdr7rD7lioe-N_qEoecagCqg did not load.\n"
     ]
    },
    {
     "name": "stderr",
     "output_type": "stream",
     "text": [
      " 60%|███████████████████████████████████████████████                               | 302/500 [1:28:34<28:56,  8.77s/it]"
     ]
    },
    {
     "name": "stdout",
     "output_type": "stream",
     "text": [
      "DFVuPwntQade8ALH6tHffaYBSvirusfvm5GVSYN--fNXfOU did not load.\n"
     ]
    },
    {
     "name": "stderr",
     "output_type": "stream",
     "text": [
      " 61%|██████████████████████████████████████████████▋                             | 307/500 [1:30:27<1:03:19, 19.69s/it]"
     ]
    },
    {
     "name": "stdout",
     "output_type": "stream",
     "text": [
      "pJ0fZJdAyZDJjxxqoSqJEClncE8_4U5hvqhNgJt4JDgRCtk did not load.\n"
     ]
    },
    {
     "name": "stderr",
     "output_type": "stream",
     "text": [
      " 62%|████████████████████████████████████████████████                              | 308/500 [1:30:30<46:48, 14.63s/it]"
     ]
    },
    {
     "name": "stdout",
     "output_type": "stream",
     "text": [
      "b577LeDRlLsCVtxeZZs_FCwjYazQE2USndNL1I22B9OQ-a0 did not load.\n"
     ]
    },
    {
     "name": "stderr",
     "output_type": "stream",
     "text": [
      " 62%|████████████████████████████████████████████████▏                             | 309/500 [1:30:33<35:10, 11.05s/it]"
     ]
    },
    {
     "name": "stdout",
     "output_type": "stream",
     "text": [
      "UPKXjHLSTvBJP6ttKLh9aSt9UR01JkzfZramI-IxDkkSqvE did not load.\n"
     ]
    },
    {
     "name": "stderr",
     "output_type": "stream",
     "text": [
      " 62%|████████████████████████████████████████████████▎                             | 310/500 [1:30:36<27:10,  8.58s/it]"
     ]
    },
    {
     "name": "stdout",
     "output_type": "stream",
     "text": [
      "r4xz6NaIqPuto7fg8nZ8WSzHvMO3iKP5V_PqyNo0htkbDqLghsdloZ1cKw did not load.\n"
     ]
    },
    {
     "name": "stderr",
     "output_type": "stream",
     "text": [
      " 63%|███████████████████████████████████████████████▉                            | 315/500 [1:32:29<1:01:01, 19.79s/it]"
     ]
    },
    {
     "name": "stdout",
     "output_type": "stream",
     "text": [
      "uxzAWSYcPJAAyCuctLyWcga4tXdo9KcgubDNLUdPa58tPiQ did not load.\n"
     ]
    },
    {
     "name": "stderr",
     "output_type": "stream",
     "text": [
      " 63%|█████████████████████████████████████████████████▎                            | 316/500 [1:32:32<45:01, 14.68s/it]"
     ]
    },
    {
     "name": "stdout",
     "output_type": "stream",
     "text": [
      "tO9SxaxF2xumpB3cDfLsvk1UhO3sK0_Q7NWsx7Ifwhg36f0 did not load.\n"
     ]
    },
    {
     "name": "stderr",
     "output_type": "stream",
     "text": [
      " 63%|█████████████████████████████████████████████████▍                            | 317/500 [1:32:34<33:50, 11.10s/it]"
     ]
    },
    {
     "name": "stdout",
     "output_type": "stream",
     "text": [
      "oy496GLOl24PZJva6ME7ShnzzyhJDCZ4VpPAQKTF8uUrZeQ did not load.\n"
     ]
    },
    {
     "name": "stderr",
     "output_type": "stream",
     "text": [
      " 64%|█████████████████████████████████████████████████▌                            | 318/500 [1:32:37<26:07,  8.61s/it]"
     ]
    },
    {
     "name": "stdout",
     "output_type": "stream",
     "text": [
      "VdQJN_oB_-nQ9ENwhVxZXQBol-oMMQJBFkRkMgoMuLrvJwR_ did not load.\n"
     ]
    },
    {
     "name": "stderr",
     "output_type": "stream",
     "text": [
      " 65%|██████████████████████████████████████████████████▍                           | 323/500 [1:34:31<58:55, 19.98s/it]"
     ]
    },
    {
     "name": "stdout",
     "output_type": "stream",
     "text": [
      "SB-K8d1iyr4YqGmsyr5TIopVrY4Zi5izW74HPCfTg3dpQnA did not load.\n"
     ]
    },
    {
     "name": "stderr",
     "output_type": "stream",
     "text": [
      " 65%|██████████████████████████████████████████████████▌                           | 324/500 [1:34:34<43:29, 14.83s/it]"
     ]
    },
    {
     "name": "stdout",
     "output_type": "stream",
     "text": [
      "cT9oNB-vafaWaTx-gVhHLNgoEwbzjCPr9gzxPS2Fbi7cBOU did not load.\n"
     ]
    },
    {
     "name": "stderr",
     "output_type": "stream",
     "text": [
      " 65%|██████████████████████████████████████████████████▋                           | 325/500 [1:34:37<32:38, 11.19s/it]"
     ]
    },
    {
     "name": "stdout",
     "output_type": "stream",
     "text": [
      "8Z_M-twjorX28-Omv0yM8jGoEE6m1lkAsHkwHdxpL9mVeJqa did not load.\n"
     ]
    },
    {
     "name": "stderr",
     "output_type": "stream",
     "text": [
      " 65%|██████████████████████████████████████████████████▊                           | 326/500 [1:34:40<25:08,  8.67s/it]"
     ]
    },
    {
     "name": "stdout",
     "output_type": "stream",
     "text": [
      "27vspX1XX4T6pJPP569BoIJTQxIpCvbXR13wrh29PUl0mX-HAoS0hNEcuQ did not load.\n"
     ]
    },
    {
     "name": "stderr",
     "output_type": "stream",
     "text": [
      " 66%|███████████████████████████████████████████████████▋                          | 331/500 [1:36:32<54:40, 19.41s/it]"
     ]
    },
    {
     "name": "stdout",
     "output_type": "stream",
     "text": [
      "3fZIcM1SmHwPqAnqnP3dTIwoKrCZlwiecknb1OGEJ3bTSkN8 did not load.\n"
     ]
    },
    {
     "name": "stderr",
     "output_type": "stream",
     "text": [
      " 66%|███████████████████████████████████████████████████▊                          | 332/500 [1:36:35<40:22, 14.42s/it]"
     ]
    },
    {
     "name": "stdout",
     "output_type": "stream",
     "text": [
      "BOfbTFCfJTFN7JMwoQfgJW2YRsmbwx5d9oWV3IU1AdfpTmM did not load.\n"
     ]
    },
    {
     "name": "stderr",
     "output_type": "stream",
     "text": [
      " 67%|███████████████████████████████████████████████████▉                          | 333/500 [1:36:38<30:23, 10.92s/it]"
     ]
    },
    {
     "name": "stdout",
     "output_type": "stream",
     "text": [
      "hJkSBrzR3_4GCmHDUu4E5hzADuWcbfqnuKMzE6kRxTQugT0 did not load.\n"
     ]
    },
    {
     "name": "stderr",
     "output_type": "stream",
     "text": [
      " 68%|████████████████████████████████████████████████████▋                         | 338/500 [1:38:32<54:38, 20.24s/it]"
     ]
    },
    {
     "name": "stdout",
     "output_type": "stream",
     "text": [
      "O6b5J5HSvMKavYfAf4AFHbyySsrqwl3kAws_7akriHArQc2TbTorGd1Xjg did not load.\n"
     ]
    },
    {
     "name": "stderr",
     "output_type": "stream",
     "text": [
      " 68%|████████████████████████████████████████████████████▉                         | 339/500 [1:38:35<40:14, 15.00s/it]"
     ]
    },
    {
     "name": "stdout",
     "output_type": "stream",
     "text": [
      "Zowb4ltHxiJhFso_qQ4dkWrskt6C3pGBEDBi4g5kh09mqfWS1LohfBBOVQ did not load.\n"
     ]
    },
    {
     "name": "stderr",
     "output_type": "stream",
     "text": [
      " 68%|█████████████████████████████████████████████████████                         | 340/500 [1:38:38<30:09, 11.31s/it]"
     ]
    },
    {
     "name": "stdout",
     "output_type": "stream",
     "text": [
      "WyWwYoc5YPl0HF6_r-D6GOA5-kjeQ4aTfzi-NUdKnfrf5KM did not load.\n"
     ]
    },
    {
     "name": "stderr",
     "output_type": "stream",
     "text": [
      " 68%|█████████████████████████████████████████████████████▏                        | 341/500 [1:38:40<23:11,  8.75s/it]"
     ]
    },
    {
     "name": "stdout",
     "output_type": "stream",
     "text": [
      "Ii75XHflD55I5cFW0DvY8WyCm9n5vOSq8QaQU1shKLRlAu0 did not load.\n"
     ]
    },
    {
     "name": "stderr",
     "output_type": "stream",
     "text": [
      " 69%|█████████████████████████████████████████████████████▉                        | 346/500 [1:40:33<50:22, 19.63s/it]"
     ]
    },
    {
     "name": "stdout",
     "output_type": "stream",
     "text": [
      "kKvFs0ueYO4yQk9ek5YT9T6ACU4JjILggVItiSYzpBzgWeU did not load.\n"
     ]
    },
    {
     "name": "stderr",
     "output_type": "stream",
     "text": [
      " 69%|██████████████████████████████████████████████████████▏                       | 347/500 [1:40:36<37:26, 14.68s/it]"
     ]
    },
    {
     "name": "stdout",
     "output_type": "stream",
     "text": [
      "Vp5iPigsJ2-yt--znV0rA8wztdBkmkAOuNjgMa1yYxJILdU did not load.\n"
     ]
    },
    {
     "name": "stderr",
     "output_type": "stream",
     "text": [
      " 70%|██████████████████████████████████████████████████████▎                       | 348/500 [1:40:39<28:07, 11.10s/it]"
     ]
    },
    {
     "name": "stdout",
     "output_type": "stream",
     "text": [
      "cNNVxdVckXzoBrOKOcvMWHiz-pu_vr7XzWiuSHdEsYG6zKg did not load.\n"
     ]
    },
    {
     "name": "stderr",
     "output_type": "stream",
     "text": [
      " 70%|██████████████████████████████████████████████████████▊                       | 351/500 [1:41:49<47:41, 19.21s/it]"
     ]
    },
    {
     "name": "stdout",
     "output_type": "stream",
     "text": [
      "100 requests reached. Sleeping 1 minute.\n"
     ]
    },
    {
     "name": "stderr",
     "output_type": "stream",
     "text": [
      " 71%|███████████████████████████████████████████████████████▋                      | 357/500 [1:45:05<58:34, 24.58s/it]"
     ]
    },
    {
     "name": "stdout",
     "output_type": "stream",
     "text": [
      "QnqtdF1TqENgz74ZctZy4PV8SuiZ0RqcSJO12REogbCb70Q did not load.\n"
     ]
    },
    {
     "name": "stderr",
     "output_type": "stream",
     "text": [
      " 72%|███████████████████████████████████████████████████████▊                      | 358/500 [1:45:08<42:42, 18.05s/it]"
     ]
    },
    {
     "name": "stdout",
     "output_type": "stream",
     "text": [
      "U50pN1ARihQ_VpbHU6Q2nY67DfvsOxf73DVgkPSN1NY9whk did not load.\n"
     ]
    },
    {
     "name": "stderr",
     "output_type": "stream",
     "text": [
      " 72%|████████████████████████████████████████████████████████                      | 359/500 [1:45:10<31:35, 13.45s/it]"
     ]
    },
    {
     "name": "stdout",
     "output_type": "stream",
     "text": [
      "aNCpQ2OrtLFuTISogqc_ZnkRHH7BWKX8KnSArLrWJ6sc_RQ did not load.\n"
     ]
    },
    {
     "name": "stderr",
     "output_type": "stream",
     "text": [
      " 72%|████████████████████████████████████████████████████████▏                     | 360/500 [1:45:13<23:52, 10.23s/it]"
     ]
    },
    {
     "name": "stdout",
     "output_type": "stream",
     "text": [
      "3MznpGUqE-vWyanR9u3oqa_XEiWSMiXb040ooCooHIw0sZE did not load.\n"
     ]
    },
    {
     "name": "stderr",
     "output_type": "stream",
     "text": [
      " 73%|████████████████████████████████████████████████████████▉                     | 365/500 [1:47:07<45:06, 20.05s/it]"
     ]
    },
    {
     "name": "stdout",
     "output_type": "stream",
     "text": [
      "akdaK8kDzu8ykQaG9nE-DTf7PH4Kv23-41p8NrhY2XaxwZQ did not load.\n"
     ]
    },
    {
     "name": "stderr",
     "output_type": "stream",
     "text": [
      " 73%|█████████████████████████████████████████████████████████                     | 366/500 [1:47:10<33:11, 14.86s/it]"
     ]
    },
    {
     "name": "stdout",
     "output_type": "stream",
     "text": [
      "6nGFfFrASalwsArJm8O1g3gDRTEVyIo3JSJwbczfm4GX43w did not load.\n"
     ]
    },
    {
     "name": "stderr",
     "output_type": "stream",
     "text": [
      " 73%|█████████████████████████████████████████████████████████▎                    | 367/500 [1:47:13<24:52, 11.22s/it]"
     ]
    },
    {
     "name": "stdout",
     "output_type": "stream",
     "text": [
      "rj7q2kBGz5c6zgpewJcV_frH42sFSZgHtgJ5sEELoARhKbc did not load.\n"
     ]
    },
    {
     "name": "stderr",
     "output_type": "stream",
     "text": [
      " 74%|█████████████████████████████████████████████████████████▍                    | 368/500 [1:47:15<19:08,  8.70s/it]"
     ]
    },
    {
     "name": "stdout",
     "output_type": "stream",
     "text": [
      "JZ6Mxxri0A8Tk_xmsiwFTO2razkVYq7QxjaL9nHKfQMDbvqBOfc4TfIC-Q did not load.\n"
     ]
    },
    {
     "name": "stderr",
     "output_type": "stream",
     "text": [
      " 75%|██████████████████████████████████████████████████████████▏                   | 373/500 [1:49:08<41:02, 19.39s/it]"
     ]
    },
    {
     "name": "stdout",
     "output_type": "stream",
     "text": [
      "bdwAHBX7xMComQJ1aojM6SdvmpSzDZX9PfvKPai-mJ0L87A did not load.\n"
     ]
    },
    {
     "name": "stderr",
     "output_type": "stream",
     "text": [
      " 75%|██████████████████████████████████████████████████████████▎                   | 374/500 [1:49:11<30:26, 14.50s/it]"
     ]
    },
    {
     "name": "stdout",
     "output_type": "stream",
     "text": [
      "jPkflwBHsbY48RzpNrbBf_hiQJ0wtuxfTXUI5DvP3qu0TegEokTf6g4JjA did not load.\n"
     ]
    },
    {
     "name": "stderr",
     "output_type": "stream",
     "text": [
      " 75%|██████████████████████████████████████████████████████████▌                   | 375/500 [1:49:14<22:53, 10.99s/it]"
     ]
    },
    {
     "name": "stdout",
     "output_type": "stream",
     "text": [
      "zLpe7ohTvTUuPfs81WDpHy_Z5sLckOs-dwAZ59Mx-MSQ8WU did not load.\n"
     ]
    },
    {
     "name": "stderr",
     "output_type": "stream",
     "text": [
      " 76%|███████████████████████████████████████████████████████████▎                  | 380/500 [1:51:08<40:35, 20.29s/it]"
     ]
    },
    {
     "name": "stdout",
     "output_type": "stream",
     "text": [
      "d_l4H-SCvcbt31Ai3LCWfrSz9xQtMtLwrYbc1xUwVkHqpXY did not load.\n"
     ]
    },
    {
     "name": "stderr",
     "output_type": "stream",
     "text": [
      " 76%|███████████████████████████████████████████████████████████▍                  | 381/500 [1:51:11<29:50, 15.04s/it]"
     ]
    },
    {
     "name": "stdout",
     "output_type": "stream",
     "text": [
      "TxOanIDe28qdchyk6VrRbO14wc2z9C-p4yaDGY3g_qYzmkE did not load.\n"
     ]
    },
    {
     "name": "stderr",
     "output_type": "stream",
     "text": [
      " 76%|███████████████████████████████████████████████████████████▌                  | 382/500 [1:51:14<22:20, 11.36s/it]"
     ]
    },
    {
     "name": "stdout",
     "output_type": "stream",
     "text": [
      "Z0JG_ZwrzueaG_1SRMAwgko38STcV83QoDNpdBqmyEpVF599hDL-N32SIg did not load.\n"
     ]
    },
    {
     "name": "stderr",
     "output_type": "stream",
     "text": [
      " 77%|████████████████████████████████████████████████████████████▎                 | 387/500 [1:53:08<38:24, 20.39s/it]"
     ]
    },
    {
     "name": "stdout",
     "output_type": "stream",
     "text": [
      "K0rrLMFpATaGYl08PMaGgEA3FG7-BGNDzqwk0MnBSmyqYT0 did not load.\n"
     ]
    },
    {
     "name": "stderr",
     "output_type": "stream",
     "text": [
      " 78%|████████████████████████████████████████████████████████████▌                 | 388/500 [1:53:11<28:18, 15.17s/it]"
     ]
    },
    {
     "name": "stdout",
     "output_type": "stream",
     "text": [
      "bWCgvGbyVO_cmLOkq8YKUsEYICaNlQXiy9GAk0letgXSU6A did not load.\n"
     ]
    },
    {
     "name": "stderr",
     "output_type": "stream",
     "text": [
      " 78%|████████████████████████████████████████████████████████████▋                 | 389/500 [1:53:14<21:13, 11.48s/it]"
     ]
    },
    {
     "name": "stdout",
     "output_type": "stream",
     "text": [
      "NlUC6T5JnHKQ3Z4AbDE_5zoUw3PTvjxOpZ9rhO2uBe3AOYBi did not load.\n"
     ]
    },
    {
     "name": "stderr",
     "output_type": "stream",
     "text": [
      " 79%|█████████████████████████████████████████████████████████████▍                | 394/500 [1:55:10<36:39, 20.75s/it]"
     ]
    },
    {
     "name": "stdout",
     "output_type": "stream",
     "text": [
      "Fk6IsmbxOfI7LDrj3LXDcKPtNh7jR7nCJniaoIGxZ6-9Q0I did not load.\n"
     ]
    },
    {
     "name": "stderr",
     "output_type": "stream",
     "text": [
      " 79%|█████████████████████████████████████████████████████████████▌                | 395/500 [1:55:13<26:57, 15.41s/it]"
     ]
    },
    {
     "name": "stdout",
     "output_type": "stream",
     "text": [
      "8Z1ex7QrhU8dun3erC8OKWOXRKH9yTfAT7QzBGiJGuZs10I did not load.\n"
     ]
    },
    {
     "name": "stderr",
     "output_type": "stream",
     "text": [
      " 79%|█████████████████████████████████████████████████████████████▊                | 396/500 [1:55:16<20:09, 11.63s/it]"
     ]
    },
    {
     "name": "stdout",
     "output_type": "stream",
     "text": [
      "AIyXK7UEMh8_ZtkGP136HJarA2jVUMbjTcnu_ja6lob1I-9E did not load.\n"
     ]
    },
    {
     "name": "stderr",
     "output_type": "stream",
     "text": [
      " 80%|██████████████████████████████████████████████████████████████▌               | 401/500 [1:57:12<33:28, 20.29s/it]"
     ]
    },
    {
     "name": "stdout",
     "output_type": "stream",
     "text": [
      "TX3btc2WtxCZVK7ajxeJ_qW_CwGZFPpLZhbVgI_E2h_WoZ4 did not load.\n"
     ]
    },
    {
     "name": "stderr",
     "output_type": "stream",
     "text": [
      " 80%|██████████████████████████████████████████████████████████████▋               | 402/500 [1:57:15<24:34, 15.04s/it]"
     ]
    },
    {
     "name": "stdout",
     "output_type": "stream",
     "text": [
      "QxwWDfMhWiwo6t3wEtozTLza688GKFWZRfg7-GV-lN7qmJw did not load.\n"
     ]
    },
    {
     "name": "stderr",
     "output_type": "stream",
     "text": [
      " 81%|███████████████████████████████████████████████████████████████▍              | 407/500 [1:59:09<32:25, 20.92s/it]"
     ]
    },
    {
     "name": "stdout",
     "output_type": "stream",
     "text": [
      "hM8VA5XH2pU4Eq2P1BCvR9ArvPShOqI0fRRE44VscKdQOxwt did not load.\n"
     ]
    },
    {
     "name": "stderr",
     "output_type": "stream",
     "text": [
      " 82%|███████████████████████████████████████████████████████████████▋              | 408/500 [1:59:11<23:42, 15.46s/it]"
     ]
    },
    {
     "name": "stdout",
     "output_type": "stream",
     "text": [
      "dY0aJ-Y9pW2Q78g4OwQMUFUMEG4XUoW8lgsSOq26EcNlRqI did not load.\n"
     ]
    },
    {
     "name": "stderr",
     "output_type": "stream",
     "text": [
      " 82%|███████████████████████████████████████████████████████████████▊              | 409/500 [1:59:14<17:38, 11.63s/it]"
     ]
    },
    {
     "name": "stdout",
     "output_type": "stream",
     "text": [
      "jQBbysHEv6AEmYlS5Jzz8jcWjCLmy6X7tH3lGQDlxH571HM did not load.\n"
     ]
    },
    {
     "name": "stderr",
     "output_type": "stream",
     "text": [
      " 82%|███████████████████████████████████████████████████████████████▉              | 410/500 [1:59:17<13:28,  8.98s/it]"
     ]
    },
    {
     "name": "stdout",
     "output_type": "stream",
     "text": [
      "dynR8_Bu5yzisYMXdbcpWI2AC-l1KLEz5yGG6rkUbWbd6cU did not load.\n"
     ]
    },
    {
     "name": "stderr",
     "output_type": "stream",
     "text": [
      " 83%|████████████████████████████████████████████████████████████████▋             | 415/500 [2:01:09<27:33, 19.46s/it]"
     ]
    },
    {
     "name": "stdout",
     "output_type": "stream",
     "text": [
      "6kc9o1hEzZ3UvrQZzf2xUlx5UH4QbxcfNyIlB7P_Uu61lKw did not load.\n"
     ]
    },
    {
     "name": "stderr",
     "output_type": "stream",
     "text": [
      " 83%|████████████████████████████████████████████████████████████████▉             | 416/500 [2:01:12<20:11, 14.43s/it]"
     ]
    },
    {
     "name": "stdout",
     "output_type": "stream",
     "text": [
      "AGYUs4egfFXq3Ui0eQnI9UvWBQI1QLnh-CT_fopV-MDz97g did not load.\n"
     ]
    },
    {
     "name": "stderr",
     "output_type": "stream",
     "text": [
      " 83%|█████████████████████████████████████████████████████████████████             | 417/500 [2:01:15<15:06, 10.92s/it]"
     ]
    },
    {
     "name": "stdout",
     "output_type": "stream",
     "text": [
      "EM020oU7RQFqLS-BFiLhdZC_21e5t07ewERGe8L6A-wNHEQ did not load.\n"
     ]
    },
    {
     "name": "stderr",
     "output_type": "stream",
     "text": [
      " 84%|█████████████████████████████████████████████████████████████████▏            | 418/500 [2:01:17<11:38,  8.52s/it]"
     ]
    },
    {
     "name": "stdout",
     "output_type": "stream",
     "text": [
      "RwRpqH0JsMZHKLyxt-krC5RGjI-xTRUkMI1rC433GjXF2QY did not load.\n"
     ]
    },
    {
     "name": "stderr",
     "output_type": "stream",
     "text": [
      " 85%|█████████████████████████████████████████████████████████████████▉            | 423/500 [2:03:13<25:33, 19.91s/it]"
     ]
    },
    {
     "name": "stdout",
     "output_type": "stream",
     "text": [
      "oz2XHXmwyrYJu_qwXBCjtE9098hMQ26kwB_BIl41RLwKjEU did not load.\n"
     ]
    },
    {
     "name": "stderr",
     "output_type": "stream",
     "text": [
      " 85%|██████████████████████████████████████████████████████████████████▏           | 424/500 [2:03:16<18:44, 14.79s/it]"
     ]
    },
    {
     "name": "stdout",
     "output_type": "stream",
     "text": [
      "F2gVk8Fjwfq3eti_GjQSFoFlxY8ynFHKCKK9BuYJW8neQsCu did not load.\n"
     ]
    },
    {
     "name": "stderr",
     "output_type": "stream",
     "text": [
      " 86%|██████████████████████████████████████████████████████████████████▉           | 429/500 [2:05:15<25:29, 21.54s/it]"
     ]
    },
    {
     "name": "stdout",
     "output_type": "stream",
     "text": [
      "MIlhUalKDZdgUNrOT8NoBUxYrxEyZEwplxiH4oJ_hiEZru4 did not load.\n"
     ]
    },
    {
     "name": "stderr",
     "output_type": "stream",
     "text": [
      " 86%|███████████████████████████████████████████████████████████████████           | 430/500 [2:05:18<18:35, 15.94s/it]"
     ]
    },
    {
     "name": "stdout",
     "output_type": "stream",
     "text": [
      "S2NhFF_LqEnUlqE4d-lLk-YxGNlbt-ZmwzPpj_l2815NLNI did not load.\n"
     ]
    },
    {
     "name": "stderr",
     "output_type": "stream",
     "text": [
      " 87%|███████████████████████████████████████████████████████████████████▊          | 435/500 [2:07:13<23:13, 21.43s/it]"
     ]
    },
    {
     "name": "stdout",
     "output_type": "stream",
     "text": [
      "0J-yapt-R-tX-SEsZF9HOW5ipY5cuKzl_Rbd_ZpVTAQD3IM did not load.\n"
     ]
    },
    {
     "name": "stderr",
     "output_type": "stream",
     "text": [
      " 87%|████████████████████████████████████████████████████████████████████          | 436/500 [2:07:16<16:55, 15.87s/it]"
     ]
    },
    {
     "name": "stdout",
     "output_type": "stream",
     "text": [
      "HyZ0bYWItjispzlWuUtG5IW62-9uB7PblskHsKa0eZ_Ch7U did not load.\n"
     ]
    },
    {
     "name": "stderr",
     "output_type": "stream",
     "text": [
      " 87%|████████████████████████████████████████████████████████████████████▏         | 437/500 [2:07:19<12:35, 12.00s/it]"
     ]
    },
    {
     "name": "stdout",
     "output_type": "stream",
     "text": [
      "k2cxNEFslwRMLCUA5KUMaXhuJkyc0vu_sNMH3EMt7_HzS_c did not load.\n"
     ]
    },
    {
     "name": "stderr",
     "output_type": "stream",
     "text": [
      " 88%|████████████████████████████████████████████████████████████████████▎         | 438/500 [2:07:44<16:29, 15.95s/it]"
     ]
    },
    {
     "name": "stdout",
     "output_type": "stream",
     "text": [
      "100 requests reached. Sleeping 1 minute.\n"
     ]
    },
    {
     "name": "stderr",
     "output_type": "stream",
     "text": [
      " 89%|█████████████████████████████████████████████████████████████████████▍        | 445/500 [2:11:19<19:08, 20.88s/it]"
     ]
    },
    {
     "name": "stdout",
     "output_type": "stream",
     "text": [
      "zLzJhVO-uJN9EzkUIHahjesPZqixF6IfMkrpt6BXlIYeLyw did not load.\n"
     ]
    },
    {
     "name": "stderr",
     "output_type": "stream",
     "text": [
      " 89%|█████████████████████████████████████████████████████████████████████▌        | 446/500 [2:11:22<13:54, 15.46s/it]"
     ]
    },
    {
     "name": "stdout",
     "output_type": "stream",
     "text": [
      "5BuS1YBbvQlD94ymzb8lEGPYcz7FgVaCOQbVIbzKjRnSLc2L did not load.\n"
     ]
    },
    {
     "name": "stderr",
     "output_type": "stream",
     "text": [
      " 90%|██████████████████████████████████████████████████████████████████████▎       | 451/500 [2:13:19<17:34, 21.52s/it]"
     ]
    },
    {
     "name": "stdout",
     "output_type": "stream",
     "text": [
      "l6mOX_A1-PknMpi9QV8p1niw_WFPBmjLUC4vKIgtECVc did not load.\n"
     ]
    },
    {
     "name": "stderr",
     "output_type": "stream",
     "text": [
      " 90%|██████████████████████████████████████████████████████████████████████▌       | 452/500 [2:13:22<12:45, 15.96s/it]"
     ]
    },
    {
     "name": "stdout",
     "output_type": "stream",
     "text": [
      "DSgHxwOges5zAe0QPfRhiO8RDwe2R2iLSKG-VKHQzikyJvM did not load.\n"
     ]
    },
    {
     "name": "stderr",
     "output_type": "stream",
     "text": [
      " 91%|██████████████████████████████████████████████████████████████████████▋       | 453/500 [2:13:25<09:28, 12.09s/it]"
     ]
    },
    {
     "name": "stdout",
     "output_type": "stream",
     "text": [
      "VRqXKv2yHLSbem1JWl7VkscK_uqR_ZEe2sqAMunZWBOZGZPuZbKKP6QwYg did not load.\n"
     ]
    },
    {
     "name": "stderr",
     "output_type": "stream",
     "text": [
      " 92%|███████████████████████████████████████████████████████████████████████▍      | 458/500 [2:15:20<14:16, 20.40s/it]"
     ]
    },
    {
     "name": "stdout",
     "output_type": "stream",
     "text": [
      "nRaSEVqa9bpelB_IKkOGjp5JVSXKLff0CWYix6QOyaBWMQc did not load.\n"
     ]
    },
    {
     "name": "stderr",
     "output_type": "stream",
     "text": [
      " 92%|███████████████████████████████████████████████████████████████████████▌      | 459/500 [2:15:23<10:21, 15.15s/it]"
     ]
    },
    {
     "name": "stdout",
     "output_type": "stream",
     "text": [
      "VfQtnxDlHzrs1cs4Q6x5ksyyqBZVgPzFk_b-AxuVqIkb5txKVR-XZb2dnw did not load.\n"
     ]
    },
    {
     "name": "stderr",
     "output_type": "stream",
     "text": [
      " 92%|███████████████████████████████████████████████████████████████████████▊      | 460/500 [2:15:26<07:38, 11.45s/it]"
     ]
    },
    {
     "name": "stdout",
     "output_type": "stream",
     "text": [
      "YvDWwwuKPGklJI4YOzgLY7RD2W5EeA6Ul4kQLsZ5bviwQrw did not load.\n"
     ]
    },
    {
     "name": "stderr",
     "output_type": "stream",
     "text": [
      " 93%|████████████████████████████████████████████████████████████████████████▌     | 465/500 [2:17:20<11:45, 20.15s/it]"
     ]
    },
    {
     "name": "stdout",
     "output_type": "stream",
     "text": [
      "W_lGArjchqhE5Keg0LEsox_RJT3E3JtIEyN0nf5EjgMx6TH0ZvD5BNBXoQ did not load.\n"
     ]
    },
    {
     "name": "stderr",
     "output_type": "stream",
     "text": [
      " 93%|████████████████████████████████████████████████████████████████████████▋     | 466/500 [2:17:23<08:27, 14.93s/it]"
     ]
    },
    {
     "name": "stdout",
     "output_type": "stream",
     "text": [
      "i9VHcR-XU0QB_Xaw0ttgEtjQdoNve8o4NlE48RPa-M0G1IE did not load.\n"
     ]
    },
    {
     "name": "stderr",
     "output_type": "stream",
     "text": [
      " 93%|████████████████████████████████████████████████████████████████████████▊     | 467/500 [2:17:26<06:13, 11.30s/it]"
     ]
    },
    {
     "name": "stdout",
     "output_type": "stream",
     "text": [
      "mp6_nfYWZg4WsKG1NrQ4KiGU4p-kTWLL4tfGUVmSte18_Zo did not load.\n"
     ]
    },
    {
     "name": "stderr",
     "output_type": "stream",
     "text": [
      " 94%|█████████████████████████████████████████████████████████████████████████▋    | 472/500 [2:19:19<09:16, 19.87s/it]"
     ]
    },
    {
     "name": "stdout",
     "output_type": "stream",
     "text": [
      "y5eSSVt9Z2q09SggXSWHwLDKjgnLs8xF8eWsA_iGYPhmiBo did not load.\n"
     ]
    },
    {
     "name": "stderr",
     "output_type": "stream",
     "text": [
      " 95%|█████████████████████████████████████████████████████████████████████████▊    | 473/500 [2:19:21<06:38, 14.75s/it]"
     ]
    },
    {
     "name": "stdout",
     "output_type": "stream",
     "text": [
      "5Gj_ArDl_XY4yevGrNaf0c_jTFfjttD_yywAenCOcyvA_vH6vePHWORPBw did not load.\n"
     ]
    },
    {
     "name": "stderr",
     "output_type": "stream",
     "text": [
      " 95%|█████████████████████████████████████████████████████████████████████████▉    | 474/500 [2:19:24<04:50, 11.16s/it]"
     ]
    },
    {
     "name": "stdout",
     "output_type": "stream",
     "text": [
      "Cz3sNtl3zOLHcUYi1Agv0NUyqkbde_eZevyn1u7mrK_JaHE did not load.\n"
     ]
    },
    {
     "name": "stderr",
     "output_type": "stream",
     "text": [
      " 96%|██████████████████████████████████████████████████████████████████████████▋   | 479/500 [2:21:18<07:05, 20.26s/it]"
     ]
    },
    {
     "name": "stdout",
     "output_type": "stream",
     "text": [
      "6NxzeryzxpbSJ5Xbhh3megW4Xn5mU-NsSrp0QDx23EkKlNGR did not load.\n"
     ]
    },
    {
     "name": "stderr",
     "output_type": "stream",
     "text": [
      " 96%|██████████████████████████████████████████████████████████████████████████▉   | 480/500 [2:21:21<05:00, 15.01s/it]"
     ]
    },
    {
     "name": "stdout",
     "output_type": "stream",
     "text": [
      "lnI3cAxtCwfsNpTVgEerx7KfZcPmrGJRNnlH2O0T78rcZA3P did not load.\n"
     ]
    },
    {
     "name": "stderr",
     "output_type": "stream",
     "text": [
      " 96%|███████████████████████████████████████████████████████████████████████████   | 481/500 [2:21:24<03:35, 11.36s/it]"
     ]
    },
    {
     "name": "stdout",
     "output_type": "stream",
     "text": [
      "E6Brz5-GFJYbnDjCFZvF6Xtm2D8U7Ey5P1meoYN1e3WhU1Q did not load.\n"
     ]
    },
    {
     "name": "stderr",
     "output_type": "stream",
     "text": [
      " 96%|███████████████████████████████████████████████████████████████████████████▏  | 482/500 [2:21:27<02:38,  8.81s/it]"
     ]
    },
    {
     "name": "stdout",
     "output_type": "stream",
     "text": [
      "Nn8f6lEbZH5EUeh0eNQC0JnPldbuOxXOR7-ZPDfi-ozdyGhX7fkzbdwHpQ did not load.\n"
     ]
    },
    {
     "name": "stderr",
     "output_type": "stream",
     "text": [
      " 97%|███████████████████████████████████████████████████████████████████████████▉  | 487/500 [2:23:21<04:15, 19.64s/it]"
     ]
    },
    {
     "name": "stdout",
     "output_type": "stream",
     "text": [
      "10cbIjmTFxfwlkx-ra2A12CHPEkzzGKSNhQrsZnuqhJ5ykU did not load.\n"
     ]
    },
    {
     "name": "stderr",
     "output_type": "stream",
     "text": [
      " 98%|████████████████████████████████████████████████████████████████████████████▏ | 488/500 [2:23:24<02:55, 14.59s/it]"
     ]
    },
    {
     "name": "stdout",
     "output_type": "stream",
     "text": [
      "5Ip9MxabJ9UNsm1FpM5MU_7CA9npjxa4w1pBcGwvV_iw612ijvQdzHMytg did not load.\n"
     ]
    },
    {
     "name": "stderr",
     "output_type": "stream",
     "text": [
      " 98%|████████████████████████████████████████████████████████████████████████████▎ | 489/500 [2:23:26<02:01, 11.05s/it]"
     ]
    },
    {
     "name": "stdout",
     "output_type": "stream",
     "text": [
      "2OULNSFHqldztnvrXiiA7LtyZl7esxFfafJ29OkAMRIUrjrT did not load.\n"
     ]
    },
    {
     "name": "stderr",
     "output_type": "stream",
     "text": [
      " 99%|█████████████████████████████████████████████████████████████████████████████ | 494/500 [2:25:21<02:02, 20.35s/it]"
     ]
    },
    {
     "name": "stdout",
     "output_type": "stream",
     "text": [
      "-B3A_dRhdbI3GOL_ClZCrePoXwcJoC6phtvJ3pL5fhzYs8w did not load.\n"
     ]
    },
    {
     "name": "stderr",
     "output_type": "stream",
     "text": [
      " 99%|█████████████████████████████████████████████████████████████████████████████▏| 495/500 [2:25:24<01:15, 15.10s/it]"
     ]
    },
    {
     "name": "stdout",
     "output_type": "stream",
     "text": [
      "z_GX5rz80tbJpwKTVn0srXjq4cy1dG4C6AwSb-2wSNxLd1Y did not load.\n"
     ]
    },
    {
     "name": "stderr",
     "output_type": "stream",
     "text": [
      " 99%|█████████████████████████████████████████████████████████████████████████████▍| 496/500 [2:25:27<00:45, 11.38s/it]"
     ]
    },
    {
     "name": "stdout",
     "output_type": "stream",
     "text": [
      "sU01hO-yB56tuw0ee77jIn1NRZ0E-D3kYoth3FBBFWZbBeA did not load.\n"
     ]
    },
    {
     "name": "stderr",
     "output_type": "stream",
     "text": [
      "100%|██████████████████████████████████████████████████████████████████████████████| 500/500 [2:27:02<00:00, 17.65s/it]\n"
     ]
    }
   ],
   "source": [
    "grandmasterData = {}\n",
    "calls = 0\n",
    "sleepTime = 0\n",
    "\n",
    "for ID in tqdm(summonerIDs):\n",
    "    try:\n",
    "      grandmasterData[ID], c, st = gatherSummonerData(ID)\n",
    "      calls += c\n",
    "      sleepTime += st\n",
    "\n",
    "      if calls % 100 == 0:\n",
    "        print(\"100 requests reached. Sleeping 1 minute.\")\n",
    "        time.sleep(60)\n",
    "          \n",
    "    except:\n",
    "        print(f\"{ID} did not load.\")\n",
    "\n",
    "with open(\"grandmasterData.json\", \"w\") as outfile:\n",
    "    json.dump(grandmasterData, outfile)"
   ]
  }
 ],
 "metadata": {
  "kernelspec": {
   "display_name": "Python 3 (ipykernel)",
   "language": "python",
   "name": "python3"
  },
  "language_info": {
   "codemirror_mode": {
    "name": "ipython",
    "version": 3
   },
   "file_extension": ".py",
   "mimetype": "text/x-python",
   "name": "python",
   "nbconvert_exporter": "python",
   "pygments_lexer": "ipython3",
   "version": "3.10.1"
  }
 },
 "nbformat": 4,
 "nbformat_minor": 5
}
